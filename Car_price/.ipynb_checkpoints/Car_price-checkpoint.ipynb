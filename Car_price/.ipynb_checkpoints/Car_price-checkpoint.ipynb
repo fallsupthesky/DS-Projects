{
 "cells": [
  {
   "cell_type": "markdown",
   "metadata": {},
   "source": [
    "# Определение стоимости автомобилей"
   ]
  },
  {
   "cell_type": "markdown",
   "metadata": {},
   "source": [
    "## Подготовка данных <a id=\"step_1\"></a>"
   ]
  },
  {
   "cell_type": "code",
   "execution_count": 1,
   "metadata": {},
   "outputs": [],
   "source": [
    "import pandas as pd\n",
    "import numpy as np\n",
    "import datetime\n",
    "import matplotlib.pyplot as plt\n",
    "from sklearn.model_selection import train_test_split\n",
    "from sklearn.linear_model import LinearRegression\n",
    "from sklearn.metrics import mean_squared_error\n",
    "from numpy.random import RandomState\n",
    "from sklearn.metrics import mean_squared_error\n",
    "from sklearn.tree import DecisionTreeRegressor\n",
    "from sklearn.ensemble import RandomForestRegressor\n",
    "from sklearn.preprocessing import StandardScaler\n",
    "from sklearn.metrics import make_scorer\n",
    "from sklearn.model_selection import GridSearchCV\n",
    "#pd.set_option('display.max_columns', None)\n",
    "from sklearn.preprocessing import OrdinalEncoder\n",
    "pd.options.mode.chained_assignment = None \n",
    "import time"
   ]
  },
  {
   "cell_type": "code",
   "execution_count": 2,
   "metadata": {},
   "outputs": [],
   "source": [
    "data = pd.read_csv('https://code.s3.yandex.net/datasets/autos.csv')"
   ]
  },
  {
   "cell_type": "markdown",
   "metadata": {},
   "source": [
    "Изучим основную информацию об имеющихся данных:"
   ]
  },
  {
   "cell_type": "code",
   "execution_count": 3,
   "metadata": {},
   "outputs": [
    {
     "name": "stdout",
     "output_type": "stream",
     "text": [
      "<class 'pandas.core.frame.DataFrame'>\n",
      "RangeIndex: 354369 entries, 0 to 354368\n",
      "Data columns (total 16 columns):\n",
      " #   Column             Non-Null Count   Dtype \n",
      "---  ------             --------------   ----- \n",
      " 0   DateCrawled        354369 non-null  object\n",
      " 1   Price              354369 non-null  int64 \n",
      " 2   VehicleType        316879 non-null  object\n",
      " 3   RegistrationYear   354369 non-null  int64 \n",
      " 4   Gearbox            334536 non-null  object\n",
      " 5   Power              354369 non-null  int64 \n",
      " 6   Model              334664 non-null  object\n",
      " 7   Kilometer          354369 non-null  int64 \n",
      " 8   RegistrationMonth  354369 non-null  int64 \n",
      " 9   FuelType           321474 non-null  object\n",
      " 10  Brand              354369 non-null  object\n",
      " 11  NotRepaired        283215 non-null  object\n",
      " 12  DateCreated        354369 non-null  object\n",
      " 13  NumberOfPictures   354369 non-null  int64 \n",
      " 14  PostalCode         354369 non-null  int64 \n",
      " 15  LastSeen           354369 non-null  object\n",
      "dtypes: int64(7), object(9)\n",
      "memory usage: 43.3+ MB\n"
     ]
    }
   ],
   "source": [
    "data.info()"
   ]
  },
  {
   "cell_type": "markdown",
   "metadata": {},
   "source": [
    "Всего имеется 354369 записей, 16 признаков. В нескольких столбцах имеются пропуски данных. Типов данных всего 2 - object, int."
   ]
  },
  {
   "cell_type": "code",
   "execution_count": 4,
   "metadata": {},
   "outputs": [
    {
     "data": {
      "text/html": [
       "<div>\n",
       "<style scoped>\n",
       "    .dataframe tbody tr th:only-of-type {\n",
       "        vertical-align: middle;\n",
       "    }\n",
       "\n",
       "    .dataframe tbody tr th {\n",
       "        vertical-align: top;\n",
       "    }\n",
       "\n",
       "    .dataframe thead th {\n",
       "        text-align: right;\n",
       "    }\n",
       "</style>\n",
       "<table border=\"1\" class=\"dataframe\">\n",
       "  <thead>\n",
       "    <tr style=\"text-align: right;\">\n",
       "      <th></th>\n",
       "      <th>DateCrawled</th>\n",
       "      <th>Price</th>\n",
       "      <th>VehicleType</th>\n",
       "      <th>RegistrationYear</th>\n",
       "      <th>Gearbox</th>\n",
       "      <th>Power</th>\n",
       "      <th>Model</th>\n",
       "      <th>Kilometer</th>\n",
       "      <th>RegistrationMonth</th>\n",
       "      <th>FuelType</th>\n",
       "      <th>Brand</th>\n",
       "      <th>NotRepaired</th>\n",
       "      <th>DateCreated</th>\n",
       "      <th>NumberOfPictures</th>\n",
       "      <th>PostalCode</th>\n",
       "      <th>LastSeen</th>\n",
       "    </tr>\n",
       "  </thead>\n",
       "  <tbody>\n",
       "    <tr>\n",
       "      <th>0</th>\n",
       "      <td>2016-03-24 11:52:17</td>\n",
       "      <td>480</td>\n",
       "      <td>NaN</td>\n",
       "      <td>1993</td>\n",
       "      <td>manual</td>\n",
       "      <td>0</td>\n",
       "      <td>golf</td>\n",
       "      <td>150000</td>\n",
       "      <td>0</td>\n",
       "      <td>petrol</td>\n",
       "      <td>volkswagen</td>\n",
       "      <td>NaN</td>\n",
       "      <td>2016-03-24 00:00:00</td>\n",
       "      <td>0</td>\n",
       "      <td>70435</td>\n",
       "      <td>2016-04-07 03:16:57</td>\n",
       "    </tr>\n",
       "    <tr>\n",
       "      <th>1</th>\n",
       "      <td>2016-03-24 10:58:45</td>\n",
       "      <td>18300</td>\n",
       "      <td>coupe</td>\n",
       "      <td>2011</td>\n",
       "      <td>manual</td>\n",
       "      <td>190</td>\n",
       "      <td>NaN</td>\n",
       "      <td>125000</td>\n",
       "      <td>5</td>\n",
       "      <td>gasoline</td>\n",
       "      <td>audi</td>\n",
       "      <td>yes</td>\n",
       "      <td>2016-03-24 00:00:00</td>\n",
       "      <td>0</td>\n",
       "      <td>66954</td>\n",
       "      <td>2016-04-07 01:46:50</td>\n",
       "    </tr>\n",
       "    <tr>\n",
       "      <th>2</th>\n",
       "      <td>2016-03-14 12:52:21</td>\n",
       "      <td>9800</td>\n",
       "      <td>suv</td>\n",
       "      <td>2004</td>\n",
       "      <td>auto</td>\n",
       "      <td>163</td>\n",
       "      <td>grand</td>\n",
       "      <td>125000</td>\n",
       "      <td>8</td>\n",
       "      <td>gasoline</td>\n",
       "      <td>jeep</td>\n",
       "      <td>NaN</td>\n",
       "      <td>2016-03-14 00:00:00</td>\n",
       "      <td>0</td>\n",
       "      <td>90480</td>\n",
       "      <td>2016-04-05 12:47:46</td>\n",
       "    </tr>\n",
       "    <tr>\n",
       "      <th>3</th>\n",
       "      <td>2016-03-17 16:54:04</td>\n",
       "      <td>1500</td>\n",
       "      <td>small</td>\n",
       "      <td>2001</td>\n",
       "      <td>manual</td>\n",
       "      <td>75</td>\n",
       "      <td>golf</td>\n",
       "      <td>150000</td>\n",
       "      <td>6</td>\n",
       "      <td>petrol</td>\n",
       "      <td>volkswagen</td>\n",
       "      <td>no</td>\n",
       "      <td>2016-03-17 00:00:00</td>\n",
       "      <td>0</td>\n",
       "      <td>91074</td>\n",
       "      <td>2016-03-17 17:40:17</td>\n",
       "    </tr>\n",
       "    <tr>\n",
       "      <th>4</th>\n",
       "      <td>2016-03-31 17:25:20</td>\n",
       "      <td>3600</td>\n",
       "      <td>small</td>\n",
       "      <td>2008</td>\n",
       "      <td>manual</td>\n",
       "      <td>69</td>\n",
       "      <td>fabia</td>\n",
       "      <td>90000</td>\n",
       "      <td>7</td>\n",
       "      <td>gasoline</td>\n",
       "      <td>skoda</td>\n",
       "      <td>no</td>\n",
       "      <td>2016-03-31 00:00:00</td>\n",
       "      <td>0</td>\n",
       "      <td>60437</td>\n",
       "      <td>2016-04-06 10:17:21</td>\n",
       "    </tr>\n",
       "  </tbody>\n",
       "</table>\n",
       "</div>"
      ],
      "text/plain": [
       "           DateCrawled  Price VehicleType  RegistrationYear Gearbox  Power  \\\n",
       "0  2016-03-24 11:52:17    480         NaN              1993  manual      0   \n",
       "1  2016-03-24 10:58:45  18300       coupe              2011  manual    190   \n",
       "2  2016-03-14 12:52:21   9800         suv              2004    auto    163   \n",
       "3  2016-03-17 16:54:04   1500       small              2001  manual     75   \n",
       "4  2016-03-31 17:25:20   3600       small              2008  manual     69   \n",
       "\n",
       "   Model  Kilometer  RegistrationMonth  FuelType       Brand NotRepaired  \\\n",
       "0   golf     150000                  0    petrol  volkswagen         NaN   \n",
       "1    NaN     125000                  5  gasoline        audi         yes   \n",
       "2  grand     125000                  8  gasoline        jeep         NaN   \n",
       "3   golf     150000                  6    petrol  volkswagen          no   \n",
       "4  fabia      90000                  7  gasoline       skoda          no   \n",
       "\n",
       "           DateCreated  NumberOfPictures  PostalCode             LastSeen  \n",
       "0  2016-03-24 00:00:00                 0       70435  2016-04-07 03:16:57  \n",
       "1  2016-03-24 00:00:00                 0       66954  2016-04-07 01:46:50  \n",
       "2  2016-03-14 00:00:00                 0       90480  2016-04-05 12:47:46  \n",
       "3  2016-03-17 00:00:00                 0       91074  2016-03-17 17:40:17  \n",
       "4  2016-03-31 00:00:00                 0       60437  2016-04-06 10:17:21  "
      ]
     },
     "execution_count": 4,
     "metadata": {},
     "output_type": "execute_result"
    }
   ],
   "source": [
    "data.head()"
   ]
  },
  {
   "cell_type": "code",
   "execution_count": 5,
   "metadata": {},
   "outputs": [
    {
     "data": {
      "text/html": [
       "<div>\n",
       "<style scoped>\n",
       "    .dataframe tbody tr th:only-of-type {\n",
       "        vertical-align: middle;\n",
       "    }\n",
       "\n",
       "    .dataframe tbody tr th {\n",
       "        vertical-align: top;\n",
       "    }\n",
       "\n",
       "    .dataframe thead th {\n",
       "        text-align: right;\n",
       "    }\n",
       "</style>\n",
       "<table border=\"1\" class=\"dataframe\">\n",
       "  <thead>\n",
       "    <tr style=\"text-align: right;\">\n",
       "      <th></th>\n",
       "      <th>Price</th>\n",
       "      <th>RegistrationYear</th>\n",
       "      <th>Power</th>\n",
       "      <th>Kilometer</th>\n",
       "      <th>RegistrationMonth</th>\n",
       "      <th>NumberOfPictures</th>\n",
       "      <th>PostalCode</th>\n",
       "    </tr>\n",
       "  </thead>\n",
       "  <tbody>\n",
       "    <tr>\n",
       "      <th>count</th>\n",
       "      <td>354369.000000</td>\n",
       "      <td>354369.000000</td>\n",
       "      <td>354369.000000</td>\n",
       "      <td>354369.000000</td>\n",
       "      <td>354369.000000</td>\n",
       "      <td>354369.0</td>\n",
       "      <td>354369.000000</td>\n",
       "    </tr>\n",
       "    <tr>\n",
       "      <th>mean</th>\n",
       "      <td>4416.656776</td>\n",
       "      <td>2004.234448</td>\n",
       "      <td>110.094337</td>\n",
       "      <td>128211.172535</td>\n",
       "      <td>5.714645</td>\n",
       "      <td>0.0</td>\n",
       "      <td>50508.689087</td>\n",
       "    </tr>\n",
       "    <tr>\n",
       "      <th>std</th>\n",
       "      <td>4514.158514</td>\n",
       "      <td>90.227958</td>\n",
       "      <td>189.850405</td>\n",
       "      <td>37905.341530</td>\n",
       "      <td>3.726421</td>\n",
       "      <td>0.0</td>\n",
       "      <td>25783.096248</td>\n",
       "    </tr>\n",
       "    <tr>\n",
       "      <th>min</th>\n",
       "      <td>0.000000</td>\n",
       "      <td>1000.000000</td>\n",
       "      <td>0.000000</td>\n",
       "      <td>5000.000000</td>\n",
       "      <td>0.000000</td>\n",
       "      <td>0.0</td>\n",
       "      <td>1067.000000</td>\n",
       "    </tr>\n",
       "    <tr>\n",
       "      <th>25%</th>\n",
       "      <td>1050.000000</td>\n",
       "      <td>1999.000000</td>\n",
       "      <td>69.000000</td>\n",
       "      <td>125000.000000</td>\n",
       "      <td>3.000000</td>\n",
       "      <td>0.0</td>\n",
       "      <td>30165.000000</td>\n",
       "    </tr>\n",
       "    <tr>\n",
       "      <th>50%</th>\n",
       "      <td>2700.000000</td>\n",
       "      <td>2003.000000</td>\n",
       "      <td>105.000000</td>\n",
       "      <td>150000.000000</td>\n",
       "      <td>6.000000</td>\n",
       "      <td>0.0</td>\n",
       "      <td>49413.000000</td>\n",
       "    </tr>\n",
       "    <tr>\n",
       "      <th>75%</th>\n",
       "      <td>6400.000000</td>\n",
       "      <td>2008.000000</td>\n",
       "      <td>143.000000</td>\n",
       "      <td>150000.000000</td>\n",
       "      <td>9.000000</td>\n",
       "      <td>0.0</td>\n",
       "      <td>71083.000000</td>\n",
       "    </tr>\n",
       "    <tr>\n",
       "      <th>max</th>\n",
       "      <td>20000.000000</td>\n",
       "      <td>9999.000000</td>\n",
       "      <td>20000.000000</td>\n",
       "      <td>150000.000000</td>\n",
       "      <td>12.000000</td>\n",
       "      <td>0.0</td>\n",
       "      <td>99998.000000</td>\n",
       "    </tr>\n",
       "  </tbody>\n",
       "</table>\n",
       "</div>"
      ],
      "text/plain": [
       "               Price  RegistrationYear          Power      Kilometer  \\\n",
       "count  354369.000000     354369.000000  354369.000000  354369.000000   \n",
       "mean     4416.656776       2004.234448     110.094337  128211.172535   \n",
       "std      4514.158514         90.227958     189.850405   37905.341530   \n",
       "min         0.000000       1000.000000       0.000000    5000.000000   \n",
       "25%      1050.000000       1999.000000      69.000000  125000.000000   \n",
       "50%      2700.000000       2003.000000     105.000000  150000.000000   \n",
       "75%      6400.000000       2008.000000     143.000000  150000.000000   \n",
       "max     20000.000000       9999.000000   20000.000000  150000.000000   \n",
       "\n",
       "       RegistrationMonth  NumberOfPictures     PostalCode  \n",
       "count      354369.000000          354369.0  354369.000000  \n",
       "mean            5.714645               0.0   50508.689087  \n",
       "std             3.726421               0.0   25783.096248  \n",
       "min             0.000000               0.0    1067.000000  \n",
       "25%             3.000000               0.0   30165.000000  \n",
       "50%             6.000000               0.0   49413.000000  \n",
       "75%             9.000000               0.0   71083.000000  \n",
       "max            12.000000               0.0   99998.000000  "
      ]
     },
     "execution_count": 5,
     "metadata": {},
     "output_type": "execute_result"
    }
   ],
   "source": [
    "data.describe()"
   ]
  },
  {
   "cell_type": "markdown",
   "metadata": {},
   "source": [
    "В колонках 'Price', 'Power', 'RegistrationMonth' имеются нулевые ошибочные значения. В 'RegistrationYear' имеется год регистрации позднее текущего года."
   ]
  },
  {
   "cell_type": "markdown",
   "metadata": {},
   "source": [
    "Посмотрим на дубликаты и удалим при наличии:"
   ]
  },
  {
   "cell_type": "code",
   "execution_count": 6,
   "metadata": {},
   "outputs": [
    {
     "data": {
      "text/plain": [
       "4"
      ]
     },
     "execution_count": 6,
     "metadata": {},
     "output_type": "execute_result"
    }
   ],
   "source": [
    "data.duplicated().sum()"
   ]
  },
  {
   "cell_type": "code",
   "execution_count": 7,
   "metadata": {},
   "outputs": [],
   "source": [
    "data = data.drop_duplicates()"
   ]
  },
  {
   "cell_type": "markdown",
   "metadata": {},
   "source": [
    "Посмотрим уникальные значения категориальных признаков. Постараемся найти одинаковые значения, которые могут различаться написанием букв или наличием других ошибочных символов, которые могут привести к неправильной категоризации фактически одного и того же объекта:"
   ]
  },
  {
   "cell_type": "code",
   "execution_count": 8,
   "metadata": {},
   "outputs": [
    {
     "data": {
      "text/plain": [
       "array([nan, 'coupe', 'suv', 'small', 'sedan', 'convertible', 'bus',\n",
       "       'wagon', 'other'], dtype=object)"
      ]
     },
     "execution_count": 8,
     "metadata": {},
     "output_type": "execute_result"
    }
   ],
   "source": [
    "data['VehicleType'].unique()"
   ]
  },
  {
   "cell_type": "code",
   "execution_count": 9,
   "metadata": {},
   "outputs": [
    {
     "data": {
      "text/plain": [
       "array(['manual', 'auto', nan], dtype=object)"
      ]
     },
     "execution_count": 9,
     "metadata": {},
     "output_type": "execute_result"
    }
   ],
   "source": [
    "data['Gearbox'].unique()"
   ]
  },
  {
   "cell_type": "code",
   "execution_count": 10,
   "metadata": {},
   "outputs": [
    {
     "data": {
      "text/plain": [
       "['alfa_romeo',\n",
       " 'audi',\n",
       " 'bmw',\n",
       " 'chevrolet',\n",
       " 'chrysler',\n",
       " 'citroen',\n",
       " 'dacia',\n",
       " 'daewoo',\n",
       " 'daihatsu',\n",
       " 'fiat',\n",
       " 'ford',\n",
       " 'honda',\n",
       " 'hyundai',\n",
       " 'jaguar',\n",
       " 'jeep',\n",
       " 'kia',\n",
       " 'lada',\n",
       " 'lancia',\n",
       " 'land_rover',\n",
       " 'mazda',\n",
       " 'mercedes_benz',\n",
       " 'mini',\n",
       " 'mitsubishi',\n",
       " 'nissan',\n",
       " 'opel',\n",
       " 'peugeot',\n",
       " 'porsche',\n",
       " 'renault',\n",
       " 'rover',\n",
       " 'saab',\n",
       " 'seat',\n",
       " 'skoda',\n",
       " 'smart',\n",
       " 'sonstige_autos',\n",
       " 'subaru',\n",
       " 'suzuki',\n",
       " 'toyota',\n",
       " 'trabant',\n",
       " 'volkswagen',\n",
       " 'volvo']"
      ]
     },
     "execution_count": 10,
     "metadata": {},
     "output_type": "execute_result"
    }
   ],
   "source": [
    "sorted(data['Brand'].unique())"
   ]
  },
  {
   "cell_type": "code",
   "execution_count": 11,
   "metadata": {},
   "outputs": [
    {
     "data": {
      "text/plain": [
       "['100',\n",
       " '145',\n",
       " '147',\n",
       " '156',\n",
       " '159',\n",
       " '1_reihe',\n",
       " '1er',\n",
       " '200',\n",
       " '2_reihe',\n",
       " '300c',\n",
       " '3_reihe',\n",
       " '3er',\n",
       " '4_reihe',\n",
       " '500',\n",
       " '5_reihe',\n",
       " '5er',\n",
       " '601',\n",
       " '6_reihe',\n",
       " '6er',\n",
       " '7er',\n",
       " '80',\n",
       " '850',\n",
       " '90',\n",
       " '900',\n",
       " '9000',\n",
       " '911',\n",
       " 'a1',\n",
       " 'a2',\n",
       " 'a3',\n",
       " 'a4',\n",
       " 'a5',\n",
       " 'a6',\n",
       " 'a8',\n",
       " 'a_klasse',\n",
       " 'accord',\n",
       " 'agila',\n",
       " 'alhambra',\n",
       " 'almera',\n",
       " 'altea',\n",
       " 'amarok',\n",
       " 'antara',\n",
       " 'arosa',\n",
       " 'astra',\n",
       " 'auris',\n",
       " 'avensis',\n",
       " 'aveo',\n",
       " 'aygo',\n",
       " 'b_klasse',\n",
       " 'b_max',\n",
       " 'beetle',\n",
       " 'berlingo',\n",
       " 'bora',\n",
       " 'boxster',\n",
       " 'bravo',\n",
       " 'c1',\n",
       " 'c2',\n",
       " 'c3',\n",
       " 'c4',\n",
       " 'c5',\n",
       " 'c_klasse',\n",
       " 'c_max',\n",
       " 'c_reihe',\n",
       " 'caddy',\n",
       " 'calibra',\n",
       " 'captiva',\n",
       " 'carisma',\n",
       " 'carnival',\n",
       " 'cayenne',\n",
       " 'cc',\n",
       " 'ceed',\n",
       " 'charade',\n",
       " 'cherokee',\n",
       " 'citigo',\n",
       " 'civic',\n",
       " 'cl',\n",
       " 'clio',\n",
       " 'clk',\n",
       " 'clubman',\n",
       " 'colt',\n",
       " 'combo',\n",
       " 'cooper',\n",
       " 'cordoba',\n",
       " 'corolla',\n",
       " 'corsa',\n",
       " 'cr_reihe',\n",
       " 'croma',\n",
       " 'crossfire',\n",
       " 'cuore',\n",
       " 'cx_reihe',\n",
       " 'defender',\n",
       " 'delta',\n",
       " 'discovery',\n",
       " 'doblo',\n",
       " 'ducato',\n",
       " 'duster',\n",
       " 'e_klasse',\n",
       " 'elefantino',\n",
       " 'eos',\n",
       " 'escort',\n",
       " 'espace',\n",
       " 'exeo',\n",
       " 'fabia',\n",
       " 'fiesta',\n",
       " 'focus',\n",
       " 'forester',\n",
       " 'forfour',\n",
       " 'fortwo',\n",
       " 'fox',\n",
       " 'freelander',\n",
       " 'fusion',\n",
       " 'g_klasse',\n",
       " 'galant',\n",
       " 'galaxy',\n",
       " 'getz',\n",
       " 'gl',\n",
       " 'glk',\n",
       " 'golf',\n",
       " 'grand',\n",
       " 'i3',\n",
       " 'i_reihe',\n",
       " 'ibiza',\n",
       " 'impreza',\n",
       " 'insignia',\n",
       " 'jazz',\n",
       " 'jetta',\n",
       " 'jimny',\n",
       " 'juke',\n",
       " 'justy',\n",
       " 'ka',\n",
       " 'kadett',\n",
       " 'kaefer',\n",
       " 'kalina',\n",
       " 'kalos',\n",
       " 'kangoo',\n",
       " 'kappa',\n",
       " 'kuga',\n",
       " 'laguna',\n",
       " 'lancer',\n",
       " 'lanos',\n",
       " 'legacy',\n",
       " 'leon',\n",
       " 'lodgy',\n",
       " 'logan',\n",
       " 'lupo',\n",
       " 'lybra',\n",
       " 'm_klasse',\n",
       " 'm_reihe',\n",
       " 'materia',\n",
       " 'matiz',\n",
       " 'megane',\n",
       " 'meriva',\n",
       " 'micra',\n",
       " 'mii',\n",
       " 'modus',\n",
       " 'mondeo',\n",
       " 'move',\n",
       " 'musa',\n",
       " 'mustang',\n",
       " 'mx_reihe',\n",
       " 'nan',\n",
       " 'navara',\n",
       " 'niva',\n",
       " 'note',\n",
       " 'nubira',\n",
       " 'octavia',\n",
       " 'omega',\n",
       " 'one',\n",
       " 'other',\n",
       " 'outlander',\n",
       " 'pajero',\n",
       " 'panda',\n",
       " 'passat',\n",
       " 'phaeton',\n",
       " 'picanto',\n",
       " 'polo',\n",
       " 'primera',\n",
       " 'ptcruiser',\n",
       " 'punto',\n",
       " 'q3',\n",
       " 'q5',\n",
       " 'q7',\n",
       " 'qashqai',\n",
       " 'r19',\n",
       " 'range_rover',\n",
       " 'range_rover_evoque',\n",
       " 'range_rover_sport',\n",
       " 'rangerover',\n",
       " 'rav',\n",
       " 'rio',\n",
       " 'roadster',\n",
       " 'roomster',\n",
       " 'rx_reihe',\n",
       " 's60',\n",
       " 's_klasse',\n",
       " 's_max',\n",
       " 's_type',\n",
       " 'samara',\n",
       " 'sandero',\n",
       " 'santa',\n",
       " 'scenic',\n",
       " 'scirocco',\n",
       " 'seicento',\n",
       " 'serie_1',\n",
       " 'serie_2',\n",
       " 'serie_3',\n",
       " 'sharan',\n",
       " 'signum',\n",
       " 'sirion',\n",
       " 'sl',\n",
       " 'slk',\n",
       " 'sorento',\n",
       " 'spark',\n",
       " 'spider',\n",
       " 'sportage',\n",
       " 'sprinter',\n",
       " 'stilo',\n",
       " 'superb',\n",
       " 'swift',\n",
       " 'terios',\n",
       " 'tigra',\n",
       " 'tiguan',\n",
       " 'toledo',\n",
       " 'touareg',\n",
       " 'touran',\n",
       " 'transit',\n",
       " 'transporter',\n",
       " 'tt',\n",
       " 'tucson',\n",
       " 'twingo',\n",
       " 'up',\n",
       " 'v40',\n",
       " 'v50',\n",
       " 'v60',\n",
       " 'v70',\n",
       " 'v_klasse',\n",
       " 'vectra',\n",
       " 'verso',\n",
       " 'viano',\n",
       " 'vito',\n",
       " 'vivaro',\n",
       " 'voyager',\n",
       " 'wrangler',\n",
       " 'x_reihe',\n",
       " 'x_trail',\n",
       " 'x_type',\n",
       " 'xc_reihe',\n",
       " 'yaris',\n",
       " 'yeti',\n",
       " 'ypsilon',\n",
       " 'z_reihe',\n",
       " 'zafira']"
      ]
     },
     "execution_count": 11,
     "metadata": {},
     "output_type": "execute_result"
    }
   ],
   "source": [
    "sorted(data['Model'].unique().astype(str))"
   ]
  },
  {
   "cell_type": "code",
   "execution_count": 12,
   "metadata": {},
   "outputs": [
    {
     "data": {
      "text/plain": [
       "array(['petrol', 'gasoline', nan, 'lpg', 'other', 'hybrid', 'cng',\n",
       "       'electric'], dtype=object)"
      ]
     },
     "execution_count": 12,
     "metadata": {},
     "output_type": "execute_result"
    }
   ],
   "source": [
    "data['FuelType'].unique()"
   ]
  },
  {
   "cell_type": "markdown",
   "metadata": {},
   "source": [
    "Все категории имеют различное обозначение и не дублируются."
   ]
  },
  {
   "cell_type": "markdown",
   "metadata": {},
   "source": [
    "Заполним пропуски в столбцах 'FuelType', 'VehicleType', 'Gearbox', 'Power' на наиболее часто вречающееся значение для данной модели данного бренда авто. Для начала заполним пропуски в столбцах 'Model', 'Brand' на тип 'other':"
   ]
  },
  {
   "cell_type": "code",
   "execution_count": 13,
   "metadata": {},
   "outputs": [],
   "source": [
    "data['Model'] = data['Model'].fillna('other')\n",
    "data['Brand'] = data['Brand'].fillna('other')"
   ]
  },
  {
   "cell_type": "markdown",
   "metadata": {},
   "source": [
    "Создадим таблицу-шаблон со списком брендов и моделей:"
   ]
  },
  {
   "cell_type": "code",
   "execution_count": 14,
   "metadata": {},
   "outputs": [],
   "source": [
    "mode_table = data.pivot_table(index=['Brand','Model']).reset_index().loc[:,'Brand':'Model']"
   ]
  },
  {
   "cell_type": "markdown",
   "metadata": {},
   "source": [
    "Заполняем таблицу наиболее частыми значениями:"
   ]
  },
  {
   "cell_type": "code",
   "execution_count": 15,
   "metadata": {},
   "outputs": [
    {
     "name": "stdout",
     "output_type": "stream",
     "text": [
      "CPU times: user 1min 16s, sys: 46.5 ms, total: 1min 16s\n",
      "Wall time: 2min 33s\n"
     ]
    }
   ],
   "source": [
    "%%time\n",
    "for i in range(len(mode_table)):\n",
    "    mode_table.loc[i,'fueltype_mode']=(data.loc[\n",
    "        (data['Brand']==mode_table.loc[i,'Brand'])&\n",
    "        (data['Model']==mode_table.loc[i,'Model']), 'FuelType'].mode()).values[0]\n",
    "\n",
    "    mode_table.loc[i,'vehicletype_mode']=(data.loc[\n",
    "        (data['Brand']==mode_table.loc[i,'Brand'])&\n",
    "        (data['Model']==mode_table.loc[i,'Model']), 'VehicleType'].mode()).values[0]\n",
    "    \n",
    "    mode_table.loc[i,'gearbox_mode']=(data.loc[\n",
    "        (data['Brand']==mode_table.loc[i,'Brand'])&\n",
    "        (data['Model']==mode_table.loc[i,'Model']), 'Gearbox'].mode()).values[0]\n",
    "    \n",
    "    mode_table.loc[i,'power_mode']=(data.loc[\n",
    "        (data['Brand']==mode_table.loc[i,'Brand'])&\n",
    "        (data['Model']==mode_table.loc[i,'Model']), 'Power'].mode()).values[0]\n",
    "    \n",
    "    mode_table.loc[i,'price_mode']=(data.loc[\n",
    "        (data['Brand']==mode_table.loc[i,'Brand'])&\n",
    "        (data['Model']==mode_table.loc[i,'Model']), 'Price'].mode()).values[0]"
   ]
  },
  {
   "cell_type": "markdown",
   "metadata": {},
   "source": [
    "Объеденим исходную таблицу с полученной таблицей 'mode_table':"
   ]
  },
  {
   "cell_type": "code",
   "execution_count": 16,
   "metadata": {},
   "outputs": [
    {
     "data": {
      "text/html": [
       "<div>\n",
       "<style scoped>\n",
       "    .dataframe tbody tr th:only-of-type {\n",
       "        vertical-align: middle;\n",
       "    }\n",
       "\n",
       "    .dataframe tbody tr th {\n",
       "        vertical-align: top;\n",
       "    }\n",
       "\n",
       "    .dataframe thead th {\n",
       "        text-align: right;\n",
       "    }\n",
       "</style>\n",
       "<table border=\"1\" class=\"dataframe\">\n",
       "  <thead>\n",
       "    <tr style=\"text-align: right;\">\n",
       "      <th></th>\n",
       "      <th>DateCrawled</th>\n",
       "      <th>Price</th>\n",
       "      <th>VehicleType</th>\n",
       "      <th>RegistrationYear</th>\n",
       "      <th>Gearbox</th>\n",
       "      <th>Power</th>\n",
       "      <th>Model</th>\n",
       "      <th>Kilometer</th>\n",
       "      <th>RegistrationMonth</th>\n",
       "      <th>FuelType</th>\n",
       "      <th>...</th>\n",
       "      <th>NotRepaired</th>\n",
       "      <th>DateCreated</th>\n",
       "      <th>NumberOfPictures</th>\n",
       "      <th>PostalCode</th>\n",
       "      <th>LastSeen</th>\n",
       "      <th>fueltype_mode</th>\n",
       "      <th>vehicletype_mode</th>\n",
       "      <th>gearbox_mode</th>\n",
       "      <th>power_mode</th>\n",
       "      <th>price_mode</th>\n",
       "    </tr>\n",
       "  </thead>\n",
       "  <tbody>\n",
       "    <tr>\n",
       "      <th>0</th>\n",
       "      <td>2016-03-24 11:52:17</td>\n",
       "      <td>480</td>\n",
       "      <td>NaN</td>\n",
       "      <td>1993</td>\n",
       "      <td>manual</td>\n",
       "      <td>0</td>\n",
       "      <td>golf</td>\n",
       "      <td>150000</td>\n",
       "      <td>0</td>\n",
       "      <td>petrol</td>\n",
       "      <td>...</td>\n",
       "      <td>NaN</td>\n",
       "      <td>2016-03-24 00:00:00</td>\n",
       "      <td>0</td>\n",
       "      <td>70435</td>\n",
       "      <td>2016-04-07 03:16:57</td>\n",
       "      <td>petrol</td>\n",
       "      <td>sedan</td>\n",
       "      <td>manual</td>\n",
       "      <td>75.0</td>\n",
       "      <td>0.0</td>\n",
       "    </tr>\n",
       "    <tr>\n",
       "      <th>1</th>\n",
       "      <td>2016-03-24 10:58:45</td>\n",
       "      <td>18300</td>\n",
       "      <td>coupe</td>\n",
       "      <td>2011</td>\n",
       "      <td>manual</td>\n",
       "      <td>190</td>\n",
       "      <td>other</td>\n",
       "      <td>125000</td>\n",
       "      <td>5</td>\n",
       "      <td>gasoline</td>\n",
       "      <td>...</td>\n",
       "      <td>yes</td>\n",
       "      <td>2016-03-24 00:00:00</td>\n",
       "      <td>0</td>\n",
       "      <td>66954</td>\n",
       "      <td>2016-04-07 01:46:50</td>\n",
       "      <td>petrol</td>\n",
       "      <td>wagon</td>\n",
       "      <td>manual</td>\n",
       "      <td>0.0</td>\n",
       "      <td>0.0</td>\n",
       "    </tr>\n",
       "    <tr>\n",
       "      <th>2</th>\n",
       "      <td>2016-03-14 12:52:21</td>\n",
       "      <td>9800</td>\n",
       "      <td>suv</td>\n",
       "      <td>2004</td>\n",
       "      <td>auto</td>\n",
       "      <td>163</td>\n",
       "      <td>grand</td>\n",
       "      <td>125000</td>\n",
       "      <td>8</td>\n",
       "      <td>gasoline</td>\n",
       "      <td>...</td>\n",
       "      <td>NaN</td>\n",
       "      <td>2016-03-14 00:00:00</td>\n",
       "      <td>0</td>\n",
       "      <td>90480</td>\n",
       "      <td>2016-04-05 12:47:46</td>\n",
       "      <td>gasoline</td>\n",
       "      <td>suv</td>\n",
       "      <td>auto</td>\n",
       "      <td>163.0</td>\n",
       "      <td>5500.0</td>\n",
       "    </tr>\n",
       "    <tr>\n",
       "      <th>3</th>\n",
       "      <td>2016-03-17 16:54:04</td>\n",
       "      <td>1500</td>\n",
       "      <td>small</td>\n",
       "      <td>2001</td>\n",
       "      <td>manual</td>\n",
       "      <td>75</td>\n",
       "      <td>golf</td>\n",
       "      <td>150000</td>\n",
       "      <td>6</td>\n",
       "      <td>petrol</td>\n",
       "      <td>...</td>\n",
       "      <td>no</td>\n",
       "      <td>2016-03-17 00:00:00</td>\n",
       "      <td>0</td>\n",
       "      <td>91074</td>\n",
       "      <td>2016-03-17 17:40:17</td>\n",
       "      <td>petrol</td>\n",
       "      <td>sedan</td>\n",
       "      <td>manual</td>\n",
       "      <td>75.0</td>\n",
       "      <td>0.0</td>\n",
       "    </tr>\n",
       "    <tr>\n",
       "      <th>4</th>\n",
       "      <td>2016-03-31 17:25:20</td>\n",
       "      <td>3600</td>\n",
       "      <td>small</td>\n",
       "      <td>2008</td>\n",
       "      <td>manual</td>\n",
       "      <td>69</td>\n",
       "      <td>fabia</td>\n",
       "      <td>90000</td>\n",
       "      <td>7</td>\n",
       "      <td>gasoline</td>\n",
       "      <td>...</td>\n",
       "      <td>no</td>\n",
       "      <td>2016-03-31 00:00:00</td>\n",
       "      <td>0</td>\n",
       "      <td>60437</td>\n",
       "      <td>2016-04-06 10:17:21</td>\n",
       "      <td>petrol</td>\n",
       "      <td>small</td>\n",
       "      <td>manual</td>\n",
       "      <td>75.0</td>\n",
       "      <td>2500.0</td>\n",
       "    </tr>\n",
       "  </tbody>\n",
       "</table>\n",
       "<p>5 rows × 21 columns</p>\n",
       "</div>"
      ],
      "text/plain": [
       "           DateCrawled  Price VehicleType  RegistrationYear Gearbox  Power  \\\n",
       "0  2016-03-24 11:52:17    480         NaN              1993  manual      0   \n",
       "1  2016-03-24 10:58:45  18300       coupe              2011  manual    190   \n",
       "2  2016-03-14 12:52:21   9800         suv              2004    auto    163   \n",
       "3  2016-03-17 16:54:04   1500       small              2001  manual     75   \n",
       "4  2016-03-31 17:25:20   3600       small              2008  manual     69   \n",
       "\n",
       "   Model  Kilometer  RegistrationMonth  FuelType  ... NotRepaired  \\\n",
       "0   golf     150000                  0    petrol  ...         NaN   \n",
       "1  other     125000                  5  gasoline  ...         yes   \n",
       "2  grand     125000                  8  gasoline  ...         NaN   \n",
       "3   golf     150000                  6    petrol  ...          no   \n",
       "4  fabia      90000                  7  gasoline  ...          no   \n",
       "\n",
       "           DateCreated NumberOfPictures  PostalCode             LastSeen  \\\n",
       "0  2016-03-24 00:00:00                0       70435  2016-04-07 03:16:57   \n",
       "1  2016-03-24 00:00:00                0       66954  2016-04-07 01:46:50   \n",
       "2  2016-03-14 00:00:00                0       90480  2016-04-05 12:47:46   \n",
       "3  2016-03-17 00:00:00                0       91074  2016-03-17 17:40:17   \n",
       "4  2016-03-31 00:00:00                0       60437  2016-04-06 10:17:21   \n",
       "\n",
       "  fueltype_mode vehicletype_mode gearbox_mode power_mode  price_mode  \n",
       "0        petrol            sedan       manual       75.0         0.0  \n",
       "1        petrol            wagon       manual        0.0         0.0  \n",
       "2      gasoline              suv         auto      163.0      5500.0  \n",
       "3        petrol            sedan       manual       75.0         0.0  \n",
       "4        petrol            small       manual       75.0      2500.0  \n",
       "\n",
       "[5 rows x 21 columns]"
      ]
     },
     "execution_count": 16,
     "metadata": {},
     "output_type": "execute_result"
    }
   ],
   "source": [
    "data = pd.merge(data, mode_table, how='left', on=['Model','Brand'])\n",
    "data.head()"
   ]
  },
  {
   "cell_type": "markdown",
   "metadata": {},
   "source": [
    "Построим срезы по пропускам необходимых признаков и запишем в них полученные наиболее часто встречающиеся значения:"
   ]
  },
  {
   "cell_type": "code",
   "execution_count": 17,
   "metadata": {},
   "outputs": [],
   "source": [
    "data.loc[data['VehicleType'].isna(),'VehicleType'] = data.loc[data['VehicleType'].isna(),'vehicletype_mode']"
   ]
  },
  {
   "cell_type": "code",
   "execution_count": 18,
   "metadata": {},
   "outputs": [],
   "source": [
    "data.loc[data['FuelType'].isna(),'FuelType'] = data.loc[data['FuelType'].isna(),'fueltype_mode']"
   ]
  },
  {
   "cell_type": "code",
   "execution_count": 19,
   "metadata": {},
   "outputs": [],
   "source": [
    "data.loc[data['Gearbox'].isna(),'Gearbox'] = data.loc[data['Gearbox'].isna(),'gearbox_mode']"
   ]
  },
  {
   "cell_type": "code",
   "execution_count": 20,
   "metadata": {},
   "outputs": [],
   "source": [
    "data.loc[data['Power'].isna(),'Power'] = data.loc[data['Power'].isna(),'power_mode']"
   ]
  },
  {
   "cell_type": "markdown",
   "metadata": {},
   "source": [
    "Посмотрим на значения 'NotRepaired':"
   ]
  },
  {
   "cell_type": "code",
   "execution_count": 21,
   "metadata": {},
   "outputs": [
    {
     "data": {
      "text/plain": [
       "array([nan, 'yes', 'no'], dtype=object)"
      ]
     },
     "execution_count": 21,
     "metadata": {},
     "output_type": "execute_result"
    }
   ],
   "source": [
    "data['NotRepaired'].unique()"
   ]
  },
  {
   "cell_type": "code",
   "execution_count": 22,
   "metadata": {},
   "outputs": [
    {
     "data": {
      "text/plain": [
       "no     0.872699\n",
       "yes    0.127301\n",
       "Name: NotRepaired, dtype: float64"
      ]
     },
     "execution_count": 22,
     "metadata": {},
     "output_type": "execute_result"
    }
   ],
   "source": [
    "data['NotRepaired'].value_counts(normalize=True)"
   ]
  },
  {
   "cell_type": "markdown",
   "metadata": {},
   "source": [
    "Заменим пропуски в столбце 'NotRepaired' на наиболее часто встречающийся 'no'. По-умолчанию будем считать, что авто не были повреждены:"
   ]
  },
  {
   "cell_type": "code",
   "execution_count": 23,
   "metadata": {},
   "outputs": [],
   "source": [
    "data.loc[data['NotRepaired'].isna(), 'NotRepaired'] = 'no'"
   ]
  },
  {
   "cell_type": "markdown",
   "metadata": {},
   "source": [
    "Преобразуем столбец 'NotRepaired' в тип bool:"
   ]
  },
  {
   "cell_type": "code",
   "execution_count": 24,
   "metadata": {},
   "outputs": [],
   "source": [
    "data.loc[data['NotRepaired']=='no','NotRepaired'] = 0\n",
    "data.loc[data['NotRepaired']=='yes','NotRepaired'] = 1\n",
    "data['NotRepaired'] = data['NotRepaired'].astype('bool')"
   ]
  },
  {
   "cell_type": "markdown",
   "metadata": {},
   "source": [
    "Найдем записи, год регистрации авто в которых позднее текущего года:"
   ]
  },
  {
   "cell_type": "code",
   "execution_count": 25,
   "metadata": {},
   "outputs": [
    {
     "data": {
      "text/html": [
       "<div>\n",
       "<style scoped>\n",
       "    .dataframe tbody tr th:only-of-type {\n",
       "        vertical-align: middle;\n",
       "    }\n",
       "\n",
       "    .dataframe tbody tr th {\n",
       "        vertical-align: top;\n",
       "    }\n",
       "\n",
       "    .dataframe thead th {\n",
       "        text-align: right;\n",
       "    }\n",
       "</style>\n",
       "<table border=\"1\" class=\"dataframe\">\n",
       "  <thead>\n",
       "    <tr style=\"text-align: right;\">\n",
       "      <th></th>\n",
       "      <th>DateCrawled</th>\n",
       "      <th>Price</th>\n",
       "      <th>VehicleType</th>\n",
       "      <th>RegistrationYear</th>\n",
       "      <th>Gearbox</th>\n",
       "      <th>Power</th>\n",
       "      <th>Model</th>\n",
       "      <th>Kilometer</th>\n",
       "      <th>RegistrationMonth</th>\n",
       "      <th>FuelType</th>\n",
       "      <th>...</th>\n",
       "      <th>NotRepaired</th>\n",
       "      <th>DateCreated</th>\n",
       "      <th>NumberOfPictures</th>\n",
       "      <th>PostalCode</th>\n",
       "      <th>LastSeen</th>\n",
       "      <th>fueltype_mode</th>\n",
       "      <th>vehicletype_mode</th>\n",
       "      <th>gearbox_mode</th>\n",
       "      <th>power_mode</th>\n",
       "      <th>price_mode</th>\n",
       "    </tr>\n",
       "  </thead>\n",
       "  <tbody>\n",
       "    <tr>\n",
       "      <th>12946</th>\n",
       "      <td>2016-03-29 18:39:40</td>\n",
       "      <td>49</td>\n",
       "      <td>sedan</td>\n",
       "      <td>5000</td>\n",
       "      <td>manual</td>\n",
       "      <td>0.0</td>\n",
       "      <td>golf</td>\n",
       "      <td>5000</td>\n",
       "      <td>12</td>\n",
       "      <td>petrol</td>\n",
       "      <td>...</td>\n",
       "      <td>False</td>\n",
       "      <td>2016-03-29 00:00:00</td>\n",
       "      <td>0</td>\n",
       "      <td>74523</td>\n",
       "      <td>2016-04-06 04:16:14</td>\n",
       "      <td>petrol</td>\n",
       "      <td>sedan</td>\n",
       "      <td>manual</td>\n",
       "      <td>75.0</td>\n",
       "      <td>0.0</td>\n",
       "    </tr>\n",
       "    <tr>\n",
       "      <th>15147</th>\n",
       "      <td>2016-03-14 00:52:02</td>\n",
       "      <td>0</td>\n",
       "      <td>sedan</td>\n",
       "      <td>9999</td>\n",
       "      <td>manual</td>\n",
       "      <td>0.0</td>\n",
       "      <td>other</td>\n",
       "      <td>10000</td>\n",
       "      <td>0</td>\n",
       "      <td>petrol</td>\n",
       "      <td>...</td>\n",
       "      <td>False</td>\n",
       "      <td>2016-03-13 00:00:00</td>\n",
       "      <td>0</td>\n",
       "      <td>32689</td>\n",
       "      <td>2016-03-21 23:46:46</td>\n",
       "      <td>petrol</td>\n",
       "      <td>sedan</td>\n",
       "      <td>manual</td>\n",
       "      <td>0.0</td>\n",
       "      <td>0.0</td>\n",
       "    </tr>\n",
       "    <tr>\n",
       "      <th>15870</th>\n",
       "      <td>2016-04-02 11:55:48</td>\n",
       "      <td>1700</td>\n",
       "      <td>sedan</td>\n",
       "      <td>3200</td>\n",
       "      <td>manual</td>\n",
       "      <td>0.0</td>\n",
       "      <td>other</td>\n",
       "      <td>5000</td>\n",
       "      <td>0</td>\n",
       "      <td>petrol</td>\n",
       "      <td>...</td>\n",
       "      <td>False</td>\n",
       "      <td>2016-04-02 00:00:00</td>\n",
       "      <td>0</td>\n",
       "      <td>33649</td>\n",
       "      <td>2016-04-06 09:46:13</td>\n",
       "      <td>petrol</td>\n",
       "      <td>sedan</td>\n",
       "      <td>manual</td>\n",
       "      <td>0.0</td>\n",
       "      <td>0.0</td>\n",
       "    </tr>\n",
       "    <tr>\n",
       "      <th>17271</th>\n",
       "      <td>2016-03-23 16:43:29</td>\n",
       "      <td>700</td>\n",
       "      <td>small</td>\n",
       "      <td>9999</td>\n",
       "      <td>manual</td>\n",
       "      <td>0.0</td>\n",
       "      <td>other</td>\n",
       "      <td>10000</td>\n",
       "      <td>0</td>\n",
       "      <td>petrol</td>\n",
       "      <td>...</td>\n",
       "      <td>False</td>\n",
       "      <td>2016-03-23 00:00:00</td>\n",
       "      <td>0</td>\n",
       "      <td>21769</td>\n",
       "      <td>2016-04-05 20:16:15</td>\n",
       "      <td>petrol</td>\n",
       "      <td>small</td>\n",
       "      <td>manual</td>\n",
       "      <td>0.0</td>\n",
       "      <td>0.0</td>\n",
       "    </tr>\n",
       "    <tr>\n",
       "      <th>17346</th>\n",
       "      <td>2016-03-06 16:06:20</td>\n",
       "      <td>6500</td>\n",
       "      <td>sedan</td>\n",
       "      <td>8888</td>\n",
       "      <td>manual</td>\n",
       "      <td>0.0</td>\n",
       "      <td>other</td>\n",
       "      <td>10000</td>\n",
       "      <td>0</td>\n",
       "      <td>petrol</td>\n",
       "      <td>...</td>\n",
       "      <td>False</td>\n",
       "      <td>2016-03-06 00:00:00</td>\n",
       "      <td>0</td>\n",
       "      <td>55262</td>\n",
       "      <td>2016-03-30 20:46:55</td>\n",
       "      <td>petrol</td>\n",
       "      <td>sedan</td>\n",
       "      <td>manual</td>\n",
       "      <td>0.0</td>\n",
       "      <td>0.0</td>\n",
       "    </tr>\n",
       "  </tbody>\n",
       "</table>\n",
       "<p>5 rows × 21 columns</p>\n",
       "</div>"
      ],
      "text/plain": [
       "               DateCrawled  Price VehicleType  RegistrationYear Gearbox  \\\n",
       "12946  2016-03-29 18:39:40     49       sedan              5000  manual   \n",
       "15147  2016-03-14 00:52:02      0       sedan              9999  manual   \n",
       "15870  2016-04-02 11:55:48   1700       sedan              3200  manual   \n",
       "17271  2016-03-23 16:43:29    700       small              9999  manual   \n",
       "17346  2016-03-06 16:06:20   6500       sedan              8888  manual   \n",
       "\n",
       "       Power  Model  Kilometer  RegistrationMonth FuelType  ... NotRepaired  \\\n",
       "12946    0.0   golf       5000                 12   petrol  ...       False   \n",
       "15147    0.0  other      10000                  0   petrol  ...       False   \n",
       "15870    0.0  other       5000                  0   petrol  ...       False   \n",
       "17271    0.0  other      10000                  0   petrol  ...       False   \n",
       "17346    0.0  other      10000                  0   petrol  ...       False   \n",
       "\n",
       "               DateCreated NumberOfPictures  PostalCode             LastSeen  \\\n",
       "12946  2016-03-29 00:00:00                0       74523  2016-04-06 04:16:14   \n",
       "15147  2016-03-13 00:00:00                0       32689  2016-03-21 23:46:46   \n",
       "15870  2016-04-02 00:00:00                0       33649  2016-04-06 09:46:13   \n",
       "17271  2016-03-23 00:00:00                0       21769  2016-04-05 20:16:15   \n",
       "17346  2016-03-06 00:00:00                0       55262  2016-03-30 20:46:55   \n",
       "\n",
       "      fueltype_mode vehicletype_mode gearbox_mode power_mode  price_mode  \n",
       "12946        petrol            sedan       manual       75.0         0.0  \n",
       "15147        petrol            sedan       manual        0.0         0.0  \n",
       "15870        petrol            sedan       manual        0.0         0.0  \n",
       "17271        petrol            small       manual        0.0         0.0  \n",
       "17346        petrol            sedan       manual        0.0         0.0  \n",
       "\n",
       "[5 rows x 21 columns]"
      ]
     },
     "execution_count": 25,
     "metadata": {},
     "output_type": "execute_result"
    }
   ],
   "source": [
    "data.loc[data['RegistrationYear']>datetime.datetime.now().year].head()"
   ]
  },
  {
   "cell_type": "markdown",
   "metadata": {},
   "source": [
    "Такие записи имеют много пропусков и некорректных значений, и т.к. таких строк всего 105, удалим их из датафрейма:"
   ]
  },
  {
   "cell_type": "code",
   "execution_count": 26,
   "metadata": {},
   "outputs": [],
   "source": [
    "data = data.loc[data['RegistrationYear']<=datetime.datetime.now().year]"
   ]
  },
  {
   "cell_type": "markdown",
   "metadata": {},
   "source": [
    "Посмотрим на распределение цен авто:"
   ]
  },
  {
   "cell_type": "code",
   "execution_count": 27,
   "metadata": {},
   "outputs": [
    {
     "data": {
      "image/png": "[encoded data removed]",
      "text/plain": [
       "<Figure size 432x288 with 1 Axes>"
      ]
     },
     "metadata": {
      "needs_background": "light"
     },
     "output_type": "display_data"
    }
   ],
   "source": [
    "data['Price'].plot(kind='hist', bins=50)\n",
    "plt.xlabel('Цена авто, евро')\n",
    "plt.ylabel('Кол.-во значений')\n",
    "plt.title('Гистограмма распределения стоимости авто')\n",
    "plt.show()"
   ]
  },
  {
   "cell_type": "markdown",
   "metadata": {},
   "source": [
    "Посмотрим сколько имеется околонулевых значений цены и удалим их:"
   ]
  },
  {
   "cell_type": "code",
   "execution_count": 28,
   "metadata": {},
   "outputs": [
    {
     "data": {
      "image/png": "[encoded data removed]",
      "text/plain": [
       "<Figure size 432x288 with 1 Axes>"
      ]
     },
     "metadata": {
      "needs_background": "light"
     },
     "output_type": "display_data"
    }
   ],
   "source": [
    "data.loc[data['Price']<800]['Price'].plot(kind='hist', bins=50)\n",
    "plt.xlabel('Цена авто, евро')\n",
    "plt.ylabel('Кол.-во значений')\n",
    "plt.title('Гистограмма распределения стоимости авто')\n",
    "plt.show()"
   ]
  },
  {
   "cell_type": "markdown",
   "metadata": {},
   "source": [
    "Предположим, что цена менее 100 евро выглядит неправдоподобной или ошибочной. Посмотрим сколько таких значений:"
   ]
  },
  {
   "cell_type": "code",
   "execution_count": 29,
   "metadata": {},
   "outputs": [
    {
     "data": {
      "text/plain": [
       "13281"
      ]
     },
     "execution_count": 29,
     "metadata": {},
     "output_type": "execute_result"
    }
   ],
   "source": [
    "len(data.loc[data['Price']<100])"
   ]
  },
  {
   "cell_type": "markdown",
   "metadata": {},
   "source": [
    "Заменим такие значения цены на наиболее часто встречающиеся цены данного бренда и модели:"
   ]
  },
  {
   "cell_type": "code",
   "execution_count": 30,
   "metadata": {},
   "outputs": [],
   "source": [
    "data.loc[data['Price']<100, 'Price'] = data.loc[data['Price']<100,'price_mode']"
   ]
  },
  {
   "cell_type": "markdown",
   "metadata": {},
   "source": [
    "Посмотрим, сколько нулевых значений цены осталось:"
   ]
  },
  {
   "cell_type": "code",
   "execution_count": 31,
   "metadata": {},
   "outputs": [
    {
     "data": {
      "text/plain": [
       "10164"
      ]
     },
     "execution_count": 31,
     "metadata": {},
     "output_type": "execute_result"
    }
   ],
   "source": [
    "len(data.loc[data['Price']==0, 'Price'])"
   ]
  },
  {
   "cell_type": "markdown",
   "metadata": {},
   "source": [
    "Заменим такие цены на медиану оставшихся цен авто:"
   ]
  },
  {
   "cell_type": "code",
   "execution_count": 32,
   "metadata": {},
   "outputs": [],
   "source": [
    "price_median = data.loc[data['Price']>0, 'Price'].median()\n",
    "data.loc[data['Price']==0, 'Price'] = price_median"
   ]
  },
  {
   "cell_type": "markdown",
   "metadata": {},
   "source": [
    "Рассмотрим распределение мощности авто:"
   ]
  },
  {
   "cell_type": "code",
   "execution_count": 33,
   "metadata": {},
   "outputs": [
    {
     "data": {
      "image/png": "[encoded data removed]",
      "text/plain": [
       "<Figure size 432x288 with 1 Axes>"
      ]
     },
     "metadata": {
      "needs_background": "light"
     },
     "output_type": "display_data"
    }
   ],
   "source": [
    "plt.boxplot(data.loc[data['Power']<1000]['Power'])\n",
    "plt.ylabel('Мощность авто, л.с.')\n",
    "plt.title('Диаграмма размаха мощности авто')\n",
    "plt.show()"
   ]
  },
  {
   "cell_type": "code",
   "execution_count": 34,
   "metadata": {},
   "outputs": [
    {
     "data": {
      "image/png": "[encoded data removed]",
      "text/plain": [
       "<Figure size 432x288 with 1 Axes>"
      ]
     },
     "metadata": {
      "needs_background": "light"
     },
     "output_type": "display_data"
    }
   ],
   "source": [
    "data.loc[data['Power']<100]['Power'].plot(kind='hist', bins=50)\n",
    "plt.xlabel('Мощность авто, л.с.')\n",
    "plt.ylabel('Кол.-во значений')\n",
    "plt.title('Гистограмма распределения мощности авто')\n",
    "plt.show()"
   ]
  },
  {
   "cell_type": "markdown",
   "metadata": {},
   "source": [
    "В данных имеются выбросы мощности как сверху, так и множество нулевых значений. Чтобы избавиться от выбросов и при этом не удалить много данных, построим диаграмму рассеяния цены и мощности авто. Примерно выберем две точки, которые будут ограничивать \"неправдоподобную\" мощность сверху и проведем прямую через эти 2 точки. Мощность авто выше красной прямой заменим на медианную мощность оставшихся записей:"
   ]
  },
  {
   "cell_type": "code",
   "execution_count": 35,
   "metadata": {},
   "outputs": [
    {
     "data": {
      "image/png": "[encoded data removed]",
      "text/plain": [
       "<Figure size 432x288 with 1 Axes>"
      ]
     },
     "metadata": {
      "needs_background": "light"
     },
     "output_type": "display_data"
    }
   ],
   "source": [
    "fig, ax = plt.subplots()\n",
    "plt.scatter(data['Price'], data['Power'], alpha=0.05)\n",
    "ax.set_ylim([0,1000])\n",
    "dot_x = [50, 20000]\n",
    "dot_y = [330, 600]\n",
    "plt.scatter(dot_x[0], dot_y[0], c='r')\n",
    "plt.scatter(dot_x[1], dot_y[1], c='r')\n",
    "\n",
    "k = (dot_y[0]-dot_y[1]) / (dot_x[0]-dot_x[1]) #коэффициенты для построения прямой через 2 точки\n",
    "b = dot_y[1]-k*dot_x[1]\n",
    "\n",
    "x = np.linspace(0, 20000)\n",
    "y = k*x + b\n",
    "ax.plot(x, y, color='red' )\n",
    "plt.text(7000, 550, \"Отсечка мощности\", color='r')\n",
    "\n",
    "plt.xlabel('Цена авто, евро')\n",
    "plt.ylabel('Мощность авто, л.с.')\n",
    "plt.title('Диаграмма рассеяния цены и мощности авто')\n",
    "\n",
    "plt.show()"
   ]
  },
  {
   "cell_type": "markdown",
   "metadata": {},
   "source": [
    "На данном этапе заменим значения неправдоподобной мощности на наиболее часто встречающееся значение по бренду/модели авто."
   ]
  },
  {
   "cell_type": "code",
   "execution_count": 36,
   "metadata": {},
   "outputs": [
    {
     "data": {
      "text/plain": [
       "40892"
      ]
     },
     "execution_count": 36,
     "metadata": {},
     "output_type": "execute_result"
    }
   ],
   "source": [
    "len(data.loc[(data['Power']>k*data['Price']+b)|(data['Power']<=10)])"
   ]
  },
  {
   "cell_type": "markdown",
   "metadata": {},
   "source": [
    "Всего заменяем 40892 значений, 11% от всего датасета."
   ]
  },
  {
   "cell_type": "code",
   "execution_count": 37,
   "metadata": {},
   "outputs": [],
   "source": [
    "data.loc[(data['Power']>k*data['Price']+b)|(data['Power']<=10), 'Power'] = data.loc[\n",
    "    (data['Power']>k*data['Price']+b)|(data['Power']<=10), 'power_mode']"
   ]
  },
  {
   "cell_type": "markdown",
   "metadata": {},
   "source": [
    "Посмотрим, сколько оставшихся нулевых значений мощности:"
   ]
  },
  {
   "cell_type": "code",
   "execution_count": 38,
   "metadata": {},
   "outputs": [
    {
     "data": {
      "text/plain": [
       "10564"
      ]
     },
     "execution_count": 38,
     "metadata": {},
     "output_type": "execute_result"
    }
   ],
   "source": [
    "len(data.loc[data['Power']==0])"
   ]
  },
  {
   "cell_type": "markdown",
   "metadata": {},
   "source": [
    "Заменим такие значения на медиану мощности оставшихся авто:"
   ]
  },
  {
   "cell_type": "code",
   "execution_count": 39,
   "metadata": {},
   "outputs": [],
   "source": [
    "data.loc[(data['Power']==0), 'Power'] = data.loc[(data['Power']>0), 'Power'].median()"
   ]
  },
  {
   "cell_type": "markdown",
   "metadata": {},
   "source": [
    "Посмотрим на распределение года регистрации авто:"
   ]
  },
  {
   "cell_type": "code",
   "execution_count": 40,
   "metadata": {},
   "outputs": [
    {
     "data": {
      "image/png": "[encoded data removed]",
      "text/plain": [
       "<Figure size 432x288 with 1 Axes>"
      ]
     },
     "metadata": {
      "needs_background": "light"
     },
     "output_type": "display_data"
    }
   ],
   "source": [
    "plt.boxplot(data.loc[data['RegistrationYear']>1930, 'RegistrationYear'])\n",
    "plt.ylabel('Год регистрации')\n",
    "plt.title('Диаграмма размаха года регистрации авто')\n",
    "plt.show()"
   ]
  },
  {
   "cell_type": "markdown",
   "metadata": {},
   "source": [
    "Посмотрим сколько значений ранее 1980 г:"
   ]
  },
  {
   "cell_type": "code",
   "execution_count": 41,
   "metadata": {},
   "outputs": [
    {
     "data": {
      "text/plain": [
       "3452"
      ]
     },
     "execution_count": 41,
     "metadata": {},
     "output_type": "execute_result"
    }
   ],
   "source": [
    "len(data.loc[data['RegistrationYear']<1980])"
   ]
  },
  {
   "cell_type": "markdown",
   "metadata": {},
   "source": [
    "Удалим все авто старше 1980 г:"
   ]
  },
  {
   "cell_type": "code",
   "execution_count": 42,
   "metadata": {},
   "outputs": [],
   "source": [
    "data = data.loc[data['RegistrationYear']>=1980]"
   ]
  },
  {
   "cell_type": "markdown",
   "metadata": {},
   "source": [
    "Преобразуем столбцы с годом и месяцем регистрации в один столбец типа 'datetime'. Вначале заменим нулевой месяц на медианное значение месяца по всем данным:"
   ]
  },
  {
   "cell_type": "code",
   "execution_count": 43,
   "metadata": {},
   "outputs": [],
   "source": [
    "data.loc[data['RegistrationMonth']==0, 'RegistrationMonth'] = round(\n",
    "    data.loc[data['RegistrationMonth']>0, 'RegistrationMonth'].median())"
   ]
  },
  {
   "cell_type": "code",
   "execution_count": 44,
   "metadata": {},
   "outputs": [],
   "source": [
    "reg_date = pd.DataFrame({'year': data['RegistrationYear'],\n",
    "                         'month': data['RegistrationMonth'],\n",
    "                         'day': 1})\n",
    "data['RegistrationDate'] = pd.to_datetime(reg_date)"
   ]
  },
  {
   "cell_type": "markdown",
   "metadata": {},
   "source": [
    "Поменяем дату регистрации на возраст авто в днях, чтобы избавиться от типа datetime:"
   ]
  },
  {
   "cell_type": "code",
   "execution_count": 45,
   "metadata": {},
   "outputs": [],
   "source": [
    "data['Age'] = (datetime.datetime.now() - data['RegistrationDate']).dt.days"
   ]
  },
  {
   "cell_type": "code",
   "execution_count": 46,
   "metadata": {},
   "outputs": [
    {
     "data": {
      "text/html": [
       "<div>\n",
       "<style scoped>\n",
       "    .dataframe tbody tr th:only-of-type {\n",
       "        vertical-align: middle;\n",
       "    }\n",
       "\n",
       "    .dataframe tbody tr th {\n",
       "        vertical-align: top;\n",
       "    }\n",
       "\n",
       "    .dataframe thead th {\n",
       "        text-align: right;\n",
       "    }\n",
       "</style>\n",
       "<table border=\"1\" class=\"dataframe\">\n",
       "  <thead>\n",
       "    <tr style=\"text-align: right;\">\n",
       "      <th></th>\n",
       "      <th>DateCrawled</th>\n",
       "      <th>Price</th>\n",
       "      <th>VehicleType</th>\n",
       "      <th>RegistrationYear</th>\n",
       "      <th>Gearbox</th>\n",
       "      <th>Power</th>\n",
       "      <th>Model</th>\n",
       "      <th>Kilometer</th>\n",
       "      <th>RegistrationMonth</th>\n",
       "      <th>FuelType</th>\n",
       "      <th>...</th>\n",
       "      <th>NumberOfPictures</th>\n",
       "      <th>PostalCode</th>\n",
       "      <th>LastSeen</th>\n",
       "      <th>fueltype_mode</th>\n",
       "      <th>vehicletype_mode</th>\n",
       "      <th>gearbox_mode</th>\n",
       "      <th>power_mode</th>\n",
       "      <th>price_mode</th>\n",
       "      <th>RegistrationDate</th>\n",
       "      <th>Age</th>\n",
       "    </tr>\n",
       "  </thead>\n",
       "  <tbody>\n",
       "    <tr>\n",
       "      <th>0</th>\n",
       "      <td>2016-03-24 11:52:17</td>\n",
       "      <td>480.0</td>\n",
       "      <td>sedan</td>\n",
       "      <td>1993</td>\n",
       "      <td>manual</td>\n",
       "      <td>75.0</td>\n",
       "      <td>golf</td>\n",
       "      <td>150000</td>\n",
       "      <td>6</td>\n",
       "      <td>petrol</td>\n",
       "      <td>...</td>\n",
       "      <td>0</td>\n",
       "      <td>70435</td>\n",
       "      <td>2016-04-07 03:16:57</td>\n",
       "      <td>petrol</td>\n",
       "      <td>sedan</td>\n",
       "      <td>manual</td>\n",
       "      <td>75.0</td>\n",
       "      <td>0.0</td>\n",
       "      <td>1993-06-01</td>\n",
       "      <td>10552</td>\n",
       "    </tr>\n",
       "    <tr>\n",
       "      <th>1</th>\n",
       "      <td>2016-03-24 10:58:45</td>\n",
       "      <td>18300.0</td>\n",
       "      <td>coupe</td>\n",
       "      <td>2011</td>\n",
       "      <td>manual</td>\n",
       "      <td>190.0</td>\n",
       "      <td>other</td>\n",
       "      <td>125000</td>\n",
       "      <td>5</td>\n",
       "      <td>gasoline</td>\n",
       "      <td>...</td>\n",
       "      <td>0</td>\n",
       "      <td>66954</td>\n",
       "      <td>2016-04-07 01:46:50</td>\n",
       "      <td>petrol</td>\n",
       "      <td>wagon</td>\n",
       "      <td>manual</td>\n",
       "      <td>0.0</td>\n",
       "      <td>0.0</td>\n",
       "      <td>2011-05-01</td>\n",
       "      <td>4009</td>\n",
       "    </tr>\n",
       "    <tr>\n",
       "      <th>2</th>\n",
       "      <td>2016-03-14 12:52:21</td>\n",
       "      <td>9800.0</td>\n",
       "      <td>suv</td>\n",
       "      <td>2004</td>\n",
       "      <td>auto</td>\n",
       "      <td>163.0</td>\n",
       "      <td>grand</td>\n",
       "      <td>125000</td>\n",
       "      <td>8</td>\n",
       "      <td>gasoline</td>\n",
       "      <td>...</td>\n",
       "      <td>0</td>\n",
       "      <td>90480</td>\n",
       "      <td>2016-04-05 12:47:46</td>\n",
       "      <td>gasoline</td>\n",
       "      <td>suv</td>\n",
       "      <td>auto</td>\n",
       "      <td>163.0</td>\n",
       "      <td>5500.0</td>\n",
       "      <td>2004-08-01</td>\n",
       "      <td>6473</td>\n",
       "    </tr>\n",
       "    <tr>\n",
       "      <th>3</th>\n",
       "      <td>2016-03-17 16:54:04</td>\n",
       "      <td>1500.0</td>\n",
       "      <td>small</td>\n",
       "      <td>2001</td>\n",
       "      <td>manual</td>\n",
       "      <td>75.0</td>\n",
       "      <td>golf</td>\n",
       "      <td>150000</td>\n",
       "      <td>6</td>\n",
       "      <td>petrol</td>\n",
       "      <td>...</td>\n",
       "      <td>0</td>\n",
       "      <td>91074</td>\n",
       "      <td>2016-03-17 17:40:17</td>\n",
       "      <td>petrol</td>\n",
       "      <td>sedan</td>\n",
       "      <td>manual</td>\n",
       "      <td>75.0</td>\n",
       "      <td>0.0</td>\n",
       "      <td>2001-06-01</td>\n",
       "      <td>7630</td>\n",
       "    </tr>\n",
       "    <tr>\n",
       "      <th>4</th>\n",
       "      <td>2016-03-31 17:25:20</td>\n",
       "      <td>3600.0</td>\n",
       "      <td>small</td>\n",
       "      <td>2008</td>\n",
       "      <td>manual</td>\n",
       "      <td>69.0</td>\n",
       "      <td>fabia</td>\n",
       "      <td>90000</td>\n",
       "      <td>7</td>\n",
       "      <td>gasoline</td>\n",
       "      <td>...</td>\n",
       "      <td>0</td>\n",
       "      <td>60437</td>\n",
       "      <td>2016-04-06 10:17:21</td>\n",
       "      <td>petrol</td>\n",
       "      <td>small</td>\n",
       "      <td>manual</td>\n",
       "      <td>75.0</td>\n",
       "      <td>2500.0</td>\n",
       "      <td>2008-07-01</td>\n",
       "      <td>5043</td>\n",
       "    </tr>\n",
       "  </tbody>\n",
       "</table>\n",
       "<p>5 rows × 23 columns</p>\n",
       "</div>"
      ],
      "text/plain": [
       "           DateCrawled    Price VehicleType  RegistrationYear Gearbox  Power  \\\n",
       "0  2016-03-24 11:52:17    480.0       sedan              1993  manual   75.0   \n",
       "1  2016-03-24 10:58:45  18300.0       coupe              2011  manual  190.0   \n",
       "2  2016-03-14 12:52:21   9800.0         suv              2004    auto  163.0   \n",
       "3  2016-03-17 16:54:04   1500.0       small              2001  manual   75.0   \n",
       "4  2016-03-31 17:25:20   3600.0       small              2008  manual   69.0   \n",
       "\n",
       "   Model  Kilometer  RegistrationMonth  FuelType  ... NumberOfPictures  \\\n",
       "0   golf     150000                  6    petrol  ...                0   \n",
       "1  other     125000                  5  gasoline  ...                0   \n",
       "2  grand     125000                  8  gasoline  ...                0   \n",
       "3   golf     150000                  6    petrol  ...                0   \n",
       "4  fabia      90000                  7  gasoline  ...                0   \n",
       "\n",
       "   PostalCode             LastSeen  fueltype_mode  vehicletype_mode  \\\n",
       "0       70435  2016-04-07 03:16:57         petrol             sedan   \n",
       "1       66954  2016-04-07 01:46:50         petrol             wagon   \n",
       "2       90480  2016-04-05 12:47:46       gasoline               suv   \n",
       "3       91074  2016-03-17 17:40:17         petrol             sedan   \n",
       "4       60437  2016-04-06 10:17:21         petrol             small   \n",
       "\n",
       "  gearbox_mode power_mode price_mode RegistrationDate    Age  \n",
       "0       manual       75.0        0.0       1993-06-01  10552  \n",
       "1       manual        0.0        0.0       2011-05-01   4009  \n",
       "2         auto      163.0     5500.0       2004-08-01   6473  \n",
       "3       manual       75.0        0.0       2001-06-01   7630  \n",
       "4       manual       75.0     2500.0       2008-07-01   5043  \n",
       "\n",
       "[5 rows x 23 columns]"
      ]
     },
     "execution_count": 46,
     "metadata": {},
     "output_type": "execute_result"
    }
   ],
   "source": [
    "data.head()"
   ]
  },
  {
   "cell_type": "markdown",
   "metadata": {},
   "source": [
    "Удалим столбцы, ненужные для создания модели:"
   ]
  },
  {
   "cell_type": "code",
   "execution_count": 47,
   "metadata": {},
   "outputs": [],
   "source": [
    "data = data.drop(['DateCrawled', 'DateCreated', 'NumberOfPictures', \n",
    "                  'PostalCode', 'LastSeen', 'RegistrationYear', \n",
    "                  'RegistrationMonth', 'RegistrationDate',\n",
    "                 'fueltype_mode', 'vehicletype_mode', \n",
    "                 'gearbox_mode', 'power_mode', 'price_mode'], axis=1)"
   ]
  },
  {
   "cell_type": "markdown",
   "metadata": {},
   "source": [
    "### Вывод"
   ]
  },
  {
   "cell_type": "markdown",
   "metadata": {},
   "source": [
    "В нашем распоряжении имеется файл 'autos.scv'. В файле содержится 354369 записей об авто, всего 16 столбцов. Данные организованы типами object, int64. Пропуски в данных имееются в 5 столбцах ('Price', 'VehicleType', 'Gearbox', 'Model', 'FuelType', 'NotRepaired'). Имеется 4 дублированных строки, которые были удалены. На данном этапе пропуски в столбцах 'VehicleType', 'Model', 'FuelType', 'Gearbox' были заменены на наиболее часто встречающийся тип для данного бренда и модели авто. Пропуски в столбце 'NotRepaired' заменены на 'no', т.к. по-умолчанию будем считать, что авто не были повреждены. Были обработаны околонулевые значения цены авто - они заменены на наиболее часто встречающуюся стоимость таких авто, нулевые значения цены заменены на медианную стоимость оставшихся авто. Были обработаны выбросы в мощности авто - выбросы сверху заменены на наиболее часто встречающуюся мощность, нулевые значения заменены на медиану всех оставшихся авто. \n",
    "Были удалены 105 строк с некорректными значениями года регистрации. Были удалены строки с годом регистрации авто старше 1980. Далее месяц и год регистрации был преобразован в столбец \"Age\", содержащий значение в днях, прошедших со дня регистрации до текущей даты. Ненужные для дальнейшей работы столбцы были удалены."
   ]
  },
  {
   "cell_type": "markdown",
   "metadata": {},
   "source": [
    "## Обучение моделей <a id=\"step_2\"></a>"
   ]
  },
  {
   "cell_type": "markdown",
   "metadata": {},
   "source": [
    "Создадим функцию для вычисления времени выполнения ячейки:"
   ]
  },
  {
   "cell_type": "code",
   "execution_count": 48,
   "metadata": {},
   "outputs": [],
   "source": [
    "def exec_time(start, end):\n",
    "    diff_time = end - start\n",
    "    return round(diff_time, 3) #округляем вывод до 1 мс"
   ]
  },
  {
   "cell_type": "markdown",
   "metadata": {},
   "source": [
    "Произведем кодирование категориальных признаков методом OHE для обучения линейной регрессии:"
   ]
  },
  {
   "cell_type": "code",
   "execution_count": 49,
   "metadata": {},
   "outputs": [],
   "source": [
    "data_ohe = pd.get_dummies(data, drop_first=True)"
   ]
  },
  {
   "cell_type": "code",
   "execution_count": 50,
   "metadata": {},
   "outputs": [
    {
     "data": {
      "text/html": [
       "<div>\n",
       "<style scoped>\n",
       "    .dataframe tbody tr th:only-of-type {\n",
       "        vertical-align: middle;\n",
       "    }\n",
       "\n",
       "    .dataframe tbody tr th {\n",
       "        vertical-align: top;\n",
       "    }\n",
       "\n",
       "    .dataframe thead th {\n",
       "        text-align: right;\n",
       "    }\n",
       "</style>\n",
       "<table border=\"1\" class=\"dataframe\">\n",
       "  <thead>\n",
       "    <tr style=\"text-align: right;\">\n",
       "      <th></th>\n",
       "      <th>Price</th>\n",
       "      <th>Power</th>\n",
       "      <th>Kilometer</th>\n",
       "      <th>NotRepaired</th>\n",
       "      <th>Age</th>\n",
       "      <th>VehicleType_convertible</th>\n",
       "      <th>VehicleType_coupe</th>\n",
       "      <th>VehicleType_other</th>\n",
       "      <th>VehicleType_sedan</th>\n",
       "      <th>VehicleType_small</th>\n",
       "      <th>...</th>\n",
       "      <th>Brand_seat</th>\n",
       "      <th>Brand_skoda</th>\n",
       "      <th>Brand_smart</th>\n",
       "      <th>Brand_sonstige_autos</th>\n",
       "      <th>Brand_subaru</th>\n",
       "      <th>Brand_suzuki</th>\n",
       "      <th>Brand_toyota</th>\n",
       "      <th>Brand_trabant</th>\n",
       "      <th>Brand_volkswagen</th>\n",
       "      <th>Brand_volvo</th>\n",
       "    </tr>\n",
       "  </thead>\n",
       "  <tbody>\n",
       "    <tr>\n",
       "      <th>0</th>\n",
       "      <td>480.0</td>\n",
       "      <td>75.0</td>\n",
       "      <td>150000</td>\n",
       "      <td>False</td>\n",
       "      <td>10552</td>\n",
       "      <td>0</td>\n",
       "      <td>0</td>\n",
       "      <td>0</td>\n",
       "      <td>1</td>\n",
       "      <td>0</td>\n",
       "      <td>...</td>\n",
       "      <td>0</td>\n",
       "      <td>0</td>\n",
       "      <td>0</td>\n",
       "      <td>0</td>\n",
       "      <td>0</td>\n",
       "      <td>0</td>\n",
       "      <td>0</td>\n",
       "      <td>0</td>\n",
       "      <td>1</td>\n",
       "      <td>0</td>\n",
       "    </tr>\n",
       "    <tr>\n",
       "      <th>1</th>\n",
       "      <td>18300.0</td>\n",
       "      <td>190.0</td>\n",
       "      <td>125000</td>\n",
       "      <td>True</td>\n",
       "      <td>4009</td>\n",
       "      <td>0</td>\n",
       "      <td>1</td>\n",
       "      <td>0</td>\n",
       "      <td>0</td>\n",
       "      <td>0</td>\n",
       "      <td>...</td>\n",
       "      <td>0</td>\n",
       "      <td>0</td>\n",
       "      <td>0</td>\n",
       "      <td>0</td>\n",
       "      <td>0</td>\n",
       "      <td>0</td>\n",
       "      <td>0</td>\n",
       "      <td>0</td>\n",
       "      <td>0</td>\n",
       "      <td>0</td>\n",
       "    </tr>\n",
       "    <tr>\n",
       "      <th>2</th>\n",
       "      <td>9800.0</td>\n",
       "      <td>163.0</td>\n",
       "      <td>125000</td>\n",
       "      <td>False</td>\n",
       "      <td>6473</td>\n",
       "      <td>0</td>\n",
       "      <td>0</td>\n",
       "      <td>0</td>\n",
       "      <td>0</td>\n",
       "      <td>0</td>\n",
       "      <td>...</td>\n",
       "      <td>0</td>\n",
       "      <td>0</td>\n",
       "      <td>0</td>\n",
       "      <td>0</td>\n",
       "      <td>0</td>\n",
       "      <td>0</td>\n",
       "      <td>0</td>\n",
       "      <td>0</td>\n",
       "      <td>0</td>\n",
       "      <td>0</td>\n",
       "    </tr>\n",
       "    <tr>\n",
       "      <th>3</th>\n",
       "      <td>1500.0</td>\n",
       "      <td>75.0</td>\n",
       "      <td>150000</td>\n",
       "      <td>False</td>\n",
       "      <td>7630</td>\n",
       "      <td>0</td>\n",
       "      <td>0</td>\n",
       "      <td>0</td>\n",
       "      <td>0</td>\n",
       "      <td>1</td>\n",
       "      <td>...</td>\n",
       "      <td>0</td>\n",
       "      <td>0</td>\n",
       "      <td>0</td>\n",
       "      <td>0</td>\n",
       "      <td>0</td>\n",
       "      <td>0</td>\n",
       "      <td>0</td>\n",
       "      <td>0</td>\n",
       "      <td>1</td>\n",
       "      <td>0</td>\n",
       "    </tr>\n",
       "    <tr>\n",
       "      <th>4</th>\n",
       "      <td>3600.0</td>\n",
       "      <td>69.0</td>\n",
       "      <td>90000</td>\n",
       "      <td>False</td>\n",
       "      <td>5043</td>\n",
       "      <td>0</td>\n",
       "      <td>0</td>\n",
       "      <td>0</td>\n",
       "      <td>0</td>\n",
       "      <td>1</td>\n",
       "      <td>...</td>\n",
       "      <td>0</td>\n",
       "      <td>1</td>\n",
       "      <td>0</td>\n",
       "      <td>0</td>\n",
       "      <td>0</td>\n",
       "      <td>0</td>\n",
       "      <td>0</td>\n",
       "      <td>0</td>\n",
       "      <td>0</td>\n",
       "      <td>0</td>\n",
       "    </tr>\n",
       "  </tbody>\n",
       "</table>\n",
       "<p>5 rows × 306 columns</p>\n",
       "</div>"
      ],
      "text/plain": [
       "     Price  Power  Kilometer  NotRepaired    Age  VehicleType_convertible  \\\n",
       "0    480.0   75.0     150000        False  10552                        0   \n",
       "1  18300.0  190.0     125000         True   4009                        0   \n",
       "2   9800.0  163.0     125000        False   6473                        0   \n",
       "3   1500.0   75.0     150000        False   7630                        0   \n",
       "4   3600.0   69.0      90000        False   5043                        0   \n",
       "\n",
       "   VehicleType_coupe  VehicleType_other  VehicleType_sedan  VehicleType_small  \\\n",
       "0                  0                  0                  1                  0   \n",
       "1                  1                  0                  0                  0   \n",
       "2                  0                  0                  0                  0   \n",
       "3                  0                  0                  0                  1   \n",
       "4                  0                  0                  0                  1   \n",
       "\n",
       "   ...  Brand_seat  Brand_skoda  Brand_smart  Brand_sonstige_autos  \\\n",
       "0  ...           0            0            0                     0   \n",
       "1  ...           0            0            0                     0   \n",
       "2  ...           0            0            0                     0   \n",
       "3  ...           0            0            0                     0   \n",
       "4  ...           0            1            0                     0   \n",
       "\n",
       "   Brand_subaru  Brand_suzuki  Brand_toyota  Brand_trabant  Brand_volkswagen  \\\n",
       "0             0             0             0              0                 1   \n",
       "1             0             0             0              0                 0   \n",
       "2             0             0             0              0                 0   \n",
       "3             0             0             0              0                 1   \n",
       "4             0             0             0              0                 0   \n",
       "\n",
       "   Brand_volvo  \n",
       "0            0  \n",
       "1            0  \n",
       "2            0  \n",
       "3            0  \n",
       "4            0  \n",
       "\n",
       "[5 rows x 306 columns]"
      ]
     },
     "execution_count": 50,
     "metadata": {},
     "output_type": "execute_result"
    }
   ],
   "source": [
    "data_ohe.head()"
   ]
  },
  {
   "cell_type": "markdown",
   "metadata": {},
   "source": [
    "Создадим переменные для признаков и целевых признаков, разделим выборки на обучающую и тестовую в соотношении 80/20%:"
   ]
  },
  {
   "cell_type": "code",
   "execution_count": 51,
   "metadata": {},
   "outputs": [],
   "source": [
    "features = data_ohe.drop('Price', axis=1)"
   ]
  },
  {
   "cell_type": "code",
   "execution_count": 52,
   "metadata": {},
   "outputs": [],
   "source": [
    "target = data_ohe['Price']"
   ]
  },
  {
   "cell_type": "code",
   "execution_count": 53,
   "metadata": {},
   "outputs": [],
   "source": [
    "features_train, features_test, target_train, target_test = train_test_split(\n",
    "    features, target, test_size=0.2, random_state=1234)"
   ]
  },
  {
   "cell_type": "markdown",
   "metadata": {},
   "source": [
    "Проведем настройку масштабирования количественных признаков на тренировочной выборке и применим масштабирование для обеих выборок:"
   ]
  },
  {
   "cell_type": "code",
   "execution_count": 54,
   "metadata": {},
   "outputs": [],
   "source": [
    "scaler = StandardScaler()"
   ]
  },
  {
   "cell_type": "code",
   "execution_count": 55,
   "metadata": {
    "scrolled": true
   },
   "outputs": [
    {
     "data": {
      "text/plain": [
       "StandardScaler()"
      ]
     },
     "execution_count": 55,
     "metadata": {},
     "output_type": "execute_result"
    }
   ],
   "source": [
    "scaler.fit(features_train.loc[:,('Power', 'Kilometer', 'Age')])"
   ]
  },
  {
   "cell_type": "code",
   "execution_count": 56,
   "metadata": {
    "scrolled": true
   },
   "outputs": [],
   "source": [
    "features_train.loc[:,('Power', 'Kilometer', 'Age')] = scaler.transform(features_train.loc[:,('Power', 'Kilometer', 'Age')])"
   ]
  },
  {
   "cell_type": "code",
   "execution_count": 57,
   "metadata": {
    "scrolled": true
   },
   "outputs": [],
   "source": [
    "features_test.loc[:,('Power', 'Kilometer', 'Age')] = scaler.transform(features_test.loc[:,('Power', 'Kilometer', 'Age')])"
   ]
  },
  {
   "cell_type": "markdown",
   "metadata": {},
   "source": [
    "Создадим функцию для вычисления метрики RMSE в качестве функции потерь:"
   ]
  },
  {
   "cell_type": "code",
   "execution_count": 58,
   "metadata": {},
   "outputs": [],
   "source": [
    "def rmse_calc(features, target):\n",
    "    rmse = (mean_squared_error(features, target))**0.5\n",
    "    return rmse"
   ]
  },
  {
   "cell_type": "code",
   "execution_count": 59,
   "metadata": {},
   "outputs": [],
   "source": [
    "my_scorer = make_scorer(rmse_calc, greater_is_better=False)"
   ]
  },
  {
   "cell_type": "markdown",
   "metadata": {},
   "source": [
    "Далее создадим и обучим модели."
   ]
  },
  {
   "cell_type": "markdown",
   "metadata": {},
   "source": [
    "### Линейная регрессия <a id=\"step_2_3\"></a>"
   ]
  },
  {
   "cell_type": "code",
   "execution_count": 60,
   "metadata": {},
   "outputs": [],
   "source": [
    "model_linear = LinearRegression()"
   ]
  },
  {
   "cell_type": "code",
   "execution_count": 61,
   "metadata": {},
   "outputs": [],
   "source": [
    "linear_param = {'normalize': [False]}\n",
    "#кол.-во параметров ограничено вблизи оптимальных значений для экономии времени выполнения кода"
   ]
  },
  {
   "cell_type": "code",
   "execution_count": 62,
   "metadata": {},
   "outputs": [],
   "source": [
    "grid_linear = GridSearchCV(model_linear, linear_param, cv=3, scoring=my_scorer, n_jobs=-1)"
   ]
  },
  {
   "cell_type": "code",
   "execution_count": 63,
   "metadata": {},
   "outputs": [
    {
     "name": "stdout",
     "output_type": "stream",
     "text": [
      "CPU times: user 1min 45s, sys: 22.8 s, total: 2min 7s\n",
      "Wall time: 2min 8s\n"
     ]
    },
    {
     "data": {
      "text/plain": [
       "GridSearchCV(cv=3, estimator=LinearRegression(), n_jobs=-1,\n",
       "             param_grid={'normalize': [False]},\n",
       "             scoring=make_scorer(rmse_calc, greater_is_better=False))"
      ]
     },
     "execution_count": 63,
     "metadata": {},
     "output_type": "execute_result"
    }
   ],
   "source": [
    "%%time\n",
    "grid_linear.fit(features_train, target_train)"
   ]
  },
  {
   "cell_type": "code",
   "execution_count": 64,
   "metadata": {},
   "outputs": [
    {
     "name": "stdout",
     "output_type": "stream",
     "text": [
      "Linear regression train RMSE: 2675.00\n"
     ]
    }
   ],
   "source": [
    "print('Linear regression train RMSE: {:.2f}'.format(abs(grid_linear.best_score_)))"
   ]
  },
  {
   "cell_type": "code",
   "execution_count": 65,
   "metadata": {},
   "outputs": [
    {
     "name": "stdout",
     "output_type": "stream",
     "text": [
      "Linear regression best parameters:  {'normalize': False}\n"
     ]
    }
   ],
   "source": [
    "print('Linear regression best parameters: ', grid_linear.best_params_)"
   ]
  },
  {
   "cell_type": "markdown",
   "metadata": {},
   "source": [
    "Проверяем предсказания линейной регрессии на тестовых данных:"
   ]
  },
  {
   "cell_type": "code",
   "execution_count": 66,
   "metadata": {},
   "outputs": [],
   "source": [
    "model_linear = LinearRegression(n_jobs=-1)"
   ]
  },
  {
   "cell_type": "code",
   "execution_count": 67,
   "metadata": {},
   "outputs": [
    {
     "name": "stdout",
     "output_type": "stream",
     "text": [
      "CPU times: user 33.2 s, sys: 6.49 s, total: 39.7 s\n",
      "Wall time: 40.2 s\n"
     ]
    }
   ],
   "source": [
    "%%time\n",
    "start = time.time()\n",
    "model_linear.fit(features_train, target_train)\n",
    "end = time.time()"
   ]
  },
  {
   "cell_type": "code",
   "execution_count": 68,
   "metadata": {},
   "outputs": [],
   "source": [
    "time_train_linear = exec_time(start,end)"
   ]
  },
  {
   "cell_type": "code",
   "execution_count": 69,
   "metadata": {},
   "outputs": [
    {
     "name": "stdout",
     "output_type": "stream",
     "text": [
      "CPU times: user 1.58 s, sys: 342 ms, total: 1.92 s\n",
      "Wall time: 1.91 s\n"
     ]
    }
   ],
   "source": [
    "%%time\n",
    "start = time.time()\n",
    "predictions_linear = model_linear.predict(features_test)\n",
    "end = time.time()"
   ]
  },
  {
   "cell_type": "code",
   "execution_count": 70,
   "metadata": {},
   "outputs": [],
   "source": [
    "time_predict_linear = exec_time(start,end)"
   ]
  },
  {
   "cell_type": "code",
   "execution_count": 71,
   "metadata": {},
   "outputs": [
    {
     "name": "stdout",
     "output_type": "stream",
     "text": [
      "Linear regression test RMSE: 2679.25\n"
     ]
    }
   ],
   "source": [
    "rmse_test_linear = round(mean_squared_error(target_test, predictions_linear)**0.5, 2)\n",
    "print(\"Linear regression test RMSE:\", rmse_test_linear)"
   ]
  },
  {
   "cell_type": "markdown",
   "metadata": {},
   "source": [
    "Для древовидных моделей далее будем использовать Ordinal Encoder. В условиях данной задачи это позволяет избежать большой размерности таблицы при кодировании методом OHE, что положительно сказывается на времени вычисления моделей."
   ]
  },
  {
   "cell_type": "code",
   "execution_count": 72,
   "metadata": {},
   "outputs": [],
   "source": [
    "ord_enc = OrdinalEncoder()"
   ]
  },
  {
   "cell_type": "code",
   "execution_count": 73,
   "metadata": {},
   "outputs": [],
   "source": [
    "data['VehicleType'] = ord_enc.fit_transform(data[['VehicleType']]).astype('int')"
   ]
  },
  {
   "cell_type": "code",
   "execution_count": 74,
   "metadata": {},
   "outputs": [],
   "source": [
    "data['Gearbox'] = ord_enc.fit_transform(data[['Gearbox']]).astype('int')"
   ]
  },
  {
   "cell_type": "code",
   "execution_count": 75,
   "metadata": {},
   "outputs": [],
   "source": [
    "data['Model'] = ord_enc.fit_transform(data[['Model']]).astype('int')"
   ]
  },
  {
   "cell_type": "code",
   "execution_count": 76,
   "metadata": {},
   "outputs": [],
   "source": [
    "data['FuelType'] = ord_enc.fit_transform(data[['FuelType']]).astype('int')"
   ]
  },
  {
   "cell_type": "code",
   "execution_count": 77,
   "metadata": {},
   "outputs": [],
   "source": [
    "data['Brand'] = ord_enc.fit_transform(data[['Brand']]).astype('int')"
   ]
  },
  {
   "cell_type": "code",
   "execution_count": 78,
   "metadata": {},
   "outputs": [],
   "source": [
    "features = data.drop('Price', axis=1)"
   ]
  },
  {
   "cell_type": "code",
   "execution_count": 79,
   "metadata": {},
   "outputs": [],
   "source": [
    "target = data['Price']"
   ]
  },
  {
   "cell_type": "code",
   "execution_count": 80,
   "metadata": {},
   "outputs": [],
   "source": [
    "features_train, features_test, target_train, target_test = train_test_split(\n",
    "    features, target, test_size=0.2, random_state=12345)"
   ]
  },
  {
   "cell_type": "markdown",
   "metadata": {},
   "source": [
    "Проведем настройку масштабирования количественных признаков на тренировочной выборке и применим масштабирование для обеих выборок:"
   ]
  },
  {
   "cell_type": "code",
   "execution_count": 81,
   "metadata": {},
   "outputs": [],
   "source": [
    "scaler = StandardScaler()"
   ]
  },
  {
   "cell_type": "code",
   "execution_count": 82,
   "metadata": {
    "scrolled": true
   },
   "outputs": [
    {
     "data": {
      "text/plain": [
       "StandardScaler()"
      ]
     },
     "execution_count": 82,
     "metadata": {},
     "output_type": "execute_result"
    }
   ],
   "source": [
    "scaler.fit(features_train.loc[:,('Power', 'Kilometer', 'Age')])"
   ]
  },
  {
   "cell_type": "code",
   "execution_count": 83,
   "metadata": {
    "scrolled": true
   },
   "outputs": [],
   "source": [
    "features_train.loc[:,('Power', 'Kilometer', 'Age')] = scaler.transform(features_train.loc[:,('Power', 'Kilometer', 'Age')])"
   ]
  },
  {
   "cell_type": "code",
   "execution_count": 84,
   "metadata": {
    "scrolled": true
   },
   "outputs": [],
   "source": [
    "features_test.loc[:,('Power', 'Kilometer', 'Age')] = scaler.transform(features_test.loc[:,('Power', 'Kilometer', 'Age')])"
   ]
  },
  {
   "cell_type": "markdown",
   "metadata": {},
   "source": [
    "### Случайный лес <a id=\"step_2_1\"></a>"
   ]
  },
  {
   "cell_type": "code",
   "execution_count": 85,
   "metadata": {},
   "outputs": [],
   "source": [
    "model_random_forest = RandomForestRegressor(random_state=12345)"
   ]
  },
  {
   "cell_type": "code",
   "execution_count": 86,
   "metadata": {},
   "outputs": [],
   "source": [
    "random_forest_param = {'n_estimators': [20],        \n",
    "                       'max_depth': [20],     \n",
    "                       'min_samples_leaf': [2]\n",
    "                      }\n",
    "#кол.-во параметров ограничено вблизи оптимальных значений для экономии времени выполнения кода "
   ]
  },
  {
   "cell_type": "code",
   "execution_count": 87,
   "metadata": {},
   "outputs": [],
   "source": [
    "grid_random_forest = GridSearchCV(model_random_forest, random_forest_param, cv=3, scoring=my_scorer, n_jobs=-1)"
   ]
  },
  {
   "cell_type": "code",
   "execution_count": 88,
   "metadata": {},
   "outputs": [
    {
     "name": "stdout",
     "output_type": "stream",
     "text": [
      "CPU times: user 52.1 s, sys: 0 ns, total: 52.1 s\n",
      "Wall time: 52.3 s\n"
     ]
    },
    {
     "data": {
      "text/plain": [
       "GridSearchCV(cv=3, estimator=RandomForestRegressor(random_state=12345),\n",
       "             n_jobs=-1,\n",
       "             param_grid={'max_depth': [20], 'min_samples_leaf': [2],\n",
       "                         'n_estimators': [20]},\n",
       "             scoring=make_scorer(rmse_calc, greater_is_better=False))"
      ]
     },
     "execution_count": 88,
     "metadata": {},
     "output_type": "execute_result"
    }
   ],
   "source": [
    "%%time\n",
    "grid_random_forest.fit(features_train, target_train)"
   ]
  },
  {
   "cell_type": "code",
   "execution_count": 89,
   "metadata": {},
   "outputs": [
    {
     "name": "stdout",
     "output_type": "stream",
     "text": [
      "Random forest train RMSE: 1685.61\n"
     ]
    }
   ],
   "source": [
    "print('Random forest train RMSE: {:.2f}'.format(abs(grid_random_forest.best_score_)))"
   ]
  },
  {
   "cell_type": "code",
   "execution_count": 90,
   "metadata": {},
   "outputs": [
    {
     "name": "stdout",
     "output_type": "stream",
     "text": [
      "Random forest best parameters: {'max_depth': 20, 'min_samples_leaf': 2, 'n_estimators': 20}\n"
     ]
    }
   ],
   "source": [
    "print('Random forest best parameters:', grid_random_forest.best_params_)"
   ]
  },
  {
   "cell_type": "markdown",
   "metadata": {},
   "source": [
    "Проверяем выбранные параметры на тестовых данных:"
   ]
  },
  {
   "cell_type": "code",
   "execution_count": 91,
   "metadata": {},
   "outputs": [],
   "source": [
    "model_random_forest = RandomForestRegressor(\n",
    "    random_state=12345, \n",
    "    n_estimators=20, \n",
    "    max_depth=20, \n",
    "    min_samples_leaf=2,\n",
    "    n_jobs=-1)"
   ]
  },
  {
   "cell_type": "code",
   "execution_count": 92,
   "metadata": {},
   "outputs": [
    {
     "name": "stdout",
     "output_type": "stream",
     "text": [
      "CPU times: user 17 s, sys: 0 ns, total: 17 s\n",
      "Wall time: 17.1 s\n"
     ]
    }
   ],
   "source": [
    "%%time\n",
    "start = time.time()\n",
    "model_random_forest.fit(features_train, target_train)\n",
    "end = time.time()"
   ]
  },
  {
   "cell_type": "code",
   "execution_count": 93,
   "metadata": {},
   "outputs": [],
   "source": [
    "time_train_forest = exec_time(start,end)"
   ]
  },
  {
   "cell_type": "code",
   "execution_count": 94,
   "metadata": {},
   "outputs": [
    {
     "name": "stdout",
     "output_type": "stream",
     "text": [
      "CPU times: user 584 ms, sys: 0 ns, total: 584 ms\n",
      "Wall time: 595 ms\n"
     ]
    }
   ],
   "source": [
    "%%time\n",
    "start = time.time()\n",
    "predictions_forest = model_random_forest.predict(features_test)\n",
    "end = time.time()"
   ]
  },
  {
   "cell_type": "code",
   "execution_count": 95,
   "metadata": {},
   "outputs": [],
   "source": [
    "time_predict_forest = exec_time(start,end)"
   ]
  },
  {
   "cell_type": "code",
   "execution_count": 96,
   "metadata": {},
   "outputs": [
    {
     "name": "stdout",
     "output_type": "stream",
     "text": [
      "Random forest test RMSE: 1631.38\n"
     ]
    }
   ],
   "source": [
    "rmse_test_forest = round(mean_squared_error(target_test, predictions_forest)**0.5,2)\n",
    "rmse_test_forest\n",
    "print('Random forest test RMSE:',rmse_test_forest)"
   ]
  },
  {
   "cell_type": "markdown",
   "metadata": {},
   "source": [
    "### Дерево решений <a id=\"step_2_2\"></a>"
   ]
  },
  {
   "cell_type": "code",
   "execution_count": 97,
   "metadata": {},
   "outputs": [],
   "source": [
    "model_decision_tree = DecisionTreeRegressor(random_state=12345)"
   ]
  },
  {
   "cell_type": "code",
   "execution_count": 98,
   "metadata": {},
   "outputs": [],
   "source": [
    "decision_tree_param = {'max_depth': [20],  \n",
    "                       'min_samples_leaf': [6],\n",
    "                       'min_samples_split': [2]\n",
    "                      }\n",
    "#кол.-во параметров ограничено вблизи оптимальных значений для экономии времени выполнения кода "
   ]
  },
  {
   "cell_type": "code",
   "execution_count": 99,
   "metadata": {},
   "outputs": [],
   "source": [
    "grid_decision_tree = GridSearchCV(model_decision_tree, decision_tree_param, cv=3, scoring=my_scorer, n_jobs=-1)"
   ]
  },
  {
   "cell_type": "code",
   "execution_count": 100,
   "metadata": {},
   "outputs": [
    {
     "name": "stdout",
     "output_type": "stream",
     "text": [
      "CPU times: user 4.43 s, sys: 0 ns, total: 4.43 s\n",
      "Wall time: 4.46 s\n"
     ]
    },
    {
     "data": {
      "text/plain": [
       "GridSearchCV(cv=3, estimator=DecisionTreeRegressor(random_state=12345),\n",
       "             n_jobs=-1,\n",
       "             param_grid={'max_depth': [20], 'min_samples_leaf': [6],\n",
       "                         'min_samples_split': [2]},\n",
       "             scoring=make_scorer(rmse_calc, greater_is_better=False))"
      ]
     },
     "execution_count": 100,
     "metadata": {},
     "output_type": "execute_result"
    }
   ],
   "source": [
    "%%time\n",
    "grid_decision_tree.fit(features_train, target_train)"
   ]
  },
  {
   "cell_type": "code",
   "execution_count": 101,
   "metadata": {},
   "outputs": [
    {
     "name": "stdout",
     "output_type": "stream",
     "text": [
      "Decision tree train RMSE: 1878.41\n"
     ]
    }
   ],
   "source": [
    "print('Decision tree train RMSE: {:.2f}'.format(abs(grid_decision_tree.best_score_)))"
   ]
  },
  {
   "cell_type": "code",
   "execution_count": 102,
   "metadata": {},
   "outputs": [
    {
     "name": "stdout",
     "output_type": "stream",
     "text": [
      "Decision tree best parameters:  {'max_depth': 20, 'min_samples_leaf': 6, 'min_samples_split': 2}\n"
     ]
    }
   ],
   "source": [
    "print('Decision tree best parameters: ', grid_decision_tree.best_params_)"
   ]
  },
  {
   "cell_type": "markdown",
   "metadata": {},
   "source": [
    "Проверяем предсказания дерева решений на тестовых данных:"
   ]
  },
  {
   "cell_type": "code",
   "execution_count": 103,
   "metadata": {},
   "outputs": [],
   "source": [
    "model_decision_tree = DecisionTreeRegressor(random_state=12345, max_depth=30, min_samples_leaf=6)"
   ]
  },
  {
   "cell_type": "code",
   "execution_count": 104,
   "metadata": {},
   "outputs": [
    {
     "name": "stdout",
     "output_type": "stream",
     "text": [
      "CPU times: user 1.38 s, sys: 0 ns, total: 1.38 s\n",
      "Wall time: 1.4 s\n"
     ]
    }
   ],
   "source": [
    "%%time\n",
    "start = time.time()\n",
    "model_decision_tree.fit(features_train, target_train)\n",
    "end = time.time()"
   ]
  },
  {
   "cell_type": "code",
   "execution_count": 105,
   "metadata": {},
   "outputs": [],
   "source": [
    "time_train_tree = exec_time(start,end)"
   ]
  },
  {
   "cell_type": "code",
   "execution_count": 106,
   "metadata": {},
   "outputs": [
    {
     "name": "stdout",
     "output_type": "stream",
     "text": [
      "CPU times: user 76.9 ms, sys: 0 ns, total: 76.9 ms\n",
      "Wall time: 76 ms\n"
     ]
    }
   ],
   "source": [
    "%%time\n",
    "start = time.time()\n",
    "predictions_tree = model_decision_tree.predict(features_test)\n",
    "end = time.time()"
   ]
  },
  {
   "cell_type": "code",
   "execution_count": 107,
   "metadata": {},
   "outputs": [],
   "source": [
    "time_predict_tree = exec_time(start,end)"
   ]
  },
  {
   "cell_type": "code",
   "execution_count": 108,
   "metadata": {},
   "outputs": [
    {
     "name": "stdout",
     "output_type": "stream",
     "text": [
      "Decision tree test RMSE: 1819.38\n"
     ]
    }
   ],
   "source": [
    "rmse_test_tree = round(mean_squared_error(target_test, predictions_tree)**0.5, 2)\n",
    "print(\"Decision tree test RMSE:\", rmse_test_tree)"
   ]
  },
  {
   "cell_type": "markdown",
   "metadata": {},
   "source": [
    "### LightGBM <a id=\"step_2_4\"></a>"
   ]
  },
  {
   "cell_type": "markdown",
   "metadata": {},
   "source": [
    "Импортируем библиотеку LightGBM:"
   ]
  },
  {
   "cell_type": "code",
   "execution_count": 109,
   "metadata": {},
   "outputs": [],
   "source": [
    "#pip install lightgbm"
   ]
  },
  {
   "cell_type": "code",
   "execution_count": 110,
   "metadata": {},
   "outputs": [],
   "source": [
    "import lightgbm as lgb"
   ]
  },
  {
   "cell_type": "markdown",
   "metadata": {},
   "source": [
    "Приводим данные к формату 'Dataset':"
   ]
  },
  {
   "cell_type": "code",
   "execution_count": 111,
   "metadata": {},
   "outputs": [],
   "source": [
    "categorical = ['VehicleType', 'Gearbox', 'Model', 'FuelType', 'Brand',  'NotRepaired']"
   ]
  },
  {
   "cell_type": "code",
   "execution_count": 112,
   "metadata": {},
   "outputs": [],
   "source": [
    "lgb_train = lgb.Dataset(features_train, target_train, categorical_feature=categorical)"
   ]
  },
  {
   "cell_type": "code",
   "execution_count": 113,
   "metadata": {},
   "outputs": [],
   "source": [
    "lgb_test = lgb.Dataset(features_test, target_test, categorical_feature=categorical)"
   ]
  },
  {
   "cell_type": "markdown",
   "metadata": {},
   "source": [
    "Запускаем LightGBM в GridSearch для поиска оптимальных параметров:"
   ]
  },
  {
   "cell_type": "code",
   "execution_count": 114,
   "metadata": {},
   "outputs": [],
   "source": [
    "gridParams = {\n",
    "    'n_estimators': [100],\n",
    "    'num_leaves': [40], \n",
    "    'max_depth': [20], \n",
    "    'learning_rate': [0.1], \n",
    "    'reg_alpha': [0.05],\n",
    "    'reg_lambda': [0.8]\n",
    "}\n",
    "#кол.-во параметров ограничено вблизи оптимальных значений для экономии времени выполнения кода "
   ]
  },
  {
   "cell_type": "code",
   "execution_count": 115,
   "metadata": {},
   "outputs": [],
   "source": [
    "gbm = lgb.LGBMRegressor(n_jobs=-1)"
   ]
  },
  {
   "cell_type": "code",
   "execution_count": 116,
   "metadata": {},
   "outputs": [],
   "source": [
    "grid_GBM = GridSearchCV(gbm, gridParams, cv=3, scoring=my_scorer, n_jobs=-1)"
   ]
  },
  {
   "cell_type": "code",
   "execution_count": 117,
   "metadata": {
    "scrolled": true
   },
   "outputs": [
    {
     "name": "stdout",
     "output_type": "stream",
     "text": [
      "CPU times: user 31.3 s, sys: 118 ms, total: 31.4 s\n",
      "Wall time: 32 s\n"
     ]
    },
    {
     "data": {
      "text/plain": [
       "GridSearchCV(cv=3, estimator=LGBMRegressor(), n_jobs=-1,\n",
       "             param_grid={'learning_rate': [0.1], 'max_depth': [20],\n",
       "                         'n_estimators': [100], 'num_leaves': [40],\n",
       "                         'reg_alpha': [0.05], 'reg_lambda': [0.8]},\n",
       "             scoring=make_scorer(rmse_calc, greater_is_better=False))"
      ]
     },
     "execution_count": 117,
     "metadata": {},
     "output_type": "execute_result"
    }
   ],
   "source": [
    "%%time\n",
    "grid_GBM.fit(features_train, target_train)"
   ]
  },
  {
   "cell_type": "code",
   "execution_count": 118,
   "metadata": {},
   "outputs": [
    {
     "name": "stdout",
     "output_type": "stream",
     "text": [
      "LightGBM best parameters:  {'learning_rate': 0.1, 'max_depth': 20, 'n_estimators': 100, 'num_leaves': 40, 'reg_alpha': 0.05, 'reg_lambda': 0.8}\n"
     ]
    }
   ],
   "source": [
    "print('LightGBM best parameters: ', grid_GBM.best_params_)"
   ]
  },
  {
   "cell_type": "code",
   "execution_count": 119,
   "metadata": {},
   "outputs": [
    {
     "name": "stdout",
     "output_type": "stream",
     "text": [
      "LightGBM train RMSE: 1742.81\n"
     ]
    }
   ],
   "source": [
    "print('LightGBM train RMSE: {:.2f}'.format(abs(grid_GBM.best_score_)))"
   ]
  },
  {
   "cell_type": "markdown",
   "metadata": {},
   "source": [
    "Обучим модель LightGBM с найденными параметрами и найдем RMSE на тестовых предсказаниях:"
   ]
  },
  {
   "cell_type": "code",
   "execution_count": 120,
   "metadata": {},
   "outputs": [],
   "source": [
    "params = {\n",
    "    'objective': 'regression',\n",
    "    'boosting': 'gbdt',\n",
    "    'metric': 'rmse',\n",
    "    'learning_rate': 0.1,\n",
    "    'early_stopping_round': 10,\n",
    "    'num_iterations': 100,\n",
    "    'max_depth': 20,\n",
    "    'num_leaves': 40,\n",
    "    'reg_alpha': 0.05,\n",
    "    'reg_lambda': 0.8\n",
    "    }"
   ]
  },
  {
   "cell_type": "code",
   "execution_count": 121,
   "metadata": {
    "scrolled": false
   },
   "outputs": [
    {
     "name": "stderr",
     "output_type": "stream",
     "text": [
      "/opt/conda/lib/python3.9/site-packages/lightgbm/engine.py:177: UserWarning: Found `num_iterations` in params. Will use it instead of argument\n",
      "  _log_warning(f\"Found `{alias}` in params. Will use it instead of argument\")\n",
      "/opt/conda/lib/python3.9/site-packages/lightgbm/basic.py:2065: UserWarning: Using categorical_feature in Dataset.\n",
      "  _log_warning('Using categorical_feature in Dataset.')\n",
      "/opt/conda/lib/python3.9/site-packages/lightgbm/engine.py:239: UserWarning: 'verbose_eval' argument is deprecated and will be removed in a future release of LightGBM. Pass 'log_evaluation()' callback via 'callbacks' argument instead.\n",
      "  _log_warning(\"'verbose_eval' argument is deprecated and will be removed in a future release of LightGBM. \"\n"
     ]
    },
    {
     "name": "stdout",
     "output_type": "stream",
     "text": [
      "[LightGBM] [Warning] Auto-choosing col-wise multi-threading, the overhead of testing was 0.190029 seconds.\n",
      "You can set `force_col_wise=true` to remove the overhead.\n",
      "[LightGBM] [Info] Total Bins 825\n",
      "[LightGBM] [Info] Number of data points in the train set: 280646, number of used features: 9\n",
      "[LightGBM] [Info] Start training from score 4493.021126\n"
     ]
    },
    {
     "name": "stderr",
     "output_type": "stream",
     "text": [
      "/opt/conda/lib/python3.9/site-packages/lightgbm/basic.py:1780: UserWarning: Overriding the parameters from Reference Dataset.\n",
      "  _log_warning('Overriding the parameters from Reference Dataset.')\n",
      "/opt/conda/lib/python3.9/site-packages/lightgbm/basic.py:1513: UserWarning: categorical_column in param dict is overridden.\n",
      "  _log_warning(f'{cat_alias} in param dict is overridden.')\n"
     ]
    },
    {
     "name": "stdout",
     "output_type": "stream",
     "text": [
      "CPU times: user 12.4 s, sys: 42.8 ms, total: 12.4 s\n",
      "Wall time: 12.6 s\n"
     ]
    }
   ],
   "source": [
    "%%time\n",
    "start = time.time()\n",
    "gbm = lgb.train(\n",
    "    params, \n",
    "    lgb_train, \n",
    "    valid_sets=lgb_test, \n",
    "    verbose_eval=False\n",
    ")\n",
    "end = time.time()"
   ]
  },
  {
   "cell_type": "code",
   "execution_count": 122,
   "metadata": {},
   "outputs": [],
   "source": [
    "time_train_lgb = exec_time(start,end)"
   ]
  },
  {
   "cell_type": "code",
   "execution_count": 123,
   "metadata": {},
   "outputs": [
    {
     "name": "stdout",
     "output_type": "stream",
     "text": [
      "CPU times: user 1.1 s, sys: 0 ns, total: 1.1 s\n",
      "Wall time: 1.1 s\n"
     ]
    }
   ],
   "source": [
    "%%time\n",
    "start = time.time()\n",
    "lgb_predictions = gbm.predict(features_test, num_iteration=gbm.best_iteration)\n",
    "end = time.time()"
   ]
  },
  {
   "cell_type": "code",
   "execution_count": 124,
   "metadata": {},
   "outputs": [],
   "source": [
    "time_predict_lgb = exec_time(start,end)"
   ]
  },
  {
   "cell_type": "code",
   "execution_count": 125,
   "metadata": {},
   "outputs": [
    {
     "name": "stdout",
     "output_type": "stream",
     "text": [
      "LightGBM test RMSE: 1657.3\n"
     ]
    }
   ],
   "source": [
    "rmse_test_lgb = round(mean_squared_error(target_test, lgb_predictions) ** 0.5, 2)\n",
    "print('LightGBM test RMSE:', rmse_test_lgb)"
   ]
  },
  {
   "cell_type": "markdown",
   "metadata": {},
   "source": [
    "### CatBoost <a id=\"step_2_5\"></a>"
   ]
  },
  {
   "cell_type": "markdown",
   "metadata": {},
   "source": [
    "Импортируем библиотеку:"
   ]
  },
  {
   "cell_type": "code",
   "execution_count": 126,
   "metadata": {},
   "outputs": [],
   "source": [
    "#pip install catboost"
   ]
  },
  {
   "cell_type": "code",
   "execution_count": 127,
   "metadata": {},
   "outputs": [],
   "source": [
    "from catboost import CatBoostRegressor"
   ]
  },
  {
   "cell_type": "markdown",
   "metadata": {},
   "source": [
    "Находим наилучшие параметры через GridSearch:"
   ]
  },
  {
   "cell_type": "code",
   "execution_count": 128,
   "metadata": {},
   "outputs": [],
   "source": [
    "gridParams = {\n",
    "    'depth': [12],\n",
    "    'iterations': [100] \n",
    "}\n",
    "#кол.-во параметров ограничено вблизи оптимальных значений для экономии времени выполнения кода "
   ]
  },
  {
   "cell_type": "code",
   "execution_count": 129,
   "metadata": {},
   "outputs": [],
   "source": [
    "model_catboost = CatBoostRegressor(\n",
    "                          verbose=False,\n",
    "                          cat_features=categorical,\n",
    "                          early_stopping_rounds=10\n",
    "                          )"
   ]
  },
  {
   "cell_type": "code",
   "execution_count": 130,
   "metadata": {},
   "outputs": [],
   "source": [
    "grid_catboost =  GridSearchCV(model_catboost, gridParams, cv=3, scoring=my_scorer, n_jobs=-1)"
   ]
  },
  {
   "cell_type": "code",
   "execution_count": 131,
   "metadata": {},
   "outputs": [
    {
     "name": "stdout",
     "output_type": "stream",
     "text": [
      "CPU times: user 2min 37s, sys: 140 ms, total: 2min 37s\n",
      "Wall time: 2min 42s\n"
     ]
    },
    {
     "data": {
      "text/plain": [
       "GridSearchCV(cv=3,\n",
       "             estimator=<catboost.core.CatBoostRegressor object at 0x7fca2f6fafd0>,\n",
       "             n_jobs=-1, param_grid={'depth': [12], 'iterations': [100]},\n",
       "             scoring=make_scorer(rmse_calc, greater_is_better=False))"
      ]
     },
     "execution_count": 131,
     "metadata": {},
     "output_type": "execute_result"
    }
   ],
   "source": [
    "%%time\n",
    "grid_catboost.fit(features_train, target_train)"
   ]
  },
  {
   "cell_type": "code",
   "execution_count": 132,
   "metadata": {},
   "outputs": [
    {
     "name": "stdout",
     "output_type": "stream",
     "text": [
      "CatBoost best parameters:  {'depth': 12, 'iterations': 100}\n"
     ]
    }
   ],
   "source": [
    "print('CatBoost best parameters: ', grid_catboost.best_params_)"
   ]
  },
  {
   "cell_type": "code",
   "execution_count": 133,
   "metadata": {},
   "outputs": [
    {
     "name": "stdout",
     "output_type": "stream",
     "text": [
      "CatBoost train RMSE: 1669.42\n"
     ]
    }
   ],
   "source": [
    "print('CatBoost train RMSE: {:.2f}'.format(abs(grid_catboost.best_score_)))"
   ]
  },
  {
   "cell_type": "markdown",
   "metadata": {},
   "source": [
    "Проверяем найденные параметры на тестовых данных:"
   ]
  },
  {
   "cell_type": "code",
   "execution_count": 134,
   "metadata": {},
   "outputs": [],
   "source": [
    "model_catboost = CatBoostRegressor(\n",
    "                          iterations=100, \n",
    "                          depth=12, \n",
    "                          loss_function='RMSE',\n",
    "                          verbose=False)"
   ]
  },
  {
   "cell_type": "code",
   "execution_count": 135,
   "metadata": {},
   "outputs": [
    {
     "name": "stdout",
     "output_type": "stream",
     "text": [
      "CPU times: user 25.4 s, sys: 10.5 ms, total: 25.4 s\n",
      "Wall time: 26.7 s\n"
     ]
    }
   ],
   "source": [
    "%%time\n",
    "start = time.time()\n",
    "model_catboost.fit(features_train, target_train)\n",
    "end = time.time()"
   ]
  },
  {
   "cell_type": "code",
   "execution_count": 136,
   "metadata": {},
   "outputs": [],
   "source": [
    "time_train_catboost = exec_time(start,end)"
   ]
  },
  {
   "cell_type": "code",
   "execution_count": 137,
   "metadata": {},
   "outputs": [],
   "source": [
    "start = time.time()\n",
    "predictions_catboost = model_catboost.predict(features_test)\n",
    "end = time.time()"
   ]
  },
  {
   "cell_type": "code",
   "execution_count": 138,
   "metadata": {},
   "outputs": [],
   "source": [
    "time_predict_catboost = exec_time(start,end)"
   ]
  },
  {
   "cell_type": "code",
   "execution_count": 139,
   "metadata": {},
   "outputs": [
    {
     "name": "stdout",
     "output_type": "stream",
     "text": [
      "CatBoost test RMSE: 1626.81\n"
     ]
    }
   ],
   "source": [
    "rmse_test_catboost = round(mean_squared_error(target_test, predictions_catboost) ** 0.5, 2)\n",
    "print('CatBoost test RMSE:', rmse_test_catboost)"
   ]
  },
  {
   "cell_type": "markdown",
   "metadata": {},
   "source": [
    "### Вывод"
   ]
  },
  {
   "cell_type": "markdown",
   "metadata": {},
   "source": [
    "На данном этапе было проведено обучение моделей случайного леса, дерева решений, линейной регрессии, LightGBM, CatBoost с помощью GridsearchCV на тренировочных данных, которые составляют 80% исходного набора данных. Обучение проведено при folds равным 3, найдены оптимальные параметры по соотношению минимального RMSE и времени обучения. Далее были получены предсказания и вычислена метрика RMSE на тестовых данных."
   ]
  },
  {
   "cell_type": "markdown",
   "metadata": {},
   "source": [
    "## Анализ моделей <a id=\"step_3\"></a>"
   ]
  },
  {
   "cell_type": "markdown",
   "metadata": {},
   "source": [
    "Создадим таблицу с результатами работы моделей и заполним её:"
   ]
  },
  {
   "cell_type": "code",
   "execution_count": 140,
   "metadata": {},
   "outputs": [],
   "source": [
    "model_results = pd.DataFrame(\n",
    "    columns=['best_score_train', 'best_score_test', 'learning_time', 'prediction_time'], \n",
    "    index=['linear', 'decision_tree', 'random_forest', 'LightGBM', 'CatBoost'])"
   ]
  },
  {
   "cell_type": "code",
   "execution_count": 141,
   "metadata": {},
   "outputs": [],
   "source": [
    "model_results.loc['linear', 'best_score_train'] = round(abs(grid_linear.best_score_))\n",
    "model_results.loc['decision_tree', 'best_score_train'] = round(abs(grid_decision_tree.best_score_))\n",
    "model_results.loc['random_forest', 'best_score_train'] = round(abs(grid_random_forest.best_score_))\n",
    "model_results.loc['LightGBM', 'best_score_train'] = round(abs(grid_GBM.best_score_))\n",
    "model_results.loc['CatBoost', 'best_score_train'] = round(abs(grid_catboost.best_score_))\n",
    "\n",
    "model_results.loc['linear', 'best_score_test'] = round(rmse_test_linear)\n",
    "model_results.loc['decision_tree', 'best_score_test'] = round(rmse_test_tree)\n",
    "model_results.loc['random_forest', 'best_score_test'] = round(rmse_test_forest)\n",
    "model_results.loc['LightGBM', 'best_score_test'] = round(rmse_test_lgb)\n",
    "model_results.loc['CatBoost', 'best_score_test'] = round(rmse_test_catboost)\n",
    "\n",
    "model_results.loc['linear', 'learning_time'] = time_train_linear\n",
    "model_results.loc['decision_tree', 'learning_time'] = time_train_tree\n",
    "model_results.loc['random_forest', 'learning_time'] = time_train_forest\n",
    "model_results.loc['LightGBM', 'learning_time'] = time_train_lgb\n",
    "model_results.loc['CatBoost', 'learning_time'] = time_train_catboost\n",
    "\n",
    "model_results.loc['linear', 'prediction_time'] = time_predict_linear\n",
    "model_results.loc['decision_tree', 'prediction_time'] = time_predict_tree\n",
    "model_results.loc['random_forest', 'prediction_time'] = time_predict_forest\n",
    "model_results.loc['LightGBM', 'prediction_time'] = time_predict_lgb\n",
    "model_results.loc['CatBoost', 'prediction_time'] = time_predict_catboost"
   ]
  },
  {
   "cell_type": "code",
   "execution_count": 142,
   "metadata": {
    "scrolled": true
   },
   "outputs": [],
   "source": [
    "#model_results"
   ]
  },
  {
   "cell_type": "markdown",
   "metadata": {},
   "source": [
    "Построим диаграммы по данной таблице:"
   ]
  },
  {
   "cell_type": "code",
   "execution_count": 143,
   "metadata": {},
   "outputs": [
    {
     "data": {
      "image/png": "[encoded data removed]",
      "text/plain": [
       "<Figure size 504x288 with 1 Axes>"
      ]
     },
     "metadata": {
      "needs_background": "light"
     },
     "output_type": "display_data"
    },
    {
     "data": {
      "image/png": "[encoded data removed]",
      "text/plain": [
       "<Figure size 504x288 with 1 Axes>"
      ]
     },
     "metadata": {
      "needs_background": "light"
     },
     "output_type": "display_data"
    }
   ],
   "source": [
    "ax = model_results['best_score_train'].sort_values(ascending=False).plot(kind='bar', rot=0, figsize=(7,4))\n",
    "ax.set_ylabel('Наименьший RMSE')\n",
    "ax.set_xlabel('\\n Модель')\n",
    "ax.set_title('Полученные значения наилучших RMSE моделей на тренировочной выборке \\n')\n",
    "ax.set_ylim(0,round(1.2*max(model_results.loc[:,'best_score_train'])))\n",
    "for i, model in enumerate(model_results['best_score_train'].sort_values(ascending=False).index):\n",
    "    ax.text(\n",
    "        i, model_results.loc[model,'best_score_train']+0.05*max(model_results.loc[:,'best_score_train']), \n",
    "        int(model_results.loc[model,'best_score_train']), \n",
    "        horizontalalignment='center')\n",
    "plt.show()\n",
    "\n",
    "ax = model_results['best_score_test'].sort_values(ascending=False).plot(kind='bar', rot=0, figsize=(7,4))\n",
    "ax.set_ylabel('Наименьший RMSE')\n",
    "ax.set_xlabel('\\n Модель')\n",
    "ax.set_title('Полученные значения наилучших RMSE моделей на тестовой выборке \\n')\n",
    "ax.set_ylim(0,round(1.2*max(model_results.loc[:,'best_score_test'])))\n",
    "for i, model in enumerate(model_results['best_score_test'].sort_values(ascending=False).index):\n",
    "    ax.text(\n",
    "        i, model_results.loc[model,'best_score_test']+0.05*max(model_results.loc[:,'best_score_test']), \n",
    "        int(model_results.loc[model,'best_score_test']), \n",
    "        horizontalalignment='center')  \n",
    "plt.show()"
   ]
  },
  {
   "cell_type": "markdown",
   "metadata": {},
   "source": [
    "На тренировочных данных лучший результат RMSE у LightGBM, CatBoost, Random Forest. На тестовых данных лучший результат RMSE у LightGBM, Random Forest, Decision Tree."
   ]
  },
  {
   "cell_type": "code",
   "execution_count": 144,
   "metadata": {},
   "outputs": [
    {
     "data": {
      "image/png": "[encoded data removed]",
      "text/plain": [
       "<Figure size 504x288 with 1 Axes>"
      ]
     },
     "metadata": {
      "needs_background": "light"
     },
     "output_type": "display_data"
    },
    {
     "data": {
      "image/png": "[encoded data removed]",
      "text/plain": [
       "<Figure size 504x288 with 1 Axes>"
      ]
     },
     "metadata": {
      "needs_background": "light"
     },
     "output_type": "display_data"
    }
   ],
   "source": [
    "ax = model_results['learning_time'].sort_values(ascending=False).plot(kind='bar', rot=0, figsize=(7,4))\n",
    "ax.set_ylabel('Время обучения, с')\n",
    "ax.set_xlabel('\\n Модель')\n",
    "ax.set_title('Время обучения моделей')\n",
    "ax.set_ylim(0,round(1.2*max(model_results.loc[:,'learning_time'])))\n",
    "for i, model in enumerate(model_results['learning_time'].sort_values(ascending=False).index):\n",
    "    ax.text(\n",
    "        i, model_results.loc[model,'learning_time']+0.05*max(model_results.loc[:,'learning_time']), \n",
    "        model_results.loc[model,'learning_time'], \n",
    "        horizontalalignment='center')  \n",
    "plt.show()\n",
    "\n",
    "ax = model_results['prediction_time'].sort_values(ascending=False).plot(kind='bar', rot=0, figsize=(7,4))\n",
    "ax.set_ylabel('Время предсказания, с')\n",
    "ax.set_xlabel('\\n Модель')\n",
    "ax.set_title('Время предсказания моделей')\n",
    "ax.set_ylim(0,round(1.2*max(model_results.loc[:,'prediction_time']),1))\n",
    "\n",
    "for i, model in enumerate(model_results['prediction_time'].sort_values(ascending=False).index):\n",
    "    ax.text(\n",
    "        i, model_results.loc[model,'prediction_time']+0.05*max(model_results.loc[:,'prediction_time']), \n",
    "        model_results.loc[model,'prediction_time'], \n",
    "        horizontalalignment='center')\n",
    "plt.show()"
   ]
  },
  {
   "cell_type": "markdown",
   "metadata": {},
   "source": [
    "Во времени обучения на тренировочных данных лидируют LightGBM, Decision Tree, Random Forest. Быстрее всего предсказывает на тестовых данных CatBoost, Decision Tree, Random Forest медленнее - Linear и LightGBM."
   ]
  },
  {
   "cell_type": "markdown",
   "metadata": {},
   "source": [
    "### Вывод"
   ]
  },
  {
   "cell_type": "markdown",
   "metadata": {},
   "source": [
    "На данном этапе на тренировочных и тестовых данных было проанализировано время обучения, а также значения метрики RMSE. Лучшие по качеству RMSE предсказания дают модели CatBoost, LightGBM, Random Forest. Время же обучения для CatBoost в несколько раз больше, чем у LightGBM, Random Forest. Несмотря на относительно высокое значение времени предсказания для LightGBM по сравнению с другими моделями, значение времени предсказания порядка 1 с для выборки из более 70000 записей будем считать приемлемым для практического применения.  Поэтому для рассматриваемого сервиса \"Не бит, не крашен\" возможно использовать Decision Tree для лучшего времени обучения и среднего по качеству предсказания, либо же использовать Random Forest или LightGBM для лучшей точности и чуть более худших показателей времени обучения и предсказания."
   ]
  },
  {
   "cell_type": "markdown",
   "metadata": {},
   "source": [
    "## Чек-лист проверки <a id=\"checklist\"></a>"
   ]
  },
  {
   "cell_type": "markdown",
   "metadata": {},
   "source": [
    "- [x]  Весь код выполняется без ошибок\n",
    "- [x]  Ячейки с кодом расположены в порядке исполнения\n",
    "- [x]  Выполнена загрузка и подготовка данных\n",
    "- [x]  Выполнено обучение моделей\n",
    "- [x]  Есть анализ скорости работы и качества моделей"
   ]
  }
 ],
 "metadata": {
  "ExecuteTimeLog": [
   {
    "duration": 4063,
    "start_time": "2022-04-22T06:14:06.962Z"
   },
   {
    "duration": 5017,
    "start_time": "2022-04-22T06:14:11.028Z"
   },
   {
    "duration": 378,
    "start_time": "2022-04-22T06:14:16.048Z"
   },
   {
    "duration": 28,
    "start_time": "2022-04-22T06:14:16.430Z"
   },
   {
    "duration": 302,
    "start_time": "2022-04-22T06:14:16.460Z"
   },
   {
    "duration": 1585,
    "start_time": "2022-04-22T06:14:16.764Z"
   },
   {
    "duration": 1608,
    "start_time": "2022-04-22T06:14:18.351Z"
   },
   {
    "duration": 87,
    "start_time": "2022-04-22T06:14:19.962Z"
   },
   {
    "duration": 91,
    "start_time": "2022-04-22T06:14:20.052Z"
   },
   {
    "duration": 95,
    "start_time": "2022-04-22T06:14:20.148Z"
   },
   {
    "duration": 84,
    "start_time": "2022-04-22T06:14:20.245Z"
   },
   {
    "duration": 92,
    "start_time": "2022-04-22T06:14:20.332Z"
   },
   {
    "duration": 108,
    "start_time": "2022-04-22T06:14:20.426Z"
   },
   {
    "duration": 407,
    "start_time": "2022-04-22T06:14:20.536Z"
   },
   {
    "duration": 153679,
    "start_time": "2022-04-22T06:14:20.946Z"
   },
   {
    "duration": 1317,
    "start_time": "2022-04-22T06:16:54.627Z"
   },
   {
    "duration": 107,
    "start_time": "2022-04-22T06:16:55.946Z"
   },
   {
    "duration": 102,
    "start_time": "2022-04-22T06:16:56.055Z"
   },
   {
    "duration": 106,
    "start_time": "2022-04-22T06:16:56.159Z"
   },
   {
    "duration": 63,
    "start_time": "2022-04-22T06:16:56.268Z"
   },
   {
    "duration": 92,
    "start_time": "2022-04-22T06:16:56.334Z"
   },
   {
    "duration": 98,
    "start_time": "2022-04-22T06:16:56.429Z"
   },
   {
    "duration": 33,
    "start_time": "2022-04-22T06:16:56.530Z"
   },
   {
    "duration": 201,
    "start_time": "2022-04-22T06:16:56.626Z"
   },
   {
    "duration": 822,
    "start_time": "2022-04-22T06:16:56.830Z"
   },
   {
    "duration": 393,
    "start_time": "2022-04-22T06:16:57.654Z"
   },
   {
    "duration": 813,
    "start_time": "2022-04-22T06:16:58.050Z"
   },
   {
    "duration": 757,
    "start_time": "2022-04-22T06:16:58.869Z"
   },
   {
    "duration": 25,
    "start_time": "2022-04-22T06:16:59.629Z"
   },
   {
    "duration": 75,
    "start_time": "2022-04-22T06:16:59.656Z"
   },
   {
    "duration": 9,
    "start_time": "2022-04-22T06:16:59.734Z"
   },
   {
    "duration": 86,
    "start_time": "2022-04-22T06:16:59.745Z"
   },
   {
    "duration": 837,
    "start_time": "2022-04-22T06:16:59.834Z"
   },
   {
    "duration": 485,
    "start_time": "2022-04-22T06:17:00.673Z"
   },
   {
    "duration": 1110,
    "start_time": "2022-04-22T06:17:01.160Z"
   },
   {
    "duration": 33,
    "start_time": "2022-04-22T06:17:02.272Z"
   },
   {
    "duration": 30,
    "start_time": "2022-04-22T06:17:02.307Z"
   },
   {
    "duration": 22,
    "start_time": "2022-04-22T06:17:02.339Z"
   },
   {
    "duration": 18,
    "start_time": "2022-04-22T06:17:02.363Z"
   },
   {
    "duration": 211,
    "start_time": "2022-04-22T06:17:02.383Z"
   },
   {
    "duration": 29,
    "start_time": "2022-04-22T06:17:02.597Z"
   },
   {
    "duration": 111,
    "start_time": "2022-04-22T06:17:02.629Z"
   },
   {
    "duration": 19,
    "start_time": "2022-04-22T06:17:02.743Z"
   },
   {
    "duration": 25,
    "start_time": "2022-04-22T06:17:02.764Z"
   },
   {
    "duration": 46,
    "start_time": "2022-04-22T06:17:02.791Z"
   },
   {
    "duration": 39,
    "start_time": "2022-04-22T06:17:02.839Z"
   },
   {
    "duration": 58,
    "start_time": "2022-04-22T06:17:02.880Z"
   },
   {
    "duration": 4,
    "start_time": "2022-04-22T06:17:02.940Z"
   },
   {
    "duration": 2415,
    "start_time": "2022-04-22T06:17:02.947Z"
   },
   {
    "duration": 90,
    "start_time": "2022-04-22T06:17:05.365Z"
   },
   {
    "duration": 283,
    "start_time": "2022-04-22T06:17:05.457Z"
   },
   {
    "duration": 5,
    "start_time": "2022-04-22T06:17:05.743Z"
   },
   {
    "duration": 685,
    "start_time": "2022-04-22T06:17:05.751Z"
   },
   {
    "duration": 3,
    "start_time": "2022-04-22T06:17:06.439Z"
   },
   {
    "duration": 27,
    "start_time": "2022-04-22T06:17:06.445Z"
   },
   {
    "duration": 201,
    "start_time": "2022-04-22T06:17:06.474Z"
   },
   {
    "duration": 81,
    "start_time": "2022-04-22T06:17:06.678Z"
   },
   {
    "duration": 5,
    "start_time": "2022-04-22T06:17:06.762Z"
   },
   {
    "duration": 65,
    "start_time": "2022-04-22T06:17:06.770Z"
   },
   {
    "duration": 71,
    "start_time": "2022-04-22T06:17:06.838Z"
   },
   {
    "duration": 9,
    "start_time": "2022-04-22T06:17:06.912Z"
   },
   {
    "duration": 44,
    "start_time": "2022-04-22T06:17:06.924Z"
   },
   {
    "duration": 128466,
    "start_time": "2022-04-22T06:17:06.971Z"
   },
   {
    "duration": 12,
    "start_time": "2022-04-22T06:19:15.439Z"
   },
   {
    "duration": 9,
    "start_time": "2022-04-22T06:19:15.453Z"
   },
   {
    "duration": 4,
    "start_time": "2022-04-22T06:19:15.525Z"
   },
   {
    "duration": 40195,
    "start_time": "2022-04-22T06:19:15.531Z"
   },
   {
    "duration": 4,
    "start_time": "2022-04-22T06:19:55.728Z"
   },
   {
    "duration": 1991,
    "start_time": "2022-04-22T06:19:55.735Z"
   },
   {
    "duration": 5,
    "start_time": "2022-04-22T06:19:57.729Z"
   },
   {
    "duration": 9,
    "start_time": "2022-04-22T06:19:57.826Z"
   },
   {
    "duration": 4,
    "start_time": "2022-04-22T06:19:57.838Z"
   },
   {
    "duration": 174,
    "start_time": "2022-04-22T06:19:57.845Z"
   },
   {
    "duration": 148,
    "start_time": "2022-04-22T06:19:58.022Z"
   },
   {
    "duration": 158,
    "start_time": "2022-04-22T06:19:58.173Z"
   },
   {
    "duration": 155,
    "start_time": "2022-04-22T06:19:58.333Z"
   },
   {
    "duration": 154,
    "start_time": "2022-04-22T06:19:58.491Z"
   },
   {
    "duration": 24,
    "start_time": "2022-04-22T06:19:58.648Z"
   },
   {
    "duration": 5,
    "start_time": "2022-04-22T06:19:58.674Z"
   },
   {
    "duration": 91,
    "start_time": "2022-04-22T06:19:58.681Z"
   },
   {
    "duration": 4,
    "start_time": "2022-04-22T06:19:58.775Z"
   },
   {
    "duration": 46,
    "start_time": "2022-04-22T06:19:58.793Z"
   },
   {
    "duration": 203,
    "start_time": "2022-04-22T06:19:58.842Z"
   },
   {
    "duration": 54,
    "start_time": "2022-04-22T06:19:59.047Z"
   },
   {
    "duration": 20,
    "start_time": "2022-04-22T06:19:59.104Z"
   },
   {
    "duration": 8,
    "start_time": "2022-04-22T06:19:59.127Z"
   },
   {
    "duration": 7,
    "start_time": "2022-04-22T06:19:59.137Z"
   },
   {
    "duration": 52306,
    "start_time": "2022-04-22T06:19:59.146Z"
   },
   {
    "duration": 5,
    "start_time": "2022-04-22T06:20:51.454Z"
   },
   {
    "duration": 7,
    "start_time": "2022-04-22T06:20:51.461Z"
   },
   {
    "duration": 7,
    "start_time": "2022-04-22T06:20:51.470Z"
   },
   {
    "duration": 17127,
    "start_time": "2022-04-22T06:20:51.480Z"
   },
   {
    "duration": 4,
    "start_time": "2022-04-22T06:21:08.609Z"
   },
   {
    "duration": 602,
    "start_time": "2022-04-22T06:21:08.624Z"
   },
   {
    "duration": 4,
    "start_time": "2022-04-22T06:21:09.228Z"
   },
   {
    "duration": 12,
    "start_time": "2022-04-22T06:21:09.234Z"
   },
   {
    "duration": 11,
    "start_time": "2022-04-22T06:21:09.248Z"
   },
   {
    "duration": 9,
    "start_time": "2022-04-22T06:21:09.261Z"
   },
   {
    "duration": 13,
    "start_time": "2022-04-22T06:21:09.272Z"
   },
   {
    "duration": 4470,
    "start_time": "2022-04-22T06:21:09.287Z"
   },
   {
    "duration": 4,
    "start_time": "2022-04-22T06:21:13.759Z"
   },
   {
    "duration": 13,
    "start_time": "2022-04-22T06:21:13.765Z"
   },
   {
    "duration": 7,
    "start_time": "2022-04-22T06:21:13.780Z"
   },
   {
    "duration": 1408,
    "start_time": "2022-04-22T06:21:13.789Z"
   },
   {
    "duration": 4,
    "start_time": "2022-04-22T06:21:15.199Z"
   },
   {
    "duration": 97,
    "start_time": "2022-04-22T06:21:15.205Z"
   },
   {
    "duration": 4,
    "start_time": "2022-04-22T06:21:15.304Z"
   },
   {
    "duration": 19,
    "start_time": "2022-04-22T06:21:15.310Z"
   },
   {
    "duration": 4,
    "start_time": "2022-04-22T06:21:15.331Z"
   },
   {
    "duration": 39,
    "start_time": "2022-04-22T06:21:15.337Z"
   },
   {
    "duration": 3,
    "start_time": "2022-04-22T06:21:15.379Z"
   },
   {
    "duration": 9,
    "start_time": "2022-04-22T06:21:15.384Z"
   },
   {
    "duration": 30,
    "start_time": "2022-04-22T06:21:15.395Z"
   },
   {
    "duration": 7,
    "start_time": "2022-04-22T06:21:15.427Z"
   },
   {
    "duration": 8,
    "start_time": "2022-04-22T06:21:15.436Z"
   },
   {
    "duration": 7,
    "start_time": "2022-04-22T06:21:15.446Z"
   },
   {
    "duration": 32072,
    "start_time": "2022-04-22T06:21:15.455Z"
   },
   {
    "duration": 4,
    "start_time": "2022-04-22T06:21:47.529Z"
   },
   {
    "duration": 7,
    "start_time": "2022-04-22T06:21:47.535Z"
   },
   {
    "duration": 7,
    "start_time": "2022-04-22T06:21:47.544Z"
   },
   {
    "duration": 12581,
    "start_time": "2022-04-22T06:21:47.553Z"
   },
   {
    "duration": 4,
    "start_time": "2022-04-22T06:22:00.136Z"
   },
   {
    "duration": 1187,
    "start_time": "2022-04-22T06:22:00.142Z"
   },
   {
    "duration": 4,
    "start_time": "2022-04-22T06:22:01.331Z"
   },
   {
    "duration": 17,
    "start_time": "2022-04-22T06:22:01.337Z"
   },
   {
    "duration": 11,
    "start_time": "2022-04-22T06:22:01.357Z"
   },
   {
    "duration": 105,
    "start_time": "2022-04-22T06:22:01.370Z"
   },
   {
    "duration": 3,
    "start_time": "2022-04-22T06:22:01.478Z"
   },
   {
    "duration": 18,
    "start_time": "2022-04-22T06:22:01.483Z"
   },
   {
    "duration": 12,
    "start_time": "2022-04-22T06:22:01.504Z"
   },
   {
    "duration": 162515,
    "start_time": "2022-04-22T06:22:01.518Z"
   },
   {
    "duration": 5,
    "start_time": "2022-04-22T06:24:44.035Z"
   },
   {
    "duration": 8,
    "start_time": "2022-04-22T06:24:44.042Z"
   },
   {
    "duration": 8,
    "start_time": "2022-04-22T06:24:44.052Z"
   },
   {
    "duration": 26676,
    "start_time": "2022-04-22T06:24:44.062Z"
   },
   {
    "duration": 4,
    "start_time": "2022-04-22T06:25:10.742Z"
   },
   {
    "duration": 123,
    "start_time": "2022-04-22T06:25:10.749Z"
   },
   {
    "duration": 4,
    "start_time": "2022-04-22T06:25:10.874Z"
   },
   {
    "duration": 15,
    "start_time": "2022-04-22T06:25:10.881Z"
   },
   {
    "duration": 22,
    "start_time": "2022-04-22T06:25:10.899Z"
   },
   {
    "duration": 20,
    "start_time": "2022-04-22T06:25:10.925Z"
   },
   {
    "duration": 63,
    "start_time": "2022-04-22T06:25:10.948Z"
   },
   {
    "duration": 482,
    "start_time": "2022-04-22T06:25:11.014Z"
   },
   {
    "duration": 437,
    "start_time": "2022-04-22T06:25:11.498Z"
   }
  ],
  "kernelspec": {
   "display_name": "Python 3",
   "language": "python",
   "name": "python3"
  },
  "language_info": {
   "codemirror_mode": {
    "name": "ipython",
    "version": 3
   },
   "file_extension": ".py",
   "mimetype": "text/x-python",
   "name": "python",
   "nbconvert_exporter": "python",
   "pygments_lexer": "ipython3",
   "version": "3.7.8"
  },
  "toc": {
   "base_numbering": 1,
   "nav_menu": {
    "height": "290px",
    "width": "269px"
   },
   "number_sections": true,
   "sideBar": true,
   "skip_h1_title": true,
   "title_cell": "Table of Contents",
   "title_sidebar": "Contents",
   "toc_cell": false,
   "toc_position": {},
   "toc_section_display": true,
   "toc_window_display": false
  }
 },
 "nbformat": 4,
 "nbformat_minor": 2
}
