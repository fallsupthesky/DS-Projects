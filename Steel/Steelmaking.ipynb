{
 "cells": [
  {
   "cell_type": "markdown",
   "metadata": {},
   "source": [
    "# Оптимизация производственных расходов металлургического комбината"
   ]
  },
  {
   "cell_type": "markdown",
   "metadata": {},
   "source": [
    "## Исследовательский анализ данных"
   ]
  },
  {
   "cell_type": "code",
   "execution_count": 1,
   "metadata": {},
   "outputs": [],
   "source": [
    "import pandas as pd\n",
    "import numpy as np\n",
    "import matplotlib.pyplot as plt\n",
    "pd.set_option('display.max_columns', None)\n",
    "from sklearn.metrics import mean_absolute_error\n",
    "from sklearn.preprocessing import StandardScaler\n",
    "from sklearn.model_selection import train_test_split\n",
    "from sklearn.linear_model import LinearRegression\n",
    "from sklearn.metrics import mean_squared_error\n",
    "from sklearn.metrics import mean_absolute_error\n",
    "from sklearn.model_selection import cross_val_score\n",
    "from sklearn.metrics import make_scorer\n",
    "from sklearn.model_selection import GridSearchCV\n",
    "from sklearn.ensemble import RandomForestRegressor\n",
    "from sklearn.tree import DecisionTreeRegressor\n",
    "import lightgbm as lgb\n",
    "from catboost import CatBoostRegressor\n",
    "import seaborn as sns"
   ]
  },
  {
   "cell_type": "markdown",
   "metadata": {},
   "source": [
    "Посмотрим содержимое каждого файла и изучим статистику данных."
   ]
  },
  {
   "cell_type": "markdown",
   "metadata": {},
   "source": [
    "- Файл с данными измерения температуры \"data_temp.csv\""
   ]
  },
  {
   "cell_type": "code",
   "execution_count": 2,
   "metadata": {},
   "outputs": [],
   "source": [
    "data_temp = pd.read_csv('/datasets/final_steel/data_temp.csv')"
   ]
  },
  {
   "cell_type": "code",
   "execution_count": 3,
   "metadata": {},
   "outputs": [
    {
     "name": "stdout",
     "output_type": "stream",
     "text": [
      "<class 'pandas.core.frame.DataFrame'>\n",
      "RangeIndex: 15907 entries, 0 to 15906\n",
      "Data columns (total 3 columns):\n",
      "key             15907 non-null int64\n",
      "Время замера    15907 non-null object\n",
      "Температура     13006 non-null float64\n",
      "dtypes: float64(1), int64(1), object(1)\n",
      "memory usage: 372.9+ KB\n"
     ]
    }
   ],
   "source": [
    "data_temp.info()"
   ]
  },
  {
   "cell_type": "markdown",
   "metadata": {},
   "source": [
    "Всего имеется 15907 записей. Пропущенные значения присутствуют в столбце \"Температура\". \n",
    "\n",
    "Посмотрим на данные:"
   ]
  },
  {
   "cell_type": "code",
   "execution_count": 4,
   "metadata": {},
   "outputs": [
    {
     "data": {
      "text/html": [
       "<div>\n",
       "<style scoped>\n",
       "    .dataframe tbody tr th:only-of-type {\n",
       "        vertical-align: middle;\n",
       "    }\n",
       "\n",
       "    .dataframe tbody tr th {\n",
       "        vertical-align: top;\n",
       "    }\n",
       "\n",
       "    .dataframe thead th {\n",
       "        text-align: right;\n",
       "    }\n",
       "</style>\n",
       "<table border=\"1\" class=\"dataframe\">\n",
       "  <thead>\n",
       "    <tr style=\"text-align: right;\">\n",
       "      <th></th>\n",
       "      <th>key</th>\n",
       "      <th>Время замера</th>\n",
       "      <th>Температура</th>\n",
       "    </tr>\n",
       "  </thead>\n",
       "  <tbody>\n",
       "    <tr>\n",
       "      <td>0</td>\n",
       "      <td>1</td>\n",
       "      <td>2019-05-03 11:16:18</td>\n",
       "      <td>1571.0</td>\n",
       "    </tr>\n",
       "    <tr>\n",
       "      <td>1</td>\n",
       "      <td>1</td>\n",
       "      <td>2019-05-03 11:25:53</td>\n",
       "      <td>1604.0</td>\n",
       "    </tr>\n",
       "    <tr>\n",
       "      <td>2</td>\n",
       "      <td>1</td>\n",
       "      <td>2019-05-03 11:29:11</td>\n",
       "      <td>1618.0</td>\n",
       "    </tr>\n",
       "    <tr>\n",
       "      <td>3</td>\n",
       "      <td>1</td>\n",
       "      <td>2019-05-03 11:30:01</td>\n",
       "      <td>1601.0</td>\n",
       "    </tr>\n",
       "    <tr>\n",
       "      <td>4</td>\n",
       "      <td>1</td>\n",
       "      <td>2019-05-03 11:30:39</td>\n",
       "      <td>1613.0</td>\n",
       "    </tr>\n",
       "    <tr>\n",
       "      <td>5</td>\n",
       "      <td>2</td>\n",
       "      <td>2019-05-03 11:37:27</td>\n",
       "      <td>1581.0</td>\n",
       "    </tr>\n",
       "    <tr>\n",
       "      <td>6</td>\n",
       "      <td>2</td>\n",
       "      <td>2019-05-03 11:38:00</td>\n",
       "      <td>1577.0</td>\n",
       "    </tr>\n",
       "    <tr>\n",
       "      <td>7</td>\n",
       "      <td>2</td>\n",
       "      <td>2019-05-03 11:49:38</td>\n",
       "      <td>1589.0</td>\n",
       "    </tr>\n",
       "    <tr>\n",
       "      <td>8</td>\n",
       "      <td>2</td>\n",
       "      <td>2019-05-03 11:55:50</td>\n",
       "      <td>1604.0</td>\n",
       "    </tr>\n",
       "    <tr>\n",
       "      <td>9</td>\n",
       "      <td>2</td>\n",
       "      <td>2019-05-03 11:58:24</td>\n",
       "      <td>1608.0</td>\n",
       "    </tr>\n",
       "  </tbody>\n",
       "</table>\n",
       "</div>"
      ],
      "text/plain": [
       "   key         Время замера  Температура\n",
       "0    1  2019-05-03 11:16:18       1571.0\n",
       "1    1  2019-05-03 11:25:53       1604.0\n",
       "2    1  2019-05-03 11:29:11       1618.0\n",
       "3    1  2019-05-03 11:30:01       1601.0\n",
       "4    1  2019-05-03 11:30:39       1613.0\n",
       "5    2  2019-05-03 11:37:27       1581.0\n",
       "6    2  2019-05-03 11:38:00       1577.0\n",
       "7    2  2019-05-03 11:49:38       1589.0\n",
       "8    2  2019-05-03 11:55:50       1604.0\n",
       "9    2  2019-05-03 11:58:24       1608.0"
      ]
     },
     "execution_count": 4,
     "metadata": {},
     "output_type": "execute_result"
    }
   ],
   "source": [
    "data_temp.head(10)"
   ]
  },
  {
   "cell_type": "code",
   "execution_count": 5,
   "metadata": {},
   "outputs": [
    {
     "data": {
      "text/html": [
       "<div>\n",
       "<style scoped>\n",
       "    .dataframe tbody tr th:only-of-type {\n",
       "        vertical-align: middle;\n",
       "    }\n",
       "\n",
       "    .dataframe tbody tr th {\n",
       "        vertical-align: top;\n",
       "    }\n",
       "\n",
       "    .dataframe thead th {\n",
       "        text-align: right;\n",
       "    }\n",
       "</style>\n",
       "<table border=\"1\" class=\"dataframe\">\n",
       "  <thead>\n",
       "    <tr style=\"text-align: right;\">\n",
       "      <th></th>\n",
       "      <th>key</th>\n",
       "      <th>Время замера</th>\n",
       "      <th>Температура</th>\n",
       "    </tr>\n",
       "  </thead>\n",
       "  <tbody>\n",
       "    <tr>\n",
       "      <td>15897</td>\n",
       "      <td>3240</td>\n",
       "      <td>2019-09-01 03:12:19</td>\n",
       "      <td>NaN</td>\n",
       "    </tr>\n",
       "    <tr>\n",
       "      <td>15898</td>\n",
       "      <td>3240</td>\n",
       "      <td>2019-09-01 03:19:09</td>\n",
       "      <td>NaN</td>\n",
       "    </tr>\n",
       "    <tr>\n",
       "      <td>15899</td>\n",
       "      <td>3240</td>\n",
       "      <td>2019-09-01 03:31:27</td>\n",
       "      <td>NaN</td>\n",
       "    </tr>\n",
       "    <tr>\n",
       "      <td>15900</td>\n",
       "      <td>3240</td>\n",
       "      <td>2019-09-01 03:34:31</td>\n",
       "      <td>NaN</td>\n",
       "    </tr>\n",
       "    <tr>\n",
       "      <td>15901</td>\n",
       "      <td>3240</td>\n",
       "      <td>2019-09-01 03:35:16</td>\n",
       "      <td>NaN</td>\n",
       "    </tr>\n",
       "    <tr>\n",
       "      <td>15902</td>\n",
       "      <td>3241</td>\n",
       "      <td>2019-09-01 04:03:30</td>\n",
       "      <td>1586.0</td>\n",
       "    </tr>\n",
       "    <tr>\n",
       "      <td>15903</td>\n",
       "      <td>3241</td>\n",
       "      <td>2019-09-01 04:16:12</td>\n",
       "      <td>NaN</td>\n",
       "    </tr>\n",
       "    <tr>\n",
       "      <td>15904</td>\n",
       "      <td>3241</td>\n",
       "      <td>2019-09-01 04:22:39</td>\n",
       "      <td>NaN</td>\n",
       "    </tr>\n",
       "    <tr>\n",
       "      <td>15905</td>\n",
       "      <td>3241</td>\n",
       "      <td>2019-09-01 04:33:42</td>\n",
       "      <td>NaN</td>\n",
       "    </tr>\n",
       "    <tr>\n",
       "      <td>15906</td>\n",
       "      <td>3241</td>\n",
       "      <td>2019-09-01 04:38:08</td>\n",
       "      <td>NaN</td>\n",
       "    </tr>\n",
       "  </tbody>\n",
       "</table>\n",
       "</div>"
      ],
      "text/plain": [
       "        key         Время замера  Температура\n",
       "15897  3240  2019-09-01 03:12:19          NaN\n",
       "15898  3240  2019-09-01 03:19:09          NaN\n",
       "15899  3240  2019-09-01 03:31:27          NaN\n",
       "15900  3240  2019-09-01 03:34:31          NaN\n",
       "15901  3240  2019-09-01 03:35:16          NaN\n",
       "15902  3241  2019-09-01 04:03:30       1586.0\n",
       "15903  3241  2019-09-01 04:16:12          NaN\n",
       "15904  3241  2019-09-01 04:22:39          NaN\n",
       "15905  3241  2019-09-01 04:33:42          NaN\n",
       "15906  3241  2019-09-01 04:38:08          NaN"
      ]
     },
     "execution_count": 5,
     "metadata": {},
     "output_type": "execute_result"
    }
   ],
   "source": [
    "data_temp.tail(10)"
   ]
  },
  {
   "cell_type": "code",
   "execution_count": 6,
   "metadata": {},
   "outputs": [
    {
     "data": {
      "text/html": [
       "<div>\n",
       "<style scoped>\n",
       "    .dataframe tbody tr th:only-of-type {\n",
       "        vertical-align: middle;\n",
       "    }\n",
       "\n",
       "    .dataframe tbody tr th {\n",
       "        vertical-align: top;\n",
       "    }\n",
       "\n",
       "    .dataframe thead th {\n",
       "        text-align: right;\n",
       "    }\n",
       "</style>\n",
       "<table border=\"1\" class=\"dataframe\">\n",
       "  <thead>\n",
       "    <tr style=\"text-align: right;\">\n",
       "      <th></th>\n",
       "      <th>key</th>\n",
       "      <th>Температура</th>\n",
       "    </tr>\n",
       "  </thead>\n",
       "  <tbody>\n",
       "    <tr>\n",
       "      <td>count</td>\n",
       "      <td>15907.000000</td>\n",
       "      <td>13006.000000</td>\n",
       "    </tr>\n",
       "    <tr>\n",
       "      <td>mean</td>\n",
       "      <td>1607.880870</td>\n",
       "      <td>1591.840920</td>\n",
       "    </tr>\n",
       "    <tr>\n",
       "      <td>std</td>\n",
       "      <td>942.212073</td>\n",
       "      <td>21.375851</td>\n",
       "    </tr>\n",
       "    <tr>\n",
       "      <td>min</td>\n",
       "      <td>1.000000</td>\n",
       "      <td>1191.000000</td>\n",
       "    </tr>\n",
       "    <tr>\n",
       "      <td>25%</td>\n",
       "      <td>790.000000</td>\n",
       "      <td>1581.000000</td>\n",
       "    </tr>\n",
       "    <tr>\n",
       "      <td>50%</td>\n",
       "      <td>1618.000000</td>\n",
       "      <td>1591.000000</td>\n",
       "    </tr>\n",
       "    <tr>\n",
       "      <td>75%</td>\n",
       "      <td>2427.000000</td>\n",
       "      <td>1601.000000</td>\n",
       "    </tr>\n",
       "    <tr>\n",
       "      <td>max</td>\n",
       "      <td>3241.000000</td>\n",
       "      <td>1705.000000</td>\n",
       "    </tr>\n",
       "  </tbody>\n",
       "</table>\n",
       "</div>"
      ],
      "text/plain": [
       "                key   Температура\n",
       "count  15907.000000  13006.000000\n",
       "mean    1607.880870   1591.840920\n",
       "std      942.212073     21.375851\n",
       "min        1.000000   1191.000000\n",
       "25%      790.000000   1581.000000\n",
       "50%     1618.000000   1591.000000\n",
       "75%     2427.000000   1601.000000\n",
       "max     3241.000000   1705.000000"
      ]
     },
     "execution_count": 6,
     "metadata": {},
     "output_type": "execute_result"
    }
   ],
   "source": [
    "data_temp.describe()"
   ]
  },
  {
   "cell_type": "markdown",
   "metadata": {},
   "source": [
    "Температура изменяется в диапазоне от 1191 до 1705 с медианой 1591 и средним 1591.8."
   ]
  },
  {
   "cell_type": "markdown",
   "metadata": {},
   "source": [
    "Посмотрим, имеются ли дублированные строки:"
   ]
  },
  {
   "cell_type": "code",
   "execution_count": 7,
   "metadata": {},
   "outputs": [
    {
     "data": {
      "text/plain": [
       "0"
      ]
     },
     "execution_count": 7,
     "metadata": {},
     "output_type": "execute_result"
    }
   ],
   "source": [
    "data_temp.duplicated().sum()"
   ]
  },
  {
   "cell_type": "markdown",
   "metadata": {},
   "source": [
    "Построим диаграмму размаха по температуре:"
   ]
  },
  {
   "cell_type": "code",
   "execution_count": 8,
   "metadata": {},
   "outputs": [
    {
     "data": {
      "image/png": "[encoded data removed]",
      "text/plain": [
       "<Figure size 432x288 with 1 Axes>"
      ]
     },
     "metadata": {
      "needs_background": "light"
     },
     "output_type": "display_data"
    }
   ],
   "source": [
    "plt.boxplot(\n",
    "            data_temp['Температура'].dropna(),\n",
    "            showmeans=True\n",
    "            )\n",
    "plt.ylabel('Температура')\n",
    "plt.title('Диаграмма размаха температуры металла')\n",
    "plt.show()"
   ]
  },
  {
   "cell_type": "markdown",
   "metadata": {},
   "source": [
    "В данных по температуре имеются выбросы снизу, причем отличие температуры от нормальной, составляющей ~1600, довольно существенное."
   ]
  },
  {
   "cell_type": "markdown",
   "metadata": {},
   "source": [
    "Посмотрим, сколько записей о различных партиях имеется в файле:"
   ]
  },
  {
   "cell_type": "code",
   "execution_count": 9,
   "metadata": {},
   "outputs": [
    {
     "data": {
      "text/plain": [
       "3216"
      ]
     },
     "execution_count": 9,
     "metadata": {},
     "output_type": "execute_result"
    }
   ],
   "source": [
    "len(data_temp['key'].unique())"
   ]
  },
  {
   "cell_type": "markdown",
   "metadata": {},
   "source": [
    "Заменим тип данных в столбце \"Время замера\" на datetime:"
   ]
  },
  {
   "cell_type": "code",
   "execution_count": 10,
   "metadata": {},
   "outputs": [],
   "source": [
    "data_temp['Время замера'] = pd.to_datetime(data_temp['Время замера'], format='%Y-%m-%d %H:%M:%S')"
   ]
  },
  {
   "cell_type": "markdown",
   "metadata": {},
   "source": [
    "Cоздадим таблицу с последней актуальной температурой для каждой партии металла:"
   ]
  },
  {
   "cell_type": "code",
   "execution_count": 11,
   "metadata": {},
   "outputs": [],
   "source": [
    "data_last_temp = data_temp.loc[data_temp['Время замера'].isin(\n",
    "    data_temp.groupby(['key']).agg({'Время замера':'max'}).reset_index(drop=True)['Время замера'])]\\\n",
    "    [['key','Температура']].reset_index(drop=True)"
   ]
  },
  {
   "cell_type": "code",
   "execution_count": 12,
   "metadata": {
    "scrolled": true
   },
   "outputs": [
    {
     "data": {
      "text/html": [
       "<div>\n",
       "<style scoped>\n",
       "    .dataframe tbody tr th:only-of-type {\n",
       "        vertical-align: middle;\n",
       "    }\n",
       "\n",
       "    .dataframe tbody tr th {\n",
       "        vertical-align: top;\n",
       "    }\n",
       "\n",
       "    .dataframe thead th {\n",
       "        text-align: right;\n",
       "    }\n",
       "</style>\n",
       "<table border=\"1\" class=\"dataframe\">\n",
       "  <thead>\n",
       "    <tr style=\"text-align: right;\">\n",
       "      <th></th>\n",
       "      <th>key</th>\n",
       "      <th>Температура</th>\n",
       "    </tr>\n",
       "  </thead>\n",
       "  <tbody>\n",
       "    <tr>\n",
       "      <td>0</td>\n",
       "      <td>1</td>\n",
       "      <td>1613.0</td>\n",
       "    </tr>\n",
       "    <tr>\n",
       "      <td>1</td>\n",
       "      <td>2</td>\n",
       "      <td>1602.0</td>\n",
       "    </tr>\n",
       "    <tr>\n",
       "      <td>2</td>\n",
       "      <td>3</td>\n",
       "      <td>1599.0</td>\n",
       "    </tr>\n",
       "    <tr>\n",
       "      <td>3</td>\n",
       "      <td>4</td>\n",
       "      <td>1625.0</td>\n",
       "    </tr>\n",
       "    <tr>\n",
       "      <td>4</td>\n",
       "      <td>5</td>\n",
       "      <td>1602.0</td>\n",
       "    </tr>\n",
       "    <tr>\n",
       "      <td>...</td>\n",
       "      <td>...</td>\n",
       "      <td>...</td>\n",
       "    </tr>\n",
       "    <tr>\n",
       "      <td>3211</td>\n",
       "      <td>3237</td>\n",
       "      <td>NaN</td>\n",
       "    </tr>\n",
       "    <tr>\n",
       "      <td>3212</td>\n",
       "      <td>3238</td>\n",
       "      <td>NaN</td>\n",
       "    </tr>\n",
       "    <tr>\n",
       "      <td>3213</td>\n",
       "      <td>3239</td>\n",
       "      <td>NaN</td>\n",
       "    </tr>\n",
       "    <tr>\n",
       "      <td>3214</td>\n",
       "      <td>3240</td>\n",
       "      <td>NaN</td>\n",
       "    </tr>\n",
       "    <tr>\n",
       "      <td>3215</td>\n",
       "      <td>3241</td>\n",
       "      <td>NaN</td>\n",
       "    </tr>\n",
       "  </tbody>\n",
       "</table>\n",
       "<p>3216 rows × 2 columns</p>\n",
       "</div>"
      ],
      "text/plain": [
       "       key  Температура\n",
       "0        1       1613.0\n",
       "1        2       1602.0\n",
       "2        3       1599.0\n",
       "3        4       1625.0\n",
       "4        5       1602.0\n",
       "...    ...          ...\n",
       "3211  3237          NaN\n",
       "3212  3238          NaN\n",
       "3213  3239          NaN\n",
       "3214  3240          NaN\n",
       "3215  3241          NaN\n",
       "\n",
       "[3216 rows x 2 columns]"
      ]
     },
     "execution_count": 12,
     "metadata": {},
     "output_type": "execute_result"
    }
   ],
   "source": [
    "data_last_temp"
   ]
  },
  {
   "cell_type": "markdown",
   "metadata": {},
   "source": [
    "Посмотрим, сколько пропущенных значений температуры имеется:"
   ]
  },
  {
   "cell_type": "code",
   "execution_count": 13,
   "metadata": {},
   "outputs": [
    {
     "data": {
      "text/plain": [
       "739"
      ]
     },
     "execution_count": 13,
     "metadata": {},
     "output_type": "execute_result"
    }
   ],
   "source": [
    "data_last_temp['Температура'].isna().sum()"
   ]
  },
  {
   "cell_type": "markdown",
   "metadata": {},
   "source": [
    "Удалим пропущенные значения конечной температуры:"
   ]
  },
  {
   "cell_type": "code",
   "execution_count": 14,
   "metadata": {},
   "outputs": [],
   "source": [
    "data_last_temp = data_last_temp.dropna()"
   ]
  },
  {
   "cell_type": "markdown",
   "metadata": {},
   "source": [
    "Переименуем название температуры:"
   ]
  },
  {
   "cell_type": "code",
   "execution_count": 15,
   "metadata": {},
   "outputs": [],
   "source": [
    "data_last_temp.columns = ['key', 'Конечная температура']"
   ]
  },
  {
   "cell_type": "markdown",
   "metadata": {},
   "source": [
    "Создадим таблицу с начальной температурой:"
   ]
  },
  {
   "cell_type": "code",
   "execution_count": 16,
   "metadata": {},
   "outputs": [],
   "source": [
    "data_first_temp = data_temp.loc[data_temp['Время замера'].isin(\n",
    "    data_temp.groupby(['key']).agg({'Время замера':'min'}).reset_index(drop=True)['Время замера'])]\\\n",
    "    [['key','Температура']].reset_index(drop=True)"
   ]
  },
  {
   "cell_type": "code",
   "execution_count": 17,
   "metadata": {},
   "outputs": [
    {
     "data": {
      "text/html": [
       "<div>\n",
       "<style scoped>\n",
       "    .dataframe tbody tr th:only-of-type {\n",
       "        vertical-align: middle;\n",
       "    }\n",
       "\n",
       "    .dataframe tbody tr th {\n",
       "        vertical-align: top;\n",
       "    }\n",
       "\n",
       "    .dataframe thead th {\n",
       "        text-align: right;\n",
       "    }\n",
       "</style>\n",
       "<table border=\"1\" class=\"dataframe\">\n",
       "  <thead>\n",
       "    <tr style=\"text-align: right;\">\n",
       "      <th></th>\n",
       "      <th>key</th>\n",
       "      <th>Температура</th>\n",
       "    </tr>\n",
       "  </thead>\n",
       "  <tbody>\n",
       "    <tr>\n",
       "      <td>0</td>\n",
       "      <td>1</td>\n",
       "      <td>1571.0</td>\n",
       "    </tr>\n",
       "    <tr>\n",
       "      <td>1</td>\n",
       "      <td>2</td>\n",
       "      <td>1581.0</td>\n",
       "    </tr>\n",
       "    <tr>\n",
       "      <td>2</td>\n",
       "      <td>3</td>\n",
       "      <td>1596.0</td>\n",
       "    </tr>\n",
       "    <tr>\n",
       "      <td>3</td>\n",
       "      <td>4</td>\n",
       "      <td>1601.0</td>\n",
       "    </tr>\n",
       "    <tr>\n",
       "      <td>4</td>\n",
       "      <td>5</td>\n",
       "      <td>1576.0</td>\n",
       "    </tr>\n",
       "    <tr>\n",
       "      <td>...</td>\n",
       "      <td>...</td>\n",
       "      <td>...</td>\n",
       "    </tr>\n",
       "    <tr>\n",
       "      <td>3211</td>\n",
       "      <td>3237</td>\n",
       "      <td>1569.0</td>\n",
       "    </tr>\n",
       "    <tr>\n",
       "      <td>3212</td>\n",
       "      <td>3238</td>\n",
       "      <td>1584.0</td>\n",
       "    </tr>\n",
       "    <tr>\n",
       "      <td>3213</td>\n",
       "      <td>3239</td>\n",
       "      <td>1598.0</td>\n",
       "    </tr>\n",
       "    <tr>\n",
       "      <td>3214</td>\n",
       "      <td>3240</td>\n",
       "      <td>1617.0</td>\n",
       "    </tr>\n",
       "    <tr>\n",
       "      <td>3215</td>\n",
       "      <td>3241</td>\n",
       "      <td>1586.0</td>\n",
       "    </tr>\n",
       "  </tbody>\n",
       "</table>\n",
       "<p>3216 rows × 2 columns</p>\n",
       "</div>"
      ],
      "text/plain": [
       "       key  Температура\n",
       "0        1       1571.0\n",
       "1        2       1581.0\n",
       "2        3       1596.0\n",
       "3        4       1601.0\n",
       "4        5       1576.0\n",
       "...    ...          ...\n",
       "3211  3237       1569.0\n",
       "3212  3238       1584.0\n",
       "3213  3239       1598.0\n",
       "3214  3240       1617.0\n",
       "3215  3241       1586.0\n",
       "\n",
       "[3216 rows x 2 columns]"
      ]
     },
     "execution_count": 17,
     "metadata": {},
     "output_type": "execute_result"
    }
   ],
   "source": [
    "data_first_temp"
   ]
  },
  {
   "cell_type": "markdown",
   "metadata": {},
   "source": [
    "Посмотрим на пропущенные значения:"
   ]
  },
  {
   "cell_type": "code",
   "execution_count": 18,
   "metadata": {},
   "outputs": [
    {
     "data": {
      "text/plain": [
       "key            0\n",
       "Температура    0\n",
       "dtype: int64"
      ]
     },
     "execution_count": 18,
     "metadata": {},
     "output_type": "execute_result"
    }
   ],
   "source": [
    "data_first_temp.isna().sum()"
   ]
  },
  {
   "cell_type": "markdown",
   "metadata": {},
   "source": [
    "Переименуем температуру:"
   ]
  },
  {
   "cell_type": "code",
   "execution_count": 19,
   "metadata": {},
   "outputs": [],
   "source": [
    "data_first_temp.columns = ['key', 'Начальная температура']"
   ]
  },
  {
   "cell_type": "markdown",
   "metadata": {},
   "source": [
    "Объединим начальную и конечную температуру:"
   ]
  },
  {
   "cell_type": "code",
   "execution_count": 20,
   "metadata": {},
   "outputs": [],
   "source": [
    "data_first_last_temp = data_first_temp.merge(data_last_temp, on='key')"
   ]
  },
  {
   "cell_type": "code",
   "execution_count": 21,
   "metadata": {},
   "outputs": [
    {
     "data": {
      "text/html": [
       "<div>\n",
       "<style scoped>\n",
       "    .dataframe tbody tr th:only-of-type {\n",
       "        vertical-align: middle;\n",
       "    }\n",
       "\n",
       "    .dataframe tbody tr th {\n",
       "        vertical-align: top;\n",
       "    }\n",
       "\n",
       "    .dataframe thead th {\n",
       "        text-align: right;\n",
       "    }\n",
       "</style>\n",
       "<table border=\"1\" class=\"dataframe\">\n",
       "  <thead>\n",
       "    <tr style=\"text-align: right;\">\n",
       "      <th></th>\n",
       "      <th>key</th>\n",
       "      <th>Начальная температура</th>\n",
       "      <th>Конечная температура</th>\n",
       "    </tr>\n",
       "  </thead>\n",
       "  <tbody>\n",
       "    <tr>\n",
       "      <td>0</td>\n",
       "      <td>1</td>\n",
       "      <td>1571.0</td>\n",
       "      <td>1613.0</td>\n",
       "    </tr>\n",
       "    <tr>\n",
       "      <td>1</td>\n",
       "      <td>2</td>\n",
       "      <td>1581.0</td>\n",
       "      <td>1602.0</td>\n",
       "    </tr>\n",
       "    <tr>\n",
       "      <td>2</td>\n",
       "      <td>3</td>\n",
       "      <td>1596.0</td>\n",
       "      <td>1599.0</td>\n",
       "    </tr>\n",
       "    <tr>\n",
       "      <td>3</td>\n",
       "      <td>4</td>\n",
       "      <td>1601.0</td>\n",
       "      <td>1625.0</td>\n",
       "    </tr>\n",
       "    <tr>\n",
       "      <td>4</td>\n",
       "      <td>5</td>\n",
       "      <td>1576.0</td>\n",
       "      <td>1602.0</td>\n",
       "    </tr>\n",
       "    <tr>\n",
       "      <td>...</td>\n",
       "      <td>...</td>\n",
       "      <td>...</td>\n",
       "      <td>...</td>\n",
       "    </tr>\n",
       "    <tr>\n",
       "      <td>2472</td>\n",
       "      <td>2495</td>\n",
       "      <td>1570.0</td>\n",
       "      <td>1591.0</td>\n",
       "    </tr>\n",
       "    <tr>\n",
       "      <td>2473</td>\n",
       "      <td>2496</td>\n",
       "      <td>1554.0</td>\n",
       "      <td>1591.0</td>\n",
       "    </tr>\n",
       "    <tr>\n",
       "      <td>2474</td>\n",
       "      <td>2497</td>\n",
       "      <td>1571.0</td>\n",
       "      <td>1589.0</td>\n",
       "    </tr>\n",
       "    <tr>\n",
       "      <td>2475</td>\n",
       "      <td>2498</td>\n",
       "      <td>1591.0</td>\n",
       "      <td>1594.0</td>\n",
       "    </tr>\n",
       "    <tr>\n",
       "      <td>2476</td>\n",
       "      <td>2499</td>\n",
       "      <td>1569.0</td>\n",
       "      <td>1603.0</td>\n",
       "    </tr>\n",
       "  </tbody>\n",
       "</table>\n",
       "<p>2477 rows × 3 columns</p>\n",
       "</div>"
      ],
      "text/plain": [
       "       key  Начальная температура  Конечная температура\n",
       "0        1                 1571.0                1613.0\n",
       "1        2                 1581.0                1602.0\n",
       "2        3                 1596.0                1599.0\n",
       "3        4                 1601.0                1625.0\n",
       "4        5                 1576.0                1602.0\n",
       "...    ...                    ...                   ...\n",
       "2472  2495                 1570.0                1591.0\n",
       "2473  2496                 1554.0                1591.0\n",
       "2474  2497                 1571.0                1589.0\n",
       "2475  2498                 1591.0                1594.0\n",
       "2476  2499                 1569.0                1603.0\n",
       "\n",
       "[2477 rows x 3 columns]"
      ]
     },
     "execution_count": 21,
     "metadata": {},
     "output_type": "execute_result"
    }
   ],
   "source": [
    "data_first_last_temp "
   ]
  },
  {
   "cell_type": "markdown",
   "metadata": {},
   "source": [
    "- Файл с данными электродов \"data_arc\""
   ]
  },
  {
   "cell_type": "code",
   "execution_count": 22,
   "metadata": {},
   "outputs": [],
   "source": [
    "data_arc = pd.read_csv('/datasets/final_steel/data_arc.csv')"
   ]
  },
  {
   "cell_type": "code",
   "execution_count": 23,
   "metadata": {},
   "outputs": [
    {
     "name": "stdout",
     "output_type": "stream",
     "text": [
      "<class 'pandas.core.frame.DataFrame'>\n",
      "RangeIndex: 14876 entries, 0 to 14875\n",
      "Data columns (total 5 columns):\n",
      "key                     14876 non-null int64\n",
      "Начало нагрева дугой    14876 non-null object\n",
      "Конец нагрева дугой     14876 non-null object\n",
      "Активная мощность       14876 non-null float64\n",
      "Реактивная мощность     14876 non-null float64\n",
      "dtypes: float64(2), int64(1), object(2)\n",
      "memory usage: 581.2+ KB\n"
     ]
    }
   ],
   "source": [
    "data_arc.info()"
   ]
  },
  {
   "cell_type": "markdown",
   "metadata": {},
   "source": [
    "Всего имеется 14876 записей, 5 столбцов. Пропущенные значения в файле отсутствуют."
   ]
  },
  {
   "cell_type": "markdown",
   "metadata": {},
   "source": [
    "Посмотрим на начало файла данных, случайные строки и конец файла:"
   ]
  },
  {
   "cell_type": "code",
   "execution_count": 24,
   "metadata": {},
   "outputs": [
    {
     "data": {
      "text/html": [
       "<div>\n",
       "<style scoped>\n",
       "    .dataframe tbody tr th:only-of-type {\n",
       "        vertical-align: middle;\n",
       "    }\n",
       "\n",
       "    .dataframe tbody tr th {\n",
       "        vertical-align: top;\n",
       "    }\n",
       "\n",
       "    .dataframe thead th {\n",
       "        text-align: right;\n",
       "    }\n",
       "</style>\n",
       "<table border=\"1\" class=\"dataframe\">\n",
       "  <thead>\n",
       "    <tr style=\"text-align: right;\">\n",
       "      <th></th>\n",
       "      <th>key</th>\n",
       "      <th>Начало нагрева дугой</th>\n",
       "      <th>Конец нагрева дугой</th>\n",
       "      <th>Активная мощность</th>\n",
       "      <th>Реактивная мощность</th>\n",
       "    </tr>\n",
       "  </thead>\n",
       "  <tbody>\n",
       "    <tr>\n",
       "      <td>0</td>\n",
       "      <td>1</td>\n",
       "      <td>2019-05-03 11:02:14</td>\n",
       "      <td>2019-05-03 11:06:02</td>\n",
       "      <td>0.976059</td>\n",
       "      <td>0.687084</td>\n",
       "    </tr>\n",
       "    <tr>\n",
       "      <td>1</td>\n",
       "      <td>1</td>\n",
       "      <td>2019-05-03 11:07:28</td>\n",
       "      <td>2019-05-03 11:10:33</td>\n",
       "      <td>0.805607</td>\n",
       "      <td>0.520285</td>\n",
       "    </tr>\n",
       "    <tr>\n",
       "      <td>2</td>\n",
       "      <td>1</td>\n",
       "      <td>2019-05-03 11:11:44</td>\n",
       "      <td>2019-05-03 11:14:36</td>\n",
       "      <td>0.744363</td>\n",
       "      <td>0.498805</td>\n",
       "    </tr>\n",
       "    <tr>\n",
       "      <td>3</td>\n",
       "      <td>1</td>\n",
       "      <td>2019-05-03 11:18:14</td>\n",
       "      <td>2019-05-03 11:24:19</td>\n",
       "      <td>1.659363</td>\n",
       "      <td>1.062669</td>\n",
       "    </tr>\n",
       "    <tr>\n",
       "      <td>4</td>\n",
       "      <td>1</td>\n",
       "      <td>2019-05-03 11:26:09</td>\n",
       "      <td>2019-05-03 11:28:37</td>\n",
       "      <td>0.692755</td>\n",
       "      <td>0.414397</td>\n",
       "    </tr>\n",
       "    <tr>\n",
       "      <td>5</td>\n",
       "      <td>2</td>\n",
       "      <td>2019-05-03 11:34:14</td>\n",
       "      <td>2019-05-03 11:36:31</td>\n",
       "      <td>0.438063</td>\n",
       "      <td>0.283043</td>\n",
       "    </tr>\n",
       "    <tr>\n",
       "      <td>6</td>\n",
       "      <td>2</td>\n",
       "      <td>2019-05-03 11:38:50</td>\n",
       "      <td>2019-05-03 11:44:28</td>\n",
       "      <td>1.296415</td>\n",
       "      <td>0.892914</td>\n",
       "    </tr>\n",
       "    <tr>\n",
       "      <td>7</td>\n",
       "      <td>2</td>\n",
       "      <td>2019-05-03 11:46:19</td>\n",
       "      <td>2019-05-03 11:48:25</td>\n",
       "      <td>0.490377</td>\n",
       "      <td>0.305281</td>\n",
       "    </tr>\n",
       "    <tr>\n",
       "      <td>8</td>\n",
       "      <td>2</td>\n",
       "      <td>2019-05-03 11:49:48</td>\n",
       "      <td>2019-05-03 11:53:18</td>\n",
       "      <td>0.827743</td>\n",
       "      <td>0.516874</td>\n",
       "    </tr>\n",
       "    <tr>\n",
       "      <td>9</td>\n",
       "      <td>3</td>\n",
       "      <td>2019-05-03 12:06:54</td>\n",
       "      <td>2019-05-03 12:11:34</td>\n",
       "      <td>1.062053</td>\n",
       "      <td>0.671494</td>\n",
       "    </tr>\n",
       "  </tbody>\n",
       "</table>\n",
       "</div>"
      ],
      "text/plain": [
       "   key Начало нагрева дугой  Конец нагрева дугой  Активная мощность  \\\n",
       "0    1  2019-05-03 11:02:14  2019-05-03 11:06:02           0.976059   \n",
       "1    1  2019-05-03 11:07:28  2019-05-03 11:10:33           0.805607   \n",
       "2    1  2019-05-03 11:11:44  2019-05-03 11:14:36           0.744363   \n",
       "3    1  2019-05-03 11:18:14  2019-05-03 11:24:19           1.659363   \n",
       "4    1  2019-05-03 11:26:09  2019-05-03 11:28:37           0.692755   \n",
       "5    2  2019-05-03 11:34:14  2019-05-03 11:36:31           0.438063   \n",
       "6    2  2019-05-03 11:38:50  2019-05-03 11:44:28           1.296415   \n",
       "7    2  2019-05-03 11:46:19  2019-05-03 11:48:25           0.490377   \n",
       "8    2  2019-05-03 11:49:48  2019-05-03 11:53:18           0.827743   \n",
       "9    3  2019-05-03 12:06:54  2019-05-03 12:11:34           1.062053   \n",
       "\n",
       "   Реактивная мощность  \n",
       "0             0.687084  \n",
       "1             0.520285  \n",
       "2             0.498805  \n",
       "3             1.062669  \n",
       "4             0.414397  \n",
       "5             0.283043  \n",
       "6             0.892914  \n",
       "7             0.305281  \n",
       "8             0.516874  \n",
       "9             0.671494  "
      ]
     },
     "execution_count": 24,
     "metadata": {},
     "output_type": "execute_result"
    }
   ],
   "source": [
    "data_arc.head(10)"
   ]
  },
  {
   "cell_type": "code",
   "execution_count": 25,
   "metadata": {},
   "outputs": [
    {
     "data": {
      "text/html": [
       "<div>\n",
       "<style scoped>\n",
       "    .dataframe tbody tr th:only-of-type {\n",
       "        vertical-align: middle;\n",
       "    }\n",
       "\n",
       "    .dataframe tbody tr th {\n",
       "        vertical-align: top;\n",
       "    }\n",
       "\n",
       "    .dataframe thead th {\n",
       "        text-align: right;\n",
       "    }\n",
       "</style>\n",
       "<table border=\"1\" class=\"dataframe\">\n",
       "  <thead>\n",
       "    <tr style=\"text-align: right;\">\n",
       "      <th></th>\n",
       "      <th>key</th>\n",
       "      <th>Начало нагрева дугой</th>\n",
       "      <th>Конец нагрева дугой</th>\n",
       "      <th>Активная мощность</th>\n",
       "      <th>Реактивная мощность</th>\n",
       "    </tr>\n",
       "  </thead>\n",
       "  <tbody>\n",
       "    <tr>\n",
       "      <td>8800</td>\n",
       "      <td>1915</td>\n",
       "      <td>2019-07-15 20:43:45</td>\n",
       "      <td>2019-07-15 20:44:19</td>\n",
       "      <td>0.145208</td>\n",
       "      <td>0.096683</td>\n",
       "    </tr>\n",
       "    <tr>\n",
       "      <td>7782</td>\n",
       "      <td>1687</td>\n",
       "      <td>2019-07-02 14:07:44</td>\n",
       "      <td>2019-07-02 14:15:35</td>\n",
       "      <td>1.632620</td>\n",
       "      <td>1.345000</td>\n",
       "    </tr>\n",
       "    <tr>\n",
       "      <td>8784</td>\n",
       "      <td>1910</td>\n",
       "      <td>2019-07-15 14:13:48</td>\n",
       "      <td>2019-07-15 14:18:52</td>\n",
       "      <td>1.368438</td>\n",
       "      <td>0.910506</td>\n",
       "    </tr>\n",
       "    <tr>\n",
       "      <td>7356</td>\n",
       "      <td>1598</td>\n",
       "      <td>2019-06-29 19:49:36</td>\n",
       "      <td>2019-06-29 19:50:57</td>\n",
       "      <td>0.364738</td>\n",
       "      <td>0.250985</td>\n",
       "    </tr>\n",
       "    <tr>\n",
       "      <td>2078</td>\n",
       "      <td>447</td>\n",
       "      <td>2019-05-19 21:09:12</td>\n",
       "      <td>2019-05-19 21:11:49</td>\n",
       "      <td>0.536420</td>\n",
       "      <td>0.381936</td>\n",
       "    </tr>\n",
       "    <tr>\n",
       "      <td>6795</td>\n",
       "      <td>1476</td>\n",
       "      <td>2019-06-25 17:07:55</td>\n",
       "      <td>2019-06-25 17:10:34</td>\n",
       "      <td>0.642920</td>\n",
       "      <td>0.440609</td>\n",
       "    </tr>\n",
       "    <tr>\n",
       "      <td>6112</td>\n",
       "      <td>1332</td>\n",
       "      <td>2019-06-20 05:52:54</td>\n",
       "      <td>2019-06-20 05:54:58</td>\n",
       "      <td>0.542053</td>\n",
       "      <td>0.368303</td>\n",
       "    </tr>\n",
       "    <tr>\n",
       "      <td>3196</td>\n",
       "      <td>692</td>\n",
       "      <td>2019-05-28 23:24:24</td>\n",
       "      <td>2019-05-28 23:26:16</td>\n",
       "      <td>0.381262</td>\n",
       "      <td>0.270166</td>\n",
       "    </tr>\n",
       "    <tr>\n",
       "      <td>13823</td>\n",
       "      <td>2998</td>\n",
       "      <td>2019-08-24 05:39:20</td>\n",
       "      <td>2019-08-24 05:41:05</td>\n",
       "      <td>0.485699</td>\n",
       "      <td>0.322884</td>\n",
       "    </tr>\n",
       "    <tr>\n",
       "      <td>8714</td>\n",
       "      <td>1895</td>\n",
       "      <td>2019-07-09 20:31:26</td>\n",
       "      <td>2019-07-09 20:32:29</td>\n",
       "      <td>0.198764</td>\n",
       "      <td>0.157267</td>\n",
       "    </tr>\n",
       "  </tbody>\n",
       "</table>\n",
       "</div>"
      ],
      "text/plain": [
       "        key Начало нагрева дугой  Конец нагрева дугой  Активная мощность  \\\n",
       "8800   1915  2019-07-15 20:43:45  2019-07-15 20:44:19           0.145208   \n",
       "7782   1687  2019-07-02 14:07:44  2019-07-02 14:15:35           1.632620   \n",
       "8784   1910  2019-07-15 14:13:48  2019-07-15 14:18:52           1.368438   \n",
       "7356   1598  2019-06-29 19:49:36  2019-06-29 19:50:57           0.364738   \n",
       "2078    447  2019-05-19 21:09:12  2019-05-19 21:11:49           0.536420   \n",
       "6795   1476  2019-06-25 17:07:55  2019-06-25 17:10:34           0.642920   \n",
       "6112   1332  2019-06-20 05:52:54  2019-06-20 05:54:58           0.542053   \n",
       "3196    692  2019-05-28 23:24:24  2019-05-28 23:26:16           0.381262   \n",
       "13823  2998  2019-08-24 05:39:20  2019-08-24 05:41:05           0.485699   \n",
       "8714   1895  2019-07-09 20:31:26  2019-07-09 20:32:29           0.198764   \n",
       "\n",
       "       Реактивная мощность  \n",
       "8800              0.096683  \n",
       "7782              1.345000  \n",
       "8784              0.910506  \n",
       "7356              0.250985  \n",
       "2078              0.381936  \n",
       "6795              0.440609  \n",
       "6112              0.368303  \n",
       "3196              0.270166  \n",
       "13823             0.322884  \n",
       "8714              0.157267  "
      ]
     },
     "execution_count": 25,
     "metadata": {},
     "output_type": "execute_result"
    }
   ],
   "source": [
    "data_arc.sample(10)"
   ]
  },
  {
   "cell_type": "code",
   "execution_count": 26,
   "metadata": {},
   "outputs": [
    {
     "data": {
      "text/html": [
       "<div>\n",
       "<style scoped>\n",
       "    .dataframe tbody tr th:only-of-type {\n",
       "        vertical-align: middle;\n",
       "    }\n",
       "\n",
       "    .dataframe tbody tr th {\n",
       "        vertical-align: top;\n",
       "    }\n",
       "\n",
       "    .dataframe thead th {\n",
       "        text-align: right;\n",
       "    }\n",
       "</style>\n",
       "<table border=\"1\" class=\"dataframe\">\n",
       "  <thead>\n",
       "    <tr style=\"text-align: right;\">\n",
       "      <th></th>\n",
       "      <th>key</th>\n",
       "      <th>Начало нагрева дугой</th>\n",
       "      <th>Конец нагрева дугой</th>\n",
       "      <th>Активная мощность</th>\n",
       "      <th>Реактивная мощность</th>\n",
       "    </tr>\n",
       "  </thead>\n",
       "  <tbody>\n",
       "    <tr>\n",
       "      <td>14866</td>\n",
       "      <td>3240</td>\n",
       "      <td>2019-09-01 02:35:24</td>\n",
       "      <td>2019-09-01 02:37:25</td>\n",
       "      <td>0.411601</td>\n",
       "      <td>0.274390</td>\n",
       "    </tr>\n",
       "    <tr>\n",
       "      <td>14867</td>\n",
       "      <td>3240</td>\n",
       "      <td>2019-09-01 02:40:55</td>\n",
       "      <td>2019-09-01 02:43:28</td>\n",
       "      <td>0.521811</td>\n",
       "      <td>0.378517</td>\n",
       "    </tr>\n",
       "    <tr>\n",
       "      <td>14868</td>\n",
       "      <td>3240</td>\n",
       "      <td>2019-09-01 03:08:38</td>\n",
       "      <td>2019-09-01 03:11:08</td>\n",
       "      <td>0.518065</td>\n",
       "      <td>0.528780</td>\n",
       "    </tr>\n",
       "    <tr>\n",
       "      <td>14869</td>\n",
       "      <td>3240</td>\n",
       "      <td>2019-09-01 03:12:34</td>\n",
       "      <td>2019-09-01 03:17:08</td>\n",
       "      <td>0.983723</td>\n",
       "      <td>0.884585</td>\n",
       "    </tr>\n",
       "    <tr>\n",
       "      <td>14870</td>\n",
       "      <td>3240</td>\n",
       "      <td>2019-09-01 03:31:47</td>\n",
       "      <td>2019-09-01 03:34:08</td>\n",
       "      <td>0.548882</td>\n",
       "      <td>0.416994</td>\n",
       "    </tr>\n",
       "    <tr>\n",
       "      <td>14871</td>\n",
       "      <td>3241</td>\n",
       "      <td>2019-09-01 03:58:58</td>\n",
       "      <td>2019-09-01 04:01:35</td>\n",
       "      <td>0.533670</td>\n",
       "      <td>0.354439</td>\n",
       "    </tr>\n",
       "    <tr>\n",
       "      <td>14872</td>\n",
       "      <td>3241</td>\n",
       "      <td>2019-09-01 04:05:04</td>\n",
       "      <td>2019-09-01 04:08:04</td>\n",
       "      <td>0.676604</td>\n",
       "      <td>0.523631</td>\n",
       "    </tr>\n",
       "    <tr>\n",
       "      <td>14873</td>\n",
       "      <td>3241</td>\n",
       "      <td>2019-09-01 04:16:41</td>\n",
       "      <td>2019-09-01 04:19:45</td>\n",
       "      <td>0.733899</td>\n",
       "      <td>0.475654</td>\n",
       "    </tr>\n",
       "    <tr>\n",
       "      <td>14874</td>\n",
       "      <td>3241</td>\n",
       "      <td>2019-09-01 04:31:51</td>\n",
       "      <td>2019-09-01 04:32:48</td>\n",
       "      <td>0.220694</td>\n",
       "      <td>0.145768</td>\n",
       "    </tr>\n",
       "    <tr>\n",
       "      <td>14875</td>\n",
       "      <td>3241</td>\n",
       "      <td>2019-09-01 04:34:47</td>\n",
       "      <td>2019-09-01 04:36:08</td>\n",
       "      <td>0.306580</td>\n",
       "      <td>0.196708</td>\n",
       "    </tr>\n",
       "  </tbody>\n",
       "</table>\n",
       "</div>"
      ],
      "text/plain": [
       "        key Начало нагрева дугой  Конец нагрева дугой  Активная мощность  \\\n",
       "14866  3240  2019-09-01 02:35:24  2019-09-01 02:37:25           0.411601   \n",
       "14867  3240  2019-09-01 02:40:55  2019-09-01 02:43:28           0.521811   \n",
       "14868  3240  2019-09-01 03:08:38  2019-09-01 03:11:08           0.518065   \n",
       "14869  3240  2019-09-01 03:12:34  2019-09-01 03:17:08           0.983723   \n",
       "14870  3240  2019-09-01 03:31:47  2019-09-01 03:34:08           0.548882   \n",
       "14871  3241  2019-09-01 03:58:58  2019-09-01 04:01:35           0.533670   \n",
       "14872  3241  2019-09-01 04:05:04  2019-09-01 04:08:04           0.676604   \n",
       "14873  3241  2019-09-01 04:16:41  2019-09-01 04:19:45           0.733899   \n",
       "14874  3241  2019-09-01 04:31:51  2019-09-01 04:32:48           0.220694   \n",
       "14875  3241  2019-09-01 04:34:47  2019-09-01 04:36:08           0.306580   \n",
       "\n",
       "       Реактивная мощность  \n",
       "14866             0.274390  \n",
       "14867             0.378517  \n",
       "14868             0.528780  \n",
       "14869             0.884585  \n",
       "14870             0.416994  \n",
       "14871             0.354439  \n",
       "14872             0.523631  \n",
       "14873             0.475654  \n",
       "14874             0.145768  \n",
       "14875             0.196708  "
      ]
     },
     "execution_count": 26,
     "metadata": {},
     "output_type": "execute_result"
    }
   ],
   "source": [
    "data_arc.tail(10)"
   ]
  },
  {
   "cell_type": "code",
   "execution_count": 27,
   "metadata": {},
   "outputs": [
    {
     "data": {
      "text/html": [
       "<div>\n",
       "<style scoped>\n",
       "    .dataframe tbody tr th:only-of-type {\n",
       "        vertical-align: middle;\n",
       "    }\n",
       "\n",
       "    .dataframe tbody tr th {\n",
       "        vertical-align: top;\n",
       "    }\n",
       "\n",
       "    .dataframe thead th {\n",
       "        text-align: right;\n",
       "    }\n",
       "</style>\n",
       "<table border=\"1\" class=\"dataframe\">\n",
       "  <thead>\n",
       "    <tr style=\"text-align: right;\">\n",
       "      <th></th>\n",
       "      <th>key</th>\n",
       "      <th>Активная мощность</th>\n",
       "      <th>Реактивная мощность</th>\n",
       "    </tr>\n",
       "  </thead>\n",
       "  <tbody>\n",
       "    <tr>\n",
       "      <td>count</td>\n",
       "      <td>14876.000000</td>\n",
       "      <td>14876.000000</td>\n",
       "      <td>14876.000000</td>\n",
       "    </tr>\n",
       "    <tr>\n",
       "      <td>mean</td>\n",
       "      <td>1615.220422</td>\n",
       "      <td>0.670441</td>\n",
       "      <td>0.452592</td>\n",
       "    </tr>\n",
       "    <tr>\n",
       "      <td>std</td>\n",
       "      <td>934.571502</td>\n",
       "      <td>0.408159</td>\n",
       "      <td>5.878702</td>\n",
       "    </tr>\n",
       "    <tr>\n",
       "      <td>min</td>\n",
       "      <td>1.000000</td>\n",
       "      <td>0.030002</td>\n",
       "      <td>-715.504924</td>\n",
       "    </tr>\n",
       "    <tr>\n",
       "      <td>25%</td>\n",
       "      <td>806.000000</td>\n",
       "      <td>0.395297</td>\n",
       "      <td>0.290991</td>\n",
       "    </tr>\n",
       "    <tr>\n",
       "      <td>50%</td>\n",
       "      <td>1617.000000</td>\n",
       "      <td>0.555517</td>\n",
       "      <td>0.415962</td>\n",
       "    </tr>\n",
       "    <tr>\n",
       "      <td>75%</td>\n",
       "      <td>2429.000000</td>\n",
       "      <td>0.857034</td>\n",
       "      <td>0.637371</td>\n",
       "    </tr>\n",
       "    <tr>\n",
       "      <td>max</td>\n",
       "      <td>3241.000000</td>\n",
       "      <td>3.731596</td>\n",
       "      <td>2.676388</td>\n",
       "    </tr>\n",
       "  </tbody>\n",
       "</table>\n",
       "</div>"
      ],
      "text/plain": [
       "                key  Активная мощность  Реактивная мощность\n",
       "count  14876.000000       14876.000000         14876.000000\n",
       "mean    1615.220422           0.670441             0.452592\n",
       "std      934.571502           0.408159             5.878702\n",
       "min        1.000000           0.030002          -715.504924\n",
       "25%      806.000000           0.395297             0.290991\n",
       "50%     1617.000000           0.555517             0.415962\n",
       "75%     2429.000000           0.857034             0.637371\n",
       "max     3241.000000           3.731596             2.676388"
      ]
     },
     "execution_count": 27,
     "metadata": {},
     "output_type": "execute_result"
    }
   ],
   "source": [
    "data_arc.describe()"
   ]
  },
  {
   "cell_type": "markdown",
   "metadata": {},
   "source": [
    "Активная мощность изменяется в диапазоне от 0.03 до 3.73 со средним 0.67 и медианой 0.55. Реактивная мощность изменяется от 0.02 до 2.67, среднее 0.5 и медиана 0.41."
   ]
  },
  {
   "cell_type": "markdown",
   "metadata": {},
   "source": [
    "Посмотрим, сколько записей о различных партиях имеется в файле:"
   ]
  },
  {
   "cell_type": "code",
   "execution_count": 28,
   "metadata": {},
   "outputs": [
    {
     "data": {
      "text/plain": [
       "3214"
      ]
     },
     "execution_count": 28,
     "metadata": {},
     "output_type": "execute_result"
    }
   ],
   "source": [
    "len(data_arc['key'].unique())"
   ]
  },
  {
   "cell_type": "markdown",
   "metadata": {},
   "source": [
    "Посмотрим, сколько имеется значений отрицательной реактивной мощности:"
   ]
  },
  {
   "cell_type": "code",
   "execution_count": 29,
   "metadata": {},
   "outputs": [
    {
     "data": {
      "text/plain": [
       "1"
      ]
     },
     "execution_count": 29,
     "metadata": {},
     "output_type": "execute_result"
    }
   ],
   "source": [
    "(data_arc['Реактивная мощность'] < 0).sum()"
   ]
  },
  {
   "cell_type": "markdown",
   "metadata": {},
   "source": [
    "Будем считать значение \"-715\" ошибочным и заменим его на среднее по данной партии:"
   ]
  },
  {
   "cell_type": "code",
   "execution_count": 30,
   "metadata": {},
   "outputs": [],
   "source": [
    "data_arc.loc[data_arc['Реактивная мощность'] < 0, 'Реактивная мощность'] =  data_arc.loc[\n",
    "        data_arc['key']==data_arc.loc[data_arc.loc[data_arc['Реактивная мощность'] < 0].index[0], 'key'], \n",
    "    'Реактивная мощность'].where(data_arc['Реактивная мощность'] > 0).mean()"
   ]
  },
  {
   "cell_type": "markdown",
   "metadata": {},
   "source": [
    "Построим диаграммы размаха по мощности:"
   ]
  },
  {
   "cell_type": "code",
   "execution_count": 31,
   "metadata": {},
   "outputs": [
    {
     "data": {
      "image/png": "[encoded data removed]",
      "text/plain": [
       "<Figure size 432x288 with 1 Axes>"
      ]
     },
     "metadata": {
      "needs_background": "light"
     },
     "output_type": "display_data"
    }
   ],
   "source": [
    "plt.boxplot(\n",
    "            [data_arc['Активная мощность'],\n",
    "            data_arc['Реактивная мощность']],\n",
    "            labels = ['Активная мощность', 'Реактивная мощность'], showmeans=True\n",
    "            )\n",
    "plt.ylabel('Мощность')\n",
    "plt.title('Диаграмма размаха потребляемой мощности электродуговой печи')\n",
    "plt.show()"
   ]
  },
  {
   "cell_type": "markdown",
   "metadata": {},
   "source": [
    "В данных по мощности отсутствуют выбросы \"снизу\", медианное значение довольно близко к среднему, при этом оба распределения смещены вправо. "
   ]
  },
  {
   "cell_type": "markdown",
   "metadata": {},
   "source": [
    "Проверим данные на наличие дублированных строк:"
   ]
  },
  {
   "cell_type": "code",
   "execution_count": 32,
   "metadata": {},
   "outputs": [
    {
     "data": {
      "text/plain": [
       "0"
      ]
     },
     "execution_count": 32,
     "metadata": {},
     "output_type": "execute_result"
    }
   ],
   "source": [
    "data_arc.duplicated().sum()"
   ]
  },
  {
   "cell_type": "markdown",
   "metadata": {},
   "source": [
    "Преобразуем дату в тип datetime:"
   ]
  },
  {
   "cell_type": "code",
   "execution_count": 33,
   "metadata": {},
   "outputs": [],
   "source": [
    "data_arc['Начало нагрева дугой'] = pd.to_datetime(data_arc['Начало нагрева дугой'], format='%Y-%m-%d %H:%M:%S')"
   ]
  },
  {
   "cell_type": "code",
   "execution_count": 34,
   "metadata": {},
   "outputs": [],
   "source": [
    "data_arc['Конец нагрева дугой'] = pd.to_datetime(data_arc['Конец нагрева дугой'], format='%Y-%m-%d %H:%M:%S')"
   ]
  },
  {
   "cell_type": "markdown",
   "metadata": {},
   "source": [
    "Добавим столбец со временем нагрева в минутах:"
   ]
  },
  {
   "cell_type": "code",
   "execution_count": 35,
   "metadata": {},
   "outputs": [],
   "source": [
    "data_arc['Время нагрева'] = (data_arc['Конец нагрева дугой']-data_arc['Начало нагрева дугой']) / pd.Timedelta(minutes=1)"
   ]
  },
  {
   "cell_type": "code",
   "execution_count": 36,
   "metadata": {},
   "outputs": [
    {
     "data": {
      "text/html": [
       "<div>\n",
       "<style scoped>\n",
       "    .dataframe tbody tr th:only-of-type {\n",
       "        vertical-align: middle;\n",
       "    }\n",
       "\n",
       "    .dataframe tbody tr th {\n",
       "        vertical-align: top;\n",
       "    }\n",
       "\n",
       "    .dataframe thead th {\n",
       "        text-align: right;\n",
       "    }\n",
       "</style>\n",
       "<table border=\"1\" class=\"dataframe\">\n",
       "  <thead>\n",
       "    <tr style=\"text-align: right;\">\n",
       "      <th></th>\n",
       "      <th>key</th>\n",
       "      <th>Начало нагрева дугой</th>\n",
       "      <th>Конец нагрева дугой</th>\n",
       "      <th>Активная мощность</th>\n",
       "      <th>Реактивная мощность</th>\n",
       "      <th>Время нагрева</th>\n",
       "    </tr>\n",
       "  </thead>\n",
       "  <tbody>\n",
       "    <tr>\n",
       "      <td>0</td>\n",
       "      <td>1</td>\n",
       "      <td>2019-05-03 11:02:14</td>\n",
       "      <td>2019-05-03 11:06:02</td>\n",
       "      <td>0.976059</td>\n",
       "      <td>0.687084</td>\n",
       "      <td>3.800000</td>\n",
       "    </tr>\n",
       "    <tr>\n",
       "      <td>1</td>\n",
       "      <td>1</td>\n",
       "      <td>2019-05-03 11:07:28</td>\n",
       "      <td>2019-05-03 11:10:33</td>\n",
       "      <td>0.805607</td>\n",
       "      <td>0.520285</td>\n",
       "      <td>3.083333</td>\n",
       "    </tr>\n",
       "    <tr>\n",
       "      <td>2</td>\n",
       "      <td>1</td>\n",
       "      <td>2019-05-03 11:11:44</td>\n",
       "      <td>2019-05-03 11:14:36</td>\n",
       "      <td>0.744363</td>\n",
       "      <td>0.498805</td>\n",
       "      <td>2.866667</td>\n",
       "    </tr>\n",
       "    <tr>\n",
       "      <td>3</td>\n",
       "      <td>1</td>\n",
       "      <td>2019-05-03 11:18:14</td>\n",
       "      <td>2019-05-03 11:24:19</td>\n",
       "      <td>1.659363</td>\n",
       "      <td>1.062669</td>\n",
       "      <td>6.083333</td>\n",
       "    </tr>\n",
       "    <tr>\n",
       "      <td>4</td>\n",
       "      <td>1</td>\n",
       "      <td>2019-05-03 11:26:09</td>\n",
       "      <td>2019-05-03 11:28:37</td>\n",
       "      <td>0.692755</td>\n",
       "      <td>0.414397</td>\n",
       "      <td>2.466667</td>\n",
       "    </tr>\n",
       "  </tbody>\n",
       "</table>\n",
       "</div>"
      ],
      "text/plain": [
       "   key Начало нагрева дугой Конец нагрева дугой  Активная мощность  \\\n",
       "0    1  2019-05-03 11:02:14 2019-05-03 11:06:02           0.976059   \n",
       "1    1  2019-05-03 11:07:28 2019-05-03 11:10:33           0.805607   \n",
       "2    1  2019-05-03 11:11:44 2019-05-03 11:14:36           0.744363   \n",
       "3    1  2019-05-03 11:18:14 2019-05-03 11:24:19           1.659363   \n",
       "4    1  2019-05-03 11:26:09 2019-05-03 11:28:37           0.692755   \n",
       "\n",
       "   Реактивная мощность  Время нагрева  \n",
       "0             0.687084       3.800000  \n",
       "1             0.520285       3.083333  \n",
       "2             0.498805       2.866667  \n",
       "3             1.062669       6.083333  \n",
       "4             0.414397       2.466667  "
      ]
     },
     "execution_count": 36,
     "metadata": {},
     "output_type": "execute_result"
    }
   ],
   "source": [
    "data_arc.head()"
   ]
  },
  {
   "cell_type": "markdown",
   "metadata": {},
   "source": [
    "Добавим столбец с полной мощностью и рассчитаной затраченной энергией:"
   ]
  },
  {
   "cell_type": "code",
   "execution_count": 37,
   "metadata": {},
   "outputs": [],
   "source": [
    "data_arc['Полная мощность'] = (data_arc['Активная мощность']**2 + data_arc['Реактивная мощность']**2) ** 0.5"
   ]
  },
  {
   "cell_type": "code",
   "execution_count": 38,
   "metadata": {},
   "outputs": [],
   "source": [
    "data_arc['Затраченная энергия'] = data_arc['Полная мощность'] *  data_arc['Время нагрева']"
   ]
  },
  {
   "cell_type": "code",
   "execution_count": 39,
   "metadata": {},
   "outputs": [
    {
     "data": {
      "text/html": [
       "<div>\n",
       "<style scoped>\n",
       "    .dataframe tbody tr th:only-of-type {\n",
       "        vertical-align: middle;\n",
       "    }\n",
       "\n",
       "    .dataframe tbody tr th {\n",
       "        vertical-align: top;\n",
       "    }\n",
       "\n",
       "    .dataframe thead th {\n",
       "        text-align: right;\n",
       "    }\n",
       "</style>\n",
       "<table border=\"1\" class=\"dataframe\">\n",
       "  <thead>\n",
       "    <tr style=\"text-align: right;\">\n",
       "      <th></th>\n",
       "      <th>Затраченная энергия</th>\n",
       "    </tr>\n",
       "    <tr>\n",
       "      <th>key</th>\n",
       "      <th></th>\n",
       "    </tr>\n",
       "  </thead>\n",
       "  <tbody>\n",
       "    <tr>\n",
       "      <td>1</td>\n",
       "      <td>24.039629</td>\n",
       "    </tr>\n",
       "    <tr>\n",
       "      <td>2</td>\n",
       "      <td>14.687226</td>\n",
       "    </tr>\n",
       "    <tr>\n",
       "      <td>3</td>\n",
       "      <td>8.751113</td>\n",
       "    </tr>\n",
       "    <tr>\n",
       "      <td>4</td>\n",
       "      <td>13.281855</td>\n",
       "    </tr>\n",
       "    <tr>\n",
       "      <td>5</td>\n",
       "      <td>19.985633</td>\n",
       "    </tr>\n",
       "    <tr>\n",
       "      <td>...</td>\n",
       "      <td>...</td>\n",
       "    </tr>\n",
       "    <tr>\n",
       "      <td>3237</td>\n",
       "      <td>15.972271</td>\n",
       "    </tr>\n",
       "    <tr>\n",
       "      <td>3238</td>\n",
       "      <td>9.264456</td>\n",
       "    </tr>\n",
       "    <tr>\n",
       "      <td>3239</td>\n",
       "      <td>16.884462</td>\n",
       "    </tr>\n",
       "    <tr>\n",
       "      <td>3240</td>\n",
       "      <td>12.153482</td>\n",
       "    </tr>\n",
       "    <tr>\n",
       "      <td>3241</td>\n",
       "      <td>7.668039</td>\n",
       "    </tr>\n",
       "  </tbody>\n",
       "</table>\n",
       "<p>3214 rows × 1 columns</p>\n",
       "</div>"
      ],
      "text/plain": [
       "      Затраченная энергия\n",
       "key                      \n",
       "1               24.039629\n",
       "2               14.687226\n",
       "3                8.751113\n",
       "4               13.281855\n",
       "5               19.985633\n",
       "...                   ...\n",
       "3237            15.972271\n",
       "3238             9.264456\n",
       "3239            16.884462\n",
       "3240            12.153482\n",
       "3241             7.668039\n",
       "\n",
       "[3214 rows x 1 columns]"
      ]
     },
     "execution_count": 39,
     "metadata": {},
     "output_type": "execute_result"
    }
   ],
   "source": [
    "data_arc_work = data_arc.groupby('key').agg({'Затраченная энергия':'sum'})\n",
    "data_arc_work"
   ]
  },
  {
   "cell_type": "markdown",
   "metadata": {},
   "source": [
    "- Файл с данными объема подачи сыпучих материалов \"data_bulk.csv\""
   ]
  },
  {
   "cell_type": "code",
   "execution_count": 40,
   "metadata": {},
   "outputs": [],
   "source": [
    "data_bulk = pd.read_csv('/datasets/final_steel/data_bulk.csv')"
   ]
  },
  {
   "cell_type": "code",
   "execution_count": 41,
   "metadata": {},
   "outputs": [
    {
     "name": "stdout",
     "output_type": "stream",
     "text": [
      "<class 'pandas.core.frame.DataFrame'>\n",
      "RangeIndex: 3129 entries, 0 to 3128\n",
      "Data columns (total 16 columns):\n",
      "key        3129 non-null int64\n",
      "Bulk 1     252 non-null float64\n",
      "Bulk 2     22 non-null float64\n",
      "Bulk 3     1298 non-null float64\n",
      "Bulk 4     1014 non-null float64\n",
      "Bulk 5     77 non-null float64\n",
      "Bulk 6     576 non-null float64\n",
      "Bulk 7     25 non-null float64\n",
      "Bulk 8     1 non-null float64\n",
      "Bulk 9     19 non-null float64\n",
      "Bulk 10    176 non-null float64\n",
      "Bulk 11    177 non-null float64\n",
      "Bulk 12    2450 non-null float64\n",
      "Bulk 13    18 non-null float64\n",
      "Bulk 14    2806 non-null float64\n",
      "Bulk 15    2248 non-null float64\n",
      "dtypes: float64(15), int64(1)\n",
      "memory usage: 391.2 KB\n"
     ]
    }
   ],
   "source": [
    "data_bulk.info()"
   ]
  },
  {
   "cell_type": "markdown",
   "metadata": {},
   "source": [
    "Пропуски отсутствуют только в столбце \"key\", в остальных столбцах они имеются.\n",
    "\n",
    "Посмотрим на данные:"
   ]
  },
  {
   "cell_type": "code",
   "execution_count": 42,
   "metadata": {},
   "outputs": [
    {
     "data": {
      "text/html": [
       "<div>\n",
       "<style scoped>\n",
       "    .dataframe tbody tr th:only-of-type {\n",
       "        vertical-align: middle;\n",
       "    }\n",
       "\n",
       "    .dataframe tbody tr th {\n",
       "        vertical-align: top;\n",
       "    }\n",
       "\n",
       "    .dataframe thead th {\n",
       "        text-align: right;\n",
       "    }\n",
       "</style>\n",
       "<table border=\"1\" class=\"dataframe\">\n",
       "  <thead>\n",
       "    <tr style=\"text-align: right;\">\n",
       "      <th></th>\n",
       "      <th>key</th>\n",
       "      <th>Bulk 1</th>\n",
       "      <th>Bulk 2</th>\n",
       "      <th>Bulk 3</th>\n",
       "      <th>Bulk 4</th>\n",
       "      <th>Bulk 5</th>\n",
       "      <th>Bulk 6</th>\n",
       "      <th>Bulk 7</th>\n",
       "      <th>Bulk 8</th>\n",
       "      <th>Bulk 9</th>\n",
       "      <th>Bulk 10</th>\n",
       "      <th>Bulk 11</th>\n",
       "      <th>Bulk 12</th>\n",
       "      <th>Bulk 13</th>\n",
       "      <th>Bulk 14</th>\n",
       "      <th>Bulk 15</th>\n",
       "    </tr>\n",
       "  </thead>\n",
       "  <tbody>\n",
       "    <tr>\n",
       "      <td>0</td>\n",
       "      <td>1</td>\n",
       "      <td>NaN</td>\n",
       "      <td>NaN</td>\n",
       "      <td>NaN</td>\n",
       "      <td>43.0</td>\n",
       "      <td>NaN</td>\n",
       "      <td>NaN</td>\n",
       "      <td>NaN</td>\n",
       "      <td>NaN</td>\n",
       "      <td>NaN</td>\n",
       "      <td>NaN</td>\n",
       "      <td>NaN</td>\n",
       "      <td>206.0</td>\n",
       "      <td>NaN</td>\n",
       "      <td>150.0</td>\n",
       "      <td>154.0</td>\n",
       "    </tr>\n",
       "    <tr>\n",
       "      <td>1</td>\n",
       "      <td>2</td>\n",
       "      <td>NaN</td>\n",
       "      <td>NaN</td>\n",
       "      <td>NaN</td>\n",
       "      <td>73.0</td>\n",
       "      <td>NaN</td>\n",
       "      <td>NaN</td>\n",
       "      <td>NaN</td>\n",
       "      <td>NaN</td>\n",
       "      <td>NaN</td>\n",
       "      <td>NaN</td>\n",
       "      <td>NaN</td>\n",
       "      <td>206.0</td>\n",
       "      <td>NaN</td>\n",
       "      <td>149.0</td>\n",
       "      <td>154.0</td>\n",
       "    </tr>\n",
       "    <tr>\n",
       "      <td>2</td>\n",
       "      <td>3</td>\n",
       "      <td>NaN</td>\n",
       "      <td>NaN</td>\n",
       "      <td>NaN</td>\n",
       "      <td>34.0</td>\n",
       "      <td>NaN</td>\n",
       "      <td>NaN</td>\n",
       "      <td>NaN</td>\n",
       "      <td>NaN</td>\n",
       "      <td>NaN</td>\n",
       "      <td>NaN</td>\n",
       "      <td>NaN</td>\n",
       "      <td>205.0</td>\n",
       "      <td>NaN</td>\n",
       "      <td>152.0</td>\n",
       "      <td>153.0</td>\n",
       "    </tr>\n",
       "    <tr>\n",
       "      <td>3</td>\n",
       "      <td>4</td>\n",
       "      <td>NaN</td>\n",
       "      <td>NaN</td>\n",
       "      <td>NaN</td>\n",
       "      <td>81.0</td>\n",
       "      <td>NaN</td>\n",
       "      <td>NaN</td>\n",
       "      <td>NaN</td>\n",
       "      <td>NaN</td>\n",
       "      <td>NaN</td>\n",
       "      <td>NaN</td>\n",
       "      <td>NaN</td>\n",
       "      <td>207.0</td>\n",
       "      <td>NaN</td>\n",
       "      <td>153.0</td>\n",
       "      <td>154.0</td>\n",
       "    </tr>\n",
       "    <tr>\n",
       "      <td>4</td>\n",
       "      <td>5</td>\n",
       "      <td>NaN</td>\n",
       "      <td>NaN</td>\n",
       "      <td>NaN</td>\n",
       "      <td>78.0</td>\n",
       "      <td>NaN</td>\n",
       "      <td>NaN</td>\n",
       "      <td>NaN</td>\n",
       "      <td>NaN</td>\n",
       "      <td>NaN</td>\n",
       "      <td>NaN</td>\n",
       "      <td>NaN</td>\n",
       "      <td>203.0</td>\n",
       "      <td>NaN</td>\n",
       "      <td>151.0</td>\n",
       "      <td>152.0</td>\n",
       "    </tr>\n",
       "    <tr>\n",
       "      <td>5</td>\n",
       "      <td>6</td>\n",
       "      <td>NaN</td>\n",
       "      <td>NaN</td>\n",
       "      <td>NaN</td>\n",
       "      <td>117.0</td>\n",
       "      <td>NaN</td>\n",
       "      <td>NaN</td>\n",
       "      <td>NaN</td>\n",
       "      <td>NaN</td>\n",
       "      <td>NaN</td>\n",
       "      <td>NaN</td>\n",
       "      <td>NaN</td>\n",
       "      <td>204.0</td>\n",
       "      <td>NaN</td>\n",
       "      <td>201.0</td>\n",
       "      <td>154.0</td>\n",
       "    </tr>\n",
       "    <tr>\n",
       "      <td>6</td>\n",
       "      <td>7</td>\n",
       "      <td>NaN</td>\n",
       "      <td>NaN</td>\n",
       "      <td>NaN</td>\n",
       "      <td>117.0</td>\n",
       "      <td>NaN</td>\n",
       "      <td>NaN</td>\n",
       "      <td>NaN</td>\n",
       "      <td>NaN</td>\n",
       "      <td>NaN</td>\n",
       "      <td>NaN</td>\n",
       "      <td>NaN</td>\n",
       "      <td>204.0</td>\n",
       "      <td>NaN</td>\n",
       "      <td>152.0</td>\n",
       "      <td>154.0</td>\n",
       "    </tr>\n",
       "    <tr>\n",
       "      <td>7</td>\n",
       "      <td>8</td>\n",
       "      <td>NaN</td>\n",
       "      <td>NaN</td>\n",
       "      <td>NaN</td>\n",
       "      <td>99.0</td>\n",
       "      <td>NaN</td>\n",
       "      <td>NaN</td>\n",
       "      <td>NaN</td>\n",
       "      <td>NaN</td>\n",
       "      <td>NaN</td>\n",
       "      <td>NaN</td>\n",
       "      <td>NaN</td>\n",
       "      <td>410.0</td>\n",
       "      <td>NaN</td>\n",
       "      <td>252.0</td>\n",
       "      <td>153.0</td>\n",
       "    </tr>\n",
       "    <tr>\n",
       "      <td>8</td>\n",
       "      <td>9</td>\n",
       "      <td>NaN</td>\n",
       "      <td>NaN</td>\n",
       "      <td>NaN</td>\n",
       "      <td>117.0</td>\n",
       "      <td>NaN</td>\n",
       "      <td>NaN</td>\n",
       "      <td>NaN</td>\n",
       "      <td>NaN</td>\n",
       "      <td>NaN</td>\n",
       "      <td>NaN</td>\n",
       "      <td>NaN</td>\n",
       "      <td>107.0</td>\n",
       "      <td>NaN</td>\n",
       "      <td>99.0</td>\n",
       "      <td>203.0</td>\n",
       "    </tr>\n",
       "    <tr>\n",
       "      <td>9</td>\n",
       "      <td>10</td>\n",
       "      <td>NaN</td>\n",
       "      <td>NaN</td>\n",
       "      <td>NaN</td>\n",
       "      <td>NaN</td>\n",
       "      <td>NaN</td>\n",
       "      <td>NaN</td>\n",
       "      <td>NaN</td>\n",
       "      <td>NaN</td>\n",
       "      <td>NaN</td>\n",
       "      <td>NaN</td>\n",
       "      <td>NaN</td>\n",
       "      <td>203.0</td>\n",
       "      <td>NaN</td>\n",
       "      <td>102.0</td>\n",
       "      <td>204.0</td>\n",
       "    </tr>\n",
       "  </tbody>\n",
       "</table>\n",
       "</div>"
      ],
      "text/plain": [
       "   key  Bulk 1  Bulk 2  Bulk 3  Bulk 4  Bulk 5  Bulk 6  Bulk 7  Bulk 8  \\\n",
       "0    1     NaN     NaN     NaN    43.0     NaN     NaN     NaN     NaN   \n",
       "1    2     NaN     NaN     NaN    73.0     NaN     NaN     NaN     NaN   \n",
       "2    3     NaN     NaN     NaN    34.0     NaN     NaN     NaN     NaN   \n",
       "3    4     NaN     NaN     NaN    81.0     NaN     NaN     NaN     NaN   \n",
       "4    5     NaN     NaN     NaN    78.0     NaN     NaN     NaN     NaN   \n",
       "5    6     NaN     NaN     NaN   117.0     NaN     NaN     NaN     NaN   \n",
       "6    7     NaN     NaN     NaN   117.0     NaN     NaN     NaN     NaN   \n",
       "7    8     NaN     NaN     NaN    99.0     NaN     NaN     NaN     NaN   \n",
       "8    9     NaN     NaN     NaN   117.0     NaN     NaN     NaN     NaN   \n",
       "9   10     NaN     NaN     NaN     NaN     NaN     NaN     NaN     NaN   \n",
       "\n",
       "   Bulk 9  Bulk 10  Bulk 11  Bulk 12  Bulk 13  Bulk 14  Bulk 15  \n",
       "0     NaN      NaN      NaN    206.0      NaN    150.0    154.0  \n",
       "1     NaN      NaN      NaN    206.0      NaN    149.0    154.0  \n",
       "2     NaN      NaN      NaN    205.0      NaN    152.0    153.0  \n",
       "3     NaN      NaN      NaN    207.0      NaN    153.0    154.0  \n",
       "4     NaN      NaN      NaN    203.0      NaN    151.0    152.0  \n",
       "5     NaN      NaN      NaN    204.0      NaN    201.0    154.0  \n",
       "6     NaN      NaN      NaN    204.0      NaN    152.0    154.0  \n",
       "7     NaN      NaN      NaN    410.0      NaN    252.0    153.0  \n",
       "8     NaN      NaN      NaN    107.0      NaN     99.0    203.0  \n",
       "9     NaN      NaN      NaN    203.0      NaN    102.0    204.0  "
      ]
     },
     "execution_count": 42,
     "metadata": {},
     "output_type": "execute_result"
    }
   ],
   "source": [
    "data_bulk.head(10)"
   ]
  },
  {
   "cell_type": "code",
   "execution_count": 43,
   "metadata": {
    "scrolled": true
   },
   "outputs": [
    {
     "data": {
      "text/html": [
       "<div>\n",
       "<style scoped>\n",
       "    .dataframe tbody tr th:only-of-type {\n",
       "        vertical-align: middle;\n",
       "    }\n",
       "\n",
       "    .dataframe tbody tr th {\n",
       "        vertical-align: top;\n",
       "    }\n",
       "\n",
       "    .dataframe thead th {\n",
       "        text-align: right;\n",
       "    }\n",
       "</style>\n",
       "<table border=\"1\" class=\"dataframe\">\n",
       "  <thead>\n",
       "    <tr style=\"text-align: right;\">\n",
       "      <th></th>\n",
       "      <th>key</th>\n",
       "      <th>Bulk 1</th>\n",
       "      <th>Bulk 2</th>\n",
       "      <th>Bulk 3</th>\n",
       "      <th>Bulk 4</th>\n",
       "      <th>Bulk 5</th>\n",
       "      <th>Bulk 6</th>\n",
       "      <th>Bulk 7</th>\n",
       "      <th>Bulk 8</th>\n",
       "      <th>Bulk 9</th>\n",
       "      <th>Bulk 10</th>\n",
       "      <th>Bulk 11</th>\n",
       "      <th>Bulk 12</th>\n",
       "      <th>Bulk 13</th>\n",
       "      <th>Bulk 14</th>\n",
       "      <th>Bulk 15</th>\n",
       "    </tr>\n",
       "  </thead>\n",
       "  <tbody>\n",
       "    <tr>\n",
       "      <td>2345</td>\n",
       "      <td>2430</td>\n",
       "      <td>NaN</td>\n",
       "      <td>NaN</td>\n",
       "      <td>111.0</td>\n",
       "      <td>NaN</td>\n",
       "      <td>NaN</td>\n",
       "      <td>NaN</td>\n",
       "      <td>NaN</td>\n",
       "      <td>NaN</td>\n",
       "      <td>NaN</td>\n",
       "      <td>NaN</td>\n",
       "      <td>31.0</td>\n",
       "      <td>NaN</td>\n",
       "      <td>NaN</td>\n",
       "      <td>NaN</td>\n",
       "      <td>NaN</td>\n",
       "    </tr>\n",
       "    <tr>\n",
       "      <td>1276</td>\n",
       "      <td>1327</td>\n",
       "      <td>NaN</td>\n",
       "      <td>NaN</td>\n",
       "      <td>NaN</td>\n",
       "      <td>86.0</td>\n",
       "      <td>NaN</td>\n",
       "      <td>NaN</td>\n",
       "      <td>NaN</td>\n",
       "      <td>NaN</td>\n",
       "      <td>NaN</td>\n",
       "      <td>NaN</td>\n",
       "      <td>NaN</td>\n",
       "      <td>261.0</td>\n",
       "      <td>NaN</td>\n",
       "      <td>136.0</td>\n",
       "      <td>216.0</td>\n",
       "    </tr>\n",
       "    <tr>\n",
       "      <td>893</td>\n",
       "      <td>929</td>\n",
       "      <td>NaN</td>\n",
       "      <td>NaN</td>\n",
       "      <td>NaN</td>\n",
       "      <td>NaN</td>\n",
       "      <td>NaN</td>\n",
       "      <td>NaN</td>\n",
       "      <td>NaN</td>\n",
       "      <td>NaN</td>\n",
       "      <td>NaN</td>\n",
       "      <td>NaN</td>\n",
       "      <td>NaN</td>\n",
       "      <td>NaN</td>\n",
       "      <td>NaN</td>\n",
       "      <td>153.0</td>\n",
       "      <td>NaN</td>\n",
       "    </tr>\n",
       "    <tr>\n",
       "      <td>382</td>\n",
       "      <td>408</td>\n",
       "      <td>NaN</td>\n",
       "      <td>NaN</td>\n",
       "      <td>NaN</td>\n",
       "      <td>NaN</td>\n",
       "      <td>NaN</td>\n",
       "      <td>NaN</td>\n",
       "      <td>NaN</td>\n",
       "      <td>NaN</td>\n",
       "      <td>NaN</td>\n",
       "      <td>NaN</td>\n",
       "      <td>NaN</td>\n",
       "      <td>205.0</td>\n",
       "      <td>NaN</td>\n",
       "      <td>156.0</td>\n",
       "      <td>152.0</td>\n",
       "    </tr>\n",
       "    <tr>\n",
       "      <td>283</td>\n",
       "      <td>301</td>\n",
       "      <td>NaN</td>\n",
       "      <td>NaN</td>\n",
       "      <td>NaN</td>\n",
       "      <td>NaN</td>\n",
       "      <td>NaN</td>\n",
       "      <td>NaN</td>\n",
       "      <td>NaN</td>\n",
       "      <td>NaN</td>\n",
       "      <td>NaN</td>\n",
       "      <td>NaN</td>\n",
       "      <td>NaN</td>\n",
       "      <td>313.0</td>\n",
       "      <td>NaN</td>\n",
       "      <td>254.0</td>\n",
       "      <td>204.0</td>\n",
       "    </tr>\n",
       "    <tr>\n",
       "      <td>2370</td>\n",
       "      <td>2457</td>\n",
       "      <td>NaN</td>\n",
       "      <td>NaN</td>\n",
       "      <td>83.0</td>\n",
       "      <td>NaN</td>\n",
       "      <td>NaN</td>\n",
       "      <td>NaN</td>\n",
       "      <td>NaN</td>\n",
       "      <td>NaN</td>\n",
       "      <td>NaN</td>\n",
       "      <td>NaN</td>\n",
       "      <td>NaN</td>\n",
       "      <td>157.0</td>\n",
       "      <td>NaN</td>\n",
       "      <td>89.0</td>\n",
       "      <td>206.0</td>\n",
       "    </tr>\n",
       "    <tr>\n",
       "      <td>627</td>\n",
       "      <td>657</td>\n",
       "      <td>NaN</td>\n",
       "      <td>NaN</td>\n",
       "      <td>80.0</td>\n",
       "      <td>NaN</td>\n",
       "      <td>NaN</td>\n",
       "      <td>NaN</td>\n",
       "      <td>NaN</td>\n",
       "      <td>NaN</td>\n",
       "      <td>NaN</td>\n",
       "      <td>NaN</td>\n",
       "      <td>NaN</td>\n",
       "      <td>155.0</td>\n",
       "      <td>NaN</td>\n",
       "      <td>132.0</td>\n",
       "      <td>104.0</td>\n",
       "    </tr>\n",
       "    <tr>\n",
       "      <td>3050</td>\n",
       "      <td>3159</td>\n",
       "      <td>NaN</td>\n",
       "      <td>NaN</td>\n",
       "      <td>194.0</td>\n",
       "      <td>NaN</td>\n",
       "      <td>NaN</td>\n",
       "      <td>NaN</td>\n",
       "      <td>NaN</td>\n",
       "      <td>NaN</td>\n",
       "      <td>NaN</td>\n",
       "      <td>NaN</td>\n",
       "      <td>NaN</td>\n",
       "      <td>418.0</td>\n",
       "      <td>NaN</td>\n",
       "      <td>250.0</td>\n",
       "      <td>NaN</td>\n",
       "    </tr>\n",
       "    <tr>\n",
       "      <td>1958</td>\n",
       "      <td>2026</td>\n",
       "      <td>NaN</td>\n",
       "      <td>NaN</td>\n",
       "      <td>NaN</td>\n",
       "      <td>NaN</td>\n",
       "      <td>NaN</td>\n",
       "      <td>106.0</td>\n",
       "      <td>NaN</td>\n",
       "      <td>NaN</td>\n",
       "      <td>NaN</td>\n",
       "      <td>NaN</td>\n",
       "      <td>74.0</td>\n",
       "      <td>NaN</td>\n",
       "      <td>NaN</td>\n",
       "      <td>249.0</td>\n",
       "      <td>NaN</td>\n",
       "    </tr>\n",
       "    <tr>\n",
       "      <td>211</td>\n",
       "      <td>228</td>\n",
       "      <td>NaN</td>\n",
       "      <td>NaN</td>\n",
       "      <td>153.0</td>\n",
       "      <td>NaN</td>\n",
       "      <td>NaN</td>\n",
       "      <td>95.0</td>\n",
       "      <td>NaN</td>\n",
       "      <td>NaN</td>\n",
       "      <td>NaN</td>\n",
       "      <td>NaN</td>\n",
       "      <td>NaN</td>\n",
       "      <td>256.0</td>\n",
       "      <td>NaN</td>\n",
       "      <td>154.0</td>\n",
       "      <td>204.0</td>\n",
       "    </tr>\n",
       "  </tbody>\n",
       "</table>\n",
       "</div>"
      ],
      "text/plain": [
       "       key  Bulk 1  Bulk 2  Bulk 3  Bulk 4  Bulk 5  Bulk 6  Bulk 7  Bulk 8  \\\n",
       "2345  2430     NaN     NaN   111.0     NaN     NaN     NaN     NaN     NaN   \n",
       "1276  1327     NaN     NaN     NaN    86.0     NaN     NaN     NaN     NaN   \n",
       "893    929     NaN     NaN     NaN     NaN     NaN     NaN     NaN     NaN   \n",
       "382    408     NaN     NaN     NaN     NaN     NaN     NaN     NaN     NaN   \n",
       "283    301     NaN     NaN     NaN     NaN     NaN     NaN     NaN     NaN   \n",
       "2370  2457     NaN     NaN    83.0     NaN     NaN     NaN     NaN     NaN   \n",
       "627    657     NaN     NaN    80.0     NaN     NaN     NaN     NaN     NaN   \n",
       "3050  3159     NaN     NaN   194.0     NaN     NaN     NaN     NaN     NaN   \n",
       "1958  2026     NaN     NaN     NaN     NaN     NaN   106.0     NaN     NaN   \n",
       "211    228     NaN     NaN   153.0     NaN     NaN    95.0     NaN     NaN   \n",
       "\n",
       "      Bulk 9  Bulk 10  Bulk 11  Bulk 12  Bulk 13  Bulk 14  Bulk 15  \n",
       "2345     NaN      NaN     31.0      NaN      NaN      NaN      NaN  \n",
       "1276     NaN      NaN      NaN    261.0      NaN    136.0    216.0  \n",
       "893      NaN      NaN      NaN      NaN      NaN    153.0      NaN  \n",
       "382      NaN      NaN      NaN    205.0      NaN    156.0    152.0  \n",
       "283      NaN      NaN      NaN    313.0      NaN    254.0    204.0  \n",
       "2370     NaN      NaN      NaN    157.0      NaN     89.0    206.0  \n",
       "627      NaN      NaN      NaN    155.0      NaN    132.0    104.0  \n",
       "3050     NaN      NaN      NaN    418.0      NaN    250.0      NaN  \n",
       "1958     NaN      NaN     74.0      NaN      NaN    249.0      NaN  \n",
       "211      NaN      NaN      NaN    256.0      NaN    154.0    204.0  "
      ]
     },
     "execution_count": 43,
     "metadata": {},
     "output_type": "execute_result"
    }
   ],
   "source": [
    "data_bulk.sample(10)"
   ]
  },
  {
   "cell_type": "code",
   "execution_count": 44,
   "metadata": {},
   "outputs": [
    {
     "data": {
      "text/html": [
       "<div>\n",
       "<style scoped>\n",
       "    .dataframe tbody tr th:only-of-type {\n",
       "        vertical-align: middle;\n",
       "    }\n",
       "\n",
       "    .dataframe tbody tr th {\n",
       "        vertical-align: top;\n",
       "    }\n",
       "\n",
       "    .dataframe thead th {\n",
       "        text-align: right;\n",
       "    }\n",
       "</style>\n",
       "<table border=\"1\" class=\"dataframe\">\n",
       "  <thead>\n",
       "    <tr style=\"text-align: right;\">\n",
       "      <th></th>\n",
       "      <th>key</th>\n",
       "      <th>Bulk 1</th>\n",
       "      <th>Bulk 2</th>\n",
       "      <th>Bulk 3</th>\n",
       "      <th>Bulk 4</th>\n",
       "      <th>Bulk 5</th>\n",
       "      <th>Bulk 6</th>\n",
       "      <th>Bulk 7</th>\n",
       "      <th>Bulk 8</th>\n",
       "      <th>Bulk 9</th>\n",
       "      <th>Bulk 10</th>\n",
       "      <th>Bulk 11</th>\n",
       "      <th>Bulk 12</th>\n",
       "      <th>Bulk 13</th>\n",
       "      <th>Bulk 14</th>\n",
       "      <th>Bulk 15</th>\n",
       "    </tr>\n",
       "  </thead>\n",
       "  <tbody>\n",
       "    <tr>\n",
       "      <td>3119</td>\n",
       "      <td>3232</td>\n",
       "      <td>NaN</td>\n",
       "      <td>NaN</td>\n",
       "      <td>22.0</td>\n",
       "      <td>NaN</td>\n",
       "      <td>NaN</td>\n",
       "      <td>NaN</td>\n",
       "      <td>NaN</td>\n",
       "      <td>NaN</td>\n",
       "      <td>NaN</td>\n",
       "      <td>NaN</td>\n",
       "      <td>NaN</td>\n",
       "      <td>252.0</td>\n",
       "      <td>NaN</td>\n",
       "      <td>92.0</td>\n",
       "      <td>204.0</td>\n",
       "    </tr>\n",
       "    <tr>\n",
       "      <td>3120</td>\n",
       "      <td>3233</td>\n",
       "      <td>NaN</td>\n",
       "      <td>NaN</td>\n",
       "      <td>NaN</td>\n",
       "      <td>NaN</td>\n",
       "      <td>NaN</td>\n",
       "      <td>NaN</td>\n",
       "      <td>NaN</td>\n",
       "      <td>NaN</td>\n",
       "      <td>NaN</td>\n",
       "      <td>NaN</td>\n",
       "      <td>NaN</td>\n",
       "      <td>254.0</td>\n",
       "      <td>NaN</td>\n",
       "      <td>114.0</td>\n",
       "      <td>204.0</td>\n",
       "    </tr>\n",
       "    <tr>\n",
       "      <td>3121</td>\n",
       "      <td>3234</td>\n",
       "      <td>NaN</td>\n",
       "      <td>NaN</td>\n",
       "      <td>NaN</td>\n",
       "      <td>NaN</td>\n",
       "      <td>NaN</td>\n",
       "      <td>NaN</td>\n",
       "      <td>NaN</td>\n",
       "      <td>NaN</td>\n",
       "      <td>NaN</td>\n",
       "      <td>NaN</td>\n",
       "      <td>NaN</td>\n",
       "      <td>NaN</td>\n",
       "      <td>NaN</td>\n",
       "      <td>262.0</td>\n",
       "      <td>204.0</td>\n",
       "    </tr>\n",
       "    <tr>\n",
       "      <td>3122</td>\n",
       "      <td>3235</td>\n",
       "      <td>NaN</td>\n",
       "      <td>NaN</td>\n",
       "      <td>NaN</td>\n",
       "      <td>NaN</td>\n",
       "      <td>NaN</td>\n",
       "      <td>NaN</td>\n",
       "      <td>NaN</td>\n",
       "      <td>NaN</td>\n",
       "      <td>NaN</td>\n",
       "      <td>NaN</td>\n",
       "      <td>NaN</td>\n",
       "      <td>204.0</td>\n",
       "      <td>NaN</td>\n",
       "      <td>118.0</td>\n",
       "      <td>206.0</td>\n",
       "    </tr>\n",
       "    <tr>\n",
       "      <td>3123</td>\n",
       "      <td>3236</td>\n",
       "      <td>NaN</td>\n",
       "      <td>NaN</td>\n",
       "      <td>42.0</td>\n",
       "      <td>NaN</td>\n",
       "      <td>NaN</td>\n",
       "      <td>NaN</td>\n",
       "      <td>NaN</td>\n",
       "      <td>NaN</td>\n",
       "      <td>NaN</td>\n",
       "      <td>NaN</td>\n",
       "      <td>NaN</td>\n",
       "      <td>258.0</td>\n",
       "      <td>NaN</td>\n",
       "      <td>132.0</td>\n",
       "      <td>208.0</td>\n",
       "    </tr>\n",
       "    <tr>\n",
       "      <td>3124</td>\n",
       "      <td>3237</td>\n",
       "      <td>NaN</td>\n",
       "      <td>NaN</td>\n",
       "      <td>170.0</td>\n",
       "      <td>NaN</td>\n",
       "      <td>NaN</td>\n",
       "      <td>NaN</td>\n",
       "      <td>NaN</td>\n",
       "      <td>NaN</td>\n",
       "      <td>NaN</td>\n",
       "      <td>NaN</td>\n",
       "      <td>NaN</td>\n",
       "      <td>252.0</td>\n",
       "      <td>NaN</td>\n",
       "      <td>130.0</td>\n",
       "      <td>206.0</td>\n",
       "    </tr>\n",
       "    <tr>\n",
       "      <td>3125</td>\n",
       "      <td>3238</td>\n",
       "      <td>NaN</td>\n",
       "      <td>NaN</td>\n",
       "      <td>126.0</td>\n",
       "      <td>NaN</td>\n",
       "      <td>NaN</td>\n",
       "      <td>NaN</td>\n",
       "      <td>NaN</td>\n",
       "      <td>NaN</td>\n",
       "      <td>NaN</td>\n",
       "      <td>NaN</td>\n",
       "      <td>NaN</td>\n",
       "      <td>254.0</td>\n",
       "      <td>NaN</td>\n",
       "      <td>108.0</td>\n",
       "      <td>106.0</td>\n",
       "    </tr>\n",
       "    <tr>\n",
       "      <td>3126</td>\n",
       "      <td>3239</td>\n",
       "      <td>NaN</td>\n",
       "      <td>NaN</td>\n",
       "      <td>NaN</td>\n",
       "      <td>NaN</td>\n",
       "      <td>NaN</td>\n",
       "      <td>114.0</td>\n",
       "      <td>NaN</td>\n",
       "      <td>NaN</td>\n",
       "      <td>NaN</td>\n",
       "      <td>NaN</td>\n",
       "      <td>NaN</td>\n",
       "      <td>158.0</td>\n",
       "      <td>NaN</td>\n",
       "      <td>270.0</td>\n",
       "      <td>88.0</td>\n",
       "    </tr>\n",
       "    <tr>\n",
       "      <td>3127</td>\n",
       "      <td>3240</td>\n",
       "      <td>NaN</td>\n",
       "      <td>NaN</td>\n",
       "      <td>NaN</td>\n",
       "      <td>NaN</td>\n",
       "      <td>NaN</td>\n",
       "      <td>26.0</td>\n",
       "      <td>NaN</td>\n",
       "      <td>NaN</td>\n",
       "      <td>NaN</td>\n",
       "      <td>NaN</td>\n",
       "      <td>NaN</td>\n",
       "      <td>NaN</td>\n",
       "      <td>NaN</td>\n",
       "      <td>192.0</td>\n",
       "      <td>54.0</td>\n",
       "    </tr>\n",
       "    <tr>\n",
       "      <td>3128</td>\n",
       "      <td>3241</td>\n",
       "      <td>NaN</td>\n",
       "      <td>NaN</td>\n",
       "      <td>NaN</td>\n",
       "      <td>NaN</td>\n",
       "      <td>NaN</td>\n",
       "      <td>NaN</td>\n",
       "      <td>NaN</td>\n",
       "      <td>NaN</td>\n",
       "      <td>NaN</td>\n",
       "      <td>NaN</td>\n",
       "      <td>NaN</td>\n",
       "      <td>NaN</td>\n",
       "      <td>NaN</td>\n",
       "      <td>180.0</td>\n",
       "      <td>52.0</td>\n",
       "    </tr>\n",
       "  </tbody>\n",
       "</table>\n",
       "</div>"
      ],
      "text/plain": [
       "       key  Bulk 1  Bulk 2  Bulk 3  Bulk 4  Bulk 5  Bulk 6  Bulk 7  Bulk 8  \\\n",
       "3119  3232     NaN     NaN    22.0     NaN     NaN     NaN     NaN     NaN   \n",
       "3120  3233     NaN     NaN     NaN     NaN     NaN     NaN     NaN     NaN   \n",
       "3121  3234     NaN     NaN     NaN     NaN     NaN     NaN     NaN     NaN   \n",
       "3122  3235     NaN     NaN     NaN     NaN     NaN     NaN     NaN     NaN   \n",
       "3123  3236     NaN     NaN    42.0     NaN     NaN     NaN     NaN     NaN   \n",
       "3124  3237     NaN     NaN   170.0     NaN     NaN     NaN     NaN     NaN   \n",
       "3125  3238     NaN     NaN   126.0     NaN     NaN     NaN     NaN     NaN   \n",
       "3126  3239     NaN     NaN     NaN     NaN     NaN   114.0     NaN     NaN   \n",
       "3127  3240     NaN     NaN     NaN     NaN     NaN    26.0     NaN     NaN   \n",
       "3128  3241     NaN     NaN     NaN     NaN     NaN     NaN     NaN     NaN   \n",
       "\n",
       "      Bulk 9  Bulk 10  Bulk 11  Bulk 12  Bulk 13  Bulk 14  Bulk 15  \n",
       "3119     NaN      NaN      NaN    252.0      NaN     92.0    204.0  \n",
       "3120     NaN      NaN      NaN    254.0      NaN    114.0    204.0  \n",
       "3121     NaN      NaN      NaN      NaN      NaN    262.0    204.0  \n",
       "3122     NaN      NaN      NaN    204.0      NaN    118.0    206.0  \n",
       "3123     NaN      NaN      NaN    258.0      NaN    132.0    208.0  \n",
       "3124     NaN      NaN      NaN    252.0      NaN    130.0    206.0  \n",
       "3125     NaN      NaN      NaN    254.0      NaN    108.0    106.0  \n",
       "3126     NaN      NaN      NaN    158.0      NaN    270.0     88.0  \n",
       "3127     NaN      NaN      NaN      NaN      NaN    192.0     54.0  \n",
       "3128     NaN      NaN      NaN      NaN      NaN    180.0     52.0  "
      ]
     },
     "execution_count": 44,
     "metadata": {},
     "output_type": "execute_result"
    }
   ],
   "source": [
    "data_bulk.tail(10)"
   ]
  },
  {
   "cell_type": "code",
   "execution_count": 45,
   "metadata": {},
   "outputs": [
    {
     "data": {
      "text/html": [
       "<div>\n",
       "<style scoped>\n",
       "    .dataframe tbody tr th:only-of-type {\n",
       "        vertical-align: middle;\n",
       "    }\n",
       "\n",
       "    .dataframe tbody tr th {\n",
       "        vertical-align: top;\n",
       "    }\n",
       "\n",
       "    .dataframe thead th {\n",
       "        text-align: right;\n",
       "    }\n",
       "</style>\n",
       "<table border=\"1\" class=\"dataframe\">\n",
       "  <thead>\n",
       "    <tr style=\"text-align: right;\">\n",
       "      <th></th>\n",
       "      <th>key</th>\n",
       "      <th>Bulk 1</th>\n",
       "      <th>Bulk 2</th>\n",
       "      <th>Bulk 3</th>\n",
       "      <th>Bulk 4</th>\n",
       "      <th>Bulk 5</th>\n",
       "      <th>Bulk 6</th>\n",
       "      <th>Bulk 7</th>\n",
       "      <th>Bulk 8</th>\n",
       "      <th>Bulk 9</th>\n",
       "      <th>Bulk 10</th>\n",
       "      <th>Bulk 11</th>\n",
       "      <th>Bulk 12</th>\n",
       "      <th>Bulk 13</th>\n",
       "      <th>Bulk 14</th>\n",
       "      <th>Bulk 15</th>\n",
       "    </tr>\n",
       "  </thead>\n",
       "  <tbody>\n",
       "    <tr>\n",
       "      <td>count</td>\n",
       "      <td>3129.000000</td>\n",
       "      <td>252.000000</td>\n",
       "      <td>22.000000</td>\n",
       "      <td>1298.000000</td>\n",
       "      <td>1014.000000</td>\n",
       "      <td>77.000000</td>\n",
       "      <td>576.000000</td>\n",
       "      <td>25.000000</td>\n",
       "      <td>1.0</td>\n",
       "      <td>19.000000</td>\n",
       "      <td>176.000000</td>\n",
       "      <td>177.000000</td>\n",
       "      <td>2450.000000</td>\n",
       "      <td>18.000000</td>\n",
       "      <td>2806.000000</td>\n",
       "      <td>2248.000000</td>\n",
       "    </tr>\n",
       "    <tr>\n",
       "      <td>mean</td>\n",
       "      <td>1624.383509</td>\n",
       "      <td>39.242063</td>\n",
       "      <td>253.045455</td>\n",
       "      <td>113.879045</td>\n",
       "      <td>104.394477</td>\n",
       "      <td>107.025974</td>\n",
       "      <td>118.925347</td>\n",
       "      <td>305.600000</td>\n",
       "      <td>49.0</td>\n",
       "      <td>76.315789</td>\n",
       "      <td>83.284091</td>\n",
       "      <td>76.819209</td>\n",
       "      <td>260.471020</td>\n",
       "      <td>181.111111</td>\n",
       "      <td>170.284747</td>\n",
       "      <td>160.513345</td>\n",
       "    </tr>\n",
       "    <tr>\n",
       "      <td>std</td>\n",
       "      <td>933.337642</td>\n",
       "      <td>18.277654</td>\n",
       "      <td>21.180578</td>\n",
       "      <td>75.483494</td>\n",
       "      <td>48.184126</td>\n",
       "      <td>81.790646</td>\n",
       "      <td>72.057776</td>\n",
       "      <td>191.022904</td>\n",
       "      <td>NaN</td>\n",
       "      <td>21.720581</td>\n",
       "      <td>26.060347</td>\n",
       "      <td>59.655365</td>\n",
       "      <td>120.649269</td>\n",
       "      <td>46.088009</td>\n",
       "      <td>65.868652</td>\n",
       "      <td>51.765319</td>\n",
       "    </tr>\n",
       "    <tr>\n",
       "      <td>min</td>\n",
       "      <td>1.000000</td>\n",
       "      <td>10.000000</td>\n",
       "      <td>228.000000</td>\n",
       "      <td>6.000000</td>\n",
       "      <td>12.000000</td>\n",
       "      <td>11.000000</td>\n",
       "      <td>17.000000</td>\n",
       "      <td>47.000000</td>\n",
       "      <td>49.0</td>\n",
       "      <td>63.000000</td>\n",
       "      <td>24.000000</td>\n",
       "      <td>8.000000</td>\n",
       "      <td>53.000000</td>\n",
       "      <td>151.000000</td>\n",
       "      <td>16.000000</td>\n",
       "      <td>1.000000</td>\n",
       "    </tr>\n",
       "    <tr>\n",
       "      <td>25%</td>\n",
       "      <td>816.000000</td>\n",
       "      <td>27.000000</td>\n",
       "      <td>242.000000</td>\n",
       "      <td>58.000000</td>\n",
       "      <td>72.000000</td>\n",
       "      <td>70.000000</td>\n",
       "      <td>69.750000</td>\n",
       "      <td>155.000000</td>\n",
       "      <td>49.0</td>\n",
       "      <td>66.000000</td>\n",
       "      <td>64.000000</td>\n",
       "      <td>25.000000</td>\n",
       "      <td>204.000000</td>\n",
       "      <td>153.250000</td>\n",
       "      <td>119.000000</td>\n",
       "      <td>105.000000</td>\n",
       "    </tr>\n",
       "    <tr>\n",
       "      <td>50%</td>\n",
       "      <td>1622.000000</td>\n",
       "      <td>31.000000</td>\n",
       "      <td>251.500000</td>\n",
       "      <td>97.500000</td>\n",
       "      <td>102.000000</td>\n",
       "      <td>86.000000</td>\n",
       "      <td>100.000000</td>\n",
       "      <td>298.000000</td>\n",
       "      <td>49.0</td>\n",
       "      <td>68.000000</td>\n",
       "      <td>86.500000</td>\n",
       "      <td>64.000000</td>\n",
       "      <td>208.000000</td>\n",
       "      <td>155.500000</td>\n",
       "      <td>151.000000</td>\n",
       "      <td>160.000000</td>\n",
       "    </tr>\n",
       "    <tr>\n",
       "      <td>75%</td>\n",
       "      <td>2431.000000</td>\n",
       "      <td>46.000000</td>\n",
       "      <td>257.750000</td>\n",
       "      <td>152.000000</td>\n",
       "      <td>133.000000</td>\n",
       "      <td>132.000000</td>\n",
       "      <td>157.000000</td>\n",
       "      <td>406.000000</td>\n",
       "      <td>49.0</td>\n",
       "      <td>70.500000</td>\n",
       "      <td>102.000000</td>\n",
       "      <td>106.000000</td>\n",
       "      <td>316.000000</td>\n",
       "      <td>203.500000</td>\n",
       "      <td>205.750000</td>\n",
       "      <td>205.000000</td>\n",
       "    </tr>\n",
       "    <tr>\n",
       "      <td>max</td>\n",
       "      <td>3241.000000</td>\n",
       "      <td>185.000000</td>\n",
       "      <td>325.000000</td>\n",
       "      <td>454.000000</td>\n",
       "      <td>281.000000</td>\n",
       "      <td>603.000000</td>\n",
       "      <td>503.000000</td>\n",
       "      <td>772.000000</td>\n",
       "      <td>49.0</td>\n",
       "      <td>147.000000</td>\n",
       "      <td>159.000000</td>\n",
       "      <td>313.000000</td>\n",
       "      <td>1849.000000</td>\n",
       "      <td>305.000000</td>\n",
       "      <td>636.000000</td>\n",
       "      <td>405.000000</td>\n",
       "    </tr>\n",
       "  </tbody>\n",
       "</table>\n",
       "</div>"
      ],
      "text/plain": [
       "               key      Bulk 1      Bulk 2       Bulk 3       Bulk 4  \\\n",
       "count  3129.000000  252.000000   22.000000  1298.000000  1014.000000   \n",
       "mean   1624.383509   39.242063  253.045455   113.879045   104.394477   \n",
       "std     933.337642   18.277654   21.180578    75.483494    48.184126   \n",
       "min       1.000000   10.000000  228.000000     6.000000    12.000000   \n",
       "25%     816.000000   27.000000  242.000000    58.000000    72.000000   \n",
       "50%    1622.000000   31.000000  251.500000    97.500000   102.000000   \n",
       "75%    2431.000000   46.000000  257.750000   152.000000   133.000000   \n",
       "max    3241.000000  185.000000  325.000000   454.000000   281.000000   \n",
       "\n",
       "           Bulk 5      Bulk 6      Bulk 7  Bulk 8      Bulk 9     Bulk 10  \\\n",
       "count   77.000000  576.000000   25.000000     1.0   19.000000  176.000000   \n",
       "mean   107.025974  118.925347  305.600000    49.0   76.315789   83.284091   \n",
       "std     81.790646   72.057776  191.022904     NaN   21.720581   26.060347   \n",
       "min     11.000000   17.000000   47.000000    49.0   63.000000   24.000000   \n",
       "25%     70.000000   69.750000  155.000000    49.0   66.000000   64.000000   \n",
       "50%     86.000000  100.000000  298.000000    49.0   68.000000   86.500000   \n",
       "75%    132.000000  157.000000  406.000000    49.0   70.500000  102.000000   \n",
       "max    603.000000  503.000000  772.000000    49.0  147.000000  159.000000   \n",
       "\n",
       "          Bulk 11      Bulk 12     Bulk 13      Bulk 14      Bulk 15  \n",
       "count  177.000000  2450.000000   18.000000  2806.000000  2248.000000  \n",
       "mean    76.819209   260.471020  181.111111   170.284747   160.513345  \n",
       "std     59.655365   120.649269   46.088009    65.868652    51.765319  \n",
       "min      8.000000    53.000000  151.000000    16.000000     1.000000  \n",
       "25%     25.000000   204.000000  153.250000   119.000000   105.000000  \n",
       "50%     64.000000   208.000000  155.500000   151.000000   160.000000  \n",
       "75%    106.000000   316.000000  203.500000   205.750000   205.000000  \n",
       "max    313.000000  1849.000000  305.000000   636.000000   405.000000  "
      ]
     },
     "execution_count": 45,
     "metadata": {},
     "output_type": "execute_result"
    }
   ],
   "source": [
    "data_bulk.describe()"
   ]
  },
  {
   "cell_type": "markdown",
   "metadata": {},
   "source": [
    "Значения признаков меняются в широком диапазоне. Медиана и среднее признаков bulk находятся довольно близко, при этом почти все распределения bulk (кроме bulk 10) смещены вправо. Отрицательные значения отсутствуют. Чаще всего используются материалы Bulk 3, 4, 6, 12, 14, 15."
   ]
  },
  {
   "cell_type": "markdown",
   "metadata": {},
   "source": [
    "Посмотрим, имеются ли дублированные строки:"
   ]
  },
  {
   "cell_type": "code",
   "execution_count": 46,
   "metadata": {},
   "outputs": [
    {
     "data": {
      "text/plain": [
       "0"
      ]
     },
     "execution_count": 46,
     "metadata": {},
     "output_type": "execute_result"
    }
   ],
   "source": [
    "data_bulk.duplicated().sum()"
   ]
  },
  {
   "cell_type": "markdown",
   "metadata": {},
   "source": [
    "Посмотрим, сколько записей о различных партиях имеется в файле:"
   ]
  },
  {
   "cell_type": "code",
   "execution_count": 47,
   "metadata": {},
   "outputs": [
    {
     "data": {
      "text/plain": [
       "3129"
      ]
     },
     "execution_count": 47,
     "metadata": {},
     "output_type": "execute_result"
    }
   ],
   "source": [
    "len(data_bulk['key'].unique())"
   ]
  },
  {
   "cell_type": "markdown",
   "metadata": {},
   "source": [
    "Заменим пропущенные значения, которые могут говорить об отсутствии подачи материала, на нули."
   ]
  },
  {
   "cell_type": "code",
   "execution_count": 48,
   "metadata": {},
   "outputs": [],
   "source": [
    "data_bulk = data_bulk.fillna(0)"
   ]
  },
  {
   "cell_type": "markdown",
   "metadata": {},
   "source": [
    "- Файл с данными о времени подачи сыпучих материалов \"data_bulk_time.csv\""
   ]
  },
  {
   "cell_type": "code",
   "execution_count": 49,
   "metadata": {},
   "outputs": [],
   "source": [
    "data_bulk_time = pd.read_csv('/datasets/final_steel/data_bulk_time.csv')"
   ]
  },
  {
   "cell_type": "code",
   "execution_count": 50,
   "metadata": {},
   "outputs": [
    {
     "name": "stdout",
     "output_type": "stream",
     "text": [
      "<class 'pandas.core.frame.DataFrame'>\n",
      "RangeIndex: 3129 entries, 0 to 3128\n",
      "Data columns (total 16 columns):\n",
      "key        3129 non-null int64\n",
      "Bulk 1     252 non-null object\n",
      "Bulk 2     22 non-null object\n",
      "Bulk 3     1298 non-null object\n",
      "Bulk 4     1014 non-null object\n",
      "Bulk 5     77 non-null object\n",
      "Bulk 6     576 non-null object\n",
      "Bulk 7     25 non-null object\n",
      "Bulk 8     1 non-null object\n",
      "Bulk 9     19 non-null object\n",
      "Bulk 10    176 non-null object\n",
      "Bulk 11    177 non-null object\n",
      "Bulk 12    2450 non-null object\n",
      "Bulk 13    18 non-null object\n",
      "Bulk 14    2806 non-null object\n",
      "Bulk 15    2248 non-null object\n",
      "dtypes: int64(1), object(15)\n",
      "memory usage: 391.2+ KB\n"
     ]
    }
   ],
   "source": [
    "data_bulk_time.info()"
   ]
  },
  {
   "cell_type": "markdown",
   "metadata": {},
   "source": [
    "Всего имеется 3129 записей. Пропущенных значений нет только в столбце \"key\", во всех остальных они имеются. \n",
    "\n",
    "Посмотрим на данные:"
   ]
  },
  {
   "cell_type": "code",
   "execution_count": 51,
   "metadata": {},
   "outputs": [
    {
     "data": {
      "text/html": [
       "<div>\n",
       "<style scoped>\n",
       "    .dataframe tbody tr th:only-of-type {\n",
       "        vertical-align: middle;\n",
       "    }\n",
       "\n",
       "    .dataframe tbody tr th {\n",
       "        vertical-align: top;\n",
       "    }\n",
       "\n",
       "    .dataframe thead th {\n",
       "        text-align: right;\n",
       "    }\n",
       "</style>\n",
       "<table border=\"1\" class=\"dataframe\">\n",
       "  <thead>\n",
       "    <tr style=\"text-align: right;\">\n",
       "      <th></th>\n",
       "      <th>key</th>\n",
       "      <th>Bulk 1</th>\n",
       "      <th>Bulk 2</th>\n",
       "      <th>Bulk 3</th>\n",
       "      <th>Bulk 4</th>\n",
       "      <th>Bulk 5</th>\n",
       "      <th>Bulk 6</th>\n",
       "      <th>Bulk 7</th>\n",
       "      <th>Bulk 8</th>\n",
       "      <th>Bulk 9</th>\n",
       "      <th>Bulk 10</th>\n",
       "      <th>Bulk 11</th>\n",
       "      <th>Bulk 12</th>\n",
       "      <th>Bulk 13</th>\n",
       "      <th>Bulk 14</th>\n",
       "      <th>Bulk 15</th>\n",
       "    </tr>\n",
       "  </thead>\n",
       "  <tbody>\n",
       "    <tr>\n",
       "      <td>0</td>\n",
       "      <td>1</td>\n",
       "      <td>NaN</td>\n",
       "      <td>NaN</td>\n",
       "      <td>NaN</td>\n",
       "      <td>2019-05-03 11:21:30</td>\n",
       "      <td>NaN</td>\n",
       "      <td>NaN</td>\n",
       "      <td>NaN</td>\n",
       "      <td>NaN</td>\n",
       "      <td>NaN</td>\n",
       "      <td>NaN</td>\n",
       "      <td>NaN</td>\n",
       "      <td>2019-05-03 11:03:52</td>\n",
       "      <td>NaN</td>\n",
       "      <td>2019-05-03 11:03:52</td>\n",
       "      <td>2019-05-03 11:03:52</td>\n",
       "    </tr>\n",
       "    <tr>\n",
       "      <td>1</td>\n",
       "      <td>2</td>\n",
       "      <td>NaN</td>\n",
       "      <td>NaN</td>\n",
       "      <td>NaN</td>\n",
       "      <td>2019-05-03 11:46:38</td>\n",
       "      <td>NaN</td>\n",
       "      <td>NaN</td>\n",
       "      <td>NaN</td>\n",
       "      <td>NaN</td>\n",
       "      <td>NaN</td>\n",
       "      <td>NaN</td>\n",
       "      <td>NaN</td>\n",
       "      <td>2019-05-03 11:40:20</td>\n",
       "      <td>NaN</td>\n",
       "      <td>2019-05-03 11:40:20</td>\n",
       "      <td>2019-05-03 11:40:20</td>\n",
       "    </tr>\n",
       "    <tr>\n",
       "      <td>2</td>\n",
       "      <td>3</td>\n",
       "      <td>NaN</td>\n",
       "      <td>NaN</td>\n",
       "      <td>NaN</td>\n",
       "      <td>2019-05-03 12:31:06</td>\n",
       "      <td>NaN</td>\n",
       "      <td>NaN</td>\n",
       "      <td>NaN</td>\n",
       "      <td>NaN</td>\n",
       "      <td>NaN</td>\n",
       "      <td>NaN</td>\n",
       "      <td>NaN</td>\n",
       "      <td>2019-05-03 12:09:40</td>\n",
       "      <td>NaN</td>\n",
       "      <td>2019-05-03 12:09:40</td>\n",
       "      <td>2019-05-03 12:09:40</td>\n",
       "    </tr>\n",
       "    <tr>\n",
       "      <td>3</td>\n",
       "      <td>4</td>\n",
       "      <td>NaN</td>\n",
       "      <td>NaN</td>\n",
       "      <td>NaN</td>\n",
       "      <td>2019-05-03 12:48:43</td>\n",
       "      <td>NaN</td>\n",
       "      <td>NaN</td>\n",
       "      <td>NaN</td>\n",
       "      <td>NaN</td>\n",
       "      <td>NaN</td>\n",
       "      <td>NaN</td>\n",
       "      <td>NaN</td>\n",
       "      <td>2019-05-03 12:41:24</td>\n",
       "      <td>NaN</td>\n",
       "      <td>2019-05-03 12:41:24</td>\n",
       "      <td>2019-05-03 12:41:24</td>\n",
       "    </tr>\n",
       "    <tr>\n",
       "      <td>4</td>\n",
       "      <td>5</td>\n",
       "      <td>NaN</td>\n",
       "      <td>NaN</td>\n",
       "      <td>NaN</td>\n",
       "      <td>2019-05-03 13:18:50</td>\n",
       "      <td>NaN</td>\n",
       "      <td>NaN</td>\n",
       "      <td>NaN</td>\n",
       "      <td>NaN</td>\n",
       "      <td>NaN</td>\n",
       "      <td>NaN</td>\n",
       "      <td>NaN</td>\n",
       "      <td>2019-05-03 13:12:56</td>\n",
       "      <td>NaN</td>\n",
       "      <td>2019-05-03 13:12:56</td>\n",
       "      <td>2019-05-03 13:12:56</td>\n",
       "    </tr>\n",
       "    <tr>\n",
       "      <td>5</td>\n",
       "      <td>6</td>\n",
       "      <td>NaN</td>\n",
       "      <td>NaN</td>\n",
       "      <td>NaN</td>\n",
       "      <td>2019-05-03 13:59:24</td>\n",
       "      <td>NaN</td>\n",
       "      <td>NaN</td>\n",
       "      <td>NaN</td>\n",
       "      <td>NaN</td>\n",
       "      <td>NaN</td>\n",
       "      <td>NaN</td>\n",
       "      <td>NaN</td>\n",
       "      <td>2019-05-03 13:53:27</td>\n",
       "      <td>NaN</td>\n",
       "      <td>2019-05-03 13:53:27</td>\n",
       "      <td>2019-05-03 13:53:27</td>\n",
       "    </tr>\n",
       "    <tr>\n",
       "      <td>6</td>\n",
       "      <td>7</td>\n",
       "      <td>NaN</td>\n",
       "      <td>NaN</td>\n",
       "      <td>NaN</td>\n",
       "      <td>2019-05-03 14:29:14</td>\n",
       "      <td>NaN</td>\n",
       "      <td>NaN</td>\n",
       "      <td>NaN</td>\n",
       "      <td>NaN</td>\n",
       "      <td>NaN</td>\n",
       "      <td>NaN</td>\n",
       "      <td>NaN</td>\n",
       "      <td>2019-05-03 14:22:19</td>\n",
       "      <td>NaN</td>\n",
       "      <td>2019-05-03 14:22:19</td>\n",
       "      <td>2019-05-03 14:22:19</td>\n",
       "    </tr>\n",
       "    <tr>\n",
       "      <td>7</td>\n",
       "      <td>8</td>\n",
       "      <td>NaN</td>\n",
       "      <td>NaN</td>\n",
       "      <td>NaN</td>\n",
       "      <td>2019-05-03 15:04:05</td>\n",
       "      <td>NaN</td>\n",
       "      <td>NaN</td>\n",
       "      <td>NaN</td>\n",
       "      <td>NaN</td>\n",
       "      <td>NaN</td>\n",
       "      <td>NaN</td>\n",
       "      <td>NaN</td>\n",
       "      <td>2019-05-03 14:55:46</td>\n",
       "      <td>NaN</td>\n",
       "      <td>2019-05-03 14:55:46</td>\n",
       "      <td>2019-05-03 14:55:46</td>\n",
       "    </tr>\n",
       "    <tr>\n",
       "      <td>8</td>\n",
       "      <td>9</td>\n",
       "      <td>NaN</td>\n",
       "      <td>NaN</td>\n",
       "      <td>NaN</td>\n",
       "      <td>2019-05-03 15:47:34</td>\n",
       "      <td>NaN</td>\n",
       "      <td>NaN</td>\n",
       "      <td>NaN</td>\n",
       "      <td>NaN</td>\n",
       "      <td>NaN</td>\n",
       "      <td>NaN</td>\n",
       "      <td>NaN</td>\n",
       "      <td>2019-05-03 15:41:00</td>\n",
       "      <td>NaN</td>\n",
       "      <td>2019-05-03 15:41:00</td>\n",
       "      <td>2019-05-03 15:41:00</td>\n",
       "    </tr>\n",
       "    <tr>\n",
       "      <td>9</td>\n",
       "      <td>10</td>\n",
       "      <td>NaN</td>\n",
       "      <td>NaN</td>\n",
       "      <td>NaN</td>\n",
       "      <td>NaN</td>\n",
       "      <td>NaN</td>\n",
       "      <td>NaN</td>\n",
       "      <td>NaN</td>\n",
       "      <td>NaN</td>\n",
       "      <td>NaN</td>\n",
       "      <td>NaN</td>\n",
       "      <td>NaN</td>\n",
       "      <td>2019-05-03 16:18:52</td>\n",
       "      <td>NaN</td>\n",
       "      <td>2019-05-03 16:18:52</td>\n",
       "      <td>2019-05-03 16:18:52</td>\n",
       "    </tr>\n",
       "  </tbody>\n",
       "</table>\n",
       "</div>"
      ],
      "text/plain": [
       "   key Bulk 1 Bulk 2 Bulk 3               Bulk 4 Bulk 5 Bulk 6 Bulk 7 Bulk 8  \\\n",
       "0    1    NaN    NaN    NaN  2019-05-03 11:21:30    NaN    NaN    NaN    NaN   \n",
       "1    2    NaN    NaN    NaN  2019-05-03 11:46:38    NaN    NaN    NaN    NaN   \n",
       "2    3    NaN    NaN    NaN  2019-05-03 12:31:06    NaN    NaN    NaN    NaN   \n",
       "3    4    NaN    NaN    NaN  2019-05-03 12:48:43    NaN    NaN    NaN    NaN   \n",
       "4    5    NaN    NaN    NaN  2019-05-03 13:18:50    NaN    NaN    NaN    NaN   \n",
       "5    6    NaN    NaN    NaN  2019-05-03 13:59:24    NaN    NaN    NaN    NaN   \n",
       "6    7    NaN    NaN    NaN  2019-05-03 14:29:14    NaN    NaN    NaN    NaN   \n",
       "7    8    NaN    NaN    NaN  2019-05-03 15:04:05    NaN    NaN    NaN    NaN   \n",
       "8    9    NaN    NaN    NaN  2019-05-03 15:47:34    NaN    NaN    NaN    NaN   \n",
       "9   10    NaN    NaN    NaN                  NaN    NaN    NaN    NaN    NaN   \n",
       "\n",
       "  Bulk 9 Bulk 10 Bulk 11              Bulk 12 Bulk 13              Bulk 14  \\\n",
       "0    NaN     NaN     NaN  2019-05-03 11:03:52     NaN  2019-05-03 11:03:52   \n",
       "1    NaN     NaN     NaN  2019-05-03 11:40:20     NaN  2019-05-03 11:40:20   \n",
       "2    NaN     NaN     NaN  2019-05-03 12:09:40     NaN  2019-05-03 12:09:40   \n",
       "3    NaN     NaN     NaN  2019-05-03 12:41:24     NaN  2019-05-03 12:41:24   \n",
       "4    NaN     NaN     NaN  2019-05-03 13:12:56     NaN  2019-05-03 13:12:56   \n",
       "5    NaN     NaN     NaN  2019-05-03 13:53:27     NaN  2019-05-03 13:53:27   \n",
       "6    NaN     NaN     NaN  2019-05-03 14:22:19     NaN  2019-05-03 14:22:19   \n",
       "7    NaN     NaN     NaN  2019-05-03 14:55:46     NaN  2019-05-03 14:55:46   \n",
       "8    NaN     NaN     NaN  2019-05-03 15:41:00     NaN  2019-05-03 15:41:00   \n",
       "9    NaN     NaN     NaN  2019-05-03 16:18:52     NaN  2019-05-03 16:18:52   \n",
       "\n",
       "               Bulk 15  \n",
       "0  2019-05-03 11:03:52  \n",
       "1  2019-05-03 11:40:20  \n",
       "2  2019-05-03 12:09:40  \n",
       "3  2019-05-03 12:41:24  \n",
       "4  2019-05-03 13:12:56  \n",
       "5  2019-05-03 13:53:27  \n",
       "6  2019-05-03 14:22:19  \n",
       "7  2019-05-03 14:55:46  \n",
       "8  2019-05-03 15:41:00  \n",
       "9  2019-05-03 16:18:52  "
      ]
     },
     "execution_count": 51,
     "metadata": {},
     "output_type": "execute_result"
    }
   ],
   "source": [
    "data_bulk_time.head(10)"
   ]
  },
  {
   "cell_type": "code",
   "execution_count": 52,
   "metadata": {},
   "outputs": [
    {
     "data": {
      "text/html": [
       "<div>\n",
       "<style scoped>\n",
       "    .dataframe tbody tr th:only-of-type {\n",
       "        vertical-align: middle;\n",
       "    }\n",
       "\n",
       "    .dataframe tbody tr th {\n",
       "        vertical-align: top;\n",
       "    }\n",
       "\n",
       "    .dataframe thead th {\n",
       "        text-align: right;\n",
       "    }\n",
       "</style>\n",
       "<table border=\"1\" class=\"dataframe\">\n",
       "  <thead>\n",
       "    <tr style=\"text-align: right;\">\n",
       "      <th></th>\n",
       "      <th>key</th>\n",
       "      <th>Bulk 1</th>\n",
       "      <th>Bulk 2</th>\n",
       "      <th>Bulk 3</th>\n",
       "      <th>Bulk 4</th>\n",
       "      <th>Bulk 5</th>\n",
       "      <th>Bulk 6</th>\n",
       "      <th>Bulk 7</th>\n",
       "      <th>Bulk 8</th>\n",
       "      <th>Bulk 9</th>\n",
       "      <th>Bulk 10</th>\n",
       "      <th>Bulk 11</th>\n",
       "      <th>Bulk 12</th>\n",
       "      <th>Bulk 13</th>\n",
       "      <th>Bulk 14</th>\n",
       "      <th>Bulk 15</th>\n",
       "    </tr>\n",
       "  </thead>\n",
       "  <tbody>\n",
       "    <tr>\n",
       "      <td>3119</td>\n",
       "      <td>3232</td>\n",
       "      <td>NaN</td>\n",
       "      <td>NaN</td>\n",
       "      <td>2019-08-31 20:03:29</td>\n",
       "      <td>NaN</td>\n",
       "      <td>NaN</td>\n",
       "      <td>NaN</td>\n",
       "      <td>NaN</td>\n",
       "      <td>NaN</td>\n",
       "      <td>NaN</td>\n",
       "      <td>NaN</td>\n",
       "      <td>NaN</td>\n",
       "      <td>2019-08-31 19:58:36</td>\n",
       "      <td>NaN</td>\n",
       "      <td>2019-08-31 19:58:36</td>\n",
       "      <td>2019-08-31 19:58:36</td>\n",
       "    </tr>\n",
       "    <tr>\n",
       "      <td>3120</td>\n",
       "      <td>3233</td>\n",
       "      <td>NaN</td>\n",
       "      <td>NaN</td>\n",
       "      <td>NaN</td>\n",
       "      <td>NaN</td>\n",
       "      <td>NaN</td>\n",
       "      <td>NaN</td>\n",
       "      <td>NaN</td>\n",
       "      <td>NaN</td>\n",
       "      <td>NaN</td>\n",
       "      <td>NaN</td>\n",
       "      <td>NaN</td>\n",
       "      <td>2019-08-31 20:26:21</td>\n",
       "      <td>NaN</td>\n",
       "      <td>2019-08-31 20:26:21</td>\n",
       "      <td>2019-08-31 20:26:21</td>\n",
       "    </tr>\n",
       "    <tr>\n",
       "      <td>3121</td>\n",
       "      <td>3234</td>\n",
       "      <td>NaN</td>\n",
       "      <td>NaN</td>\n",
       "      <td>NaN</td>\n",
       "      <td>NaN</td>\n",
       "      <td>NaN</td>\n",
       "      <td>NaN</td>\n",
       "      <td>NaN</td>\n",
       "      <td>NaN</td>\n",
       "      <td>NaN</td>\n",
       "      <td>NaN</td>\n",
       "      <td>NaN</td>\n",
       "      <td>NaN</td>\n",
       "      <td>NaN</td>\n",
       "      <td>2019-08-31 20:58:45</td>\n",
       "      <td>2019-08-31 20:58:45</td>\n",
       "    </tr>\n",
       "    <tr>\n",
       "      <td>3122</td>\n",
       "      <td>3235</td>\n",
       "      <td>NaN</td>\n",
       "      <td>NaN</td>\n",
       "      <td>NaN</td>\n",
       "      <td>NaN</td>\n",
       "      <td>NaN</td>\n",
       "      <td>NaN</td>\n",
       "      <td>NaN</td>\n",
       "      <td>NaN</td>\n",
       "      <td>NaN</td>\n",
       "      <td>NaN</td>\n",
       "      <td>NaN</td>\n",
       "      <td>2019-08-31 21:29:26</td>\n",
       "      <td>NaN</td>\n",
       "      <td>2019-08-31 21:29:26</td>\n",
       "      <td>2019-08-31 21:29:26</td>\n",
       "    </tr>\n",
       "    <tr>\n",
       "      <td>3123</td>\n",
       "      <td>3236</td>\n",
       "      <td>NaN</td>\n",
       "      <td>NaN</td>\n",
       "      <td>2019-08-31 22:20:30</td>\n",
       "      <td>NaN</td>\n",
       "      <td>NaN</td>\n",
       "      <td>NaN</td>\n",
       "      <td>NaN</td>\n",
       "      <td>NaN</td>\n",
       "      <td>NaN</td>\n",
       "      <td>NaN</td>\n",
       "      <td>NaN</td>\n",
       "      <td>2019-08-31 22:11:55</td>\n",
       "      <td>NaN</td>\n",
       "      <td>2019-08-31 22:11:55</td>\n",
       "      <td>2019-08-31 22:11:55</td>\n",
       "    </tr>\n",
       "    <tr>\n",
       "      <td>3124</td>\n",
       "      <td>3237</td>\n",
       "      <td>NaN</td>\n",
       "      <td>NaN</td>\n",
       "      <td>2019-08-31 22:51:28</td>\n",
       "      <td>NaN</td>\n",
       "      <td>NaN</td>\n",
       "      <td>NaN</td>\n",
       "      <td>NaN</td>\n",
       "      <td>NaN</td>\n",
       "      <td>NaN</td>\n",
       "      <td>NaN</td>\n",
       "      <td>NaN</td>\n",
       "      <td>2019-08-31 22:46:52</td>\n",
       "      <td>NaN</td>\n",
       "      <td>2019-08-31 22:46:52</td>\n",
       "      <td>2019-08-31 22:46:52</td>\n",
       "    </tr>\n",
       "    <tr>\n",
       "      <td>3125</td>\n",
       "      <td>3238</td>\n",
       "      <td>NaN</td>\n",
       "      <td>NaN</td>\n",
       "      <td>2019-08-31 23:39:11</td>\n",
       "      <td>NaN</td>\n",
       "      <td>NaN</td>\n",
       "      <td>NaN</td>\n",
       "      <td>NaN</td>\n",
       "      <td>NaN</td>\n",
       "      <td>NaN</td>\n",
       "      <td>NaN</td>\n",
       "      <td>NaN</td>\n",
       "      <td>2019-08-31 23:33:09</td>\n",
       "      <td>NaN</td>\n",
       "      <td>2019-08-31 23:33:09</td>\n",
       "      <td>2019-08-31 23:33:09</td>\n",
       "    </tr>\n",
       "    <tr>\n",
       "      <td>3126</td>\n",
       "      <td>3239</td>\n",
       "      <td>NaN</td>\n",
       "      <td>NaN</td>\n",
       "      <td>NaN</td>\n",
       "      <td>NaN</td>\n",
       "      <td>NaN</td>\n",
       "      <td>2019-09-01 01:51:58</td>\n",
       "      <td>NaN</td>\n",
       "      <td>NaN</td>\n",
       "      <td>NaN</td>\n",
       "      <td>NaN</td>\n",
       "      <td>NaN</td>\n",
       "      <td>2019-09-01 01:39:41</td>\n",
       "      <td>NaN</td>\n",
       "      <td>2019-09-01 01:33:25</td>\n",
       "      <td>2019-09-01 01:33:25</td>\n",
       "    </tr>\n",
       "    <tr>\n",
       "      <td>3127</td>\n",
       "      <td>3240</td>\n",
       "      <td>NaN</td>\n",
       "      <td>NaN</td>\n",
       "      <td>NaN</td>\n",
       "      <td>NaN</td>\n",
       "      <td>NaN</td>\n",
       "      <td>2019-09-01 03:12:40</td>\n",
       "      <td>NaN</td>\n",
       "      <td>NaN</td>\n",
       "      <td>NaN</td>\n",
       "      <td>NaN</td>\n",
       "      <td>NaN</td>\n",
       "      <td>NaN</td>\n",
       "      <td>NaN</td>\n",
       "      <td>2019-09-01 02:41:27</td>\n",
       "      <td>2019-09-01 02:41:27</td>\n",
       "    </tr>\n",
       "    <tr>\n",
       "      <td>3128</td>\n",
       "      <td>3241</td>\n",
       "      <td>NaN</td>\n",
       "      <td>NaN</td>\n",
       "      <td>NaN</td>\n",
       "      <td>NaN</td>\n",
       "      <td>NaN</td>\n",
       "      <td>NaN</td>\n",
       "      <td>NaN</td>\n",
       "      <td>NaN</td>\n",
       "      <td>NaN</td>\n",
       "      <td>NaN</td>\n",
       "      <td>NaN</td>\n",
       "      <td>NaN</td>\n",
       "      <td>NaN</td>\n",
       "      <td>2019-09-01 04:05:34</td>\n",
       "      <td>2019-09-01 04:05:34</td>\n",
       "    </tr>\n",
       "  </tbody>\n",
       "</table>\n",
       "</div>"
      ],
      "text/plain": [
       "       key Bulk 1 Bulk 2               Bulk 3 Bulk 4 Bulk 5  \\\n",
       "3119  3232    NaN    NaN  2019-08-31 20:03:29    NaN    NaN   \n",
       "3120  3233    NaN    NaN                  NaN    NaN    NaN   \n",
       "3121  3234    NaN    NaN                  NaN    NaN    NaN   \n",
       "3122  3235    NaN    NaN                  NaN    NaN    NaN   \n",
       "3123  3236    NaN    NaN  2019-08-31 22:20:30    NaN    NaN   \n",
       "3124  3237    NaN    NaN  2019-08-31 22:51:28    NaN    NaN   \n",
       "3125  3238    NaN    NaN  2019-08-31 23:39:11    NaN    NaN   \n",
       "3126  3239    NaN    NaN                  NaN    NaN    NaN   \n",
       "3127  3240    NaN    NaN                  NaN    NaN    NaN   \n",
       "3128  3241    NaN    NaN                  NaN    NaN    NaN   \n",
       "\n",
       "                   Bulk 6 Bulk 7 Bulk 8 Bulk 9 Bulk 10 Bulk 11  \\\n",
       "3119                  NaN    NaN    NaN    NaN     NaN     NaN   \n",
       "3120                  NaN    NaN    NaN    NaN     NaN     NaN   \n",
       "3121                  NaN    NaN    NaN    NaN     NaN     NaN   \n",
       "3122                  NaN    NaN    NaN    NaN     NaN     NaN   \n",
       "3123                  NaN    NaN    NaN    NaN     NaN     NaN   \n",
       "3124                  NaN    NaN    NaN    NaN     NaN     NaN   \n",
       "3125                  NaN    NaN    NaN    NaN     NaN     NaN   \n",
       "3126  2019-09-01 01:51:58    NaN    NaN    NaN     NaN     NaN   \n",
       "3127  2019-09-01 03:12:40    NaN    NaN    NaN     NaN     NaN   \n",
       "3128                  NaN    NaN    NaN    NaN     NaN     NaN   \n",
       "\n",
       "                  Bulk 12 Bulk 13              Bulk 14              Bulk 15  \n",
       "3119  2019-08-31 19:58:36     NaN  2019-08-31 19:58:36  2019-08-31 19:58:36  \n",
       "3120  2019-08-31 20:26:21     NaN  2019-08-31 20:26:21  2019-08-31 20:26:21  \n",
       "3121                  NaN     NaN  2019-08-31 20:58:45  2019-08-31 20:58:45  \n",
       "3122  2019-08-31 21:29:26     NaN  2019-08-31 21:29:26  2019-08-31 21:29:26  \n",
       "3123  2019-08-31 22:11:55     NaN  2019-08-31 22:11:55  2019-08-31 22:11:55  \n",
       "3124  2019-08-31 22:46:52     NaN  2019-08-31 22:46:52  2019-08-31 22:46:52  \n",
       "3125  2019-08-31 23:33:09     NaN  2019-08-31 23:33:09  2019-08-31 23:33:09  \n",
       "3126  2019-09-01 01:39:41     NaN  2019-09-01 01:33:25  2019-09-01 01:33:25  \n",
       "3127                  NaN     NaN  2019-09-01 02:41:27  2019-09-01 02:41:27  \n",
       "3128                  NaN     NaN  2019-09-01 04:05:34  2019-09-01 04:05:34  "
      ]
     },
     "execution_count": 52,
     "metadata": {},
     "output_type": "execute_result"
    }
   ],
   "source": [
    "data_bulk_time.tail(10)"
   ]
  },
  {
   "cell_type": "markdown",
   "metadata": {},
   "source": [
    "Посмотрим, имеются ли дублированные строки:"
   ]
  },
  {
   "cell_type": "code",
   "execution_count": 53,
   "metadata": {},
   "outputs": [
    {
     "data": {
      "text/plain": [
       "0"
      ]
     },
     "execution_count": 53,
     "metadata": {},
     "output_type": "execute_result"
    }
   ],
   "source": [
    "data_bulk_time.duplicated().sum()"
   ]
  },
  {
   "cell_type": "markdown",
   "metadata": {},
   "source": [
    "Посмотрим, сколько записей о различных партиях имеется в файле:"
   ]
  },
  {
   "cell_type": "code",
   "execution_count": 54,
   "metadata": {},
   "outputs": [
    {
     "data": {
      "text/plain": [
       "3129"
      ]
     },
     "execution_count": 54,
     "metadata": {},
     "output_type": "execute_result"
    }
   ],
   "source": [
    "len(data_bulk_time['key'].unique())"
   ]
  },
  {
   "cell_type": "markdown",
   "metadata": {},
   "source": [
    "Пропуски данных в файле не заменены, т.к. использовать эти данные в дальнейшей работе не планируется."
   ]
  },
  {
   "cell_type": "markdown",
   "metadata": {},
   "source": [
    "- Файл с данными продувки сплава газом \"data_gas.csv\""
   ]
  },
  {
   "cell_type": "code",
   "execution_count": 55,
   "metadata": {},
   "outputs": [],
   "source": [
    "data_gas = pd.read_csv('/datasets/final_steel/data_gas.csv')"
   ]
  },
  {
   "cell_type": "code",
   "execution_count": 56,
   "metadata": {},
   "outputs": [
    {
     "name": "stdout",
     "output_type": "stream",
     "text": [
      "<class 'pandas.core.frame.DataFrame'>\n",
      "RangeIndex: 3239 entries, 0 to 3238\n",
      "Data columns (total 2 columns):\n",
      "key      3239 non-null int64\n",
      "Газ 1    3239 non-null float64\n",
      "dtypes: float64(1), int64(1)\n",
      "memory usage: 50.7 KB\n"
     ]
    }
   ],
   "source": [
    "data_gas.info()"
   ]
  },
  {
   "cell_type": "markdown",
   "metadata": {},
   "source": [
    "Всего имеется 3239 записей. Пропущенные значения отсутствуют.\n",
    "\n",
    "Посмотрим на данные:"
   ]
  },
  {
   "cell_type": "code",
   "execution_count": 57,
   "metadata": {},
   "outputs": [
    {
     "data": {
      "text/html": [
       "<div>\n",
       "<style scoped>\n",
       "    .dataframe tbody tr th:only-of-type {\n",
       "        vertical-align: middle;\n",
       "    }\n",
       "\n",
       "    .dataframe tbody tr th {\n",
       "        vertical-align: top;\n",
       "    }\n",
       "\n",
       "    .dataframe thead th {\n",
       "        text-align: right;\n",
       "    }\n",
       "</style>\n",
       "<table border=\"1\" class=\"dataframe\">\n",
       "  <thead>\n",
       "    <tr style=\"text-align: right;\">\n",
       "      <th></th>\n",
       "      <th>key</th>\n",
       "      <th>Газ 1</th>\n",
       "    </tr>\n",
       "  </thead>\n",
       "  <tbody>\n",
       "    <tr>\n",
       "      <td>0</td>\n",
       "      <td>1</td>\n",
       "      <td>29.749986</td>\n",
       "    </tr>\n",
       "    <tr>\n",
       "      <td>1</td>\n",
       "      <td>2</td>\n",
       "      <td>12.555561</td>\n",
       "    </tr>\n",
       "    <tr>\n",
       "      <td>2</td>\n",
       "      <td>3</td>\n",
       "      <td>28.554793</td>\n",
       "    </tr>\n",
       "    <tr>\n",
       "      <td>3</td>\n",
       "      <td>4</td>\n",
       "      <td>18.841219</td>\n",
       "    </tr>\n",
       "    <tr>\n",
       "      <td>4</td>\n",
       "      <td>5</td>\n",
       "      <td>5.413692</td>\n",
       "    </tr>\n",
       "    <tr>\n",
       "      <td>5</td>\n",
       "      <td>6</td>\n",
       "      <td>11.273392</td>\n",
       "    </tr>\n",
       "    <tr>\n",
       "      <td>6</td>\n",
       "      <td>7</td>\n",
       "      <td>9.836267</td>\n",
       "    </tr>\n",
       "    <tr>\n",
       "      <td>7</td>\n",
       "      <td>8</td>\n",
       "      <td>15.171553</td>\n",
       "    </tr>\n",
       "    <tr>\n",
       "      <td>8</td>\n",
       "      <td>9</td>\n",
       "      <td>8.216623</td>\n",
       "    </tr>\n",
       "    <tr>\n",
       "      <td>9</td>\n",
       "      <td>10</td>\n",
       "      <td>6.529891</td>\n",
       "    </tr>\n",
       "  </tbody>\n",
       "</table>\n",
       "</div>"
      ],
      "text/plain": [
       "   key      Газ 1\n",
       "0    1  29.749986\n",
       "1    2  12.555561\n",
       "2    3  28.554793\n",
       "3    4  18.841219\n",
       "4    5   5.413692\n",
       "5    6  11.273392\n",
       "6    7   9.836267\n",
       "7    8  15.171553\n",
       "8    9   8.216623\n",
       "9   10   6.529891"
      ]
     },
     "execution_count": 57,
     "metadata": {},
     "output_type": "execute_result"
    }
   ],
   "source": [
    "data_gas.head(10)"
   ]
  },
  {
   "cell_type": "code",
   "execution_count": 58,
   "metadata": {},
   "outputs": [
    {
     "data": {
      "text/html": [
       "<div>\n",
       "<style scoped>\n",
       "    .dataframe tbody tr th:only-of-type {\n",
       "        vertical-align: middle;\n",
       "    }\n",
       "\n",
       "    .dataframe tbody tr th {\n",
       "        vertical-align: top;\n",
       "    }\n",
       "\n",
       "    .dataframe thead th {\n",
       "        text-align: right;\n",
       "    }\n",
       "</style>\n",
       "<table border=\"1\" class=\"dataframe\">\n",
       "  <thead>\n",
       "    <tr style=\"text-align: right;\">\n",
       "      <th></th>\n",
       "      <th>key</th>\n",
       "      <th>Газ 1</th>\n",
       "    </tr>\n",
       "  </thead>\n",
       "  <tbody>\n",
       "    <tr>\n",
       "      <td>3229</td>\n",
       "      <td>3232</td>\n",
       "      <td>8.630453</td>\n",
       "    </tr>\n",
       "    <tr>\n",
       "      <td>3230</td>\n",
       "      <td>3233</td>\n",
       "      <td>7.366606</td>\n",
       "    </tr>\n",
       "    <tr>\n",
       "      <td>3231</td>\n",
       "      <td>3234</td>\n",
       "      <td>9.110702</td>\n",
       "    </tr>\n",
       "    <tr>\n",
       "      <td>3232</td>\n",
       "      <td>3235</td>\n",
       "      <td>5.710729</td>\n",
       "    </tr>\n",
       "    <tr>\n",
       "      <td>3233</td>\n",
       "      <td>3236</td>\n",
       "      <td>6.958647</td>\n",
       "    </tr>\n",
       "    <tr>\n",
       "      <td>3234</td>\n",
       "      <td>3237</td>\n",
       "      <td>5.543905</td>\n",
       "    </tr>\n",
       "    <tr>\n",
       "      <td>3235</td>\n",
       "      <td>3238</td>\n",
       "      <td>6.745669</td>\n",
       "    </tr>\n",
       "    <tr>\n",
       "      <td>3236</td>\n",
       "      <td>3239</td>\n",
       "      <td>16.023518</td>\n",
       "    </tr>\n",
       "    <tr>\n",
       "      <td>3237</td>\n",
       "      <td>3240</td>\n",
       "      <td>11.863103</td>\n",
       "    </tr>\n",
       "    <tr>\n",
       "      <td>3238</td>\n",
       "      <td>3241</td>\n",
       "      <td>12.680959</td>\n",
       "    </tr>\n",
       "  </tbody>\n",
       "</table>\n",
       "</div>"
      ],
      "text/plain": [
       "       key      Газ 1\n",
       "3229  3232   8.630453\n",
       "3230  3233   7.366606\n",
       "3231  3234   9.110702\n",
       "3232  3235   5.710729\n",
       "3233  3236   6.958647\n",
       "3234  3237   5.543905\n",
       "3235  3238   6.745669\n",
       "3236  3239  16.023518\n",
       "3237  3240  11.863103\n",
       "3238  3241  12.680959"
      ]
     },
     "execution_count": 58,
     "metadata": {},
     "output_type": "execute_result"
    }
   ],
   "source": [
    "data_gas.tail(10)"
   ]
  },
  {
   "cell_type": "code",
   "execution_count": 59,
   "metadata": {},
   "outputs": [
    {
     "data": {
      "text/html": [
       "<div>\n",
       "<style scoped>\n",
       "    .dataframe tbody tr th:only-of-type {\n",
       "        vertical-align: middle;\n",
       "    }\n",
       "\n",
       "    .dataframe tbody tr th {\n",
       "        vertical-align: top;\n",
       "    }\n",
       "\n",
       "    .dataframe thead th {\n",
       "        text-align: right;\n",
       "    }\n",
       "</style>\n",
       "<table border=\"1\" class=\"dataframe\">\n",
       "  <thead>\n",
       "    <tr style=\"text-align: right;\">\n",
       "      <th></th>\n",
       "      <th>key</th>\n",
       "      <th>Газ 1</th>\n",
       "    </tr>\n",
       "  </thead>\n",
       "  <tbody>\n",
       "    <tr>\n",
       "      <td>count</td>\n",
       "      <td>3239.000000</td>\n",
       "      <td>3239.000000</td>\n",
       "    </tr>\n",
       "    <tr>\n",
       "      <td>mean</td>\n",
       "      <td>1621.861377</td>\n",
       "      <td>11.002062</td>\n",
       "    </tr>\n",
       "    <tr>\n",
       "      <td>std</td>\n",
       "      <td>935.386334</td>\n",
       "      <td>6.220327</td>\n",
       "    </tr>\n",
       "    <tr>\n",
       "      <td>min</td>\n",
       "      <td>1.000000</td>\n",
       "      <td>0.008399</td>\n",
       "    </tr>\n",
       "    <tr>\n",
       "      <td>25%</td>\n",
       "      <td>812.500000</td>\n",
       "      <td>7.043089</td>\n",
       "    </tr>\n",
       "    <tr>\n",
       "      <td>50%</td>\n",
       "      <td>1622.000000</td>\n",
       "      <td>9.836267</td>\n",
       "    </tr>\n",
       "    <tr>\n",
       "      <td>75%</td>\n",
       "      <td>2431.500000</td>\n",
       "      <td>13.769915</td>\n",
       "    </tr>\n",
       "    <tr>\n",
       "      <td>max</td>\n",
       "      <td>3241.000000</td>\n",
       "      <td>77.995040</td>\n",
       "    </tr>\n",
       "  </tbody>\n",
       "</table>\n",
       "</div>"
      ],
      "text/plain": [
       "               key        Газ 1\n",
       "count  3239.000000  3239.000000\n",
       "mean   1621.861377    11.002062\n",
       "std     935.386334     6.220327\n",
       "min       1.000000     0.008399\n",
       "25%     812.500000     7.043089\n",
       "50%    1622.000000     9.836267\n",
       "75%    2431.500000    13.769915\n",
       "max    3241.000000    77.995040"
      ]
     },
     "execution_count": 59,
     "metadata": {},
     "output_type": "execute_result"
    }
   ],
   "source": [
    "data_gas.describe()"
   ]
  },
  {
   "cell_type": "markdown",
   "metadata": {},
   "source": [
    "Данные по газу изменяются почти от нуля (0.008) до 78. Медиана и среднее находятся близко и составляют 9.8 и 11. Данные смещены вправо."
   ]
  },
  {
   "cell_type": "markdown",
   "metadata": {},
   "source": [
    "Посмотрим, имеются ли дублированные строки:"
   ]
  },
  {
   "cell_type": "code",
   "execution_count": 60,
   "metadata": {},
   "outputs": [
    {
     "data": {
      "text/plain": [
       "0"
      ]
     },
     "execution_count": 60,
     "metadata": {},
     "output_type": "execute_result"
    }
   ],
   "source": [
    "data_gas.duplicated().sum()"
   ]
  },
  {
   "cell_type": "markdown",
   "metadata": {},
   "source": [
    "Посмотрим, сколько записей о различных партиях имеется в файле:"
   ]
  },
  {
   "cell_type": "code",
   "execution_count": 61,
   "metadata": {},
   "outputs": [
    {
     "data": {
      "text/plain": [
       "3239"
      ]
     },
     "execution_count": 61,
     "metadata": {},
     "output_type": "execute_result"
    }
   ],
   "source": [
    "len(data_gas['key'].unique())"
   ]
  },
  {
   "cell_type": "markdown",
   "metadata": {},
   "source": [
    "- Файл с данными объема проволочных материалов \"data_wire.csv\""
   ]
  },
  {
   "cell_type": "code",
   "execution_count": 62,
   "metadata": {},
   "outputs": [],
   "source": [
    "data_wire = pd.read_csv('/datasets/final_steel/data_wire.csv')"
   ]
  },
  {
   "cell_type": "code",
   "execution_count": 63,
   "metadata": {},
   "outputs": [
    {
     "name": "stdout",
     "output_type": "stream",
     "text": [
      "<class 'pandas.core.frame.DataFrame'>\n",
      "RangeIndex: 3081 entries, 0 to 3080\n",
      "Data columns (total 10 columns):\n",
      "key       3081 non-null int64\n",
      "Wire 1    3055 non-null float64\n",
      "Wire 2    1079 non-null float64\n",
      "Wire 3    63 non-null float64\n",
      "Wire 4    14 non-null float64\n",
      "Wire 5    1 non-null float64\n",
      "Wire 6    73 non-null float64\n",
      "Wire 7    11 non-null float64\n",
      "Wire 8    19 non-null float64\n",
      "Wire 9    29 non-null float64\n",
      "dtypes: float64(9), int64(1)\n",
      "memory usage: 240.8 KB\n"
     ]
    }
   ],
   "source": [
    "data_wire.info()"
   ]
  },
  {
   "cell_type": "markdown",
   "metadata": {},
   "source": [
    "Всего имеется 3081 запись. Пропуски отсутствуют только в столбце \"key\"."
   ]
  },
  {
   "cell_type": "code",
   "execution_count": 64,
   "metadata": {},
   "outputs": [
    {
     "data": {
      "text/html": [
       "<div>\n",
       "<style scoped>\n",
       "    .dataframe tbody tr th:only-of-type {\n",
       "        vertical-align: middle;\n",
       "    }\n",
       "\n",
       "    .dataframe tbody tr th {\n",
       "        vertical-align: top;\n",
       "    }\n",
       "\n",
       "    .dataframe thead th {\n",
       "        text-align: right;\n",
       "    }\n",
       "</style>\n",
       "<table border=\"1\" class=\"dataframe\">\n",
       "  <thead>\n",
       "    <tr style=\"text-align: right;\">\n",
       "      <th></th>\n",
       "      <th>key</th>\n",
       "      <th>Wire 1</th>\n",
       "      <th>Wire 2</th>\n",
       "      <th>Wire 3</th>\n",
       "      <th>Wire 4</th>\n",
       "      <th>Wire 5</th>\n",
       "      <th>Wire 6</th>\n",
       "      <th>Wire 7</th>\n",
       "      <th>Wire 8</th>\n",
       "      <th>Wire 9</th>\n",
       "    </tr>\n",
       "  </thead>\n",
       "  <tbody>\n",
       "    <tr>\n",
       "      <td>0</td>\n",
       "      <td>1</td>\n",
       "      <td>60.059998</td>\n",
       "      <td>NaN</td>\n",
       "      <td>NaN</td>\n",
       "      <td>NaN</td>\n",
       "      <td>NaN</td>\n",
       "      <td>NaN</td>\n",
       "      <td>NaN</td>\n",
       "      <td>NaN</td>\n",
       "      <td>NaN</td>\n",
       "    </tr>\n",
       "    <tr>\n",
       "      <td>1</td>\n",
       "      <td>2</td>\n",
       "      <td>96.052315</td>\n",
       "      <td>NaN</td>\n",
       "      <td>NaN</td>\n",
       "      <td>NaN</td>\n",
       "      <td>NaN</td>\n",
       "      <td>NaN</td>\n",
       "      <td>NaN</td>\n",
       "      <td>NaN</td>\n",
       "      <td>NaN</td>\n",
       "    </tr>\n",
       "    <tr>\n",
       "      <td>2</td>\n",
       "      <td>3</td>\n",
       "      <td>91.160157</td>\n",
       "      <td>NaN</td>\n",
       "      <td>NaN</td>\n",
       "      <td>NaN</td>\n",
       "      <td>NaN</td>\n",
       "      <td>NaN</td>\n",
       "      <td>NaN</td>\n",
       "      <td>NaN</td>\n",
       "      <td>NaN</td>\n",
       "    </tr>\n",
       "    <tr>\n",
       "      <td>3</td>\n",
       "      <td>4</td>\n",
       "      <td>89.063515</td>\n",
       "      <td>NaN</td>\n",
       "      <td>NaN</td>\n",
       "      <td>NaN</td>\n",
       "      <td>NaN</td>\n",
       "      <td>NaN</td>\n",
       "      <td>NaN</td>\n",
       "      <td>NaN</td>\n",
       "      <td>NaN</td>\n",
       "    </tr>\n",
       "    <tr>\n",
       "      <td>4</td>\n",
       "      <td>5</td>\n",
       "      <td>89.238236</td>\n",
       "      <td>9.114560</td>\n",
       "      <td>NaN</td>\n",
       "      <td>NaN</td>\n",
       "      <td>NaN</td>\n",
       "      <td>NaN</td>\n",
       "      <td>NaN</td>\n",
       "      <td>NaN</td>\n",
       "      <td>NaN</td>\n",
       "    </tr>\n",
       "    <tr>\n",
       "      <td>5</td>\n",
       "      <td>6</td>\n",
       "      <td>99.109917</td>\n",
       "      <td>9.114560</td>\n",
       "      <td>NaN</td>\n",
       "      <td>NaN</td>\n",
       "      <td>NaN</td>\n",
       "      <td>NaN</td>\n",
       "      <td>NaN</td>\n",
       "      <td>NaN</td>\n",
       "      <td>NaN</td>\n",
       "    </tr>\n",
       "    <tr>\n",
       "      <td>6</td>\n",
       "      <td>7</td>\n",
       "      <td>98.061600</td>\n",
       "      <td>NaN</td>\n",
       "      <td>NaN</td>\n",
       "      <td>NaN</td>\n",
       "      <td>NaN</td>\n",
       "      <td>NaN</td>\n",
       "      <td>NaN</td>\n",
       "      <td>NaN</td>\n",
       "      <td>NaN</td>\n",
       "    </tr>\n",
       "    <tr>\n",
       "      <td>7</td>\n",
       "      <td>8</td>\n",
       "      <td>155.282394</td>\n",
       "      <td>NaN</td>\n",
       "      <td>NaN</td>\n",
       "      <td>NaN</td>\n",
       "      <td>NaN</td>\n",
       "      <td>NaN</td>\n",
       "      <td>NaN</td>\n",
       "      <td>NaN</td>\n",
       "      <td>NaN</td>\n",
       "    </tr>\n",
       "    <tr>\n",
       "      <td>8</td>\n",
       "      <td>9</td>\n",
       "      <td>113.393279</td>\n",
       "      <td>9.143681</td>\n",
       "      <td>NaN</td>\n",
       "      <td>NaN</td>\n",
       "      <td>NaN</td>\n",
       "      <td>NaN</td>\n",
       "      <td>NaN</td>\n",
       "      <td>NaN</td>\n",
       "      <td>NaN</td>\n",
       "    </tr>\n",
       "    <tr>\n",
       "      <td>9</td>\n",
       "      <td>10</td>\n",
       "      <td>81.244796</td>\n",
       "      <td>12.376000</td>\n",
       "      <td>NaN</td>\n",
       "      <td>NaN</td>\n",
       "      <td>NaN</td>\n",
       "      <td>NaN</td>\n",
       "      <td>NaN</td>\n",
       "      <td>NaN</td>\n",
       "      <td>NaN</td>\n",
       "    </tr>\n",
       "  </tbody>\n",
       "</table>\n",
       "</div>"
      ],
      "text/plain": [
       "   key      Wire 1     Wire 2  Wire 3  Wire 4  Wire 5  Wire 6  Wire 7  Wire 8  \\\n",
       "0    1   60.059998        NaN     NaN     NaN     NaN     NaN     NaN     NaN   \n",
       "1    2   96.052315        NaN     NaN     NaN     NaN     NaN     NaN     NaN   \n",
       "2    3   91.160157        NaN     NaN     NaN     NaN     NaN     NaN     NaN   \n",
       "3    4   89.063515        NaN     NaN     NaN     NaN     NaN     NaN     NaN   \n",
       "4    5   89.238236   9.114560     NaN     NaN     NaN     NaN     NaN     NaN   \n",
       "5    6   99.109917   9.114560     NaN     NaN     NaN     NaN     NaN     NaN   \n",
       "6    7   98.061600        NaN     NaN     NaN     NaN     NaN     NaN     NaN   \n",
       "7    8  155.282394        NaN     NaN     NaN     NaN     NaN     NaN     NaN   \n",
       "8    9  113.393279   9.143681     NaN     NaN     NaN     NaN     NaN     NaN   \n",
       "9   10   81.244796  12.376000     NaN     NaN     NaN     NaN     NaN     NaN   \n",
       "\n",
       "   Wire 9  \n",
       "0     NaN  \n",
       "1     NaN  \n",
       "2     NaN  \n",
       "3     NaN  \n",
       "4     NaN  \n",
       "5     NaN  \n",
       "6     NaN  \n",
       "7     NaN  \n",
       "8     NaN  \n",
       "9     NaN  "
      ]
     },
     "execution_count": 64,
     "metadata": {},
     "output_type": "execute_result"
    }
   ],
   "source": [
    "data_wire.head(10)"
   ]
  },
  {
   "cell_type": "code",
   "execution_count": 65,
   "metadata": {},
   "outputs": [
    {
     "data": {
      "text/html": [
       "<div>\n",
       "<style scoped>\n",
       "    .dataframe tbody tr th:only-of-type {\n",
       "        vertical-align: middle;\n",
       "    }\n",
       "\n",
       "    .dataframe tbody tr th {\n",
       "        vertical-align: top;\n",
       "    }\n",
       "\n",
       "    .dataframe thead th {\n",
       "        text-align: right;\n",
       "    }\n",
       "</style>\n",
       "<table border=\"1\" class=\"dataframe\">\n",
       "  <thead>\n",
       "    <tr style=\"text-align: right;\">\n",
       "      <th></th>\n",
       "      <th>key</th>\n",
       "      <th>Wire 1</th>\n",
       "      <th>Wire 2</th>\n",
       "      <th>Wire 3</th>\n",
       "      <th>Wire 4</th>\n",
       "      <th>Wire 5</th>\n",
       "      <th>Wire 6</th>\n",
       "      <th>Wire 7</th>\n",
       "      <th>Wire 8</th>\n",
       "      <th>Wire 9</th>\n",
       "    </tr>\n",
       "  </thead>\n",
       "  <tbody>\n",
       "    <tr>\n",
       "      <td>3071</td>\n",
       "      <td>3232</td>\n",
       "      <td>15.069600</td>\n",
       "      <td>NaN</td>\n",
       "      <td>NaN</td>\n",
       "      <td>NaN</td>\n",
       "      <td>NaN</td>\n",
       "      <td>NaN</td>\n",
       "      <td>NaN</td>\n",
       "      <td>NaN</td>\n",
       "      <td>NaN</td>\n",
       "    </tr>\n",
       "    <tr>\n",
       "      <td>3072</td>\n",
       "      <td>3233</td>\n",
       "      <td>107.147033</td>\n",
       "      <td>NaN</td>\n",
       "      <td>NaN</td>\n",
       "      <td>NaN</td>\n",
       "      <td>NaN</td>\n",
       "      <td>NaN</td>\n",
       "      <td>NaN</td>\n",
       "      <td>NaN</td>\n",
       "      <td>NaN</td>\n",
       "    </tr>\n",
       "    <tr>\n",
       "      <td>3073</td>\n",
       "      <td>3234</td>\n",
       "      <td>110.160957</td>\n",
       "      <td>NaN</td>\n",
       "      <td>NaN</td>\n",
       "      <td>NaN</td>\n",
       "      <td>NaN</td>\n",
       "      <td>NaN</td>\n",
       "      <td>NaN</td>\n",
       "      <td>NaN</td>\n",
       "      <td>NaN</td>\n",
       "    </tr>\n",
       "    <tr>\n",
       "      <td>3074</td>\n",
       "      <td>3235</td>\n",
       "      <td>125.099525</td>\n",
       "      <td>NaN</td>\n",
       "      <td>NaN</td>\n",
       "      <td>NaN</td>\n",
       "      <td>NaN</td>\n",
       "      <td>NaN</td>\n",
       "      <td>NaN</td>\n",
       "      <td>NaN</td>\n",
       "      <td>NaN</td>\n",
       "    </tr>\n",
       "    <tr>\n",
       "      <td>3075</td>\n",
       "      <td>3236</td>\n",
       "      <td>101.162880</td>\n",
       "      <td>NaN</td>\n",
       "      <td>NaN</td>\n",
       "      <td>NaN</td>\n",
       "      <td>NaN</td>\n",
       "      <td>NaN</td>\n",
       "      <td>NaN</td>\n",
       "      <td>NaN</td>\n",
       "      <td>NaN</td>\n",
       "    </tr>\n",
       "    <tr>\n",
       "      <td>3076</td>\n",
       "      <td>3237</td>\n",
       "      <td>38.088959</td>\n",
       "      <td>NaN</td>\n",
       "      <td>NaN</td>\n",
       "      <td>NaN</td>\n",
       "      <td>NaN</td>\n",
       "      <td>NaN</td>\n",
       "      <td>NaN</td>\n",
       "      <td>NaN</td>\n",
       "      <td>NaN</td>\n",
       "    </tr>\n",
       "    <tr>\n",
       "      <td>3077</td>\n",
       "      <td>3238</td>\n",
       "      <td>56.128799</td>\n",
       "      <td>NaN</td>\n",
       "      <td>NaN</td>\n",
       "      <td>NaN</td>\n",
       "      <td>NaN</td>\n",
       "      <td>NaN</td>\n",
       "      <td>NaN</td>\n",
       "      <td>NaN</td>\n",
       "      <td>NaN</td>\n",
       "    </tr>\n",
       "    <tr>\n",
       "      <td>3078</td>\n",
       "      <td>3239</td>\n",
       "      <td>143.357761</td>\n",
       "      <td>NaN</td>\n",
       "      <td>NaN</td>\n",
       "      <td>NaN</td>\n",
       "      <td>NaN</td>\n",
       "      <td>NaN</td>\n",
       "      <td>NaN</td>\n",
       "      <td>NaN</td>\n",
       "      <td>NaN</td>\n",
       "    </tr>\n",
       "    <tr>\n",
       "      <td>3079</td>\n",
       "      <td>3240</td>\n",
       "      <td>34.070400</td>\n",
       "      <td>NaN</td>\n",
       "      <td>NaN</td>\n",
       "      <td>NaN</td>\n",
       "      <td>NaN</td>\n",
       "      <td>NaN</td>\n",
       "      <td>NaN</td>\n",
       "      <td>NaN</td>\n",
       "      <td>NaN</td>\n",
       "    </tr>\n",
       "    <tr>\n",
       "      <td>3080</td>\n",
       "      <td>3241</td>\n",
       "      <td>63.117595</td>\n",
       "      <td>NaN</td>\n",
       "      <td>NaN</td>\n",
       "      <td>NaN</td>\n",
       "      <td>NaN</td>\n",
       "      <td>NaN</td>\n",
       "      <td>NaN</td>\n",
       "      <td>NaN</td>\n",
       "      <td>NaN</td>\n",
       "    </tr>\n",
       "  </tbody>\n",
       "</table>\n",
       "</div>"
      ],
      "text/plain": [
       "       key      Wire 1  Wire 2  Wire 3  Wire 4  Wire 5  Wire 6  Wire 7  \\\n",
       "3071  3232   15.069600     NaN     NaN     NaN     NaN     NaN     NaN   \n",
       "3072  3233  107.147033     NaN     NaN     NaN     NaN     NaN     NaN   \n",
       "3073  3234  110.160957     NaN     NaN     NaN     NaN     NaN     NaN   \n",
       "3074  3235  125.099525     NaN     NaN     NaN     NaN     NaN     NaN   \n",
       "3075  3236  101.162880     NaN     NaN     NaN     NaN     NaN     NaN   \n",
       "3076  3237   38.088959     NaN     NaN     NaN     NaN     NaN     NaN   \n",
       "3077  3238   56.128799     NaN     NaN     NaN     NaN     NaN     NaN   \n",
       "3078  3239  143.357761     NaN     NaN     NaN     NaN     NaN     NaN   \n",
       "3079  3240   34.070400     NaN     NaN     NaN     NaN     NaN     NaN   \n",
       "3080  3241   63.117595     NaN     NaN     NaN     NaN     NaN     NaN   \n",
       "\n",
       "      Wire 8  Wire 9  \n",
       "3071     NaN     NaN  \n",
       "3072     NaN     NaN  \n",
       "3073     NaN     NaN  \n",
       "3074     NaN     NaN  \n",
       "3075     NaN     NaN  \n",
       "3076     NaN     NaN  \n",
       "3077     NaN     NaN  \n",
       "3078     NaN     NaN  \n",
       "3079     NaN     NaN  \n",
       "3080     NaN     NaN  "
      ]
     },
     "execution_count": 65,
     "metadata": {},
     "output_type": "execute_result"
    }
   ],
   "source": [
    "data_wire.tail(10)"
   ]
  },
  {
   "cell_type": "code",
   "execution_count": 66,
   "metadata": {},
   "outputs": [
    {
     "data": {
      "text/html": [
       "<div>\n",
       "<style scoped>\n",
       "    .dataframe tbody tr th:only-of-type {\n",
       "        vertical-align: middle;\n",
       "    }\n",
       "\n",
       "    .dataframe tbody tr th {\n",
       "        vertical-align: top;\n",
       "    }\n",
       "\n",
       "    .dataframe thead th {\n",
       "        text-align: right;\n",
       "    }\n",
       "</style>\n",
       "<table border=\"1\" class=\"dataframe\">\n",
       "  <thead>\n",
       "    <tr style=\"text-align: right;\">\n",
       "      <th></th>\n",
       "      <th>key</th>\n",
       "      <th>Wire 1</th>\n",
       "      <th>Wire 2</th>\n",
       "      <th>Wire 3</th>\n",
       "      <th>Wire 4</th>\n",
       "      <th>Wire 5</th>\n",
       "      <th>Wire 6</th>\n",
       "      <th>Wire 7</th>\n",
       "      <th>Wire 8</th>\n",
       "      <th>Wire 9</th>\n",
       "    </tr>\n",
       "  </thead>\n",
       "  <tbody>\n",
       "    <tr>\n",
       "      <td>count</td>\n",
       "      <td>3081.000000</td>\n",
       "      <td>3055.000000</td>\n",
       "      <td>1079.000000</td>\n",
       "      <td>63.000000</td>\n",
       "      <td>14.000000</td>\n",
       "      <td>1.000</td>\n",
       "      <td>73.000000</td>\n",
       "      <td>11.000000</td>\n",
       "      <td>19.000000</td>\n",
       "      <td>29.000000</td>\n",
       "    </tr>\n",
       "    <tr>\n",
       "      <td>mean</td>\n",
       "      <td>1623.426485</td>\n",
       "      <td>100.895853</td>\n",
       "      <td>50.577323</td>\n",
       "      <td>189.482681</td>\n",
       "      <td>57.442841</td>\n",
       "      <td>15.132</td>\n",
       "      <td>48.016974</td>\n",
       "      <td>10.039007</td>\n",
       "      <td>53.625193</td>\n",
       "      <td>34.155752</td>\n",
       "    </tr>\n",
       "    <tr>\n",
       "      <td>std</td>\n",
       "      <td>932.996726</td>\n",
       "      <td>42.012518</td>\n",
       "      <td>39.320216</td>\n",
       "      <td>99.513444</td>\n",
       "      <td>28.824667</td>\n",
       "      <td>NaN</td>\n",
       "      <td>33.919845</td>\n",
       "      <td>8.610584</td>\n",
       "      <td>16.881728</td>\n",
       "      <td>19.931616</td>\n",
       "    </tr>\n",
       "    <tr>\n",
       "      <td>min</td>\n",
       "      <td>1.000000</td>\n",
       "      <td>1.918800</td>\n",
       "      <td>0.030160</td>\n",
       "      <td>0.144144</td>\n",
       "      <td>24.148801</td>\n",
       "      <td>15.132</td>\n",
       "      <td>0.034320</td>\n",
       "      <td>0.234208</td>\n",
       "      <td>45.076721</td>\n",
       "      <td>4.622800</td>\n",
       "    </tr>\n",
       "    <tr>\n",
       "      <td>25%</td>\n",
       "      <td>823.000000</td>\n",
       "      <td>72.115684</td>\n",
       "      <td>20.193680</td>\n",
       "      <td>95.135044</td>\n",
       "      <td>40.807002</td>\n",
       "      <td>15.132</td>\n",
       "      <td>25.053600</td>\n",
       "      <td>6.762756</td>\n",
       "      <td>46.094879</td>\n",
       "      <td>22.058401</td>\n",
       "    </tr>\n",
       "    <tr>\n",
       "      <td>50%</td>\n",
       "      <td>1619.000000</td>\n",
       "      <td>100.158234</td>\n",
       "      <td>40.142956</td>\n",
       "      <td>235.194977</td>\n",
       "      <td>45.234282</td>\n",
       "      <td>15.132</td>\n",
       "      <td>42.076324</td>\n",
       "      <td>9.017009</td>\n",
       "      <td>46.279999</td>\n",
       "      <td>30.066399</td>\n",
       "    </tr>\n",
       "    <tr>\n",
       "      <td>75%</td>\n",
       "      <td>2434.000000</td>\n",
       "      <td>126.060484</td>\n",
       "      <td>70.227558</td>\n",
       "      <td>276.252014</td>\n",
       "      <td>76.124619</td>\n",
       "      <td>15.132</td>\n",
       "      <td>64.212723</td>\n",
       "      <td>11.886057</td>\n",
       "      <td>48.089603</td>\n",
       "      <td>43.862003</td>\n",
       "    </tr>\n",
       "    <tr>\n",
       "      <td>max</td>\n",
       "      <td>3241.000000</td>\n",
       "      <td>330.314424</td>\n",
       "      <td>282.780152</td>\n",
       "      <td>385.008668</td>\n",
       "      <td>113.231044</td>\n",
       "      <td>15.132</td>\n",
       "      <td>180.454575</td>\n",
       "      <td>32.847674</td>\n",
       "      <td>102.762401</td>\n",
       "      <td>90.053604</td>\n",
       "    </tr>\n",
       "  </tbody>\n",
       "</table>\n",
       "</div>"
      ],
      "text/plain": [
       "               key       Wire 1       Wire 2      Wire 3      Wire 4  Wire 5  \\\n",
       "count  3081.000000  3055.000000  1079.000000   63.000000   14.000000   1.000   \n",
       "mean   1623.426485   100.895853    50.577323  189.482681   57.442841  15.132   \n",
       "std     932.996726    42.012518    39.320216   99.513444   28.824667     NaN   \n",
       "min       1.000000     1.918800     0.030160    0.144144   24.148801  15.132   \n",
       "25%     823.000000    72.115684    20.193680   95.135044   40.807002  15.132   \n",
       "50%    1619.000000   100.158234    40.142956  235.194977   45.234282  15.132   \n",
       "75%    2434.000000   126.060484    70.227558  276.252014   76.124619  15.132   \n",
       "max    3241.000000   330.314424   282.780152  385.008668  113.231044  15.132   \n",
       "\n",
       "           Wire 6     Wire 7      Wire 8     Wire 9  \n",
       "count   73.000000  11.000000   19.000000  29.000000  \n",
       "mean    48.016974  10.039007   53.625193  34.155752  \n",
       "std     33.919845   8.610584   16.881728  19.931616  \n",
       "min      0.034320   0.234208   45.076721   4.622800  \n",
       "25%     25.053600   6.762756   46.094879  22.058401  \n",
       "50%     42.076324   9.017009   46.279999  30.066399  \n",
       "75%     64.212723  11.886057   48.089603  43.862003  \n",
       "max    180.454575  32.847674  102.762401  90.053604  "
      ]
     },
     "execution_count": 66,
     "metadata": {},
     "output_type": "execute_result"
    }
   ],
   "source": [
    "data_wire.describe()"
   ]
  },
  {
   "cell_type": "markdown",
   "metadata": {},
   "source": [
    "Наиболее часто используемыми проволочными материалами являются wire 1, 2. Остальные применяются относительно редко. Данные признаков изменяются в широком диапазоне, при этом среднее и медиана находятся довольно близко. Отрицательные значения отсутствуют."
   ]
  },
  {
   "cell_type": "markdown",
   "metadata": {},
   "source": [
    "Посмотрим, имеются ли дублированные строки:"
   ]
  },
  {
   "cell_type": "code",
   "execution_count": 67,
   "metadata": {},
   "outputs": [
    {
     "data": {
      "text/plain": [
       "0"
      ]
     },
     "execution_count": 67,
     "metadata": {},
     "output_type": "execute_result"
    }
   ],
   "source": [
    "data_wire.duplicated().sum()"
   ]
  },
  {
   "cell_type": "markdown",
   "metadata": {},
   "source": [
    "Посмотрим, сколько записей о различных партиях имеется в файле:"
   ]
  },
  {
   "cell_type": "code",
   "execution_count": 68,
   "metadata": {},
   "outputs": [
    {
     "data": {
      "text/plain": [
       "3081"
      ]
     },
     "execution_count": 68,
     "metadata": {},
     "output_type": "execute_result"
    }
   ],
   "source": [
    "len(data_wire['key'].unique())"
   ]
  },
  {
   "cell_type": "markdown",
   "metadata": {},
   "source": [
    "Т.к. пропущенные значения могут говорить об отсутствии подачи материала, заменим такие значения на нули:"
   ]
  },
  {
   "cell_type": "code",
   "execution_count": 69,
   "metadata": {},
   "outputs": [],
   "source": [
    "data_wire = data_wire.fillna(0)"
   ]
  },
  {
   "cell_type": "markdown",
   "metadata": {},
   "source": [
    "- Файл с данными о времени подачи проволочных материалов \"data_wire_time.csv\""
   ]
  },
  {
   "cell_type": "code",
   "execution_count": 70,
   "metadata": {},
   "outputs": [],
   "source": [
    "data_wire_time = pd.read_csv('/datasets/final_steel/data_wire_time.csv')"
   ]
  },
  {
   "cell_type": "code",
   "execution_count": 71,
   "metadata": {},
   "outputs": [
    {
     "name": "stdout",
     "output_type": "stream",
     "text": [
      "<class 'pandas.core.frame.DataFrame'>\n",
      "RangeIndex: 3081 entries, 0 to 3080\n",
      "Data columns (total 10 columns):\n",
      "key       3081 non-null int64\n",
      "Wire 1    3055 non-null object\n",
      "Wire 2    1079 non-null object\n",
      "Wire 3    63 non-null object\n",
      "Wire 4    14 non-null object\n",
      "Wire 5    1 non-null object\n",
      "Wire 6    73 non-null object\n",
      "Wire 7    11 non-null object\n",
      "Wire 8    19 non-null object\n",
      "Wire 9    29 non-null object\n",
      "dtypes: int64(1), object(9)\n",
      "memory usage: 240.8+ KB\n"
     ]
    }
   ],
   "source": [
    "data_wire_time.info()"
   ]
  },
  {
   "cell_type": "markdown",
   "metadata": {},
   "source": [
    "Всего имеется 3081 запись. Пропуски отсутствуют только в столбце \"key\".\n",
    "\n",
    "Посмотрим на данные:"
   ]
  },
  {
   "cell_type": "code",
   "execution_count": 72,
   "metadata": {},
   "outputs": [
    {
     "data": {
      "text/html": [
       "<div>\n",
       "<style scoped>\n",
       "    .dataframe tbody tr th:only-of-type {\n",
       "        vertical-align: middle;\n",
       "    }\n",
       "\n",
       "    .dataframe tbody tr th {\n",
       "        vertical-align: top;\n",
       "    }\n",
       "\n",
       "    .dataframe thead th {\n",
       "        text-align: right;\n",
       "    }\n",
       "</style>\n",
       "<table border=\"1\" class=\"dataframe\">\n",
       "  <thead>\n",
       "    <tr style=\"text-align: right;\">\n",
       "      <th></th>\n",
       "      <th>key</th>\n",
       "      <th>Wire 1</th>\n",
       "      <th>Wire 2</th>\n",
       "      <th>Wire 3</th>\n",
       "      <th>Wire 4</th>\n",
       "      <th>Wire 5</th>\n",
       "      <th>Wire 6</th>\n",
       "      <th>Wire 7</th>\n",
       "      <th>Wire 8</th>\n",
       "      <th>Wire 9</th>\n",
       "    </tr>\n",
       "  </thead>\n",
       "  <tbody>\n",
       "    <tr>\n",
       "      <td>0</td>\n",
       "      <td>1</td>\n",
       "      <td>2019-05-03 11:11:41</td>\n",
       "      <td>NaN</td>\n",
       "      <td>NaN</td>\n",
       "      <td>NaN</td>\n",
       "      <td>NaN</td>\n",
       "      <td>NaN</td>\n",
       "      <td>NaN</td>\n",
       "      <td>NaN</td>\n",
       "      <td>NaN</td>\n",
       "    </tr>\n",
       "    <tr>\n",
       "      <td>1</td>\n",
       "      <td>2</td>\n",
       "      <td>2019-05-03 11:46:10</td>\n",
       "      <td>NaN</td>\n",
       "      <td>NaN</td>\n",
       "      <td>NaN</td>\n",
       "      <td>NaN</td>\n",
       "      <td>NaN</td>\n",
       "      <td>NaN</td>\n",
       "      <td>NaN</td>\n",
       "      <td>NaN</td>\n",
       "    </tr>\n",
       "    <tr>\n",
       "      <td>2</td>\n",
       "      <td>3</td>\n",
       "      <td>2019-05-03 12:13:47</td>\n",
       "      <td>NaN</td>\n",
       "      <td>NaN</td>\n",
       "      <td>NaN</td>\n",
       "      <td>NaN</td>\n",
       "      <td>NaN</td>\n",
       "      <td>NaN</td>\n",
       "      <td>NaN</td>\n",
       "      <td>NaN</td>\n",
       "    </tr>\n",
       "    <tr>\n",
       "      <td>3</td>\n",
       "      <td>4</td>\n",
       "      <td>2019-05-03 12:48:05</td>\n",
       "      <td>NaN</td>\n",
       "      <td>NaN</td>\n",
       "      <td>NaN</td>\n",
       "      <td>NaN</td>\n",
       "      <td>NaN</td>\n",
       "      <td>NaN</td>\n",
       "      <td>NaN</td>\n",
       "      <td>NaN</td>\n",
       "    </tr>\n",
       "    <tr>\n",
       "      <td>4</td>\n",
       "      <td>5</td>\n",
       "      <td>2019-05-03 13:18:15</td>\n",
       "      <td>2019-05-03 13:32:06</td>\n",
       "      <td>NaN</td>\n",
       "      <td>NaN</td>\n",
       "      <td>NaN</td>\n",
       "      <td>NaN</td>\n",
       "      <td>NaN</td>\n",
       "      <td>NaN</td>\n",
       "      <td>NaN</td>\n",
       "    </tr>\n",
       "    <tr>\n",
       "      <td>5</td>\n",
       "      <td>6</td>\n",
       "      <td>2019-05-03 13:59:02</td>\n",
       "      <td>2019-05-03 13:59:54</td>\n",
       "      <td>NaN</td>\n",
       "      <td>NaN</td>\n",
       "      <td>NaN</td>\n",
       "      <td>NaN</td>\n",
       "      <td>NaN</td>\n",
       "      <td>NaN</td>\n",
       "      <td>NaN</td>\n",
       "    </tr>\n",
       "    <tr>\n",
       "      <td>6</td>\n",
       "      <td>7</td>\n",
       "      <td>2019-05-03 14:28:46</td>\n",
       "      <td>NaN</td>\n",
       "      <td>NaN</td>\n",
       "      <td>NaN</td>\n",
       "      <td>NaN</td>\n",
       "      <td>NaN</td>\n",
       "      <td>NaN</td>\n",
       "      <td>NaN</td>\n",
       "      <td>NaN</td>\n",
       "    </tr>\n",
       "    <tr>\n",
       "      <td>7</td>\n",
       "      <td>8</td>\n",
       "      <td>2019-05-03 15:03:42</td>\n",
       "      <td>NaN</td>\n",
       "      <td>NaN</td>\n",
       "      <td>NaN</td>\n",
       "      <td>NaN</td>\n",
       "      <td>NaN</td>\n",
       "      <td>NaN</td>\n",
       "      <td>NaN</td>\n",
       "      <td>NaN</td>\n",
       "    </tr>\n",
       "    <tr>\n",
       "      <td>8</td>\n",
       "      <td>9</td>\n",
       "      <td>2019-05-03 15:42:43</td>\n",
       "      <td>2019-05-03 15:58:12</td>\n",
       "      <td>NaN</td>\n",
       "      <td>NaN</td>\n",
       "      <td>NaN</td>\n",
       "      <td>NaN</td>\n",
       "      <td>NaN</td>\n",
       "      <td>NaN</td>\n",
       "      <td>NaN</td>\n",
       "    </tr>\n",
       "    <tr>\n",
       "      <td>9</td>\n",
       "      <td>10</td>\n",
       "      <td>2019-05-03 16:20:25</td>\n",
       "      <td>2019-05-03 16:21:02</td>\n",
       "      <td>NaN</td>\n",
       "      <td>NaN</td>\n",
       "      <td>NaN</td>\n",
       "      <td>NaN</td>\n",
       "      <td>NaN</td>\n",
       "      <td>NaN</td>\n",
       "      <td>NaN</td>\n",
       "    </tr>\n",
       "  </tbody>\n",
       "</table>\n",
       "</div>"
      ],
      "text/plain": [
       "   key               Wire 1               Wire 2 Wire 3 Wire 4 Wire 5 Wire 6  \\\n",
       "0    1  2019-05-03 11:11:41                  NaN    NaN    NaN    NaN    NaN   \n",
       "1    2  2019-05-03 11:46:10                  NaN    NaN    NaN    NaN    NaN   \n",
       "2    3  2019-05-03 12:13:47                  NaN    NaN    NaN    NaN    NaN   \n",
       "3    4  2019-05-03 12:48:05                  NaN    NaN    NaN    NaN    NaN   \n",
       "4    5  2019-05-03 13:18:15  2019-05-03 13:32:06    NaN    NaN    NaN    NaN   \n",
       "5    6  2019-05-03 13:59:02  2019-05-03 13:59:54    NaN    NaN    NaN    NaN   \n",
       "6    7  2019-05-03 14:28:46                  NaN    NaN    NaN    NaN    NaN   \n",
       "7    8  2019-05-03 15:03:42                  NaN    NaN    NaN    NaN    NaN   \n",
       "8    9  2019-05-03 15:42:43  2019-05-03 15:58:12    NaN    NaN    NaN    NaN   \n",
       "9   10  2019-05-03 16:20:25  2019-05-03 16:21:02    NaN    NaN    NaN    NaN   \n",
       "\n",
       "  Wire 7 Wire 8 Wire 9  \n",
       "0    NaN    NaN    NaN  \n",
       "1    NaN    NaN    NaN  \n",
       "2    NaN    NaN    NaN  \n",
       "3    NaN    NaN    NaN  \n",
       "4    NaN    NaN    NaN  \n",
       "5    NaN    NaN    NaN  \n",
       "6    NaN    NaN    NaN  \n",
       "7    NaN    NaN    NaN  \n",
       "8    NaN    NaN    NaN  \n",
       "9    NaN    NaN    NaN  "
      ]
     },
     "execution_count": 72,
     "metadata": {},
     "output_type": "execute_result"
    }
   ],
   "source": [
    "data_wire_time.head(10)"
   ]
  },
  {
   "cell_type": "code",
   "execution_count": 73,
   "metadata": {},
   "outputs": [
    {
     "data": {
      "text/html": [
       "<div>\n",
       "<style scoped>\n",
       "    .dataframe tbody tr th:only-of-type {\n",
       "        vertical-align: middle;\n",
       "    }\n",
       "\n",
       "    .dataframe tbody tr th {\n",
       "        vertical-align: top;\n",
       "    }\n",
       "\n",
       "    .dataframe thead th {\n",
       "        text-align: right;\n",
       "    }\n",
       "</style>\n",
       "<table border=\"1\" class=\"dataframe\">\n",
       "  <thead>\n",
       "    <tr style=\"text-align: right;\">\n",
       "      <th></th>\n",
       "      <th>key</th>\n",
       "      <th>Wire 1</th>\n",
       "      <th>Wire 2</th>\n",
       "      <th>Wire 3</th>\n",
       "      <th>Wire 4</th>\n",
       "      <th>Wire 5</th>\n",
       "      <th>Wire 6</th>\n",
       "      <th>Wire 7</th>\n",
       "      <th>Wire 8</th>\n",
       "      <th>Wire 9</th>\n",
       "    </tr>\n",
       "  </thead>\n",
       "  <tbody>\n",
       "    <tr>\n",
       "      <td>3071</td>\n",
       "      <td>3232</td>\n",
       "      <td>2019-08-31 20:02:30</td>\n",
       "      <td>NaN</td>\n",
       "      <td>NaN</td>\n",
       "      <td>NaN</td>\n",
       "      <td>NaN</td>\n",
       "      <td>NaN</td>\n",
       "      <td>NaN</td>\n",
       "      <td>NaN</td>\n",
       "      <td>NaN</td>\n",
       "    </tr>\n",
       "    <tr>\n",
       "      <td>3072</td>\n",
       "      <td>3233</td>\n",
       "      <td>2019-08-31 20:31:24</td>\n",
       "      <td>NaN</td>\n",
       "      <td>NaN</td>\n",
       "      <td>NaN</td>\n",
       "      <td>NaN</td>\n",
       "      <td>NaN</td>\n",
       "      <td>NaN</td>\n",
       "      <td>NaN</td>\n",
       "      <td>NaN</td>\n",
       "    </tr>\n",
       "    <tr>\n",
       "      <td>3073</td>\n",
       "      <td>3234</td>\n",
       "      <td>2019-08-31 21:03:52</td>\n",
       "      <td>NaN</td>\n",
       "      <td>NaN</td>\n",
       "      <td>NaN</td>\n",
       "      <td>NaN</td>\n",
       "      <td>NaN</td>\n",
       "      <td>NaN</td>\n",
       "      <td>NaN</td>\n",
       "      <td>NaN</td>\n",
       "    </tr>\n",
       "    <tr>\n",
       "      <td>3074</td>\n",
       "      <td>3235</td>\n",
       "      <td>2019-08-31 21:33:01</td>\n",
       "      <td>NaN</td>\n",
       "      <td>NaN</td>\n",
       "      <td>NaN</td>\n",
       "      <td>NaN</td>\n",
       "      <td>NaN</td>\n",
       "      <td>NaN</td>\n",
       "      <td>NaN</td>\n",
       "      <td>NaN</td>\n",
       "    </tr>\n",
       "    <tr>\n",
       "      <td>3075</td>\n",
       "      <td>3236</td>\n",
       "      <td>2019-08-31 22:19:43</td>\n",
       "      <td>NaN</td>\n",
       "      <td>NaN</td>\n",
       "      <td>NaN</td>\n",
       "      <td>NaN</td>\n",
       "      <td>NaN</td>\n",
       "      <td>NaN</td>\n",
       "      <td>NaN</td>\n",
       "      <td>NaN</td>\n",
       "    </tr>\n",
       "    <tr>\n",
       "      <td>3076</td>\n",
       "      <td>3237</td>\n",
       "      <td>2019-08-31 22:50:20</td>\n",
       "      <td>NaN</td>\n",
       "      <td>NaN</td>\n",
       "      <td>NaN</td>\n",
       "      <td>NaN</td>\n",
       "      <td>NaN</td>\n",
       "      <td>NaN</td>\n",
       "      <td>NaN</td>\n",
       "      <td>NaN</td>\n",
       "    </tr>\n",
       "    <tr>\n",
       "      <td>3077</td>\n",
       "      <td>3238</td>\n",
       "      <td>2019-08-31 23:38:24</td>\n",
       "      <td>NaN</td>\n",
       "      <td>NaN</td>\n",
       "      <td>NaN</td>\n",
       "      <td>NaN</td>\n",
       "      <td>NaN</td>\n",
       "      <td>NaN</td>\n",
       "      <td>NaN</td>\n",
       "      <td>NaN</td>\n",
       "    </tr>\n",
       "    <tr>\n",
       "      <td>3078</td>\n",
       "      <td>3239</td>\n",
       "      <td>2019-09-01 01:50:43</td>\n",
       "      <td>NaN</td>\n",
       "      <td>NaN</td>\n",
       "      <td>NaN</td>\n",
       "      <td>NaN</td>\n",
       "      <td>NaN</td>\n",
       "      <td>NaN</td>\n",
       "      <td>NaN</td>\n",
       "      <td>NaN</td>\n",
       "    </tr>\n",
       "    <tr>\n",
       "      <td>3079</td>\n",
       "      <td>3240</td>\n",
       "      <td>2019-09-01 03:12:02</td>\n",
       "      <td>NaN</td>\n",
       "      <td>NaN</td>\n",
       "      <td>NaN</td>\n",
       "      <td>NaN</td>\n",
       "      <td>NaN</td>\n",
       "      <td>NaN</td>\n",
       "      <td>NaN</td>\n",
       "      <td>NaN</td>\n",
       "    </tr>\n",
       "    <tr>\n",
       "      <td>3080</td>\n",
       "      <td>3241</td>\n",
       "      <td>2019-09-01 04:16:01</td>\n",
       "      <td>NaN</td>\n",
       "      <td>NaN</td>\n",
       "      <td>NaN</td>\n",
       "      <td>NaN</td>\n",
       "      <td>NaN</td>\n",
       "      <td>NaN</td>\n",
       "      <td>NaN</td>\n",
       "      <td>NaN</td>\n",
       "    </tr>\n",
       "  </tbody>\n",
       "</table>\n",
       "</div>"
      ],
      "text/plain": [
       "       key               Wire 1 Wire 2 Wire 3 Wire 4 Wire 5 Wire 6 Wire 7  \\\n",
       "3071  3232  2019-08-31 20:02:30    NaN    NaN    NaN    NaN    NaN    NaN   \n",
       "3072  3233  2019-08-31 20:31:24    NaN    NaN    NaN    NaN    NaN    NaN   \n",
       "3073  3234  2019-08-31 21:03:52    NaN    NaN    NaN    NaN    NaN    NaN   \n",
       "3074  3235  2019-08-31 21:33:01    NaN    NaN    NaN    NaN    NaN    NaN   \n",
       "3075  3236  2019-08-31 22:19:43    NaN    NaN    NaN    NaN    NaN    NaN   \n",
       "3076  3237  2019-08-31 22:50:20    NaN    NaN    NaN    NaN    NaN    NaN   \n",
       "3077  3238  2019-08-31 23:38:24    NaN    NaN    NaN    NaN    NaN    NaN   \n",
       "3078  3239  2019-09-01 01:50:43    NaN    NaN    NaN    NaN    NaN    NaN   \n",
       "3079  3240  2019-09-01 03:12:02    NaN    NaN    NaN    NaN    NaN    NaN   \n",
       "3080  3241  2019-09-01 04:16:01    NaN    NaN    NaN    NaN    NaN    NaN   \n",
       "\n",
       "     Wire 8 Wire 9  \n",
       "3071    NaN    NaN  \n",
       "3072    NaN    NaN  \n",
       "3073    NaN    NaN  \n",
       "3074    NaN    NaN  \n",
       "3075    NaN    NaN  \n",
       "3076    NaN    NaN  \n",
       "3077    NaN    NaN  \n",
       "3078    NaN    NaN  \n",
       "3079    NaN    NaN  \n",
       "3080    NaN    NaN  "
      ]
     },
     "execution_count": 73,
     "metadata": {},
     "output_type": "execute_result"
    }
   ],
   "source": [
    "data_wire_time.tail(10)"
   ]
  },
  {
   "cell_type": "markdown",
   "metadata": {},
   "source": [
    "Пропуски данных в файле не заменены, т.к. использовать эти данные в дальнейшей работе не планируется."
   ]
  },
  {
   "cell_type": "markdown",
   "metadata": {},
   "source": [
    "Объединим полученные таблицы в одну по номеру партии:"
   ]
  },
  {
   "cell_type": "code",
   "execution_count": 74,
   "metadata": {},
   "outputs": [],
   "source": [
    "data_combined = data_arc_work.merge(data_first_last_temp,  on='key').\\\n",
    "    merge(data_bulk, on='key').\\\n",
    "    merge(data_gas, on='key').\\\n",
    "    merge(data_wire, on='key')"
   ]
  },
  {
   "cell_type": "code",
   "execution_count": 75,
   "metadata": {},
   "outputs": [],
   "source": [
    "data_combined.columns = ['key', 'current_work', 'initial_temp',\n",
    "       'last_temp', 'bulk_1', 'bulk_2', 'bulk_3', 'bulk_4',\n",
    "       'bulk_5', 'bulk_6', 'bulk_7', 'bulk_8', 'bulk_9', 'bulk_10', 'bulk_11',\n",
    "       'bulk_12', 'bulk_13', 'bulk_14', 'bulk_15', 'gas', 'wire_1', 'wire_2',\n",
    "       'wire_3', 'wire_4', 'wire_5', 'wire_6', 'wire_7', 'wire_8', 'wire_9']"
   ]
  },
  {
   "cell_type": "markdown",
   "metadata": {},
   "source": [
    "Удалим из общей таблицы признак \"key\", ненужный при создании моделей, а также \"wire_5\", т.к. в этом столбце остались только нулевые значения: "
   ]
  },
  {
   "cell_type": "code",
   "execution_count": 76,
   "metadata": {},
   "outputs": [],
   "source": [
    "data_combined = data_combined.drop(columns=['key', 'wire_5'], axis=1)"
   ]
  },
  {
   "cell_type": "markdown",
   "metadata": {},
   "source": [
    "Для того, чтобы проверить признаки на мультиколлинеарность, посмотрим на их корреляцию и построим тепловую карту:"
   ]
  },
  {
   "cell_type": "code",
   "execution_count": 77,
   "metadata": {},
   "outputs": [
    {
     "data": {
      "text/html": [
       "<div>\n",
       "<style scoped>\n",
       "    .dataframe tbody tr th:only-of-type {\n",
       "        vertical-align: middle;\n",
       "    }\n",
       "\n",
       "    .dataframe tbody tr th {\n",
       "        vertical-align: top;\n",
       "    }\n",
       "\n",
       "    .dataframe thead th {\n",
       "        text-align: right;\n",
       "    }\n",
       "</style>\n",
       "<table border=\"1\" class=\"dataframe\">\n",
       "  <thead>\n",
       "    <tr style=\"text-align: right;\">\n",
       "      <th></th>\n",
       "      <th>current_work</th>\n",
       "      <th>initial_temp</th>\n",
       "      <th>last_temp</th>\n",
       "      <th>bulk_1</th>\n",
       "      <th>bulk_2</th>\n",
       "      <th>bulk_3</th>\n",
       "      <th>bulk_4</th>\n",
       "      <th>bulk_5</th>\n",
       "      <th>bulk_6</th>\n",
       "      <th>bulk_7</th>\n",
       "      <th>bulk_8</th>\n",
       "      <th>bulk_9</th>\n",
       "      <th>bulk_10</th>\n",
       "      <th>bulk_11</th>\n",
       "      <th>bulk_12</th>\n",
       "      <th>bulk_13</th>\n",
       "      <th>bulk_14</th>\n",
       "      <th>bulk_15</th>\n",
       "      <th>gas</th>\n",
       "      <th>wire_1</th>\n",
       "      <th>wire_2</th>\n",
       "      <th>wire_3</th>\n",
       "      <th>wire_4</th>\n",
       "      <th>wire_6</th>\n",
       "      <th>wire_7</th>\n",
       "      <th>wire_8</th>\n",
       "      <th>wire_9</th>\n",
       "    </tr>\n",
       "  </thead>\n",
       "  <tbody>\n",
       "    <tr>\n",
       "      <td>current_work</td>\n",
       "      <td>1.000000</td>\n",
       "      <td>-0.333024</td>\n",
       "      <td>0.275018</td>\n",
       "      <td>0.066623</td>\n",
       "      <td>0.018626</td>\n",
       "      <td>0.062171</td>\n",
       "      <td>-0.035293</td>\n",
       "      <td>-0.017001</td>\n",
       "      <td>0.127996</td>\n",
       "      <td>0.042591</td>\n",
       "      <td>-0.008456</td>\n",
       "      <td>-0.001879</td>\n",
       "      <td>-0.001792</td>\n",
       "      <td>0.066153</td>\n",
       "      <td>0.480239</td>\n",
       "      <td>0.160653</td>\n",
       "      <td>0.440997</td>\n",
       "      <td>0.309566</td>\n",
       "      <td>0.319201</td>\n",
       "      <td>0.005963</td>\n",
       "      <td>0.015851</td>\n",
       "      <td>0.006238</td>\n",
       "      <td>0.031639</td>\n",
       "      <td>0.036995</td>\n",
       "      <td>0.006148</td>\n",
       "      <td>0.001013</td>\n",
       "      <td>-0.012310</td>\n",
       "    </tr>\n",
       "    <tr>\n",
       "      <td>initial_temp</td>\n",
       "      <td>-0.333024</td>\n",
       "      <td>1.000000</td>\n",
       "      <td>0.252443</td>\n",
       "      <td>0.072331</td>\n",
       "      <td>0.119802</td>\n",
       "      <td>-0.104394</td>\n",
       "      <td>0.144775</td>\n",
       "      <td>0.068389</td>\n",
       "      <td>-0.096951</td>\n",
       "      <td>0.074729</td>\n",
       "      <td>-0.009320</td>\n",
       "      <td>-0.026216</td>\n",
       "      <td>0.035408</td>\n",
       "      <td>-0.087791</td>\n",
       "      <td>-0.058495</td>\n",
       "      <td>0.018606</td>\n",
       "      <td>-0.131024</td>\n",
       "      <td>-0.040349</td>\n",
       "      <td>0.037341</td>\n",
       "      <td>0.209444</td>\n",
       "      <td>-0.086089</td>\n",
       "      <td>-0.000178</td>\n",
       "      <td>0.064991</td>\n",
       "      <td>0.019884</td>\n",
       "      <td>0.044771</td>\n",
       "      <td>-0.023261</td>\n",
       "      <td>0.004310</td>\n",
       "    </tr>\n",
       "    <tr>\n",
       "      <td>last_temp</td>\n",
       "      <td>0.275018</td>\n",
       "      <td>0.252443</td>\n",
       "      <td>1.000000</td>\n",
       "      <td>-0.075206</td>\n",
       "      <td>-0.082454</td>\n",
       "      <td>-0.035977</td>\n",
       "      <td>0.187970</td>\n",
       "      <td>-0.028355</td>\n",
       "      <td>-0.181816</td>\n",
       "      <td>-0.107275</td>\n",
       "      <td>-0.026587</td>\n",
       "      <td>-0.016075</td>\n",
       "      <td>0.061350</td>\n",
       "      <td>-0.114753</td>\n",
       "      <td>0.267424</td>\n",
       "      <td>-0.010920</td>\n",
       "      <td>0.114617</td>\n",
       "      <td>0.266414</td>\n",
       "      <td>0.059160</td>\n",
       "      <td>0.317575</td>\n",
       "      <td>-0.206672</td>\n",
       "      <td>-0.047537</td>\n",
       "      <td>-0.159719</td>\n",
       "      <td>-0.084034</td>\n",
       "      <td>-0.137262</td>\n",
       "      <td>-0.010767</td>\n",
       "      <td>-0.027488</td>\n",
       "    </tr>\n",
       "    <tr>\n",
       "      <td>bulk_1</td>\n",
       "      <td>0.066623</td>\n",
       "      <td>0.072331</td>\n",
       "      <td>-0.075206</td>\n",
       "      <td>1.000000</td>\n",
       "      <td>0.224701</td>\n",
       "      <td>-0.011628</td>\n",
       "      <td>0.041846</td>\n",
       "      <td>0.060429</td>\n",
       "      <td>-0.003630</td>\n",
       "      <td>0.237213</td>\n",
       "      <td>-0.005725</td>\n",
       "      <td>-0.019756</td>\n",
       "      <td>-0.023187</td>\n",
       "      <td>-0.037892</td>\n",
       "      <td>0.325771</td>\n",
       "      <td>-0.010279</td>\n",
       "      <td>0.207718</td>\n",
       "      <td>-0.000800</td>\n",
       "      <td>0.234141</td>\n",
       "      <td>0.013682</td>\n",
       "      <td>-0.009229</td>\n",
       "      <td>0.020271</td>\n",
       "      <td>0.146301</td>\n",
       "      <td>0.148561</td>\n",
       "      <td>0.083443</td>\n",
       "      <td>-0.019535</td>\n",
       "      <td>0.011066</td>\n",
       "    </tr>\n",
       "    <tr>\n",
       "      <td>bulk_2</td>\n",
       "      <td>0.018626</td>\n",
       "      <td>0.119802</td>\n",
       "      <td>-0.082454</td>\n",
       "      <td>0.224701</td>\n",
       "      <td>1.000000</td>\n",
       "      <td>-0.046888</td>\n",
       "      <td>0.040792</td>\n",
       "      <td>0.360302</td>\n",
       "      <td>-0.029984</td>\n",
       "      <td>0.679356</td>\n",
       "      <td>-0.001545</td>\n",
       "      <td>-0.005333</td>\n",
       "      <td>-0.018015</td>\n",
       "      <td>0.001479</td>\n",
       "      <td>-0.098962</td>\n",
       "      <td>-0.005592</td>\n",
       "      <td>-0.140952</td>\n",
       "      <td>-0.105693</td>\n",
       "      <td>0.217415</td>\n",
       "      <td>-0.169477</td>\n",
       "      <td>-0.039058</td>\n",
       "      <td>0.223202</td>\n",
       "      <td>0.699342</td>\n",
       "      <td>0.558889</td>\n",
       "      <td>0.431737</td>\n",
       "      <td>-0.005273</td>\n",
       "      <td>-0.006842</td>\n",
       "    </tr>\n",
       "    <tr>\n",
       "      <td>bulk_3</td>\n",
       "      <td>0.062171</td>\n",
       "      <td>-0.104394</td>\n",
       "      <td>-0.035977</td>\n",
       "      <td>-0.011628</td>\n",
       "      <td>-0.046888</td>\n",
       "      <td>1.000000</td>\n",
       "      <td>-0.295431</td>\n",
       "      <td>-0.006801</td>\n",
       "      <td>0.065284</td>\n",
       "      <td>-0.033480</td>\n",
       "      <td>0.020824</td>\n",
       "      <td>0.011337</td>\n",
       "      <td>-0.085186</td>\n",
       "      <td>-0.007445</td>\n",
       "      <td>0.018371</td>\n",
       "      <td>-0.013389</td>\n",
       "      <td>0.010772</td>\n",
       "      <td>-0.012860</td>\n",
       "      <td>0.059628</td>\n",
       "      <td>0.039637</td>\n",
       "      <td>0.095723</td>\n",
       "      <td>0.005780</td>\n",
       "      <td>-0.040526</td>\n",
       "      <td>0.007113</td>\n",
       "      <td>-0.019448</td>\n",
       "      <td>0.004846</td>\n",
       "      <td>0.004621</td>\n",
       "    </tr>\n",
       "    <tr>\n",
       "      <td>bulk_4</td>\n",
       "      <td>-0.035293</td>\n",
       "      <td>0.144775</td>\n",
       "      <td>0.187970</td>\n",
       "      <td>0.041846</td>\n",
       "      <td>0.040792</td>\n",
       "      <td>-0.295431</td>\n",
       "      <td>1.000000</td>\n",
       "      <td>0.028348</td>\n",
       "      <td>-0.251562</td>\n",
       "      <td>0.045893</td>\n",
       "      <td>-0.013187</td>\n",
       "      <td>-0.002940</td>\n",
       "      <td>-0.084746</td>\n",
       "      <td>-0.119529</td>\n",
       "      <td>0.105791</td>\n",
       "      <td>0.003209</td>\n",
       "      <td>-0.090602</td>\n",
       "      <td>0.101514</td>\n",
       "      <td>0.017578</td>\n",
       "      <td>0.297591</td>\n",
       "      <td>-0.268142</td>\n",
       "      <td>-0.039219</td>\n",
       "      <td>0.034421</td>\n",
       "      <td>-0.011417</td>\n",
       "      <td>0.033829</td>\n",
       "      <td>0.007830</td>\n",
       "      <td>-0.058138</td>\n",
       "    </tr>\n",
       "    <tr>\n",
       "      <td>bulk_5</td>\n",
       "      <td>-0.017001</td>\n",
       "      <td>0.068389</td>\n",
       "      <td>-0.028355</td>\n",
       "      <td>0.060429</td>\n",
       "      <td>0.360302</td>\n",
       "      <td>-0.006801</td>\n",
       "      <td>0.028348</td>\n",
       "      <td>1.000000</td>\n",
       "      <td>-0.021852</td>\n",
       "      <td>0.288338</td>\n",
       "      <td>-0.002443</td>\n",
       "      <td>-0.008431</td>\n",
       "      <td>-0.028480</td>\n",
       "      <td>-0.015840</td>\n",
       "      <td>-0.072758</td>\n",
       "      <td>-0.008841</td>\n",
       "      <td>-0.065890</td>\n",
       "      <td>-0.067190</td>\n",
       "      <td>0.086902</td>\n",
       "      <td>-0.013493</td>\n",
       "      <td>-0.013794</td>\n",
       "      <td>0.070916</td>\n",
       "      <td>0.262763</td>\n",
       "      <td>0.204819</td>\n",
       "      <td>0.172141</td>\n",
       "      <td>-0.008337</td>\n",
       "      <td>-0.010817</td>\n",
       "    </tr>\n",
       "    <tr>\n",
       "      <td>bulk_6</td>\n",
       "      <td>0.127996</td>\n",
       "      <td>-0.096951</td>\n",
       "      <td>-0.181816</td>\n",
       "      <td>-0.003630</td>\n",
       "      <td>-0.029984</td>\n",
       "      <td>0.065284</td>\n",
       "      <td>-0.251562</td>\n",
       "      <td>-0.021852</td>\n",
       "      <td>1.000000</td>\n",
       "      <td>-0.025099</td>\n",
       "      <td>-0.008334</td>\n",
       "      <td>-0.028762</td>\n",
       "      <td>-0.097157</td>\n",
       "      <td>0.196733</td>\n",
       "      <td>-0.112902</td>\n",
       "      <td>0.042632</td>\n",
       "      <td>0.177490</td>\n",
       "      <td>-0.109316</td>\n",
       "      <td>0.139625</td>\n",
       "      <td>-0.235793</td>\n",
       "      <td>0.204627</td>\n",
       "      <td>-0.046518</td>\n",
       "      <td>-0.025915</td>\n",
       "      <td>-0.020223</td>\n",
       "      <td>-0.012437</td>\n",
       "      <td>-0.028440</td>\n",
       "      <td>-0.013335</td>\n",
       "    </tr>\n",
       "    <tr>\n",
       "      <td>bulk_7</td>\n",
       "      <td>0.042591</td>\n",
       "      <td>0.074729</td>\n",
       "      <td>-0.107275</td>\n",
       "      <td>0.237213</td>\n",
       "      <td>0.679356</td>\n",
       "      <td>-0.033480</td>\n",
       "      <td>0.045893</td>\n",
       "      <td>0.288338</td>\n",
       "      <td>-0.025099</td>\n",
       "      <td>1.000000</td>\n",
       "      <td>-0.001355</td>\n",
       "      <td>-0.004675</td>\n",
       "      <td>-0.015793</td>\n",
       "      <td>-0.004910</td>\n",
       "      <td>-0.017742</td>\n",
       "      <td>-0.004902</td>\n",
       "      <td>-0.076388</td>\n",
       "      <td>-0.090099</td>\n",
       "      <td>0.198311</td>\n",
       "      <td>-0.143267</td>\n",
       "      <td>-0.000631</td>\n",
       "      <td>0.156626</td>\n",
       "      <td>0.740572</td>\n",
       "      <td>0.456101</td>\n",
       "      <td>0.372250</td>\n",
       "      <td>-0.004623</td>\n",
       "      <td>-0.005998</td>\n",
       "    </tr>\n",
       "    <tr>\n",
       "      <td>bulk_8</td>\n",
       "      <td>-0.008456</td>\n",
       "      <td>-0.009320</td>\n",
       "      <td>-0.026587</td>\n",
       "      <td>-0.005725</td>\n",
       "      <td>-0.001545</td>\n",
       "      <td>0.020824</td>\n",
       "      <td>-0.013187</td>\n",
       "      <td>-0.002443</td>\n",
       "      <td>-0.008334</td>\n",
       "      <td>-0.001355</td>\n",
       "      <td>1.000000</td>\n",
       "      <td>0.488391</td>\n",
       "      <td>-0.005007</td>\n",
       "      <td>-0.003909</td>\n",
       "      <td>-0.027508</td>\n",
       "      <td>-0.001554</td>\n",
       "      <td>-0.039180</td>\n",
       "      <td>-0.029379</td>\n",
       "      <td>0.004128</td>\n",
       "      <td>0.034650</td>\n",
       "      <td>0.018912</td>\n",
       "      <td>-0.002400</td>\n",
       "      <td>-0.001336</td>\n",
       "      <td>-0.002334</td>\n",
       "      <td>-0.000641</td>\n",
       "      <td>0.321040</td>\n",
       "      <td>-0.001902</td>\n",
       "    </tr>\n",
       "    <tr>\n",
       "      <td>bulk_9</td>\n",
       "      <td>-0.001879</td>\n",
       "      <td>-0.026216</td>\n",
       "      <td>-0.016075</td>\n",
       "      <td>-0.019756</td>\n",
       "      <td>-0.005333</td>\n",
       "      <td>0.011337</td>\n",
       "      <td>-0.002940</td>\n",
       "      <td>-0.008431</td>\n",
       "      <td>-0.028762</td>\n",
       "      <td>-0.004675</td>\n",
       "      <td>0.488391</td>\n",
       "      <td>1.000000</td>\n",
       "      <td>-0.017281</td>\n",
       "      <td>-0.013488</td>\n",
       "      <td>-0.057706</td>\n",
       "      <td>-0.005364</td>\n",
       "      <td>0.038846</td>\n",
       "      <td>-0.093507</td>\n",
       "      <td>0.116577</td>\n",
       "      <td>0.022596</td>\n",
       "      <td>0.066733</td>\n",
       "      <td>-0.008282</td>\n",
       "      <td>-0.004609</td>\n",
       "      <td>-0.008055</td>\n",
       "      <td>-0.002212</td>\n",
       "      <td>0.974969</td>\n",
       "      <td>-0.006563</td>\n",
       "    </tr>\n",
       "    <tr>\n",
       "      <td>bulk_10</td>\n",
       "      <td>-0.001792</td>\n",
       "      <td>0.035408</td>\n",
       "      <td>0.061350</td>\n",
       "      <td>-0.023187</td>\n",
       "      <td>-0.018015</td>\n",
       "      <td>-0.085186</td>\n",
       "      <td>-0.084746</td>\n",
       "      <td>-0.028480</td>\n",
       "      <td>-0.097157</td>\n",
       "      <td>-0.015793</td>\n",
       "      <td>-0.005007</td>\n",
       "      <td>-0.017281</td>\n",
       "      <td>1.000000</td>\n",
       "      <td>-0.045564</td>\n",
       "      <td>0.027909</td>\n",
       "      <td>-0.018121</td>\n",
       "      <td>-0.045537</td>\n",
       "      <td>0.052262</td>\n",
       "      <td>-0.008508</td>\n",
       "      <td>0.062713</td>\n",
       "      <td>-0.103758</td>\n",
       "      <td>-0.027977</td>\n",
       "      <td>-0.015571</td>\n",
       "      <td>-0.017800</td>\n",
       "      <td>-0.007472</td>\n",
       "      <td>-0.017087</td>\n",
       "      <td>-0.022170</td>\n",
       "    </tr>\n",
       "    <tr>\n",
       "      <td>bulk_11</td>\n",
       "      <td>0.066153</td>\n",
       "      <td>-0.087791</td>\n",
       "      <td>-0.114753</td>\n",
       "      <td>-0.037892</td>\n",
       "      <td>0.001479</td>\n",
       "      <td>-0.007445</td>\n",
       "      <td>-0.119529</td>\n",
       "      <td>-0.015840</td>\n",
       "      <td>0.196733</td>\n",
       "      <td>-0.004910</td>\n",
       "      <td>-0.003909</td>\n",
       "      <td>-0.013488</td>\n",
       "      <td>-0.045564</td>\n",
       "      <td>1.000000</td>\n",
       "      <td>-0.040168</td>\n",
       "      <td>-0.010248</td>\n",
       "      <td>0.078115</td>\n",
       "      <td>-0.048246</td>\n",
       "      <td>0.042027</td>\n",
       "      <td>-0.117755</td>\n",
       "      <td>0.062067</td>\n",
       "      <td>-0.021829</td>\n",
       "      <td>-0.012153</td>\n",
       "      <td>0.008701</td>\n",
       "      <td>-0.005832</td>\n",
       "      <td>-0.013338</td>\n",
       "      <td>-0.017305</td>\n",
       "    </tr>\n",
       "    <tr>\n",
       "      <td>bulk_12</td>\n",
       "      <td>0.480239</td>\n",
       "      <td>-0.058495</td>\n",
       "      <td>0.267424</td>\n",
       "      <td>0.325771</td>\n",
       "      <td>-0.098962</td>\n",
       "      <td>0.018371</td>\n",
       "      <td>0.105791</td>\n",
       "      <td>-0.072758</td>\n",
       "      <td>-0.112902</td>\n",
       "      <td>-0.017742</td>\n",
       "      <td>-0.027508</td>\n",
       "      <td>-0.057706</td>\n",
       "      <td>0.027909</td>\n",
       "      <td>-0.040168</td>\n",
       "      <td>1.000000</td>\n",
       "      <td>0.054205</td>\n",
       "      <td>0.481541</td>\n",
       "      <td>0.614479</td>\n",
       "      <td>0.217332</td>\n",
       "      <td>0.170167</td>\n",
       "      <td>-0.098263</td>\n",
       "      <td>-0.120469</td>\n",
       "      <td>-0.085535</td>\n",
       "      <td>-0.042731</td>\n",
       "      <td>-0.041048</td>\n",
       "      <td>-0.055774</td>\n",
       "      <td>-0.042218</td>\n",
       "    </tr>\n",
       "    <tr>\n",
       "      <td>bulk_13</td>\n",
       "      <td>0.160653</td>\n",
       "      <td>0.018606</td>\n",
       "      <td>-0.010920</td>\n",
       "      <td>-0.010279</td>\n",
       "      <td>-0.005592</td>\n",
       "      <td>-0.013389</td>\n",
       "      <td>0.003209</td>\n",
       "      <td>-0.008841</td>\n",
       "      <td>0.042632</td>\n",
       "      <td>-0.004902</td>\n",
       "      <td>-0.001554</td>\n",
       "      <td>-0.005364</td>\n",
       "      <td>-0.018121</td>\n",
       "      <td>-0.010248</td>\n",
       "      <td>0.054205</td>\n",
       "      <td>1.000000</td>\n",
       "      <td>-0.075578</td>\n",
       "      <td>0.018559</td>\n",
       "      <td>0.049056</td>\n",
       "      <td>0.039439</td>\n",
       "      <td>-0.001390</td>\n",
       "      <td>-0.008685</td>\n",
       "      <td>-0.004833</td>\n",
       "      <td>-0.008447</td>\n",
       "      <td>-0.002320</td>\n",
       "      <td>-0.005304</td>\n",
       "      <td>-0.006882</td>\n",
       "    </tr>\n",
       "    <tr>\n",
       "      <td>bulk_14</td>\n",
       "      <td>0.440997</td>\n",
       "      <td>-0.131024</td>\n",
       "      <td>0.114617</td>\n",
       "      <td>0.207718</td>\n",
       "      <td>-0.140952</td>\n",
       "      <td>0.010772</td>\n",
       "      <td>-0.090602</td>\n",
       "      <td>-0.065890</td>\n",
       "      <td>0.177490</td>\n",
       "      <td>-0.076388</td>\n",
       "      <td>-0.039180</td>\n",
       "      <td>0.038846</td>\n",
       "      <td>-0.045537</td>\n",
       "      <td>0.078115</td>\n",
       "      <td>0.481541</td>\n",
       "      <td>-0.075578</td>\n",
       "      <td>1.000000</td>\n",
       "      <td>0.265354</td>\n",
       "      <td>0.268889</td>\n",
       "      <td>-0.053835</td>\n",
       "      <td>0.036309</td>\n",
       "      <td>-0.008859</td>\n",
       "      <td>-0.121828</td>\n",
       "      <td>-0.052387</td>\n",
       "      <td>-0.058465</td>\n",
       "      <td>0.043656</td>\n",
       "      <td>0.018576</td>\n",
       "    </tr>\n",
       "    <tr>\n",
       "      <td>bulk_15</td>\n",
       "      <td>0.309566</td>\n",
       "      <td>-0.040349</td>\n",
       "      <td>0.266414</td>\n",
       "      <td>-0.000800</td>\n",
       "      <td>-0.105693</td>\n",
       "      <td>-0.012860</td>\n",
       "      <td>0.101514</td>\n",
       "      <td>-0.067190</td>\n",
       "      <td>-0.109316</td>\n",
       "      <td>-0.090099</td>\n",
       "      <td>-0.029379</td>\n",
       "      <td>-0.093507</td>\n",
       "      <td>0.052262</td>\n",
       "      <td>-0.048246</td>\n",
       "      <td>0.614479</td>\n",
       "      <td>0.018559</td>\n",
       "      <td>0.265354</td>\n",
       "      <td>1.000000</td>\n",
       "      <td>0.043624</td>\n",
       "      <td>0.118437</td>\n",
       "      <td>-0.096415</td>\n",
       "      <td>-0.118076</td>\n",
       "      <td>-0.091352</td>\n",
       "      <td>-0.032421</td>\n",
       "      <td>-0.043840</td>\n",
       "      <td>-0.089947</td>\n",
       "      <td>-0.036960</td>\n",
       "    </tr>\n",
       "    <tr>\n",
       "      <td>gas</td>\n",
       "      <td>0.319201</td>\n",
       "      <td>0.037341</td>\n",
       "      <td>0.059160</td>\n",
       "      <td>0.234141</td>\n",
       "      <td>0.217415</td>\n",
       "      <td>0.059628</td>\n",
       "      <td>0.017578</td>\n",
       "      <td>0.086902</td>\n",
       "      <td>0.139625</td>\n",
       "      <td>0.198311</td>\n",
       "      <td>0.004128</td>\n",
       "      <td>0.116577</td>\n",
       "      <td>-0.008508</td>\n",
       "      <td>0.042027</td>\n",
       "      <td>0.217332</td>\n",
       "      <td>0.049056</td>\n",
       "      <td>0.268889</td>\n",
       "      <td>0.043624</td>\n",
       "      <td>1.000000</td>\n",
       "      <td>0.117313</td>\n",
       "      <td>0.104248</td>\n",
       "      <td>0.103382</td>\n",
       "      <td>0.145413</td>\n",
       "      <td>0.108089</td>\n",
       "      <td>0.078953</td>\n",
       "      <td>0.118068</td>\n",
       "      <td>0.014070</td>\n",
       "    </tr>\n",
       "    <tr>\n",
       "      <td>wire_1</td>\n",
       "      <td>0.005963</td>\n",
       "      <td>0.209444</td>\n",
       "      <td>0.317575</td>\n",
       "      <td>0.013682</td>\n",
       "      <td>-0.169477</td>\n",
       "      <td>0.039637</td>\n",
       "      <td>0.297591</td>\n",
       "      <td>-0.013493</td>\n",
       "      <td>-0.235793</td>\n",
       "      <td>-0.143267</td>\n",
       "      <td>0.034650</td>\n",
       "      <td>0.022596</td>\n",
       "      <td>0.062713</td>\n",
       "      <td>-0.117755</td>\n",
       "      <td>0.170167</td>\n",
       "      <td>0.039439</td>\n",
       "      <td>-0.053835</td>\n",
       "      <td>0.118437</td>\n",
       "      <td>0.117313</td>\n",
       "      <td>1.000000</td>\n",
       "      <td>-0.068301</td>\n",
       "      <td>0.038075</td>\n",
       "      <td>-0.142005</td>\n",
       "      <td>-0.128036</td>\n",
       "      <td>-0.067509</td>\n",
       "      <td>0.017234</td>\n",
       "      <td>0.021074</td>\n",
       "    </tr>\n",
       "    <tr>\n",
       "      <td>wire_2</td>\n",
       "      <td>0.015851</td>\n",
       "      <td>-0.086089</td>\n",
       "      <td>-0.206672</td>\n",
       "      <td>-0.009229</td>\n",
       "      <td>-0.039058</td>\n",
       "      <td>0.095723</td>\n",
       "      <td>-0.268142</td>\n",
       "      <td>-0.013794</td>\n",
       "      <td>0.204627</td>\n",
       "      <td>-0.000631</td>\n",
       "      <td>0.018912</td>\n",
       "      <td>0.066733</td>\n",
       "      <td>-0.103758</td>\n",
       "      <td>0.062067</td>\n",
       "      <td>-0.098263</td>\n",
       "      <td>-0.001390</td>\n",
       "      <td>0.036309</td>\n",
       "      <td>-0.096415</td>\n",
       "      <td>0.104248</td>\n",
       "      <td>-0.068301</td>\n",
       "      <td>1.000000</td>\n",
       "      <td>0.094073</td>\n",
       "      <td>-0.033758</td>\n",
       "      <td>-0.058700</td>\n",
       "      <td>-0.016201</td>\n",
       "      <td>0.069272</td>\n",
       "      <td>0.213150</td>\n",
       "    </tr>\n",
       "    <tr>\n",
       "      <td>wire_3</td>\n",
       "      <td>0.006238</td>\n",
       "      <td>-0.000178</td>\n",
       "      <td>-0.047537</td>\n",
       "      <td>0.020271</td>\n",
       "      <td>0.223202</td>\n",
       "      <td>0.005780</td>\n",
       "      <td>-0.039219</td>\n",
       "      <td>0.070916</td>\n",
       "      <td>-0.046518</td>\n",
       "      <td>0.156626</td>\n",
       "      <td>-0.002400</td>\n",
       "      <td>-0.008282</td>\n",
       "      <td>-0.027977</td>\n",
       "      <td>-0.021829</td>\n",
       "      <td>-0.120469</td>\n",
       "      <td>-0.008685</td>\n",
       "      <td>-0.008859</td>\n",
       "      <td>-0.118076</td>\n",
       "      <td>0.103382</td>\n",
       "      <td>0.038075</td>\n",
       "      <td>0.094073</td>\n",
       "      <td>1.000000</td>\n",
       "      <td>0.169810</td>\n",
       "      <td>0.183456</td>\n",
       "      <td>0.100392</td>\n",
       "      <td>-0.008189</td>\n",
       "      <td>-0.010625</td>\n",
       "    </tr>\n",
       "    <tr>\n",
       "      <td>wire_4</td>\n",
       "      <td>0.031639</td>\n",
       "      <td>0.064991</td>\n",
       "      <td>-0.159719</td>\n",
       "      <td>0.146301</td>\n",
       "      <td>0.699342</td>\n",
       "      <td>-0.040526</td>\n",
       "      <td>0.034421</td>\n",
       "      <td>0.262763</td>\n",
       "      <td>-0.025915</td>\n",
       "      <td>0.740572</td>\n",
       "      <td>-0.001336</td>\n",
       "      <td>-0.004609</td>\n",
       "      <td>-0.015571</td>\n",
       "      <td>-0.012153</td>\n",
       "      <td>-0.085535</td>\n",
       "      <td>-0.004833</td>\n",
       "      <td>-0.121828</td>\n",
       "      <td>-0.091352</td>\n",
       "      <td>0.145413</td>\n",
       "      <td>-0.142005</td>\n",
       "      <td>-0.033758</td>\n",
       "      <td>0.169810</td>\n",
       "      <td>1.000000</td>\n",
       "      <td>0.445960</td>\n",
       "      <td>0.602964</td>\n",
       "      <td>-0.004558</td>\n",
       "      <td>-0.005914</td>\n",
       "    </tr>\n",
       "    <tr>\n",
       "      <td>wire_6</td>\n",
       "      <td>0.036995</td>\n",
       "      <td>0.019884</td>\n",
       "      <td>-0.084034</td>\n",
       "      <td>0.148561</td>\n",
       "      <td>0.558889</td>\n",
       "      <td>0.007113</td>\n",
       "      <td>-0.011417</td>\n",
       "      <td>0.204819</td>\n",
       "      <td>-0.020223</td>\n",
       "      <td>0.456101</td>\n",
       "      <td>-0.002334</td>\n",
       "      <td>-0.008055</td>\n",
       "      <td>-0.017800</td>\n",
       "      <td>0.008701</td>\n",
       "      <td>-0.042731</td>\n",
       "      <td>-0.008447</td>\n",
       "      <td>-0.052387</td>\n",
       "      <td>-0.032421</td>\n",
       "      <td>0.108089</td>\n",
       "      <td>-0.128036</td>\n",
       "      <td>-0.058700</td>\n",
       "      <td>0.183456</td>\n",
       "      <td>0.445960</td>\n",
       "      <td>1.000000</td>\n",
       "      <td>0.302742</td>\n",
       "      <td>-0.007965</td>\n",
       "      <td>-0.010334</td>\n",
       "    </tr>\n",
       "    <tr>\n",
       "      <td>wire_7</td>\n",
       "      <td>0.006148</td>\n",
       "      <td>0.044771</td>\n",
       "      <td>-0.137262</td>\n",
       "      <td>0.083443</td>\n",
       "      <td>0.431737</td>\n",
       "      <td>-0.019448</td>\n",
       "      <td>0.033829</td>\n",
       "      <td>0.172141</td>\n",
       "      <td>-0.012437</td>\n",
       "      <td>0.372250</td>\n",
       "      <td>-0.000641</td>\n",
       "      <td>-0.002212</td>\n",
       "      <td>-0.007472</td>\n",
       "      <td>-0.005832</td>\n",
       "      <td>-0.041048</td>\n",
       "      <td>-0.002320</td>\n",
       "      <td>-0.058465</td>\n",
       "      <td>-0.043840</td>\n",
       "      <td>0.078953</td>\n",
       "      <td>-0.067509</td>\n",
       "      <td>-0.016201</td>\n",
       "      <td>0.100392</td>\n",
       "      <td>0.602964</td>\n",
       "      <td>0.302742</td>\n",
       "      <td>1.000000</td>\n",
       "      <td>-0.002187</td>\n",
       "      <td>-0.002838</td>\n",
       "    </tr>\n",
       "    <tr>\n",
       "      <td>wire_8</td>\n",
       "      <td>0.001013</td>\n",
       "      <td>-0.023261</td>\n",
       "      <td>-0.010767</td>\n",
       "      <td>-0.019535</td>\n",
       "      <td>-0.005273</td>\n",
       "      <td>0.004846</td>\n",
       "      <td>0.007830</td>\n",
       "      <td>-0.008337</td>\n",
       "      <td>-0.028440</td>\n",
       "      <td>-0.004623</td>\n",
       "      <td>0.321040</td>\n",
       "      <td>0.974969</td>\n",
       "      <td>-0.017087</td>\n",
       "      <td>-0.013338</td>\n",
       "      <td>-0.055774</td>\n",
       "      <td>-0.005304</td>\n",
       "      <td>0.043656</td>\n",
       "      <td>-0.089947</td>\n",
       "      <td>0.118068</td>\n",
       "      <td>0.017234</td>\n",
       "      <td>0.069272</td>\n",
       "      <td>-0.008189</td>\n",
       "      <td>-0.004558</td>\n",
       "      <td>-0.007965</td>\n",
       "      <td>-0.002187</td>\n",
       "      <td>1.000000</td>\n",
       "      <td>-0.006490</td>\n",
       "    </tr>\n",
       "    <tr>\n",
       "      <td>wire_9</td>\n",
       "      <td>-0.012310</td>\n",
       "      <td>0.004310</td>\n",
       "      <td>-0.027488</td>\n",
       "      <td>0.011066</td>\n",
       "      <td>-0.006842</td>\n",
       "      <td>0.004621</td>\n",
       "      <td>-0.058138</td>\n",
       "      <td>-0.010817</td>\n",
       "      <td>-0.013335</td>\n",
       "      <td>-0.005998</td>\n",
       "      <td>-0.001902</td>\n",
       "      <td>-0.006563</td>\n",
       "      <td>-0.022170</td>\n",
       "      <td>-0.017305</td>\n",
       "      <td>-0.042218</td>\n",
       "      <td>-0.006882</td>\n",
       "      <td>0.018576</td>\n",
       "      <td>-0.036960</td>\n",
       "      <td>0.014070</td>\n",
       "      <td>0.021074</td>\n",
       "      <td>0.213150</td>\n",
       "      <td>-0.010625</td>\n",
       "      <td>-0.005914</td>\n",
       "      <td>-0.010334</td>\n",
       "      <td>-0.002838</td>\n",
       "      <td>-0.006490</td>\n",
       "      <td>1.000000</td>\n",
       "    </tr>\n",
       "  </tbody>\n",
       "</table>\n",
       "</div>"
      ],
      "text/plain": [
       "              current_work  initial_temp  last_temp    bulk_1    bulk_2  \\\n",
       "current_work      1.000000     -0.333024   0.275018  0.066623  0.018626   \n",
       "initial_temp     -0.333024      1.000000   0.252443  0.072331  0.119802   \n",
       "last_temp         0.275018      0.252443   1.000000 -0.075206 -0.082454   \n",
       "bulk_1            0.066623      0.072331  -0.075206  1.000000  0.224701   \n",
       "bulk_2            0.018626      0.119802  -0.082454  0.224701  1.000000   \n",
       "bulk_3            0.062171     -0.104394  -0.035977 -0.011628 -0.046888   \n",
       "bulk_4           -0.035293      0.144775   0.187970  0.041846  0.040792   \n",
       "bulk_5           -0.017001      0.068389  -0.028355  0.060429  0.360302   \n",
       "bulk_6            0.127996     -0.096951  -0.181816 -0.003630 -0.029984   \n",
       "bulk_7            0.042591      0.074729  -0.107275  0.237213  0.679356   \n",
       "bulk_8           -0.008456     -0.009320  -0.026587 -0.005725 -0.001545   \n",
       "bulk_9           -0.001879     -0.026216  -0.016075 -0.019756 -0.005333   \n",
       "bulk_10          -0.001792      0.035408   0.061350 -0.023187 -0.018015   \n",
       "bulk_11           0.066153     -0.087791  -0.114753 -0.037892  0.001479   \n",
       "bulk_12           0.480239     -0.058495   0.267424  0.325771 -0.098962   \n",
       "bulk_13           0.160653      0.018606  -0.010920 -0.010279 -0.005592   \n",
       "bulk_14           0.440997     -0.131024   0.114617  0.207718 -0.140952   \n",
       "bulk_15           0.309566     -0.040349   0.266414 -0.000800 -0.105693   \n",
       "gas               0.319201      0.037341   0.059160  0.234141  0.217415   \n",
       "wire_1            0.005963      0.209444   0.317575  0.013682 -0.169477   \n",
       "wire_2            0.015851     -0.086089  -0.206672 -0.009229 -0.039058   \n",
       "wire_3            0.006238     -0.000178  -0.047537  0.020271  0.223202   \n",
       "wire_4            0.031639      0.064991  -0.159719  0.146301  0.699342   \n",
       "wire_6            0.036995      0.019884  -0.084034  0.148561  0.558889   \n",
       "wire_7            0.006148      0.044771  -0.137262  0.083443  0.431737   \n",
       "wire_8            0.001013     -0.023261  -0.010767 -0.019535 -0.005273   \n",
       "wire_9           -0.012310      0.004310  -0.027488  0.011066 -0.006842   \n",
       "\n",
       "                bulk_3    bulk_4    bulk_5    bulk_6    bulk_7    bulk_8  \\\n",
       "current_work  0.062171 -0.035293 -0.017001  0.127996  0.042591 -0.008456   \n",
       "initial_temp -0.104394  0.144775  0.068389 -0.096951  0.074729 -0.009320   \n",
       "last_temp    -0.035977  0.187970 -0.028355 -0.181816 -0.107275 -0.026587   \n",
       "bulk_1       -0.011628  0.041846  0.060429 -0.003630  0.237213 -0.005725   \n",
       "bulk_2       -0.046888  0.040792  0.360302 -0.029984  0.679356 -0.001545   \n",
       "bulk_3        1.000000 -0.295431 -0.006801  0.065284 -0.033480  0.020824   \n",
       "bulk_4       -0.295431  1.000000  0.028348 -0.251562  0.045893 -0.013187   \n",
       "bulk_5       -0.006801  0.028348  1.000000 -0.021852  0.288338 -0.002443   \n",
       "bulk_6        0.065284 -0.251562 -0.021852  1.000000 -0.025099 -0.008334   \n",
       "bulk_7       -0.033480  0.045893  0.288338 -0.025099  1.000000 -0.001355   \n",
       "bulk_8        0.020824 -0.013187 -0.002443 -0.008334 -0.001355  1.000000   \n",
       "bulk_9        0.011337 -0.002940 -0.008431 -0.028762 -0.004675  0.488391   \n",
       "bulk_10      -0.085186 -0.084746 -0.028480 -0.097157 -0.015793 -0.005007   \n",
       "bulk_11      -0.007445 -0.119529 -0.015840  0.196733 -0.004910 -0.003909   \n",
       "bulk_12       0.018371  0.105791 -0.072758 -0.112902 -0.017742 -0.027508   \n",
       "bulk_13      -0.013389  0.003209 -0.008841  0.042632 -0.004902 -0.001554   \n",
       "bulk_14       0.010772 -0.090602 -0.065890  0.177490 -0.076388 -0.039180   \n",
       "bulk_15      -0.012860  0.101514 -0.067190 -0.109316 -0.090099 -0.029379   \n",
       "gas           0.059628  0.017578  0.086902  0.139625  0.198311  0.004128   \n",
       "wire_1        0.039637  0.297591 -0.013493 -0.235793 -0.143267  0.034650   \n",
       "wire_2        0.095723 -0.268142 -0.013794  0.204627 -0.000631  0.018912   \n",
       "wire_3        0.005780 -0.039219  0.070916 -0.046518  0.156626 -0.002400   \n",
       "wire_4       -0.040526  0.034421  0.262763 -0.025915  0.740572 -0.001336   \n",
       "wire_6        0.007113 -0.011417  0.204819 -0.020223  0.456101 -0.002334   \n",
       "wire_7       -0.019448  0.033829  0.172141 -0.012437  0.372250 -0.000641   \n",
       "wire_8        0.004846  0.007830 -0.008337 -0.028440 -0.004623  0.321040   \n",
       "wire_9        0.004621 -0.058138 -0.010817 -0.013335 -0.005998 -0.001902   \n",
       "\n",
       "                bulk_9   bulk_10   bulk_11   bulk_12   bulk_13   bulk_14  \\\n",
       "current_work -0.001879 -0.001792  0.066153  0.480239  0.160653  0.440997   \n",
       "initial_temp -0.026216  0.035408 -0.087791 -0.058495  0.018606 -0.131024   \n",
       "last_temp    -0.016075  0.061350 -0.114753  0.267424 -0.010920  0.114617   \n",
       "bulk_1       -0.019756 -0.023187 -0.037892  0.325771 -0.010279  0.207718   \n",
       "bulk_2       -0.005333 -0.018015  0.001479 -0.098962 -0.005592 -0.140952   \n",
       "bulk_3        0.011337 -0.085186 -0.007445  0.018371 -0.013389  0.010772   \n",
       "bulk_4       -0.002940 -0.084746 -0.119529  0.105791  0.003209 -0.090602   \n",
       "bulk_5       -0.008431 -0.028480 -0.015840 -0.072758 -0.008841 -0.065890   \n",
       "bulk_6       -0.028762 -0.097157  0.196733 -0.112902  0.042632  0.177490   \n",
       "bulk_7       -0.004675 -0.015793 -0.004910 -0.017742 -0.004902 -0.076388   \n",
       "bulk_8        0.488391 -0.005007 -0.003909 -0.027508 -0.001554 -0.039180   \n",
       "bulk_9        1.000000 -0.017281 -0.013488 -0.057706 -0.005364  0.038846   \n",
       "bulk_10      -0.017281  1.000000 -0.045564  0.027909 -0.018121 -0.045537   \n",
       "bulk_11      -0.013488 -0.045564  1.000000 -0.040168 -0.010248  0.078115   \n",
       "bulk_12      -0.057706  0.027909 -0.040168  1.000000  0.054205  0.481541   \n",
       "bulk_13      -0.005364 -0.018121 -0.010248  0.054205  1.000000 -0.075578   \n",
       "bulk_14       0.038846 -0.045537  0.078115  0.481541 -0.075578  1.000000   \n",
       "bulk_15      -0.093507  0.052262 -0.048246  0.614479  0.018559  0.265354   \n",
       "gas           0.116577 -0.008508  0.042027  0.217332  0.049056  0.268889   \n",
       "wire_1        0.022596  0.062713 -0.117755  0.170167  0.039439 -0.053835   \n",
       "wire_2        0.066733 -0.103758  0.062067 -0.098263 -0.001390  0.036309   \n",
       "wire_3       -0.008282 -0.027977 -0.021829 -0.120469 -0.008685 -0.008859   \n",
       "wire_4       -0.004609 -0.015571 -0.012153 -0.085535 -0.004833 -0.121828   \n",
       "wire_6       -0.008055 -0.017800  0.008701 -0.042731 -0.008447 -0.052387   \n",
       "wire_7       -0.002212 -0.007472 -0.005832 -0.041048 -0.002320 -0.058465   \n",
       "wire_8        0.974969 -0.017087 -0.013338 -0.055774 -0.005304  0.043656   \n",
       "wire_9       -0.006563 -0.022170 -0.017305 -0.042218 -0.006882  0.018576   \n",
       "\n",
       "               bulk_15       gas    wire_1    wire_2    wire_3    wire_4  \\\n",
       "current_work  0.309566  0.319201  0.005963  0.015851  0.006238  0.031639   \n",
       "initial_temp -0.040349  0.037341  0.209444 -0.086089 -0.000178  0.064991   \n",
       "last_temp     0.266414  0.059160  0.317575 -0.206672 -0.047537 -0.159719   \n",
       "bulk_1       -0.000800  0.234141  0.013682 -0.009229  0.020271  0.146301   \n",
       "bulk_2       -0.105693  0.217415 -0.169477 -0.039058  0.223202  0.699342   \n",
       "bulk_3       -0.012860  0.059628  0.039637  0.095723  0.005780 -0.040526   \n",
       "bulk_4        0.101514  0.017578  0.297591 -0.268142 -0.039219  0.034421   \n",
       "bulk_5       -0.067190  0.086902 -0.013493 -0.013794  0.070916  0.262763   \n",
       "bulk_6       -0.109316  0.139625 -0.235793  0.204627 -0.046518 -0.025915   \n",
       "bulk_7       -0.090099  0.198311 -0.143267 -0.000631  0.156626  0.740572   \n",
       "bulk_8       -0.029379  0.004128  0.034650  0.018912 -0.002400 -0.001336   \n",
       "bulk_9       -0.093507  0.116577  0.022596  0.066733 -0.008282 -0.004609   \n",
       "bulk_10       0.052262 -0.008508  0.062713 -0.103758 -0.027977 -0.015571   \n",
       "bulk_11      -0.048246  0.042027 -0.117755  0.062067 -0.021829 -0.012153   \n",
       "bulk_12       0.614479  0.217332  0.170167 -0.098263 -0.120469 -0.085535   \n",
       "bulk_13       0.018559  0.049056  0.039439 -0.001390 -0.008685 -0.004833   \n",
       "bulk_14       0.265354  0.268889 -0.053835  0.036309 -0.008859 -0.121828   \n",
       "bulk_15       1.000000  0.043624  0.118437 -0.096415 -0.118076 -0.091352   \n",
       "gas           0.043624  1.000000  0.117313  0.104248  0.103382  0.145413   \n",
       "wire_1        0.118437  0.117313  1.000000 -0.068301  0.038075 -0.142005   \n",
       "wire_2       -0.096415  0.104248 -0.068301  1.000000  0.094073 -0.033758   \n",
       "wire_3       -0.118076  0.103382  0.038075  0.094073  1.000000  0.169810   \n",
       "wire_4       -0.091352  0.145413 -0.142005 -0.033758  0.169810  1.000000   \n",
       "wire_6       -0.032421  0.108089 -0.128036 -0.058700  0.183456  0.445960   \n",
       "wire_7       -0.043840  0.078953 -0.067509 -0.016201  0.100392  0.602964   \n",
       "wire_8       -0.089947  0.118068  0.017234  0.069272 -0.008189 -0.004558   \n",
       "wire_9       -0.036960  0.014070  0.021074  0.213150 -0.010625 -0.005914   \n",
       "\n",
       "                wire_6    wire_7    wire_8    wire_9  \n",
       "current_work  0.036995  0.006148  0.001013 -0.012310  \n",
       "initial_temp  0.019884  0.044771 -0.023261  0.004310  \n",
       "last_temp    -0.084034 -0.137262 -0.010767 -0.027488  \n",
       "bulk_1        0.148561  0.083443 -0.019535  0.011066  \n",
       "bulk_2        0.558889  0.431737 -0.005273 -0.006842  \n",
       "bulk_3        0.007113 -0.019448  0.004846  0.004621  \n",
       "bulk_4       -0.011417  0.033829  0.007830 -0.058138  \n",
       "bulk_5        0.204819  0.172141 -0.008337 -0.010817  \n",
       "bulk_6       -0.020223 -0.012437 -0.028440 -0.013335  \n",
       "bulk_7        0.456101  0.372250 -0.004623 -0.005998  \n",
       "bulk_8       -0.002334 -0.000641  0.321040 -0.001902  \n",
       "bulk_9       -0.008055 -0.002212  0.974969 -0.006563  \n",
       "bulk_10      -0.017800 -0.007472 -0.017087 -0.022170  \n",
       "bulk_11       0.008701 -0.005832 -0.013338 -0.017305  \n",
       "bulk_12      -0.042731 -0.041048 -0.055774 -0.042218  \n",
       "bulk_13      -0.008447 -0.002320 -0.005304 -0.006882  \n",
       "bulk_14      -0.052387 -0.058465  0.043656  0.018576  \n",
       "bulk_15      -0.032421 -0.043840 -0.089947 -0.036960  \n",
       "gas           0.108089  0.078953  0.118068  0.014070  \n",
       "wire_1       -0.128036 -0.067509  0.017234  0.021074  \n",
       "wire_2       -0.058700 -0.016201  0.069272  0.213150  \n",
       "wire_3        0.183456  0.100392 -0.008189 -0.010625  \n",
       "wire_4        0.445960  0.602964 -0.004558 -0.005914  \n",
       "wire_6        1.000000  0.302742 -0.007965 -0.010334  \n",
       "wire_7        0.302742  1.000000 -0.002187 -0.002838  \n",
       "wire_8       -0.007965 -0.002187  1.000000 -0.006490  \n",
       "wire_9       -0.010334 -0.002838 -0.006490  1.000000  "
      ]
     },
     "execution_count": 77,
     "metadata": {},
     "output_type": "execute_result"
    }
   ],
   "source": [
    "data_combined.corr()"
   ]
  },
  {
   "cell_type": "code",
   "execution_count": 78,
   "metadata": {},
   "outputs": [
    {
     "data": {
      "image/png": "[encoded data removed]",
      "text/plain": [
       "<Figure size 720x720 with 2 Axes>"
      ]
     },
     "metadata": {
      "needs_background": "light"
     },
     "output_type": "display_data"
    }
   ],
   "source": [
    "plt.figure(figsize = (10, 10))\n",
    "sns.heatmap(data_combined.corr(), xticklabels=True, yticklabels=True)\n",
    "plt.title('Тепловая карта корреляции признаков \\n')\n",
    "plt.show()"
   ]
  },
  {
   "cell_type": "markdown",
   "metadata": {},
   "source": [
    "Из всех признаков наиболее сильно скоррелированы между собой \"bulk_9\" и \"wire_8\". Удалим один их этих признаков:"
   ]
  },
  {
   "cell_type": "code",
   "execution_count": 79,
   "metadata": {},
   "outputs": [],
   "source": [
    "data_combined = data_combined.drop('wire_8', axis=1)"
   ]
  },
  {
   "cell_type": "markdown",
   "metadata": {},
   "source": [
    "### Вывод"
   ]
  },
  {
   "cell_type": "markdown",
   "metadata": {},
   "source": [
    "На данном этапе были загружены и изучены все 7 предоставленных файлов данных. Были удалены пропущенные и некорректные значения, преобразованы типы данных object в datetime. Была рассмотрена статистика по данным. Активная и реактивная мощность были преобразованы в затраченную энергию на нагрев стали. Далее затраченная энергия, разделенная по времени, была сгруппирована и просуммирована по партиям металла. Также на данном этапе все признаки были объединены в общую таблицу и проверены на мультиколлинеарность. Были удалены 2 признака (\"wire_5\", \"wire_8\"). В дальнейшей работе не используются данные из файлов \"data_bulk_time.csv\", \"data_wire_time.csv\", т.к. нам не важно время введения добавок в расплав."
   ]
  },
  {
   "cell_type": "markdown",
   "metadata": {},
   "source": [
    "## Создание моделей"
   ]
  },
  {
   "cell_type": "markdown",
   "metadata": {},
   "source": [
    "- Создадим функцию для разделения данных на обучающие и тестовые:"
   ]
  },
  {
   "cell_type": "code",
   "execution_count": 80,
   "metadata": {},
   "outputs": [],
   "source": [
    "def data_split(data):\n",
    "    features = data.drop('last_temp', axis=1)\n",
    "    target = data['last_temp']\n",
    "    features_train, features_test, target_train, target_test = train_test_split(\n",
    "    features, target, test_size=0.2, random_state=1234)\n",
    "    return features_train, features_test, target_train, target_test"
   ]
  },
  {
   "cell_type": "code",
   "execution_count": 81,
   "metadata": {},
   "outputs": [],
   "source": [
    "features_train, features_test, target_train, target_test = data_split(data_combined)"
   ]
  },
  {
   "cell_type": "markdown",
   "metadata": {},
   "source": [
    "- Создадим функцию для масштабирования признаков:"
   ]
  },
  {
   "cell_type": "code",
   "execution_count": 82,
   "metadata": {},
   "outputs": [],
   "source": [
    "def data_scaler(data_train, data_test):\n",
    "    scaler = StandardScaler()\n",
    "    scaler.fit(data_train)\n",
    "    features_train = scaler.transform(data_train)\n",
    "    features_test = scaler.transform(data_test)\n",
    "    return features_train, features_test"
   ]
  },
  {
   "cell_type": "code",
   "execution_count": 83,
   "metadata": {},
   "outputs": [],
   "source": [
    "features_train, features_test = data_scaler(features_train, features_test)"
   ]
  },
  {
   "cell_type": "markdown",
   "metadata": {},
   "source": [
    "- Создадим функцию, вычисляющую целевую метрику МАЕ для использования в GridSearchCV:"
   ]
  },
  {
   "cell_type": "code",
   "execution_count": 84,
   "metadata": {},
   "outputs": [],
   "source": [
    "def mae_calc(features, target):\n",
    "    mae = (mean_absolute_error(features, target))\n",
    "    return mae"
   ]
  },
  {
   "cell_type": "code",
   "execution_count": 85,
   "metadata": {},
   "outputs": [],
   "source": [
    "my_scorer = make_scorer(mae_calc, greater_is_better=False)"
   ]
  },
  {
   "cell_type": "markdown",
   "metadata": {},
   "source": [
    "- Создадим таблицу для сохранения финальных результатов метрик моделей:"
   ]
  },
  {
   "cell_type": "code",
   "execution_count": 86,
   "metadata": {},
   "outputs": [],
   "source": [
    "model_results = pd.DataFrame(columns=['mae_train', 'mae_test'], \n",
    "                             index=['linear_regression', 'tree', 'random_forest', 'LightGBM', 'CatBoost'])"
   ]
  },
  {
   "cell_type": "markdown",
   "metadata": {},
   "source": [
    "- Создадим и проверим предсказания константной модели, чтобы иметь представление о том, насколько полученная нами метрика адекватна:"
   ]
  },
  {
   "cell_type": "code",
   "execution_count": 87,
   "metadata": {},
   "outputs": [],
   "source": [
    "predictions_dummy = pd.Series(target_train.mean(), index=target_train.index)"
   ]
  },
  {
   "cell_type": "code",
   "execution_count": 88,
   "metadata": {},
   "outputs": [
    {
     "name": "stdout",
     "output_type": "stream",
     "text": [
      "MAE константной модели: 8.224\n"
     ]
    }
   ],
   "source": [
    "print('MAE константной модели:', round(mean_absolute_error(target_train, predictions_dummy), 3))"
   ]
  },
  {
   "cell_type": "markdown",
   "metadata": {},
   "source": [
    "### Проверка важности признаков"
   ]
  },
  {
   "cell_type": "markdown",
   "metadata": {},
   "source": [
    "Чтобы улучшить качество предсказания моделей, произведем проверку важности признаков для случайного леса, LightGBM, CatBoost и по её результатам удалим лишние признаки, вносящие \"шум\" в работу моделей. Для этого создадим и обучим модели со стандартными гиперпараметрами и сравним значения feature_importances:"
   ]
  },
  {
   "cell_type": "markdown",
   "metadata": {},
   "source": [
    "- Случайный лес"
   ]
  },
  {
   "cell_type": "code",
   "execution_count": 89,
   "metadata": {},
   "outputs": [],
   "source": [
    "model_random_forest = RandomForestRegressor(\n",
    "    random_state=12345,\n",
    "    n_estimators=10,\n",
    "    n_jobs=-1)"
   ]
  },
  {
   "cell_type": "code",
   "execution_count": 90,
   "metadata": {},
   "outputs": [
    {
     "data": {
      "text/plain": [
       "RandomForestRegressor(bootstrap=True, criterion='mse', max_depth=None,\n",
       "                      max_features='auto', max_leaf_nodes=None,\n",
       "                      min_impurity_decrease=0.0, min_impurity_split=None,\n",
       "                      min_samples_leaf=1, min_samples_split=2,\n",
       "                      min_weight_fraction_leaf=0.0, n_estimators=10, n_jobs=-1,\n",
       "                      oob_score=False, random_state=12345, verbose=0,\n",
       "                      warm_start=False)"
      ]
     },
     "execution_count": 90,
     "metadata": {},
     "output_type": "execute_result"
    }
   ],
   "source": [
    "model_random_forest.fit(features_train, target_train)"
   ]
  },
  {
   "cell_type": "code",
   "execution_count": 91,
   "metadata": {},
   "outputs": [],
   "source": [
    "feature_importances = pd.DataFrame(\n",
    "    model_random_forest.feature_importances_*100,\n",
    "    index=data_combined.drop('last_temp', axis=1).columns,\n",
    "    columns=['random_forest'])"
   ]
  },
  {
   "cell_type": "markdown",
   "metadata": {},
   "source": [
    "- CatBoost"
   ]
  },
  {
   "cell_type": "code",
   "execution_count": 92,
   "metadata": {},
   "outputs": [],
   "source": [
    "model_catboost = CatBoostRegressor(verbose=False)"
   ]
  },
  {
   "cell_type": "code",
   "execution_count": 93,
   "metadata": {},
   "outputs": [
    {
     "data": {
      "text/plain": [
       "<catboost.core.CatBoostRegressor at 0x7f2243bf3710>"
      ]
     },
     "execution_count": 93,
     "metadata": {},
     "output_type": "execute_result"
    }
   ],
   "source": [
    "model_catboost.fit(features_train, target_train)"
   ]
  },
  {
   "cell_type": "code",
   "execution_count": 94,
   "metadata": {},
   "outputs": [],
   "source": [
    "feature_importances['catboost'] = model_catboost.get_feature_importance()"
   ]
  },
  {
   "cell_type": "markdown",
   "metadata": {},
   "source": [
    "- LightGBM"
   ]
  },
  {
   "cell_type": "code",
   "execution_count": 95,
   "metadata": {},
   "outputs": [],
   "source": [
    "params = {\n",
    "    'objective': 'regression',\n",
    "    'boosting': 'gbdt',\n",
    "    'metric': 'mae',\n",
    "    'verbose': 0\n",
    "    }"
   ]
  },
  {
   "cell_type": "code",
   "execution_count": 96,
   "metadata": {},
   "outputs": [],
   "source": [
    "lgb_train = lgb.Dataset(features_train, target_train)"
   ]
  },
  {
   "cell_type": "code",
   "execution_count": 97,
   "metadata": {},
   "outputs": [],
   "source": [
    "lgb_test = lgb.Dataset(features_test, target_test)"
   ]
  },
  {
   "cell_type": "code",
   "execution_count": 98,
   "metadata": {},
   "outputs": [],
   "source": [
    "model_gbm = lgb.train(\n",
    "    params, \n",
    "    lgb_train, \n",
    "    valid_sets=lgb_test, \n",
    "    verbose_eval=False\n",
    ")"
   ]
  },
  {
   "cell_type": "code",
   "execution_count": 99,
   "metadata": {},
   "outputs": [],
   "source": [
    "feature_importances['lgbm'] = model_gbm.feature_importance() * 100 / 3000 #приводим значения к диапазону 0-100%"
   ]
  },
  {
   "cell_type": "markdown",
   "metadata": {},
   "source": [
    "Посмотрим на итоговую таблицу и построим диаграмму для всех трех моделей:"
   ]
  },
  {
   "cell_type": "code",
   "execution_count": 100,
   "metadata": {},
   "outputs": [
    {
     "data": {
      "text/html": [
       "<div>\n",
       "<style scoped>\n",
       "    .dataframe tbody tr th:only-of-type {\n",
       "        vertical-align: middle;\n",
       "    }\n",
       "\n",
       "    .dataframe tbody tr th {\n",
       "        vertical-align: top;\n",
       "    }\n",
       "\n",
       "    .dataframe thead th {\n",
       "        text-align: right;\n",
       "    }\n",
       "</style>\n",
       "<table border=\"1\" class=\"dataframe\">\n",
       "  <thead>\n",
       "    <tr style=\"text-align: right;\">\n",
       "      <th></th>\n",
       "      <th>random_forest</th>\n",
       "      <th>catboost</th>\n",
       "      <th>lgbm</th>\n",
       "    </tr>\n",
       "  </thead>\n",
       "  <tbody>\n",
       "    <tr>\n",
       "      <td>current_work</td>\n",
       "      <td>20.316909</td>\n",
       "      <td>24.486686</td>\n",
       "      <td>13.600000</td>\n",
       "    </tr>\n",
       "    <tr>\n",
       "      <td>initial_temp</td>\n",
       "      <td>21.912841</td>\n",
       "      <td>25.046395</td>\n",
       "      <td>15.066667</td>\n",
       "    </tr>\n",
       "    <tr>\n",
       "      <td>bulk_1</td>\n",
       "      <td>1.380353</td>\n",
       "      <td>2.616547</td>\n",
       "      <td>1.700000</td>\n",
       "    </tr>\n",
       "    <tr>\n",
       "      <td>bulk_2</td>\n",
       "      <td>0.024090</td>\n",
       "      <td>0.048910</td>\n",
       "      <td>0.000000</td>\n",
       "    </tr>\n",
       "    <tr>\n",
       "      <td>bulk_3</td>\n",
       "      <td>2.119637</td>\n",
       "      <td>2.524895</td>\n",
       "      <td>4.766667</td>\n",
       "    </tr>\n",
       "    <tr>\n",
       "      <td>bulk_4</td>\n",
       "      <td>3.225281</td>\n",
       "      <td>2.321765</td>\n",
       "      <td>3.433333</td>\n",
       "    </tr>\n",
       "    <tr>\n",
       "      <td>bulk_5</td>\n",
       "      <td>0.116884</td>\n",
       "      <td>0.119037</td>\n",
       "      <td>0.666667</td>\n",
       "    </tr>\n",
       "    <tr>\n",
       "      <td>bulk_6</td>\n",
       "      <td>6.258283</td>\n",
       "      <td>5.574220</td>\n",
       "      <td>4.500000</td>\n",
       "    </tr>\n",
       "    <tr>\n",
       "      <td>bulk_7</td>\n",
       "      <td>5.351282</td>\n",
       "      <td>1.949351</td>\n",
       "      <td>0.000000</td>\n",
       "    </tr>\n",
       "    <tr>\n",
       "      <td>bulk_8</td>\n",
       "      <td>0.009358</td>\n",
       "      <td>0.002169</td>\n",
       "      <td>0.000000</td>\n",
       "    </tr>\n",
       "    <tr>\n",
       "      <td>bulk_9</td>\n",
       "      <td>0.035081</td>\n",
       "      <td>0.028692</td>\n",
       "      <td>0.000000</td>\n",
       "    </tr>\n",
       "    <tr>\n",
       "      <td>bulk_10</td>\n",
       "      <td>0.541671</td>\n",
       "      <td>0.436820</td>\n",
       "      <td>0.533333</td>\n",
       "    </tr>\n",
       "    <tr>\n",
       "      <td>bulk_11</td>\n",
       "      <td>0.638120</td>\n",
       "      <td>0.825024</td>\n",
       "      <td>0.966667</td>\n",
       "    </tr>\n",
       "    <tr>\n",
       "      <td>bulk_12</td>\n",
       "      <td>4.856192</td>\n",
       "      <td>4.859146</td>\n",
       "      <td>7.900000</td>\n",
       "    </tr>\n",
       "    <tr>\n",
       "      <td>bulk_13</td>\n",
       "      <td>0.140829</td>\n",
       "      <td>0.145661</td>\n",
       "      <td>0.000000</td>\n",
       "    </tr>\n",
       "    <tr>\n",
       "      <td>bulk_14</td>\n",
       "      <td>4.994962</td>\n",
       "      <td>4.230330</td>\n",
       "      <td>10.733333</td>\n",
       "    </tr>\n",
       "    <tr>\n",
       "      <td>bulk_15</td>\n",
       "      <td>5.383064</td>\n",
       "      <td>4.781322</td>\n",
       "      <td>5.166667</td>\n",
       "    </tr>\n",
       "    <tr>\n",
       "      <td>gas</td>\n",
       "      <td>6.333120</td>\n",
       "      <td>5.210038</td>\n",
       "      <td>11.733333</td>\n",
       "    </tr>\n",
       "    <tr>\n",
       "      <td>wire_1</td>\n",
       "      <td>10.094772</td>\n",
       "      <td>8.762328</td>\n",
       "      <td>11.600000</td>\n",
       "    </tr>\n",
       "    <tr>\n",
       "      <td>wire_2</td>\n",
       "      <td>4.026308</td>\n",
       "      <td>4.302963</td>\n",
       "      <td>4.466667</td>\n",
       "    </tr>\n",
       "    <tr>\n",
       "      <td>wire_3</td>\n",
       "      <td>0.775121</td>\n",
       "      <td>0.106241</td>\n",
       "      <td>1.933333</td>\n",
       "    </tr>\n",
       "    <tr>\n",
       "      <td>wire_4</td>\n",
       "      <td>0.861961</td>\n",
       "      <td>0.745269</td>\n",
       "      <td>0.000000</td>\n",
       "    </tr>\n",
       "    <tr>\n",
       "      <td>wire_6</td>\n",
       "      <td>0.525835</td>\n",
       "      <td>0.398544</td>\n",
       "      <td>1.233333</td>\n",
       "    </tr>\n",
       "    <tr>\n",
       "      <td>wire_7</td>\n",
       "      <td>0.021021</td>\n",
       "      <td>0.470358</td>\n",
       "      <td>0.000000</td>\n",
       "    </tr>\n",
       "    <tr>\n",
       "      <td>wire_9</td>\n",
       "      <td>0.057024</td>\n",
       "      <td>0.007289</td>\n",
       "      <td>0.000000</td>\n",
       "    </tr>\n",
       "  </tbody>\n",
       "</table>\n",
       "</div>"
      ],
      "text/plain": [
       "              random_forest   catboost       lgbm\n",
       "current_work      20.316909  24.486686  13.600000\n",
       "initial_temp      21.912841  25.046395  15.066667\n",
       "bulk_1             1.380353   2.616547   1.700000\n",
       "bulk_2             0.024090   0.048910   0.000000\n",
       "bulk_3             2.119637   2.524895   4.766667\n",
       "bulk_4             3.225281   2.321765   3.433333\n",
       "bulk_5             0.116884   0.119037   0.666667\n",
       "bulk_6             6.258283   5.574220   4.500000\n",
       "bulk_7             5.351282   1.949351   0.000000\n",
       "bulk_8             0.009358   0.002169   0.000000\n",
       "bulk_9             0.035081   0.028692   0.000000\n",
       "bulk_10            0.541671   0.436820   0.533333\n",
       "bulk_11            0.638120   0.825024   0.966667\n",
       "bulk_12            4.856192   4.859146   7.900000\n",
       "bulk_13            0.140829   0.145661   0.000000\n",
       "bulk_14            4.994962   4.230330  10.733333\n",
       "bulk_15            5.383064   4.781322   5.166667\n",
       "gas                6.333120   5.210038  11.733333\n",
       "wire_1            10.094772   8.762328  11.600000\n",
       "wire_2             4.026308   4.302963   4.466667\n",
       "wire_3             0.775121   0.106241   1.933333\n",
       "wire_4             0.861961   0.745269   0.000000\n",
       "wire_6             0.525835   0.398544   1.233333\n",
       "wire_7             0.021021   0.470358   0.000000\n",
       "wire_9             0.057024   0.007289   0.000000"
      ]
     },
     "execution_count": 100,
     "metadata": {},
     "output_type": "execute_result"
    }
   ],
   "source": [
    "feature_importances"
   ]
  },
  {
   "cell_type": "code",
   "execution_count": 101,
   "metadata": {},
   "outputs": [
    {
     "data": {
      "image/png": "[encoded data removed]",
      "text/plain": [
       "<Figure size 576x1080 with 1 Axes>"
      ]
     },
     "metadata": {
      "needs_background": "light"
     },
     "output_type": "display_data"
    }
   ],
   "source": [
    "feature_importances.sort_values(by='random_forest').plot(kind='barh', rot=0, figsize=(8,15))\n",
    "plt.ylabel('Признаки')\n",
    "plt.xlabel('Важность признаков, %')\n",
    "plt.title('Диаграмма относительной важности признаков для моделей Random Forest, CatBoost, LightGBM \\n')\n",
    "plt.show()"
   ]
  },
  {
   "cell_type": "markdown",
   "metadata": {},
   "source": [
    "Первая четверка признаков (начальная температура, затраченная энергия, wire 1, подача газа) по важности одинаковая для всех моделей. Остальные признаки разные модели оценивают немного по-разному. Последние 7 признаков имеют важность около нуля. В дальнейшем для каждой модели будем брать только те признаки, значимость которых выше определенного порога."
   ]
  },
  {
   "cell_type": "markdown",
   "metadata": {},
   "source": [
    "### Обучение моделей"
   ]
  },
  {
   "cell_type": "markdown",
   "metadata": {},
   "source": [
    "Для моделей Random Forest, LightGBM, CatBoost будем брать признаки с относительной важностью более 1% (такое значение показало лучшее MAE на обучающей выборке опытным путем). Затем для каждой модели будем разделять выборку на обучающую и тестовую и масштабировать признаки. Далее найдем наилучшие гиперпараметры через поиск GridSearchCV с кроссвалидацией (folds=3), обучим модели с найденными гиперпараметрами и проверим на тестовых данных."
   ]
  },
  {
   "cell_type": "code",
   "execution_count": 102,
   "metadata": {},
   "outputs": [],
   "source": [
    "imp_cutoff = 1 # отсечка по важности признаков"
   ]
  },
  {
   "cell_type": "markdown",
   "metadata": {},
   "source": [
    "- Случайный лес"
   ]
  },
  {
   "cell_type": "code",
   "execution_count": 103,
   "metadata": {},
   "outputs": [],
   "source": [
    "data_combined_forest = data_combined.loc[:,feature_importances[feature_importances['random_forest'] > imp_cutoff].index]"
   ]
  },
  {
   "cell_type": "code",
   "execution_count": 104,
   "metadata": {},
   "outputs": [],
   "source": [
    "data_combined_forest = data_combined_forest.merge(data_combined.loc[:,['last_temp', 'current_work']], on='current_work')"
   ]
  },
  {
   "cell_type": "code",
   "execution_count": 105,
   "metadata": {},
   "outputs": [],
   "source": [
    "features_train, features_test, target_train, target_test = data_split(data_combined_forest)"
   ]
  },
  {
   "cell_type": "code",
   "execution_count": 106,
   "metadata": {},
   "outputs": [],
   "source": [
    "features_train, features_test = data_scaler(features_train, features_test)"
   ]
  },
  {
   "cell_type": "code",
   "execution_count": 107,
   "metadata": {},
   "outputs": [],
   "source": [
    "model_random_forest = RandomForestRegressor(random_state=12345)"
   ]
  },
  {
   "cell_type": "code",
   "execution_count": 108,
   "metadata": {},
   "outputs": [],
   "source": [
    "random_forest_param = {'n_estimators': range(20,101,20),        \n",
    "                       'max_depth': range(2,15,2),     \n",
    "                       'min_samples_leaf': [2]\n",
    "                      }"
   ]
  },
  {
   "cell_type": "code",
   "execution_count": 109,
   "metadata": {},
   "outputs": [],
   "source": [
    "grid_random_forest = GridSearchCV(model_random_forest, random_forest_param, cv=3, scoring=my_scorer, n_jobs=-1)"
   ]
  },
  {
   "cell_type": "code",
   "execution_count": 110,
   "metadata": {},
   "outputs": [
    {
     "name": "stdout",
     "output_type": "stream",
     "text": [
      "CPU times: user 35.6 s, sys: 20.5 ms, total: 35.6 s\n",
      "Wall time: 36.2 s\n"
     ]
    },
    {
     "data": {
      "text/plain": [
       "GridSearchCV(cv=3, error_score='raise-deprecating',\n",
       "             estimator=RandomForestRegressor(bootstrap=True, criterion='mse',\n",
       "                                             max_depth=None,\n",
       "                                             max_features='auto',\n",
       "                                             max_leaf_nodes=None,\n",
       "                                             min_impurity_decrease=0.0,\n",
       "                                             min_impurity_split=None,\n",
       "                                             min_samples_leaf=1,\n",
       "                                             min_samples_split=2,\n",
       "                                             min_weight_fraction_leaf=0.0,\n",
       "                                             n_estimators='warn', n_jobs=None,\n",
       "                                             oob_score=False,\n",
       "                                             random_state=12345, verbose=0,\n",
       "                                             warm_start=False),\n",
       "             iid='warn', n_jobs=-1,\n",
       "             param_grid={'max_depth': range(2, 15, 2), 'min_samples_leaf': [2],\n",
       "                         'n_estimators': range(20, 101, 20)},\n",
       "             pre_dispatch='2*n_jobs', refit=True, return_train_score=False,\n",
       "             scoring=make_scorer(mae_calc, greater_is_better=False), verbose=0)"
      ]
     },
     "execution_count": 110,
     "metadata": {},
     "output_type": "execute_result"
    }
   ],
   "source": [
    "%%time\n",
    "grid_random_forest.fit(features_train, target_train)"
   ]
  },
  {
   "cell_type": "code",
   "execution_count": 111,
   "metadata": {},
   "outputs": [
    {
     "name": "stdout",
     "output_type": "stream",
     "text": [
      "Значение MAE на обучающей выборке: 6.316\n"
     ]
    }
   ],
   "source": [
    "print('Значение MAE на обучающей выборке:', round(abs(grid_random_forest.best_score_), 3))"
   ]
  },
  {
   "cell_type": "code",
   "execution_count": 112,
   "metadata": {},
   "outputs": [
    {
     "name": "stdout",
     "output_type": "stream",
     "text": [
      "Найденные гиперпараметры: {'max_depth': 12, 'min_samples_leaf': 2, 'n_estimators': 100}\n"
     ]
    }
   ],
   "source": [
    "print('Найденные гиперпараметры:', grid_random_forest.best_params_)"
   ]
  },
  {
   "cell_type": "markdown",
   "metadata": {},
   "source": [
    "Сохраняем результаты в итоговую таблицу:"
   ]
  },
  {
   "cell_type": "code",
   "execution_count": 113,
   "metadata": {},
   "outputs": [],
   "source": [
    "model_results.loc['random_forest', 'mae_train'] = round(abs(grid_random_forest.best_score_), 3)"
   ]
  },
  {
   "cell_type": "markdown",
   "metadata": {},
   "source": [
    "Проверяем модель на тестовых данных:"
   ]
  },
  {
   "cell_type": "code",
   "execution_count": 114,
   "metadata": {},
   "outputs": [],
   "source": [
    "model_random_forest = RandomForestRegressor(\n",
    "    random_state=12345, \n",
    "    n_estimators=grid_random_forest.best_params_['n_estimators'], \n",
    "    max_depth=grid_random_forest.best_params_['max_depth'], \n",
    "    min_samples_leaf=grid_random_forest.best_params_['min_samples_leaf'],\n",
    "    n_jobs=-1)"
   ]
  },
  {
   "cell_type": "code",
   "execution_count": 115,
   "metadata": {},
   "outputs": [
    {
     "data": {
      "text/plain": [
       "RandomForestRegressor(bootstrap=True, criterion='mse', max_depth=12,\n",
       "                      max_features='auto', max_leaf_nodes=None,\n",
       "                      min_impurity_decrease=0.0, min_impurity_split=None,\n",
       "                      min_samples_leaf=2, min_samples_split=2,\n",
       "                      min_weight_fraction_leaf=0.0, n_estimators=100, n_jobs=-1,\n",
       "                      oob_score=False, random_state=12345, verbose=0,\n",
       "                      warm_start=False)"
      ]
     },
     "execution_count": 115,
     "metadata": {},
     "output_type": "execute_result"
    }
   ],
   "source": [
    "model_random_forest.fit(features_train, target_train)"
   ]
  },
  {
   "cell_type": "code",
   "execution_count": 116,
   "metadata": {},
   "outputs": [],
   "source": [
    "predictions_forest = model_random_forest.predict(features_test)"
   ]
  },
  {
   "cell_type": "code",
   "execution_count": 117,
   "metadata": {},
   "outputs": [
    {
     "name": "stdout",
     "output_type": "stream",
     "text": [
      "Значение MAE на тестовой выборке: 5.817\n"
     ]
    }
   ],
   "source": [
    "print('Значение MAE на тестовой выборке:', round(mean_absolute_error(target_test, predictions_forest), 3))"
   ]
  },
  {
   "cell_type": "code",
   "execution_count": 118,
   "metadata": {},
   "outputs": [],
   "source": [
    "model_results.loc['random_forest', 'mae_test'] = round(mean_absolute_error(target_test, predictions_forest),3)"
   ]
  },
  {
   "cell_type": "markdown",
   "metadata": {},
   "source": [
    "- Линейная регрессия"
   ]
  },
  {
   "cell_type": "code",
   "execution_count": 119,
   "metadata": {},
   "outputs": [],
   "source": [
    "features_train, features_test, target_train, target_test = data_split(data_combined)"
   ]
  },
  {
   "cell_type": "code",
   "execution_count": 120,
   "metadata": {},
   "outputs": [],
   "source": [
    "features_train, features_test = data_scaler(features_train, features_test)"
   ]
  },
  {
   "cell_type": "code",
   "execution_count": 121,
   "metadata": {},
   "outputs": [],
   "source": [
    "model_linear = LinearRegression()"
   ]
  },
  {
   "cell_type": "code",
   "execution_count": 122,
   "metadata": {},
   "outputs": [],
   "source": [
    "grid_linear = GridSearchCV(model_linear, {}, cv=3, scoring=my_scorer)"
   ]
  },
  {
   "cell_type": "code",
   "execution_count": 123,
   "metadata": {},
   "outputs": [
    {
     "data": {
      "text/plain": [
       "GridSearchCV(cv=3, error_score='raise-deprecating',\n",
       "             estimator=LinearRegression(copy_X=True, fit_intercept=True,\n",
       "                                        n_jobs=None, normalize=False),\n",
       "             iid='warn', n_jobs=None, param_grid={}, pre_dispatch='2*n_jobs',\n",
       "             refit=True, return_train_score=False,\n",
       "             scoring=make_scorer(mae_calc, greater_is_better=False), verbose=0)"
      ]
     },
     "execution_count": 123,
     "metadata": {},
     "output_type": "execute_result"
    }
   ],
   "source": [
    "grid_linear.fit(features_train, target_train)"
   ]
  },
  {
   "cell_type": "code",
   "execution_count": 124,
   "metadata": {},
   "outputs": [
    {
     "name": "stdout",
     "output_type": "stream",
     "text": [
      "Значение MAE на обучающей выборке: 6.644\n"
     ]
    }
   ],
   "source": [
    "print('Значение MAE на обучающей выборке:', round(abs(grid_linear.best_score_), 3))"
   ]
  },
  {
   "cell_type": "code",
   "execution_count": 125,
   "metadata": {},
   "outputs": [],
   "source": [
    "model_results.loc['linear_regression', 'mae_train'] = round(abs(grid_linear.best_score_), 3)"
   ]
  },
  {
   "cell_type": "markdown",
   "metadata": {},
   "source": [
    "Проверяем на тестовых данных:"
   ]
  },
  {
   "cell_type": "code",
   "execution_count": 126,
   "metadata": {},
   "outputs": [],
   "source": [
    "model_linear = LinearRegression()"
   ]
  },
  {
   "cell_type": "code",
   "execution_count": 127,
   "metadata": {},
   "outputs": [
    {
     "data": {
      "text/plain": [
       "LinearRegression(copy_X=True, fit_intercept=True, n_jobs=None, normalize=False)"
      ]
     },
     "execution_count": 127,
     "metadata": {},
     "output_type": "execute_result"
    }
   ],
   "source": [
    "model_linear.fit(features_train, target_train)"
   ]
  },
  {
   "cell_type": "code",
   "execution_count": 128,
   "metadata": {},
   "outputs": [],
   "source": [
    "predictions_linear = model_linear.predict(features_test)"
   ]
  },
  {
   "cell_type": "code",
   "execution_count": 129,
   "metadata": {},
   "outputs": [
    {
     "name": "stdout",
     "output_type": "stream",
     "text": [
      "Значение MAE на тестовой выборке: 6.303\n"
     ]
    }
   ],
   "source": [
    "print('Значение MAE на тестовой выборке:', round(mean_absolute_error(target_test, predictions_linear), 3))"
   ]
  },
  {
   "cell_type": "code",
   "execution_count": 130,
   "metadata": {},
   "outputs": [],
   "source": [
    "model_results.loc['linear_regression', 'mae_test'] = round(mean_absolute_error(target_test, predictions_linear),3)"
   ]
  },
  {
   "cell_type": "markdown",
   "metadata": {},
   "source": [
    "- Решающее дерево"
   ]
  },
  {
   "cell_type": "code",
   "execution_count": 131,
   "metadata": {},
   "outputs": [],
   "source": [
    "features_train, features_test, target_train, target_test = data_split(data_combined)"
   ]
  },
  {
   "cell_type": "code",
   "execution_count": 132,
   "metadata": {},
   "outputs": [],
   "source": [
    "features_train, features_test = data_scaler(features_train, features_test)"
   ]
  },
  {
   "cell_type": "code",
   "execution_count": 133,
   "metadata": {},
   "outputs": [],
   "source": [
    "model_decision_tree = DecisionTreeRegressor(random_state=12345)"
   ]
  },
  {
   "cell_type": "code",
   "execution_count": 134,
   "metadata": {},
   "outputs": [],
   "source": [
    "decision_tree_param = {'max_depth': range(2,11), \n",
    "                       'max_leaf_nodes': range(2,40,2)\n",
    "                      }"
   ]
  },
  {
   "cell_type": "code",
   "execution_count": 135,
   "metadata": {},
   "outputs": [],
   "source": [
    "grid_decision_tree = GridSearchCV(model_decision_tree, decision_tree_param, cv=3, scoring=my_scorer)"
   ]
  },
  {
   "cell_type": "code",
   "execution_count": 136,
   "metadata": {},
   "outputs": [
    {
     "name": "stdout",
     "output_type": "stream",
     "text": [
      "CPU times: user 3.46 s, sys: 3.17 ms, total: 3.47 s\n",
      "Wall time: 3.51 s\n"
     ]
    },
    {
     "data": {
      "text/plain": [
       "GridSearchCV(cv=3, error_score='raise-deprecating',\n",
       "             estimator=DecisionTreeRegressor(criterion='mse', max_depth=None,\n",
       "                                             max_features=None,\n",
       "                                             max_leaf_nodes=None,\n",
       "                                             min_impurity_decrease=0.0,\n",
       "                                             min_impurity_split=None,\n",
       "                                             min_samples_leaf=1,\n",
       "                                             min_samples_split=2,\n",
       "                                             min_weight_fraction_leaf=0.0,\n",
       "                                             presort=False, random_state=12345,\n",
       "                                             splitter='best'),\n",
       "             iid='warn', n_jobs=None,\n",
       "             param_grid={'max_depth': range(2, 11),\n",
       "                         'max_leaf_nodes': range(2, 40, 2)},\n",
       "             pre_dispatch='2*n_jobs', refit=True, return_train_score=False,\n",
       "             scoring=make_scorer(mae_calc, greater_is_better=False), verbose=0)"
      ]
     },
     "execution_count": 136,
     "metadata": {},
     "output_type": "execute_result"
    }
   ],
   "source": [
    "%%time\n",
    "grid_decision_tree.fit(features_train, target_train)"
   ]
  },
  {
   "cell_type": "code",
   "execution_count": 137,
   "metadata": {},
   "outputs": [
    {
     "name": "stdout",
     "output_type": "stream",
     "text": [
      "Значение MAE на обучающей выборке: 7.296\n"
     ]
    }
   ],
   "source": [
    "print('Значение MAE на обучающей выборке:', round(abs(grid_decision_tree.best_score_), 3))"
   ]
  },
  {
   "cell_type": "code",
   "execution_count": 138,
   "metadata": {},
   "outputs": [
    {
     "name": "stdout",
     "output_type": "stream",
     "text": [
      "Найденные гиперпараметры: {'max_depth': 7, 'max_leaf_nodes': 32}\n"
     ]
    }
   ],
   "source": [
    "print('Найденные гиперпараметры:', grid_decision_tree.best_params_)"
   ]
  },
  {
   "cell_type": "code",
   "execution_count": 139,
   "metadata": {},
   "outputs": [],
   "source": [
    "model_results.loc['tree', 'mae_train'] = round(abs(grid_decision_tree.best_score_), 3)"
   ]
  },
  {
   "cell_type": "markdown",
   "metadata": {},
   "source": [
    "Проверяем на тестовых данных:"
   ]
  },
  {
   "cell_type": "code",
   "execution_count": 140,
   "metadata": {},
   "outputs": [],
   "source": [
    "model_decision_tree = DecisionTreeRegressor(\n",
    "    random_state=12345,\n",
    "    max_depth=grid_decision_tree.best_params_['max_depth'],\n",
    "    max_leaf_nodes=grid_decision_tree.best_params_['max_leaf_nodes'],\n",
    "    criterion='mae')"
   ]
  },
  {
   "cell_type": "code",
   "execution_count": 141,
   "metadata": {},
   "outputs": [
    {
     "data": {
      "text/plain": [
       "DecisionTreeRegressor(criterion='mae', max_depth=7, max_features=None,\n",
       "                      max_leaf_nodes=32, min_impurity_decrease=0.0,\n",
       "                      min_impurity_split=None, min_samples_leaf=1,\n",
       "                      min_samples_split=2, min_weight_fraction_leaf=0.0,\n",
       "                      presort=False, random_state=12345, splitter='best')"
      ]
     },
     "execution_count": 141,
     "metadata": {},
     "output_type": "execute_result"
    }
   ],
   "source": [
    "model_decision_tree.fit(features_train, target_train)"
   ]
  },
  {
   "cell_type": "code",
   "execution_count": 142,
   "metadata": {},
   "outputs": [],
   "source": [
    "predictions_tree = model_decision_tree.predict(features_test)"
   ]
  },
  {
   "cell_type": "code",
   "execution_count": 143,
   "metadata": {},
   "outputs": [
    {
     "name": "stdout",
     "output_type": "stream",
     "text": [
      "Значение MAE на тестовой выборке: 6.251\n"
     ]
    }
   ],
   "source": [
    "print('Значение MAE на тестовой выборке:', round(mean_absolute_error(target_test, predictions_tree), 3))"
   ]
  },
  {
   "cell_type": "code",
   "execution_count": 144,
   "metadata": {},
   "outputs": [],
   "source": [
    "model_results.loc['tree', 'mae_test'] = round(mean_absolute_error(target_test, predictions_tree), 3)"
   ]
  },
  {
   "cell_type": "markdown",
   "metadata": {},
   "source": [
    "- LightGBM"
   ]
  },
  {
   "cell_type": "code",
   "execution_count": 145,
   "metadata": {},
   "outputs": [],
   "source": [
    "data_combined_lgb = data_combined.loc[:,feature_importances[feature_importances['lgbm'] > imp_cutoff].index]"
   ]
  },
  {
   "cell_type": "code",
   "execution_count": 146,
   "metadata": {},
   "outputs": [],
   "source": [
    "data_combined_lgb = data_combined_lgb.merge(data_combined.loc[:,['last_temp', 'current_work']], on='current_work')"
   ]
  },
  {
   "cell_type": "code",
   "execution_count": 147,
   "metadata": {},
   "outputs": [],
   "source": [
    "features_train, features_test, target_train, target_test = data_split(data_combined_lgb)"
   ]
  },
  {
   "cell_type": "code",
   "execution_count": 148,
   "metadata": {},
   "outputs": [],
   "source": [
    "features_train, features_test = data_scaler(features_train, features_test)"
   ]
  },
  {
   "cell_type": "code",
   "execution_count": 149,
   "metadata": {},
   "outputs": [],
   "source": [
    "lgb_train = lgb.Dataset(features_train, target_train)"
   ]
  },
  {
   "cell_type": "code",
   "execution_count": 150,
   "metadata": {},
   "outputs": [],
   "source": [
    "lgb_test = lgb.Dataset(features_test, target_test)"
   ]
  },
  {
   "cell_type": "code",
   "execution_count": 151,
   "metadata": {},
   "outputs": [],
   "source": [
    "gridParams = {\n",
    "    'n_estimators': [73], \n",
    "    'max_depth': range(5,21), \n",
    "    'learning_rate': [0.05],\n",
    "    'reg_alpha': [0.02],\n",
    "    'reg_lambda': [0.04]\n",
    "}"
   ]
  },
  {
   "cell_type": "code",
   "execution_count": 152,
   "metadata": {},
   "outputs": [],
   "source": [
    "gbm = lgb.LGBMRegressor(n_jobs=-1)"
   ]
  },
  {
   "cell_type": "code",
   "execution_count": 153,
   "metadata": {},
   "outputs": [],
   "source": [
    "grid_gbm = GridSearchCV(gbm, gridParams, cv=3, scoring=my_scorer, n_jobs=-1)"
   ]
  },
  {
   "cell_type": "code",
   "execution_count": 154,
   "metadata": {},
   "outputs": [
    {
     "name": "stdout",
     "output_type": "stream",
     "text": [
      "CPU times: user 4min 15s, sys: 1.66 s, total: 4min 16s\n",
      "Wall time: 4min 18s\n"
     ]
    },
    {
     "data": {
      "text/plain": [
       "GridSearchCV(cv=3, error_score='raise-deprecating',\n",
       "             estimator=LGBMRegressor(boosting_type='gbdt', class_weight=None,\n",
       "                                     colsample_bytree=1.0,\n",
       "                                     importance_type='split', learning_rate=0.1,\n",
       "                                     max_depth=-1, min_child_samples=20,\n",
       "                                     min_child_weight=0.001, min_split_gain=0.0,\n",
       "                                     n_estimators=100, n_jobs=-1, num_leaves=31,\n",
       "                                     objective=None, random_state=None,\n",
       "                                     reg_alpha=0.0, reg_lambda=0.0, silent=True,\n",
       "                                     subsample=1.0, subsample_for_bin=200000,\n",
       "                                     subsample_freq=0),\n",
       "             iid='warn', n_jobs=-1,\n",
       "             param_grid={'learning_rate': [0.05], 'max_depth': range(5, 21),\n",
       "                         'n_estimators': [73], 'reg_alpha': [0.02],\n",
       "                         'reg_lambda': [0.04]},\n",
       "             pre_dispatch='2*n_jobs', refit=True, return_train_score=False,\n",
       "             scoring=make_scorer(mae_calc, greater_is_better=False), verbose=0)"
      ]
     },
     "execution_count": 154,
     "metadata": {},
     "output_type": "execute_result"
    }
   ],
   "source": [
    "%%time\n",
    "grid_gbm.fit(features_train, target_train)"
   ]
  },
  {
   "cell_type": "code",
   "execution_count": 155,
   "metadata": {},
   "outputs": [
    {
     "name": "stdout",
     "output_type": "stream",
     "text": [
      "Значение MAE на обучающей выборке: 6.328\n"
     ]
    }
   ],
   "source": [
    "print('Значение MAE на обучающей выборке:', round(abs(grid_gbm.best_score_), 3))"
   ]
  },
  {
   "cell_type": "code",
   "execution_count": 156,
   "metadata": {},
   "outputs": [
    {
     "name": "stdout",
     "output_type": "stream",
     "text": [
      "Найденные гиперпараметры: {'learning_rate': 0.05, 'max_depth': 19, 'n_estimators': 73, 'reg_alpha': 0.02, 'reg_lambda': 0.04}\n"
     ]
    }
   ],
   "source": [
    "print('Найденные гиперпараметры:', grid_gbm.best_params_)"
   ]
  },
  {
   "cell_type": "code",
   "execution_count": 157,
   "metadata": {},
   "outputs": [],
   "source": [
    "model_results.loc['LightGBM', 'mae_train'] = round(abs(grid_gbm.best_score_), 3)"
   ]
  },
  {
   "cell_type": "markdown",
   "metadata": {},
   "source": [
    "Проверяем на тестовых данных:"
   ]
  },
  {
   "cell_type": "code",
   "execution_count": 158,
   "metadata": {},
   "outputs": [],
   "source": [
    "params = {\n",
    "    'objective': 'regression',\n",
    "    'boosting': 'gbdt',\n",
    "    'metric': 'mae',\n",
    "    'learning_rate': grid_gbm.best_params_['learning_rate'],\n",
    "    'early_stopping_round': 10,\n",
    "    'num_iterations': grid_gbm.best_params_['n_estimators'],\n",
    "    'max_depth': grid_gbm.best_params_['max_depth'],\n",
    "    'reg_alpha': grid_gbm.best_params_['reg_alpha'],\n",
    "    'reg_lambda': grid_gbm.best_params_['reg_lambda'],\n",
    "    'verbose': 0\n",
    "    }"
   ]
  },
  {
   "cell_type": "code",
   "execution_count": 159,
   "metadata": {},
   "outputs": [
    {
     "name": "stderr",
     "output_type": "stream",
     "text": [
      "/opt/conda/lib/python3.7/site-packages/lightgbm/engine.py:148: UserWarning: Found `num_iterations` in params. Will use it instead of argument\n",
      "  warnings.warn(\"Found `{}` in params. Will use it instead of argument\".format(alias))\n",
      "/opt/conda/lib/python3.7/site-packages/lightgbm/engine.py:153: UserWarning: Found `early_stopping_round` in params. Will use it instead of argument\n",
      "  warnings.warn(\"Found `{}` in params. Will use it instead of argument\".format(alias))\n"
     ]
    }
   ],
   "source": [
    "gbm = lgb.train(\n",
    "    params, \n",
    "    lgb_train, \n",
    "    valid_sets=lgb_test, \n",
    "    verbose_eval=False\n",
    ")"
   ]
  },
  {
   "cell_type": "code",
   "execution_count": 160,
   "metadata": {},
   "outputs": [],
   "source": [
    "predictions_lgb = gbm.predict(features_test, num_iteration=gbm.best_iteration)"
   ]
  },
  {
   "cell_type": "code",
   "execution_count": 161,
   "metadata": {},
   "outputs": [
    {
     "name": "stdout",
     "output_type": "stream",
     "text": [
      "Значение MAE на тестовой выборке: 5.658\n"
     ]
    }
   ],
   "source": [
    "print('Значение MAE на тестовой выборке:', round(mean_absolute_error(target_test, predictions_lgb), 3))"
   ]
  },
  {
   "cell_type": "code",
   "execution_count": 162,
   "metadata": {},
   "outputs": [],
   "source": [
    "model_results.loc['LightGBM', 'mae_test'] = round(mean_absolute_error(target_test, predictions_lgb),3)"
   ]
  },
  {
   "cell_type": "markdown",
   "metadata": {},
   "source": [
    "- CatBoost"
   ]
  },
  {
   "cell_type": "code",
   "execution_count": 163,
   "metadata": {},
   "outputs": [],
   "source": [
    "data_combined_cb = data_combined.loc[:,feature_importances[feature_importances['catboost'] > imp_cutoff].index]"
   ]
  },
  {
   "cell_type": "code",
   "execution_count": 164,
   "metadata": {},
   "outputs": [],
   "source": [
    "data_combined_cb = data_combined_cb.merge(data_combined.loc[:,['last_temp', 'current_work']], on='current_work')"
   ]
  },
  {
   "cell_type": "code",
   "execution_count": 165,
   "metadata": {},
   "outputs": [],
   "source": [
    "features_train, features_test, target_train, target_test = data_split(data_combined_cb)"
   ]
  },
  {
   "cell_type": "code",
   "execution_count": 166,
   "metadata": {},
   "outputs": [],
   "source": [
    "features_train, features_test = data_scaler(features_train, features_test)"
   ]
  },
  {
   "cell_type": "code",
   "execution_count": 167,
   "metadata": {},
   "outputs": [],
   "source": [
    "gridParams = {\n",
    "    'iterations': [200],\n",
    "    'learning_rate': [0.06]\n",
    "    }"
   ]
  },
  {
   "cell_type": "code",
   "execution_count": 168,
   "metadata": {},
   "outputs": [],
   "source": [
    "model_catboost = CatBoostRegressor(\n",
    "                          verbose=False,\n",
    "                          early_stopping_rounds=10\n",
    "                          )"
   ]
  },
  {
   "cell_type": "code",
   "execution_count": 169,
   "metadata": {},
   "outputs": [],
   "source": [
    "grid_catboost =  GridSearchCV(model_catboost, gridParams, cv=3, scoring=my_scorer, n_jobs=-1)"
   ]
  },
  {
   "cell_type": "code",
   "execution_count": 170,
   "metadata": {},
   "outputs": [
    {
     "name": "stdout",
     "output_type": "stream",
     "text": [
      "CPU times: user 11.3 s, sys: 1.65 s, total: 13 s\n",
      "Wall time: 18 s\n"
     ]
    },
    {
     "data": {
      "text/plain": [
       "GridSearchCV(cv=3, error_score='raise-deprecating',\n",
       "             estimator=<catboost.core.CatBoostRegressor object at 0x7f224c3736d0>,\n",
       "             iid='warn', n_jobs=-1,\n",
       "             param_grid={'iterations': [200], 'learning_rate': [0.06]},\n",
       "             pre_dispatch='2*n_jobs', refit=True, return_train_score=False,\n",
       "             scoring=make_scorer(mae_calc, greater_is_better=False), verbose=0)"
      ]
     },
     "execution_count": 170,
     "metadata": {},
     "output_type": "execute_result"
    }
   ],
   "source": [
    "%%time\n",
    "grid_catboost.fit(features_train, target_train)"
   ]
  },
  {
   "cell_type": "code",
   "execution_count": 171,
   "metadata": {},
   "outputs": [
    {
     "name": "stdout",
     "output_type": "stream",
     "text": [
      "Значение MAE на обучающей выборке: 6.202\n"
     ]
    }
   ],
   "source": [
    "print('Значение MAE на обучающей выборке:', round(abs(grid_catboost.best_score_), 3))"
   ]
  },
  {
   "cell_type": "code",
   "execution_count": 172,
   "metadata": {},
   "outputs": [
    {
     "name": "stdout",
     "output_type": "stream",
     "text": [
      "Найденные гиперпараметры: {'iterations': 200, 'learning_rate': 0.06}\n"
     ]
    }
   ],
   "source": [
    "print('Найденные гиперпараметры:', grid_catboost.best_params_)"
   ]
  },
  {
   "cell_type": "code",
   "execution_count": 173,
   "metadata": {},
   "outputs": [],
   "source": [
    "model_results.loc['CatBoost', 'mae_train'] = round(abs(grid_catboost.best_score_), 3)"
   ]
  },
  {
   "cell_type": "markdown",
   "metadata": {},
   "source": [
    "Проверяем на тестовых данных:"
   ]
  },
  {
   "cell_type": "code",
   "execution_count": 174,
   "metadata": {},
   "outputs": [],
   "source": [
    "model_catboost = CatBoostRegressor(\n",
    "                          iterations=grid_catboost.best_params_['iterations'],\n",
    "                          learning_rate=grid_catboost.best_params_['learning_rate'],\n",
    "                          loss_function='MAE',\n",
    "                          verbose=False)"
   ]
  },
  {
   "cell_type": "code",
   "execution_count": 175,
   "metadata": {},
   "outputs": [
    {
     "data": {
      "text/plain": [
       "<catboost.core.CatBoostRegressor at 0x7f22442bc610>"
      ]
     },
     "execution_count": 175,
     "metadata": {},
     "output_type": "execute_result"
    }
   ],
   "source": [
    "model_catboost.fit(features_train, target_train)"
   ]
  },
  {
   "cell_type": "code",
   "execution_count": 176,
   "metadata": {},
   "outputs": [],
   "source": [
    "predictions_catboost = model_catboost.predict(features_test)"
   ]
  },
  {
   "cell_type": "code",
   "execution_count": 177,
   "metadata": {},
   "outputs": [
    {
     "name": "stdout",
     "output_type": "stream",
     "text": [
      "Значение MAE на тестовой выборке: 5.54\n"
     ]
    }
   ],
   "source": [
    "print('Значение MAE на тестовой выборке:', round(mean_absolute_error(target_test, predictions_catboost), 3))"
   ]
  },
  {
   "cell_type": "code",
   "execution_count": 178,
   "metadata": {},
   "outputs": [],
   "source": [
    "model_results.loc['CatBoost', 'mae_test'] = round(mean_absolute_error(target_test, predictions_catboost),3)"
   ]
  },
  {
   "cell_type": "markdown",
   "metadata": {},
   "source": [
    "### Анализ результатов моделей"
   ]
  },
  {
   "cell_type": "markdown",
   "metadata": {},
   "source": [
    "Посмотрим на полученную таблицу с результатами MAE на обучающей и тестовой выборках:"
   ]
  },
  {
   "cell_type": "code",
   "execution_count": 179,
   "metadata": {},
   "outputs": [
    {
     "data": {
      "text/html": [
       "<div>\n",
       "<style scoped>\n",
       "    .dataframe tbody tr th:only-of-type {\n",
       "        vertical-align: middle;\n",
       "    }\n",
       "\n",
       "    .dataframe tbody tr th {\n",
       "        vertical-align: top;\n",
       "    }\n",
       "\n",
       "    .dataframe thead th {\n",
       "        text-align: right;\n",
       "    }\n",
       "</style>\n",
       "<table border=\"1\" class=\"dataframe\">\n",
       "  <thead>\n",
       "    <tr style=\"text-align: right;\">\n",
       "      <th></th>\n",
       "      <th>mae_train</th>\n",
       "      <th>mae_test</th>\n",
       "    </tr>\n",
       "  </thead>\n",
       "  <tbody>\n",
       "    <tr>\n",
       "      <td>CatBoost</td>\n",
       "      <td>6.202</td>\n",
       "      <td>5.54</td>\n",
       "    </tr>\n",
       "    <tr>\n",
       "      <td>random_forest</td>\n",
       "      <td>6.316</td>\n",
       "      <td>5.817</td>\n",
       "    </tr>\n",
       "    <tr>\n",
       "      <td>LightGBM</td>\n",
       "      <td>6.328</td>\n",
       "      <td>5.658</td>\n",
       "    </tr>\n",
       "    <tr>\n",
       "      <td>linear_regression</td>\n",
       "      <td>6.644</td>\n",
       "      <td>6.303</td>\n",
       "    </tr>\n",
       "    <tr>\n",
       "      <td>tree</td>\n",
       "      <td>7.296</td>\n",
       "      <td>6.251</td>\n",
       "    </tr>\n",
       "  </tbody>\n",
       "</table>\n",
       "</div>"
      ],
      "text/plain": [
       "                  mae_train mae_test\n",
       "CatBoost              6.202     5.54\n",
       "random_forest         6.316    5.817\n",
       "LightGBM              6.328    5.658\n",
       "linear_regression     6.644    6.303\n",
       "tree                  7.296    6.251"
      ]
     },
     "execution_count": 179,
     "metadata": {},
     "output_type": "execute_result"
    }
   ],
   "source": [
    "model_results.sort_values(by='mae_train')"
   ]
  },
  {
   "cell_type": "markdown",
   "metadata": {},
   "source": [
    "Посмотрим диаграмму по данной таблице:"
   ]
  },
  {
   "cell_type": "code",
   "execution_count": 180,
   "metadata": {},
   "outputs": [
    {
     "data": {
      "image/png": "[encoded data removed]",
      "text/plain": [
       "<Figure size 504x288 with 1 Axes>"
      ]
     },
     "metadata": {
      "needs_background": "light"
     },
     "output_type": "display_data"
    },
    {
     "data": {
      "image/png": "[encoded data removed]",
      "text/plain": [
       "<Figure size 504x288 with 1 Axes>"
      ]
     },
     "metadata": {
      "needs_background": "light"
     },
     "output_type": "display_data"
    }
   ],
   "source": [
    "ax = model_results['mae_train'].sort_values(ascending=False).plot(kind='bar', rot=0, figsize=(7,4))\n",
    "ax.set_ylabel('MAE')\n",
    "ax.set_xlabel('\\n Модель')\n",
    "ax.set_title('Полученные значения наилучших MAE моделей на тренировочной выборке \\n')\n",
    "ax.set_ylim(0,round(1.2*max(model_results.loc[:,'mae_train'])))\n",
    "for i, model in enumerate(model_results['mae_train'].sort_values(ascending=False).index):\n",
    "    ax.text(\n",
    "        i, model_results.loc[model,'mae_train']+0.05*max(model_results.loc[:,'mae_train']), \n",
    "        model_results.loc[model,'mae_train'], \n",
    "        horizontalalignment='center')\n",
    "plt.show()\n",
    "\n",
    "ax = model_results['mae_test'].sort_values(ascending=False).plot(kind='bar', rot=0, figsize=(7,4))\n",
    "ax.set_ylabel('MAE')\n",
    "ax.set_xlabel('\\n Модель')\n",
    "ax.set_title('Полученные значения наилучших MAE моделей на тестовой выборке \\n')\n",
    "ax.set_ylim(0,round(1.2*max(model_results.loc[:,'mae_test'])))\n",
    "for i, model in enumerate(model_results['mae_test'].sort_values(ascending=False).index):\n",
    "    ax.text(\n",
    "        i, model_results.loc[model,'mae_test']+0.05*max(model_results.loc[:,'mae_test']), \n",
    "        model_results.loc[model,'mae_test'], \n",
    "        horizontalalignment='center')  \n",
    "plt.show()"
   ]
  },
  {
   "cell_type": "markdown",
   "metadata": {},
   "source": [
    "Наилучший результат MAE на тренировочных данных показала модель CatBoost (6.20), случайный лес (6.316), LightGBM (6.328). На тестовых данных тройка лидеров та же: CatBoost (5.54), LightGBM (5.658), случайный лес (5.817). Предсказания всех моделей лучше MAE константной модели, составляющей 8.224, что говорит об адекватности полученных моделей."
   ]
  },
  {
   "cell_type": "markdown",
   "metadata": {},
   "source": [
    "### Вывод"
   ]
  },
  {
   "cell_type": "markdown",
   "metadata": {},
   "source": [
    "На данном этапе были созданы, обучены модели и получены предсказания.\n",
    "Признаки для моделей cлучайного леса, LightGBM, CatBoost были проверены на важность, и в дальнейшем обучении для каждой из этих моделей использованы признаки с важностью не менее 1%. Гиперпараметры моделей были найдены с помощью поиска по сетке GridSearchCV с разбиением данных для кросс-валидации на 3 части. Далее модели были обучены с найденными гиперпараметрами и получена метрика MAE для обучающей и тестовой выборки. Наилучшее значение MAE показала модель CatBoost со значением  6.20 на обучающей, 5.54 на тестовой выборке. Эта модель рекомендуется для использования в предсказании температуры на данном этапе технологического процесса компании ООО «Так закаляем сталь». "
   ]
  }
 ],
 "metadata": {
  "kernelspec": {
   "display_name": "Python 3",
   "language": "python",
   "name": "python3"
  },
  "language_info": {
   "codemirror_mode": {
    "name": "ipython",
    "version": 3
   },
   "file_extension": ".py",
   "mimetype": "text/x-python",
   "name": "python",
   "nbconvert_exporter": "python",
   "pygments_lexer": "ipython3",
   "version": "3.7.8"
  },
  "toc": {
   "base_numbering": 1,
   "nav_menu": {
    "height": "271px",
    "width": "296px"
   },
   "number_sections": true,
   "sideBar": true,
   "skip_h1_title": true,
   "title_cell": "Table of Contents",
   "title_sidebar": "Contents",
   "toc_cell": false,
   "toc_position": {},
   "toc_section_display": true,
   "toc_window_display": false
  }
 },
 "nbformat": 4,
 "nbformat_minor": 4
}
