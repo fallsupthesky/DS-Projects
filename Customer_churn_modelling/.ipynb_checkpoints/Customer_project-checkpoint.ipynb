{
 "cells": [
  {
   "cell_type": "markdown",
   "metadata": {},
   "source": [
    "# Отток клиентов"
   ]
  },
  {
   "cell_type": "markdown",
   "metadata": {},
   "source": [
    "Источник данных: [https://www.kaggle.com/barelydedicated/bank-customer-churn-modeling](https://www.kaggle.com/barelydedicated/bank-customer-churn-modeling)"
   ]
  },
  {
   "cell_type": "markdown",
   "metadata": {},
   "source": [
    "## Оглавление"
   ]
  },
  {
   "cell_type": "markdown",
   "metadata": {},
   "source": [
    "1. [Подготовка данных](#step_1)\n",
    "2. [Исследование задачи](#step_2)\n",
    "3. [Борьба с дисбалансом](#step_3)\n",
    "4. [Тестирование модели](#step_4)\n",
    "5. [Чек-лист](#checklist)"
   ]
  },
  {
   "cell_type": "markdown",
   "metadata": {},
   "source": [
    "## 1. Подготовка данных <a id=\"step_1\"></a>"
   ]
  },
  {
   "cell_type": "code",
   "execution_count": 1,
   "metadata": {},
   "outputs": [],
   "source": [
    "import pandas as pd\n",
    "import numpy as np\n",
    "pd.set_option('display.max_columns', None)\n",
    "pd.set_option('mode.chained_assignment', None)\n",
    "from sklearn.model_selection import train_test_split\n",
    "from sklearn.tree import DecisionTreeClassifier\n",
    "from sklearn.metrics import accuracy_score\n",
    "from sklearn.ensemble import RandomForestClassifier\n",
    "from sklearn.linear_model import LogisticRegression\n",
    "from sklearn.preprocessing import StandardScaler\n",
    "from sklearn.metrics import f1_score, precision_score, recall_score, roc_auc_score\n",
    "from sklearn.utils import shuffle"
   ]
  },
  {
   "cell_type": "code",
   "execution_count": 2,
   "metadata": {},
   "outputs": [],
   "source": [
    "#data = pd.read_csv('...')"
   ]
  },
  {
   "cell_type": "code",
   "execution_count": 3,
   "metadata": {},
   "outputs": [
    {
     "data": {
      "text/html": [
       "<div>\n",
       "<style scoped>\n",
       "    .dataframe tbody tr th:only-of-type {\n",
       "        vertical-align: middle;\n",
       "    }\n",
       "\n",
       "    .dataframe tbody tr th {\n",
       "        vertical-align: top;\n",
       "    }\n",
       "\n",
       "    .dataframe thead th {\n",
       "        text-align: right;\n",
       "    }\n",
       "</style>\n",
       "<table border=\"1\" class=\"dataframe\">\n",
       "  <thead>\n",
       "    <tr style=\"text-align: right;\">\n",
       "      <th></th>\n",
       "      <th>RowNumber</th>\n",
       "      <th>CustomerId</th>\n",
       "      <th>Surname</th>\n",
       "      <th>CreditScore</th>\n",
       "      <th>Geography</th>\n",
       "      <th>Gender</th>\n",
       "      <th>Age</th>\n",
       "      <th>Tenure</th>\n",
       "      <th>Balance</th>\n",
       "      <th>NumOfProducts</th>\n",
       "      <th>HasCrCard</th>\n",
       "      <th>IsActiveMember</th>\n",
       "      <th>EstimatedSalary</th>\n",
       "      <th>Exited</th>\n",
       "    </tr>\n",
       "  </thead>\n",
       "  <tbody>\n",
       "    <tr>\n",
       "      <td>0</td>\n",
       "      <td>1</td>\n",
       "      <td>15634602</td>\n",
       "      <td>Hargrave</td>\n",
       "      <td>619</td>\n",
       "      <td>France</td>\n",
       "      <td>Female</td>\n",
       "      <td>42</td>\n",
       "      <td>2.0</td>\n",
       "      <td>0.00</td>\n",
       "      <td>1</td>\n",
       "      <td>1</td>\n",
       "      <td>1</td>\n",
       "      <td>101348.88</td>\n",
       "      <td>1</td>\n",
       "    </tr>\n",
       "    <tr>\n",
       "      <td>1</td>\n",
       "      <td>2</td>\n",
       "      <td>15647311</td>\n",
       "      <td>Hill</td>\n",
       "      <td>608</td>\n",
       "      <td>Spain</td>\n",
       "      <td>Female</td>\n",
       "      <td>41</td>\n",
       "      <td>1.0</td>\n",
       "      <td>83807.86</td>\n",
       "      <td>1</td>\n",
       "      <td>0</td>\n",
       "      <td>1</td>\n",
       "      <td>112542.58</td>\n",
       "      <td>0</td>\n",
       "    </tr>\n",
       "    <tr>\n",
       "      <td>2</td>\n",
       "      <td>3</td>\n",
       "      <td>15619304</td>\n",
       "      <td>Onio</td>\n",
       "      <td>502</td>\n",
       "      <td>France</td>\n",
       "      <td>Female</td>\n",
       "      <td>42</td>\n",
       "      <td>8.0</td>\n",
       "      <td>159660.80</td>\n",
       "      <td>3</td>\n",
       "      <td>1</td>\n",
       "      <td>0</td>\n",
       "      <td>113931.57</td>\n",
       "      <td>1</td>\n",
       "    </tr>\n",
       "    <tr>\n",
       "      <td>3</td>\n",
       "      <td>4</td>\n",
       "      <td>15701354</td>\n",
       "      <td>Boni</td>\n",
       "      <td>699</td>\n",
       "      <td>France</td>\n",
       "      <td>Female</td>\n",
       "      <td>39</td>\n",
       "      <td>1.0</td>\n",
       "      <td>0.00</td>\n",
       "      <td>2</td>\n",
       "      <td>0</td>\n",
       "      <td>0</td>\n",
       "      <td>93826.63</td>\n",
       "      <td>0</td>\n",
       "    </tr>\n",
       "    <tr>\n",
       "      <td>4</td>\n",
       "      <td>5</td>\n",
       "      <td>15737888</td>\n",
       "      <td>Mitchell</td>\n",
       "      <td>850</td>\n",
       "      <td>Spain</td>\n",
       "      <td>Female</td>\n",
       "      <td>43</td>\n",
       "      <td>2.0</td>\n",
       "      <td>125510.82</td>\n",
       "      <td>1</td>\n",
       "      <td>1</td>\n",
       "      <td>1</td>\n",
       "      <td>79084.10</td>\n",
       "      <td>0</td>\n",
       "    </tr>\n",
       "    <tr>\n",
       "      <td>5</td>\n",
       "      <td>6</td>\n",
       "      <td>15574012</td>\n",
       "      <td>Chu</td>\n",
       "      <td>645</td>\n",
       "      <td>Spain</td>\n",
       "      <td>Male</td>\n",
       "      <td>44</td>\n",
       "      <td>8.0</td>\n",
       "      <td>113755.78</td>\n",
       "      <td>2</td>\n",
       "      <td>1</td>\n",
       "      <td>0</td>\n",
       "      <td>149756.71</td>\n",
       "      <td>1</td>\n",
       "    </tr>\n",
       "    <tr>\n",
       "      <td>6</td>\n",
       "      <td>7</td>\n",
       "      <td>15592531</td>\n",
       "      <td>Bartlett</td>\n",
       "      <td>822</td>\n",
       "      <td>France</td>\n",
       "      <td>Male</td>\n",
       "      <td>50</td>\n",
       "      <td>7.0</td>\n",
       "      <td>0.00</td>\n",
       "      <td>2</td>\n",
       "      <td>1</td>\n",
       "      <td>1</td>\n",
       "      <td>10062.80</td>\n",
       "      <td>0</td>\n",
       "    </tr>\n",
       "    <tr>\n",
       "      <td>7</td>\n",
       "      <td>8</td>\n",
       "      <td>15656148</td>\n",
       "      <td>Obinna</td>\n",
       "      <td>376</td>\n",
       "      <td>Germany</td>\n",
       "      <td>Female</td>\n",
       "      <td>29</td>\n",
       "      <td>4.0</td>\n",
       "      <td>115046.74</td>\n",
       "      <td>4</td>\n",
       "      <td>1</td>\n",
       "      <td>0</td>\n",
       "      <td>119346.88</td>\n",
       "      <td>1</td>\n",
       "    </tr>\n",
       "    <tr>\n",
       "      <td>8</td>\n",
       "      <td>9</td>\n",
       "      <td>15792365</td>\n",
       "      <td>He</td>\n",
       "      <td>501</td>\n",
       "      <td>France</td>\n",
       "      <td>Male</td>\n",
       "      <td>44</td>\n",
       "      <td>4.0</td>\n",
       "      <td>142051.07</td>\n",
       "      <td>2</td>\n",
       "      <td>0</td>\n",
       "      <td>1</td>\n",
       "      <td>74940.50</td>\n",
       "      <td>0</td>\n",
       "    </tr>\n",
       "    <tr>\n",
       "      <td>9</td>\n",
       "      <td>10</td>\n",
       "      <td>15592389</td>\n",
       "      <td>H?</td>\n",
       "      <td>684</td>\n",
       "      <td>France</td>\n",
       "      <td>Male</td>\n",
       "      <td>27</td>\n",
       "      <td>2.0</td>\n",
       "      <td>134603.88</td>\n",
       "      <td>1</td>\n",
       "      <td>1</td>\n",
       "      <td>1</td>\n",
       "      <td>71725.73</td>\n",
       "      <td>0</td>\n",
       "    </tr>\n",
       "  </tbody>\n",
       "</table>\n",
       "</div>"
      ],
      "text/plain": [
       "   RowNumber  CustomerId   Surname  CreditScore Geography  Gender  Age  \\\n",
       "0          1    15634602  Hargrave          619    France  Female   42   \n",
       "1          2    15647311      Hill          608     Spain  Female   41   \n",
       "2          3    15619304      Onio          502    France  Female   42   \n",
       "3          4    15701354      Boni          699    France  Female   39   \n",
       "4          5    15737888  Mitchell          850     Spain  Female   43   \n",
       "5          6    15574012       Chu          645     Spain    Male   44   \n",
       "6          7    15592531  Bartlett          822    France    Male   50   \n",
       "7          8    15656148    Obinna          376   Germany  Female   29   \n",
       "8          9    15792365        He          501    France    Male   44   \n",
       "9         10    15592389        H?          684    France    Male   27   \n",
       "\n",
       "   Tenure    Balance  NumOfProducts  HasCrCard  IsActiveMember  \\\n",
       "0     2.0       0.00              1          1               1   \n",
       "1     1.0   83807.86              1          0               1   \n",
       "2     8.0  159660.80              3          1               0   \n",
       "3     1.0       0.00              2          0               0   \n",
       "4     2.0  125510.82              1          1               1   \n",
       "5     8.0  113755.78              2          1               0   \n",
       "6     7.0       0.00              2          1               1   \n",
       "7     4.0  115046.74              4          1               0   \n",
       "8     4.0  142051.07              2          0               1   \n",
       "9     2.0  134603.88              1          1               1   \n",
       "\n",
       "   EstimatedSalary  Exited  \n",
       "0        101348.88       1  \n",
       "1        112542.58       0  \n",
       "2        113931.57       1  \n",
       "3         93826.63       0  \n",
       "4         79084.10       0  \n",
       "5        149756.71       1  \n",
       "6         10062.80       0  \n",
       "7        119346.88       1  \n",
       "8         74940.50       0  \n",
       "9         71725.73       0  "
      ]
     },
     "execution_count": 3,
     "metadata": {},
     "output_type": "execute_result"
    }
   ],
   "source": [
    "data.head(10)"
   ]
  },
  {
   "cell_type": "code",
   "execution_count": 4,
   "metadata": {
    "scrolled": true
   },
   "outputs": [
    {
     "name": "stdout",
     "output_type": "stream",
     "text": [
      "<class 'pandas.core.frame.DataFrame'>\n",
      "RangeIndex: 10000 entries, 0 to 9999\n",
      "Data columns (total 14 columns):\n",
      "RowNumber          10000 non-null int64\n",
      "CustomerId         10000 non-null int64\n",
      "Surname            10000 non-null object\n",
      "CreditScore        10000 non-null int64\n",
      "Geography          10000 non-null object\n",
      "Gender             10000 non-null object\n",
      "Age                10000 non-null int64\n",
      "Tenure             9091 non-null float64\n",
      "Balance            10000 non-null float64\n",
      "NumOfProducts      10000 non-null int64\n",
      "HasCrCard          10000 non-null int64\n",
      "IsActiveMember     10000 non-null int64\n",
      "EstimatedSalary    10000 non-null float64\n",
      "Exited             10000 non-null int64\n",
      "dtypes: float64(3), int64(8), object(3)\n",
      "memory usage: 1.1+ MB\n"
     ]
    }
   ],
   "source": [
    "data.info()"
   ]
  },
  {
   "cell_type": "markdown",
   "metadata": {},
   "source": [
    "Пропуски данных имеются только в столбце 'Tenure'.  \n",
    "Посмотрим на распределение количественных значений:"
   ]
  },
  {
   "cell_type": "code",
   "execution_count": 5,
   "metadata": {},
   "outputs": [
    {
     "data": {
      "text/html": [
       "<div>\n",
       "<style scoped>\n",
       "    .dataframe tbody tr th:only-of-type {\n",
       "        vertical-align: middle;\n",
       "    }\n",
       "\n",
       "    .dataframe tbody tr th {\n",
       "        vertical-align: top;\n",
       "    }\n",
       "\n",
       "    .dataframe thead th {\n",
       "        text-align: right;\n",
       "    }\n",
       "</style>\n",
       "<table border=\"1\" class=\"dataframe\">\n",
       "  <thead>\n",
       "    <tr style=\"text-align: right;\">\n",
       "      <th></th>\n",
       "      <th>RowNumber</th>\n",
       "      <th>CustomerId</th>\n",
       "      <th>CreditScore</th>\n",
       "      <th>Age</th>\n",
       "      <th>Tenure</th>\n",
       "      <th>Balance</th>\n",
       "      <th>NumOfProducts</th>\n",
       "      <th>HasCrCard</th>\n",
       "      <th>IsActiveMember</th>\n",
       "      <th>EstimatedSalary</th>\n",
       "      <th>Exited</th>\n",
       "    </tr>\n",
       "  </thead>\n",
       "  <tbody>\n",
       "    <tr>\n",
       "      <td>count</td>\n",
       "      <td>10000.00000</td>\n",
       "      <td>1.000000e+04</td>\n",
       "      <td>10000.000000</td>\n",
       "      <td>10000.000000</td>\n",
       "      <td>9091.000000</td>\n",
       "      <td>10000.000000</td>\n",
       "      <td>10000.000000</td>\n",
       "      <td>10000.00000</td>\n",
       "      <td>10000.000000</td>\n",
       "      <td>10000.000000</td>\n",
       "      <td>10000.000000</td>\n",
       "    </tr>\n",
       "    <tr>\n",
       "      <td>mean</td>\n",
       "      <td>5000.50000</td>\n",
       "      <td>1.569094e+07</td>\n",
       "      <td>650.528800</td>\n",
       "      <td>38.921800</td>\n",
       "      <td>4.997690</td>\n",
       "      <td>76485.889288</td>\n",
       "      <td>1.530200</td>\n",
       "      <td>0.70550</td>\n",
       "      <td>0.515100</td>\n",
       "      <td>100090.239881</td>\n",
       "      <td>0.203700</td>\n",
       "    </tr>\n",
       "    <tr>\n",
       "      <td>std</td>\n",
       "      <td>2886.89568</td>\n",
       "      <td>7.193619e+04</td>\n",
       "      <td>96.653299</td>\n",
       "      <td>10.487806</td>\n",
       "      <td>2.894723</td>\n",
       "      <td>62397.405202</td>\n",
       "      <td>0.581654</td>\n",
       "      <td>0.45584</td>\n",
       "      <td>0.499797</td>\n",
       "      <td>57510.492818</td>\n",
       "      <td>0.402769</td>\n",
       "    </tr>\n",
       "    <tr>\n",
       "      <td>min</td>\n",
       "      <td>1.00000</td>\n",
       "      <td>1.556570e+07</td>\n",
       "      <td>350.000000</td>\n",
       "      <td>18.000000</td>\n",
       "      <td>0.000000</td>\n",
       "      <td>0.000000</td>\n",
       "      <td>1.000000</td>\n",
       "      <td>0.00000</td>\n",
       "      <td>0.000000</td>\n",
       "      <td>11.580000</td>\n",
       "      <td>0.000000</td>\n",
       "    </tr>\n",
       "    <tr>\n",
       "      <td>25%</td>\n",
       "      <td>2500.75000</td>\n",
       "      <td>1.562853e+07</td>\n",
       "      <td>584.000000</td>\n",
       "      <td>32.000000</td>\n",
       "      <td>2.000000</td>\n",
       "      <td>0.000000</td>\n",
       "      <td>1.000000</td>\n",
       "      <td>0.00000</td>\n",
       "      <td>0.000000</td>\n",
       "      <td>51002.110000</td>\n",
       "      <td>0.000000</td>\n",
       "    </tr>\n",
       "    <tr>\n",
       "      <td>50%</td>\n",
       "      <td>5000.50000</td>\n",
       "      <td>1.569074e+07</td>\n",
       "      <td>652.000000</td>\n",
       "      <td>37.000000</td>\n",
       "      <td>5.000000</td>\n",
       "      <td>97198.540000</td>\n",
       "      <td>1.000000</td>\n",
       "      <td>1.00000</td>\n",
       "      <td>1.000000</td>\n",
       "      <td>100193.915000</td>\n",
       "      <td>0.000000</td>\n",
       "    </tr>\n",
       "    <tr>\n",
       "      <td>75%</td>\n",
       "      <td>7500.25000</td>\n",
       "      <td>1.575323e+07</td>\n",
       "      <td>718.000000</td>\n",
       "      <td>44.000000</td>\n",
       "      <td>7.000000</td>\n",
       "      <td>127644.240000</td>\n",
       "      <td>2.000000</td>\n",
       "      <td>1.00000</td>\n",
       "      <td>1.000000</td>\n",
       "      <td>149388.247500</td>\n",
       "      <td>0.000000</td>\n",
       "    </tr>\n",
       "    <tr>\n",
       "      <td>max</td>\n",
       "      <td>10000.00000</td>\n",
       "      <td>1.581569e+07</td>\n",
       "      <td>850.000000</td>\n",
       "      <td>92.000000</td>\n",
       "      <td>10.000000</td>\n",
       "      <td>250898.090000</td>\n",
       "      <td>4.000000</td>\n",
       "      <td>1.00000</td>\n",
       "      <td>1.000000</td>\n",
       "      <td>199992.480000</td>\n",
       "      <td>1.000000</td>\n",
       "    </tr>\n",
       "  </tbody>\n",
       "</table>\n",
       "</div>"
      ],
      "text/plain": [
       "         RowNumber    CustomerId   CreditScore           Age       Tenure  \\\n",
       "count  10000.00000  1.000000e+04  10000.000000  10000.000000  9091.000000   \n",
       "mean    5000.50000  1.569094e+07    650.528800     38.921800     4.997690   \n",
       "std     2886.89568  7.193619e+04     96.653299     10.487806     2.894723   \n",
       "min        1.00000  1.556570e+07    350.000000     18.000000     0.000000   \n",
       "25%     2500.75000  1.562853e+07    584.000000     32.000000     2.000000   \n",
       "50%     5000.50000  1.569074e+07    652.000000     37.000000     5.000000   \n",
       "75%     7500.25000  1.575323e+07    718.000000     44.000000     7.000000   \n",
       "max    10000.00000  1.581569e+07    850.000000     92.000000    10.000000   \n",
       "\n",
       "             Balance  NumOfProducts    HasCrCard  IsActiveMember  \\\n",
       "count   10000.000000   10000.000000  10000.00000    10000.000000   \n",
       "mean    76485.889288       1.530200      0.70550        0.515100   \n",
       "std     62397.405202       0.581654      0.45584        0.499797   \n",
       "min         0.000000       1.000000      0.00000        0.000000   \n",
       "25%         0.000000       1.000000      0.00000        0.000000   \n",
       "50%     97198.540000       1.000000      1.00000        1.000000   \n",
       "75%    127644.240000       2.000000      1.00000        1.000000   \n",
       "max    250898.090000       4.000000      1.00000        1.000000   \n",
       "\n",
       "       EstimatedSalary        Exited  \n",
       "count     10000.000000  10000.000000  \n",
       "mean     100090.239881      0.203700  \n",
       "std       57510.492818      0.402769  \n",
       "min          11.580000      0.000000  \n",
       "25%       51002.110000      0.000000  \n",
       "50%      100193.915000      0.000000  \n",
       "75%      149388.247500      0.000000  \n",
       "max      199992.480000      1.000000  "
      ]
     },
     "execution_count": 5,
     "metadata": {},
     "output_type": "execute_result"
    }
   ],
   "source": [
    "data.describe()"
   ]
  },
  {
   "cell_type": "markdown",
   "metadata": {},
   "source": [
    "Заменим пропущенные значения Tenure на \"0\":"
   ]
  },
  {
   "cell_type": "code",
   "execution_count": 6,
   "metadata": {},
   "outputs": [],
   "source": [
    "data['Tenure'] = data['Tenure'].fillna(0)"
   ]
  },
  {
   "cell_type": "markdown",
   "metadata": {},
   "source": [
    "Преобразуем тип данных в некоторых столбцах:"
   ]
  },
  {
   "cell_type": "code",
   "execution_count": 7,
   "metadata": {},
   "outputs": [],
   "source": [
    "data['Tenure'] = data['Tenure'].astype('int64')"
   ]
  },
  {
   "cell_type": "code",
   "execution_count": 8,
   "metadata": {},
   "outputs": [],
   "source": [
    "data['HasCrCard'] = data['HasCrCard'].astype('bool')"
   ]
  },
  {
   "cell_type": "code",
   "execution_count": 9,
   "metadata": {},
   "outputs": [],
   "source": [
    "data['IsActiveMember'] = data['IsActiveMember'].astype('bool')"
   ]
  },
  {
   "cell_type": "code",
   "execution_count": 10,
   "metadata": {},
   "outputs": [],
   "source": [
    "data['Exited'] = data['Exited'].astype('bool')"
   ]
  },
  {
   "cell_type": "markdown",
   "metadata": {},
   "source": [
    "Проверим дублированные строки:"
   ]
  },
  {
   "cell_type": "code",
   "execution_count": 11,
   "metadata": {},
   "outputs": [
    {
     "data": {
      "text/plain": [
       "0"
      ]
     },
     "execution_count": 11,
     "metadata": {},
     "output_type": "execute_result"
    }
   ],
   "source": [
    "data.duplicated().sum()"
   ]
  },
  {
   "cell_type": "markdown",
   "metadata": {},
   "source": [
    "Посмотрим сколько имеется уникальных фамилий клиентов:"
   ]
  },
  {
   "cell_type": "code",
   "execution_count": 12,
   "metadata": {},
   "outputs": [
    {
     "data": {
      "text/plain": [
       "2932"
      ]
     },
     "execution_count": 12,
     "metadata": {},
     "output_type": "execute_result"
    }
   ],
   "source": [
    "len(data['Surname'].unique())"
   ]
  },
  {
   "cell_type": "markdown",
   "metadata": {},
   "source": [
    "Различных фамилий слишком много, к тому же, вряд ли они могут влиять на наши данные. Исключим столбец с фамилиями, id, номерами строк из датафрейма:"
   ]
  },
  {
   "cell_type": "code",
   "execution_count": 13,
   "metadata": {},
   "outputs": [],
   "source": [
    "data = data.drop(['CustomerId', 'RowNumber', 'Surname'], axis=1)"
   ]
  },
  {
   "cell_type": "markdown",
   "metadata": {},
   "source": [
    "Заменим категориальные признаки количественными методом OHE:"
   ]
  },
  {
   "cell_type": "code",
   "execution_count": 14,
   "metadata": {},
   "outputs": [
    {
     "data": {
      "text/html": [
       "<div>\n",
       "<style scoped>\n",
       "    .dataframe tbody tr th:only-of-type {\n",
       "        vertical-align: middle;\n",
       "    }\n",
       "\n",
       "    .dataframe tbody tr th {\n",
       "        vertical-align: top;\n",
       "    }\n",
       "\n",
       "    .dataframe thead th {\n",
       "        text-align: right;\n",
       "    }\n",
       "</style>\n",
       "<table border=\"1\" class=\"dataframe\">\n",
       "  <thead>\n",
       "    <tr style=\"text-align: right;\">\n",
       "      <th></th>\n",
       "      <th>CreditScore</th>\n",
       "      <th>Age</th>\n",
       "      <th>Tenure</th>\n",
       "      <th>Balance</th>\n",
       "      <th>NumOfProducts</th>\n",
       "      <th>HasCrCard</th>\n",
       "      <th>IsActiveMember</th>\n",
       "      <th>EstimatedSalary</th>\n",
       "      <th>Exited</th>\n",
       "      <th>Geography_Germany</th>\n",
       "      <th>Geography_Spain</th>\n",
       "      <th>Gender_Male</th>\n",
       "    </tr>\n",
       "  </thead>\n",
       "  <tbody>\n",
       "    <tr>\n",
       "      <td>0</td>\n",
       "      <td>619</td>\n",
       "      <td>42</td>\n",
       "      <td>2</td>\n",
       "      <td>0.00</td>\n",
       "      <td>1</td>\n",
       "      <td>True</td>\n",
       "      <td>True</td>\n",
       "      <td>101348.88</td>\n",
       "      <td>True</td>\n",
       "      <td>0</td>\n",
       "      <td>0</td>\n",
       "      <td>0</td>\n",
       "    </tr>\n",
       "    <tr>\n",
       "      <td>1</td>\n",
       "      <td>608</td>\n",
       "      <td>41</td>\n",
       "      <td>1</td>\n",
       "      <td>83807.86</td>\n",
       "      <td>1</td>\n",
       "      <td>False</td>\n",
       "      <td>True</td>\n",
       "      <td>112542.58</td>\n",
       "      <td>False</td>\n",
       "      <td>0</td>\n",
       "      <td>1</td>\n",
       "      <td>0</td>\n",
       "    </tr>\n",
       "    <tr>\n",
       "      <td>2</td>\n",
       "      <td>502</td>\n",
       "      <td>42</td>\n",
       "      <td>8</td>\n",
       "      <td>159660.80</td>\n",
       "      <td>3</td>\n",
       "      <td>True</td>\n",
       "      <td>False</td>\n",
       "      <td>113931.57</td>\n",
       "      <td>True</td>\n",
       "      <td>0</td>\n",
       "      <td>0</td>\n",
       "      <td>0</td>\n",
       "    </tr>\n",
       "    <tr>\n",
       "      <td>3</td>\n",
       "      <td>699</td>\n",
       "      <td>39</td>\n",
       "      <td>1</td>\n",
       "      <td>0.00</td>\n",
       "      <td>2</td>\n",
       "      <td>False</td>\n",
       "      <td>False</td>\n",
       "      <td>93826.63</td>\n",
       "      <td>False</td>\n",
       "      <td>0</td>\n",
       "      <td>0</td>\n",
       "      <td>0</td>\n",
       "    </tr>\n",
       "    <tr>\n",
       "      <td>4</td>\n",
       "      <td>850</td>\n",
       "      <td>43</td>\n",
       "      <td>2</td>\n",
       "      <td>125510.82</td>\n",
       "      <td>1</td>\n",
       "      <td>True</td>\n",
       "      <td>True</td>\n",
       "      <td>79084.10</td>\n",
       "      <td>False</td>\n",
       "      <td>0</td>\n",
       "      <td>1</td>\n",
       "      <td>0</td>\n",
       "    </tr>\n",
       "  </tbody>\n",
       "</table>\n",
       "</div>"
      ],
      "text/plain": [
       "   CreditScore  Age  Tenure    Balance  NumOfProducts  HasCrCard  \\\n",
       "0          619   42       2       0.00              1       True   \n",
       "1          608   41       1   83807.86              1      False   \n",
       "2          502   42       8  159660.80              3       True   \n",
       "3          699   39       1       0.00              2      False   \n",
       "4          850   43       2  125510.82              1       True   \n",
       "\n",
       "   IsActiveMember  EstimatedSalary  Exited  Geography_Germany  \\\n",
       "0            True        101348.88    True                  0   \n",
       "1            True        112542.58   False                  0   \n",
       "2           False        113931.57    True                  0   \n",
       "3           False         93826.63   False                  0   \n",
       "4            True         79084.10   False                  0   \n",
       "\n",
       "   Geography_Spain  Gender_Male  \n",
       "0                0            0  \n",
       "1                1            0  \n",
       "2                0            0  \n",
       "3                0            0  \n",
       "4                1            0  "
      ]
     },
     "execution_count": 14,
     "metadata": {},
     "output_type": "execute_result"
    }
   ],
   "source": [
    "data_ohe = pd.get_dummies(data, drop_first=True)\n",
    "data_ohe.head()"
   ]
  },
  {
   "cell_type": "markdown",
   "metadata": {},
   "source": [
    "Создадим переменные для признаков и целевых признаков:"
   ]
  },
  {
   "cell_type": "code",
   "execution_count": 29,
   "metadata": {},
   "outputs": [],
   "source": [
    "features = data_ohe.drop('Exited', axis=1)"
   ]
  },
  {
   "cell_type": "code",
   "execution_count": 30,
   "metadata": {},
   "outputs": [],
   "source": [
    "target = data_ohe['Exited']"
   ]
  },
  {
   "cell_type": "markdown",
   "metadata": {},
   "source": [
    "Разделяем датасет на 3 части: тренировочная, валидационная, тестовая выборки в соотношении 3-1-1:"
   ]
  },
  {
   "cell_type": "code",
   "execution_count": 17,
   "metadata": {},
   "outputs": [],
   "source": [
    "features_train, features_temp, target_train, target_temp = train_test_split(\n",
    "    features, target, test_size=0.4, random_state=12345)"
   ]
  },
  {
   "cell_type": "code",
   "execution_count": 18,
   "metadata": {},
   "outputs": [],
   "source": [
    "features_valid, features_test, target_valid, target_test = train_test_split(\n",
    "    features_temp, target_temp, test_size=0.5, random_state=12345)"
   ]
  },
  {
   "cell_type": "markdown",
   "metadata": {},
   "source": [
    "Проведем настройку масштабирования на тренировочной выборке и применим масштабирование для всех трех выборок:"
   ]
  },
  {
   "cell_type": "code",
   "execution_count": 19,
   "metadata": {},
   "outputs": [],
   "source": [
    "numeric = ['CreditScore', 'Age', 'Tenure', 'Balance', 'NumOfProducts', 'EstimatedSalary']"
   ]
  },
  {
   "cell_type": "code",
   "execution_count": 20,
   "metadata": {},
   "outputs": [],
   "source": [
    "scaler = StandardScaler()"
   ]
  },
  {
   "cell_type": "code",
   "execution_count": 21,
   "metadata": {},
   "outputs": [
    {
     "data": {
      "text/plain": [
       "StandardScaler(copy=True, with_mean=True, with_std=True)"
      ]
     },
     "execution_count": 21,
     "metadata": {},
     "output_type": "execute_result"
    }
   ],
   "source": [
    "scaler.fit(features_train[numeric])"
   ]
  },
  {
   "cell_type": "code",
   "execution_count": 22,
   "metadata": {},
   "outputs": [],
   "source": [
    "features_train[numeric] = scaler.transform(features_train[numeric])"
   ]
  },
  {
   "cell_type": "markdown",
   "metadata": {},
   "source": [
    "Проверяем размерность полученных таблиц:"
   ]
  },
  {
   "cell_type": "code",
   "execution_count": 23,
   "metadata": {},
   "outputs": [
    {
     "data": {
      "text/plain": [
       "(6000, 11)"
      ]
     },
     "execution_count": 23,
     "metadata": {},
     "output_type": "execute_result"
    }
   ],
   "source": [
    "features_train.shape"
   ]
  },
  {
   "cell_type": "code",
   "execution_count": 24,
   "metadata": {},
   "outputs": [],
   "source": [
    "features_valid[numeric] = scaler.transform(features_valid[numeric])"
   ]
  },
  {
   "cell_type": "code",
   "execution_count": 25,
   "metadata": {},
   "outputs": [
    {
     "data": {
      "text/plain": [
       "(2000, 11)"
      ]
     },
     "execution_count": 25,
     "metadata": {},
     "output_type": "execute_result"
    }
   ],
   "source": [
    "features_valid.shape"
   ]
  },
  {
   "cell_type": "code",
   "execution_count": 26,
   "metadata": {},
   "outputs": [],
   "source": [
    "features_test[numeric] = scaler.transform(features_test[numeric])"
   ]
  },
  {
   "cell_type": "code",
   "execution_count": 27,
   "metadata": {},
   "outputs": [
    {
     "data": {
      "text/plain": [
       "(2000, 11)"
      ]
     },
     "execution_count": 27,
     "metadata": {},
     "output_type": "execute_result"
    }
   ],
   "source": [
    "features_test.shape"
   ]
  },
  {
   "cell_type": "code",
   "execution_count": 28,
   "metadata": {},
   "outputs": [
    {
     "name": "stdout",
     "output_type": "stream",
     "text": [
      "(6000,)\n",
      "(2000,)\n",
      "(2000,)\n"
     ]
    }
   ],
   "source": [
    "print(target_train.shape)\n",
    "print(target_valid.shape)\n",
    "print(target_test.shape)"
   ]
  },
  {
   "cell_type": "markdown",
   "metadata": {},
   "source": [
    "### Вывод"
   ]
  },
  {
   "cell_type": "markdown",
   "metadata": {},
   "source": [
    "На данном этапе была выполнена загрузка и предобработка данных. Было выяснено, что пропуски имеются в одном столбце 'tenure' - они были заменены нулями. Оставшиеся столбцы пропусков не имеют, а количественные значения вопросов не вызывают. Из таблицы были удалены ненужные столбцы с номерами строк, id клиента, фамилиями, т.к. они не должны оказать на модель большое позитивное влияние, а могут лишь привести к искажению предсказаний. Категориальные признаки были заменены методом one-hot-encoding. Далее выборки были разделены на тренировочную, валидационную и тестовую в соотношении 3-1-1, scaler настроен на тренировочной выборке и все три набора данных масштабированы."
   ]
  },
  {
   "cell_type": "markdown",
   "metadata": {},
   "source": [
    "## 2. Исследование задачи <a id=\"step_2\"></a>"
   ]
  },
  {
   "cell_type": "markdown",
   "metadata": {},
   "source": [
    "Рассмотрим баланс классов для выборок целевых признаков:"
   ]
  },
  {
   "cell_type": "code",
   "execution_count": 31,
   "metadata": {},
   "outputs": [
    {
     "data": {
      "text/plain": [
       "False    0.800667\n",
       "True     0.199333\n",
       "Name: Exited, dtype: float64"
      ]
     },
     "execution_count": 31,
     "metadata": {},
     "output_type": "execute_result"
    }
   ],
   "source": [
    "target_train.value_counts(normalize=True)"
   ]
  },
  {
   "cell_type": "code",
   "execution_count": 32,
   "metadata": {},
   "outputs": [
    {
     "data": {
      "text/plain": [
       "False    0.791\n",
       "True     0.209\n",
       "Name: Exited, dtype: float64"
      ]
     },
     "execution_count": 32,
     "metadata": {},
     "output_type": "execute_result"
    }
   ],
   "source": [
    "target_valid.value_counts(normalize=True)"
   ]
  },
  {
   "cell_type": "code",
   "execution_count": 33,
   "metadata": {},
   "outputs": [
    {
     "data": {
      "text/plain": [
       "False    0.7885\n",
       "True     0.2115\n",
       "Name: Exited, dtype: float64"
      ]
     },
     "execution_count": 33,
     "metadata": {},
     "output_type": "execute_result"
    }
   ],
   "source": [
    "target_test.value_counts(normalize=True)"
   ]
  },
  {
   "cell_type": "markdown",
   "metadata": {},
   "source": [
    "Соотношение между \"0\" и \"1\" везеде примерно 80/20% соответственно."
   ]
  },
  {
   "cell_type": "markdown",
   "metadata": {},
   "source": [
    "Создадим таблицу, в которую будем записывать результаты расчетов метрик, полученные для различных моделей:"
   ]
  },
  {
   "cell_type": "code",
   "execution_count": 34,
   "metadata": {},
   "outputs": [],
   "source": [
    "model_results = pd.DataFrame(columns=['model_name', 'F1-score', 'AUC-ROC'])"
   ]
  },
  {
   "cell_type": "markdown",
   "metadata": {},
   "source": [
    "Создадим и обучим модели на данных \"как есть\" без учета дисбаланса классов. Переберем некоторые параметры моделей, используя метрику F1, AUC-ROC."
   ]
  },
  {
   "cell_type": "markdown",
   "metadata": {},
   "source": [
    "- Логистическая регрессия"
   ]
  },
  {
   "cell_type": "markdown",
   "metadata": {},
   "source": [
    "Используем стандартные параметры:"
   ]
  },
  {
   "cell_type": "code",
   "execution_count": 35,
   "metadata": {},
   "outputs": [
    {
     "name": "stdout",
     "output_type": "stream",
     "text": [
      "F1 score: 0.33390\n",
      "AUC-ROC: 0.75863\n"
     ]
    }
   ],
   "source": [
    "model = LogisticRegression(random_state=123, solver='liblinear') #создаем модель\n",
    "model.fit(features_train, target_train)\n",
    "predictions_valid = model.predict(features_valid)\n",
    "\n",
    "f1 = f1_score(target_valid, predictions_valid) #рассчитываем F1-score\n",
    "probabilities_valid = model.predict_proba(features_valid) #рассчитываем AUC-ROC\n",
    "probabilities_one_valid = probabilities_valid[:, 1]\n",
    "auc_roc = roc_auc_score(target_valid, probabilities_one_valid)\n",
    "\n",
    "i=0 #счетчик строк при добавлении их в таблицу\n",
    "model_results.loc[i, 'model_name'] = 'Logistic Regression Default' #заполняем таблицу с результатами метрик\n",
    "model_results.loc[i, 'F1-score'] = f1_score(target_valid, predictions_valid)\n",
    "model_results.loc[i, 'AUC-ROC'] = auc_roc\n",
    "i+=1\n",
    "\n",
    "print('F1 score: {:.5f}'.format(f1))\n",
    "print('AUC-ROC: {:.5f}'.format(auc_roc))"
   ]
  },
  {
   "cell_type": "markdown",
   "metadata": {},
   "source": [
    "Устанаваливаем 'Penalty' равным 'l1':"
   ]
  },
  {
   "cell_type": "code",
   "execution_count": 36,
   "metadata": {},
   "outputs": [
    {
     "name": "stdout",
     "output_type": "stream",
     "text": [
      "F1 score: 0.33390\n",
      "AUC-ROC: 0.75871\n"
     ]
    }
   ],
   "source": [
    "model = LogisticRegression(random_state=123, penalty='l1', solver='liblinear')\n",
    "model.fit(features_train, target_train)\n",
    "predictions_valid = model.predict(features_valid)\n",
    "\n",
    "f1 = f1_score(target_valid, predictions_valid)\n",
    "probabilities_valid = model.predict_proba(features_valid)\n",
    "probabilities_one_valid = probabilities_valid[:, 1]\n",
    "auc_roc = roc_auc_score(target_valid, probabilities_one_valid)\n",
    "\n",
    "print('F1 score: {:.5f}'.format(f1))\n",
    "print('AUC-ROC: {:.5f}'.format(auc_roc))"
   ]
  },
  {
   "cell_type": "markdown",
   "metadata": {},
   "source": [
    "Перебираем 'solver':"
   ]
  },
  {
   "cell_type": "code",
   "execution_count": 37,
   "metadata": {},
   "outputs": [
    {
     "name": "stdout",
     "output_type": "stream",
     "text": [
      "Solver: newton-cg; F1-score: 0.33390\n",
      "Solver: lbfgs; F1-score: 0.33390\n",
      "Solver: liblinear; F1-score: 0.33390\n",
      "Solver: sag; F1-score: 0.33390\n",
      "Solver: saga; F1-score: 0.33390\n"
     ]
    }
   ],
   "source": [
    "solver_names = ['newton-cg', 'lbfgs', 'liblinear', 'sag', 'saga']\n",
    "best_model = None\n",
    "best_score = 0\n",
    "for solver in solver_names:\n",
    "    model = LogisticRegression(random_state=123, solver=solver, max_iter=4000)\n",
    "    model.fit(features_train, target_train)\n",
    "    predictions_valid = model.predict(features_valid)\n",
    "    f1 = f1_score(target_valid, predictions_valid)\n",
    "    print('Solver: ', solver, '; ', 'F1-score: {:.5f}'.format(f1), sep='')"
   ]
  },
  {
   "cell_type": "markdown",
   "metadata": {},
   "source": [
    "Перебираем параметр регуляризации 'С':"
   ]
  },
  {
   "cell_type": "code",
   "execution_count": 38,
   "metadata": {},
   "outputs": [
    {
     "name": "stdout",
     "output_type": "stream",
     "text": [
      "Лучший F1-score: 0.33390\n"
     ]
    }
   ],
   "source": [
    "best_model = None\n",
    "best_score = 0\n",
    "C_reg = 0.01\n",
    "while C_reg < 1.01:\n",
    "    model = LogisticRegression(random_state=123, C=C_reg, solver='liblinear')\n",
    "    model.fit(features_train, target_train)\n",
    "    predictions_valid = model.predict(features_valid)\n",
    "    score = f1_score(target_valid, predictions_valid)\n",
    "    if score > best_score:\n",
    "        best_model = model\n",
    "        best_score = score\n",
    "        best_C = C_reg\n",
    "    C_reg += 0.01\n",
    "\n",
    "print('Лучший F1-score: {:.5f}'.format(best_score))"
   ]
  },
  {
   "cell_type": "markdown",
   "metadata": {},
   "source": [
    "Улучшения F1-score при изменении гиперпараметров для логистической регрессии отсутсвуют, поэтому в дальнейшем будем использовать стандартные настройки для этой модели."
   ]
  },
  {
   "cell_type": "markdown",
   "metadata": {},
   "source": [
    "- Дерево решений"
   ]
  },
  {
   "cell_type": "markdown",
   "metadata": {},
   "source": [
    "Используем стандартные параметры:"
   ]
  },
  {
   "cell_type": "code",
   "execution_count": 39,
   "metadata": {},
   "outputs": [
    {
     "name": "stdout",
     "output_type": "stream",
     "text": [
      "F1 score: 0.47375\n",
      "AUC-ROC: 0.66663\n"
     ]
    }
   ],
   "source": [
    "model = DecisionTreeClassifier(random_state=123)\n",
    "model.fit(features_train, target_train)\n",
    "predictions_valid = model.predict(features_valid)\n",
    "\n",
    "f1 = f1_score(target_valid, predictions_valid)\n",
    "probabilities_valid = model.predict_proba(features_valid)\n",
    "probabilities_one_valid = probabilities_valid[:, 1]\n",
    "auc_roc = roc_auc_score(target_valid, probabilities_one_valid)\n",
    "\n",
    "model_results.loc[i, 'model_name'] = 'Decision Tree Default'\n",
    "model_results.loc[i, 'F1-score'] = f1_score(target_valid, predictions_valid)\n",
    "model_results.loc[i, 'AUC-ROC'] = auc_roc\n",
    "i+=1\n",
    "\n",
    "print('F1 score: {:.5f}'.format(f1))\n",
    "print('AUC-ROC: {:.5f}'.format(auc_roc))"
   ]
  },
  {
   "cell_type": "markdown",
   "metadata": {},
   "source": [
    "Найдем наилучшую глубину дерева:"
   ]
  },
  {
   "cell_type": "code",
   "execution_count": 40,
   "metadata": {},
   "outputs": [
    {
     "name": "stdout",
     "output_type": "stream",
     "text": [
      "Лучшая макс. глубина: 9\n",
      "F1-score: 0.58136\n",
      "AUC-ROC: 0.79680\n"
     ]
    }
   ],
   "source": [
    "best_model = None\n",
    "best_score = 0\n",
    "for depth in range(2,51,1):\n",
    "    model = DecisionTreeClassifier(random_state=123, max_depth=depth)\n",
    "    model.fit(features_train, target_train)\n",
    "    predictions_valid = model.predict(features_valid)\n",
    "    score = f1_score(target_valid, predictions_valid)\n",
    "    if score > best_score:\n",
    "        best_model = model\n",
    "        best_score = score\n",
    "        best_depth = depth\n",
    "\n",
    "model = DecisionTreeClassifier(random_state=123, max_depth=best_depth)\n",
    "model.fit(features_train, target_train)\n",
    "probabilities_valid = model.predict_proba(features_valid)\n",
    "probabilities_one_valid = probabilities_valid[:, 1]\n",
    "auc_roc = roc_auc_score(target_valid, probabilities_one_valid)\n",
    "\n",
    "model_results.loc[i, 'model_name'] = 'Decision Tree Optimized'\n",
    "model_results.loc[i, 'F1-score'] = best_score\n",
    "model_results.loc[i, 'AUC-ROC'] = auc_roc\n",
    "i+=1\n",
    "\n",
    "print('Лучшая макс. глубина:', best_depth) \n",
    "print('F1-score: {:.5f}'.format(best_score))\n",
    "print('AUC-ROC: {:.5f}'.format(auc_roc))"
   ]
  },
  {
   "cell_type": "markdown",
   "metadata": {},
   "source": [
    "- Случайный лес"
   ]
  },
  {
   "cell_type": "markdown",
   "metadata": {},
   "source": [
    "Используем стандартные параметры:"
   ]
  },
  {
   "cell_type": "code",
   "execution_count": 41,
   "metadata": {},
   "outputs": [
    {
     "name": "stdout",
     "output_type": "stream",
     "text": [
      "F1 score: 0.51682\n",
      "AUC-ROC: 0.80216\n"
     ]
    }
   ],
   "source": [
    "model = RandomForestClassifier(random_state=123, n_estimators=10)\n",
    "model.fit(features_train, target_train)\n",
    "predictions_valid = model.predict(features_valid)\n",
    "\n",
    "f1 = f1_score(target_valid, predictions_valid)\n",
    "probabilities_valid = model.predict_proba(features_valid)\n",
    "probabilities_one_valid = probabilities_valid[:, 1]\n",
    "auc_roc = roc_auc_score(target_valid, probabilities_one_valid)\n",
    "\n",
    "model_results.loc[i, 'model_name'] = 'Random Forest Default'\n",
    "model_results.loc[i, 'F1-score'] = best_score\n",
    "model_results.loc[i, 'AUC-ROC'] = auc_roc\n",
    "i+=1\n",
    "\n",
    "print('F1 score: {:.5f}'.format(f1))\n",
    "print('AUC-ROC: {:.5f}'.format(auc_roc))"
   ]
  },
  {
   "cell_type": "markdown",
   "metadata": {},
   "source": [
    "Найдем наилучшее кол.-во оценщиков 'n_estimators' и глубину 'max_depth':"
   ]
  },
  {
   "cell_type": "code",
   "execution_count": 42,
   "metadata": {},
   "outputs": [
    {
     "name": "stdout",
     "output_type": "stream",
     "text": [
      "Лучшее значение F1 score: 0.60444\n",
      "AUC-ROC: 0.84396\n",
      "Лучшее кол.-во оценщиков: 80\n",
      "Лучшая макс. глубина: 15\n",
      "CPU times: user 15.7 s, sys: 0 ns, total: 15.7 s\n",
      "Wall time: 15.7 s\n"
     ]
    }
   ],
   "source": [
    "%%time\n",
    "best_model = None\n",
    "best_score = 0\n",
    "best_est = 0\n",
    "for est in range (40,101,20):\n",
    "    for depth in range (9,20,2):\n",
    "        model = RandomForestClassifier(random_state=123, n_estimators=est, max_depth=depth)\n",
    "        model.fit(features_train, target_train)\n",
    "        predictions_valid = model.predict(features_valid)\n",
    "        score = f1_score(target_valid, predictions_valid)\n",
    "        if score > best_score:\n",
    "            best_model = model\n",
    "            best_score = score\n",
    "            best_est = est\n",
    "            best_depth = depth\n",
    "\n",
    "model = RandomForestClassifier(random_state=123, n_estimators=best_est, max_depth=best_depth)\n",
    "model.fit(features_train, target_train)\n",
    "probabilities_valid = model.predict_proba(features_valid)\n",
    "probabilities_one_valid = probabilities_valid[:, 1]\n",
    "auc_roc = roc_auc_score(target_valid, probabilities_one_valid)           \n",
    "\n",
    "model_results.loc[i, 'model_name'] = 'Random Forest Optimized'\n",
    "model_results.loc[i, 'F1-score'] = best_score\n",
    "model_results.loc[i, 'AUC-ROC'] = auc_roc\n",
    "i+=1\n",
    "\n",
    "print('Лучшее значение F1 score: {:.5f}'.format(best_score))\n",
    "print('AUC-ROC: {:.5f}'.format(auc_roc))\n",
    "print('Лучшее кол.-во оценщиков:', best_est)\n",
    "print('Лучшая макс. глубина:', best_depth)"
   ]
  },
  {
   "cell_type": "markdown",
   "metadata": {},
   "source": [
    "### Вывод"
   ]
  },
  {
   "cell_type": "markdown",
   "metadata": {},
   "source": [
    "На данном этапе был рассмотрен баланс отрицательного и положительного классов целевого признака - для тренировочной, валидационной и тестовой выборок он составляет примерно 80%/20% соответственно. Были созданы и обучены модели логистической регрессии, дерева решений, случайного леса на имеющейся несбалансированной выборке. Наилучший результат по получила модель случайного леса с гиперпараметрами n_estimators=80, max_depth=15 с результатами F1-score 0.60444, AUC-ROC: 0.84396. На втором месте находится модель дерева решений с макс. глубиной 9  с результатами F1-score: 0.58136, AUC-ROC: 0.79680. Наихудший результат показала модель логистической регрессии: F1 score: 0.33390, AUC-ROC: 0.75870. "
   ]
  },
  {
   "cell_type": "markdown",
   "metadata": {},
   "source": [
    "## 3. Борьба с дисбалансом <a id=\"step_3\"></a>"
   ]
  },
  {
   "cell_type": "markdown",
   "metadata": {},
   "source": [
    "Учитываем дисбаланс классов при помощи аргумента class_weight моделей."
   ]
  },
  {
   "cell_type": "markdown",
   "metadata": {},
   "source": [
    "- Логистическая регрессия"
   ]
  },
  {
   "cell_type": "code",
   "execution_count": 43,
   "metadata": {},
   "outputs": [
    {
     "name": "stdout",
     "output_type": "stream",
     "text": [
      "F1-score: 0.48889\n",
      "AUC-ROC: 0.76358\n"
     ]
    }
   ],
   "source": [
    "model = LogisticRegression(random_state=123, class_weight='balanced', solver='liblinear')\n",
    "model.fit(features_train, target_train)\n",
    "predictions_valid = model.predict(features_valid)\n",
    "\n",
    "f1 = f1_score(target_valid, predictions_valid)\n",
    "probabilities_valid = model.predict_proba(features_valid)\n",
    "probabilities_one_valid = probabilities_valid[:, 1]\n",
    "auc_roc = roc_auc_score(target_valid, probabilities_one_valid)\n",
    "\n",
    "model_results.loc[i, 'model_name'] = 'Logistic Regression Balanced'\n",
    "model_results.loc[i, 'F1-score'] = f1\n",
    "model_results.loc[i, 'AUC-ROC'] = auc_roc\n",
    "i+=1\n",
    "\n",
    "print('F1-score: {:.5f}'.format(f1))\n",
    "print('AUC-ROC: {:.5f}'.format(auc_roc))"
   ]
  },
  {
   "cell_type": "markdown",
   "metadata": {},
   "source": [
    "- Дерево решений:"
   ]
  },
  {
   "cell_type": "code",
   "execution_count": 44,
   "metadata": {},
   "outputs": [
    {
     "name": "stdout",
     "output_type": "stream",
     "text": [
      "F1-score: 0.46097\n",
      "AUC-ROC: 0.65833\n"
     ]
    }
   ],
   "source": [
    "model = DecisionTreeClassifier(random_state=123, class_weight='balanced')\n",
    "model.fit(features_train, target_train)\n",
    "predictions_valid = model.predict(features_valid)\n",
    "\n",
    "f1 = f1_score(target_valid, predictions_valid)\n",
    "probabilities_valid = model.predict_proba(features_valid)\n",
    "probabilities_one_valid = probabilities_valid[:, 1]\n",
    "auc_roc = roc_auc_score(target_valid, probabilities_one_valid)\n",
    "\n",
    "print('F1-score: {:.5f}'.format(f1))\n",
    "print('AUC-ROC: {:.5f}'.format(auc_roc))"
   ]
  },
  {
   "cell_type": "markdown",
   "metadata": {},
   "source": [
    "Найдем наилучшую глубину дерева:"
   ]
  },
  {
   "cell_type": "code",
   "execution_count": 45,
   "metadata": {},
   "outputs": [
    {
     "name": "stdout",
     "output_type": "stream",
     "text": [
      "Лучшее значение F1-score: 0.59638\n",
      "AUC-ROC: 0.83102\n"
     ]
    }
   ],
   "source": [
    "best_model = None\n",
    "best_score = 0\n",
    "for depth in range(1,51,1):\n",
    "    model = DecisionTreeClassifier(random_state=123, max_depth=depth, class_weight='balanced')\n",
    "    model.fit(features_train, target_train)\n",
    "    predictions_valid = model.predict(features_valid)\n",
    "    score = f1_score(target_valid, predictions_valid)\n",
    "    if score > best_score:\n",
    "        best_model = model\n",
    "        best_score = score\n",
    "        best_depth = depth\n",
    "\n",
    "model = DecisionTreeClassifier(random_state=123, max_depth=best_depth, class_weight='balanced')\n",
    "model.fit(features_train, target_train)\n",
    "probabilities_valid = model.predict_proba(features_valid)\n",
    "probabilities_one_valid = probabilities_valid[:, 1]\n",
    "auc_roc = roc_auc_score(target_valid, probabilities_one_valid)         \n",
    "\n",
    "model_results.loc[i, 'model_name'] = 'Decision Tree Balanced Optimized'\n",
    "model_results.loc[i, 'F1-score'] = best_score\n",
    "model_results.loc[i, 'AUC-ROC'] = auc_roc\n",
    "i+=1\n",
    "\n",
    "print('Лучшее значение F1-score: {:.5f}'.format(best_score))\n",
    "print('AUC-ROC: {:.5f}'.format(auc_roc))"
   ]
  },
  {
   "cell_type": "markdown",
   "metadata": {},
   "source": [
    "- Случайный лес:"
   ]
  },
  {
   "cell_type": "code",
   "execution_count": 46,
   "metadata": {},
   "outputs": [
    {
     "name": "stdout",
     "output_type": "stream",
     "text": [
      "F1-score: 0.52761\n",
      "AUC-ROC: 0.80212\n"
     ]
    }
   ],
   "source": [
    "model = RandomForestClassifier(random_state=123, class_weight='balanced', n_estimators=10)\n",
    "model.fit(features_train, target_train)\n",
    "predictions_valid = model.predict(features_valid)\n",
    "\n",
    "f1 = f1_score(target_valid, predictions_valid)\n",
    "probabilities_valid = model.predict_proba(features_valid)\n",
    "probabilities_one_valid = probabilities_valid[:, 1]\n",
    "auc_roc = roc_auc_score(target_valid, probabilities_one_valid)\n",
    "\n",
    "print('F1-score: {:.5f}'.format(f1))\n",
    "print('AUC-ROC: {:.5f}'.format(auc_roc))"
   ]
  },
  {
   "cell_type": "markdown",
   "metadata": {},
   "source": [
    "Найдем наилучшее кол.-во оценщиков 'n_estimators' и глубину 'max_depth':"
   ]
  },
  {
   "cell_type": "code",
   "execution_count": 47,
   "metadata": {},
   "outputs": [
    {
     "name": "stdout",
     "output_type": "stream",
     "text": [
      "Лучшее значение F1-score: 0.62959\n",
      "AUC-ROC: 0.84469\n",
      "Лучшее кол.-во оценщиков: 22\n",
      "Лучшая макс. глубина: 10\n",
      "CPU times: user 13.9 s, sys: 0 ns, total: 13.9 s\n",
      "Wall time: 13.9 s\n"
     ]
    }
   ],
   "source": [
    "%%time\n",
    "best_model = None\n",
    "best_score = 0\n",
    "best_est = 0\n",
    "for est in range (20,40,2):\n",
    "    for depth in range (2,15,2):\n",
    "        model = RandomForestClassifier(random_state=123, n_estimators=est, max_depth=depth, class_weight='balanced')\n",
    "        model.fit(features_train, target_train)\n",
    "        predictions_valid = model.predict(features_valid)\n",
    "        score = f1_score(target_valid, predictions_valid)\n",
    "        if score > best_score:\n",
    "            best_model = model\n",
    "            best_score = score\n",
    "            best_est = est\n",
    "            best_depth = depth\n",
    "\n",
    "model = RandomForestClassifier(random_state=123, n_estimators=best_est, max_depth=best_depth, class_weight='balanced')\n",
    "model.fit(features_train, target_train)\n",
    "probabilities_valid = model.predict_proba(features_valid)\n",
    "probabilities_one_valid = probabilities_valid[:, 1]\n",
    "auc_roc = roc_auc_score(target_valid, probabilities_one_valid)  \n",
    "            \n",
    "model_results.loc[i, 'model_name'] = 'Random Forest Balanced Optimized'\n",
    "model_results.loc[i, 'F1-score'] = best_score\n",
    "model_results.loc[i, 'AUC-ROC'] = auc_roc\n",
    "i+=1\n",
    "\n",
    "print('Лучшее значение F1-score: {:.5f}'.format(best_score))\n",
    "print('AUC-ROC: {:.5f}'.format(auc_roc))\n",
    "print('Лучшее кол.-во оценщиков:', best_est)\n",
    "print('Лучшая макс. глубина:', best_depth)"
   ]
  },
  {
   "cell_type": "markdown",
   "metadata": {},
   "source": [
    "Используем функцию, добавлюящую записи в обучающие данные при помощи upsampling: "
   ]
  },
  {
   "cell_type": "code",
   "execution_count": 48,
   "metadata": {},
   "outputs": [],
   "source": [
    "def upsample(features, target, repeat):\n",
    "    features_zeros = features[target == 0]\n",
    "    features_ones = features[target == 1]\n",
    "    target_zeros = target[target == 0]\n",
    "    target_ones = target[target == 1]\n",
    "\n",
    "    features_upsampled = pd.concat([features_zeros] + [features_ones] * repeat)\n",
    "    target_upsampled = pd.concat([target_zeros] + [target_ones] * repeat)\n",
    "    \n",
    "    features_upsampled, target_upsampled = shuffle(\n",
    "        features_upsampled, target_upsampled, random_state=123)\n",
    "    \n",
    "    return features_upsampled, target_upsampled"
   ]
  },
  {
   "cell_type": "markdown",
   "metadata": {},
   "source": [
    "Вызываем функцию с коэффициентом увеличения выборки 4:"
   ]
  },
  {
   "cell_type": "code",
   "execution_count": 49,
   "metadata": {},
   "outputs": [],
   "source": [
    "features_upsampled, target_upsampled = upsample(features_train, target_train, 4)"
   ]
  },
  {
   "cell_type": "markdown",
   "metadata": {},
   "source": [
    "Проверяем соотношение классов:"
   ]
  },
  {
   "cell_type": "code",
   "execution_count": 50,
   "metadata": {},
   "outputs": [
    {
     "data": {
      "text/plain": [
       "False    0.501043\n",
       "True     0.498957\n",
       "Name: Exited, dtype: float64"
      ]
     },
     "execution_count": 50,
     "metadata": {},
     "output_type": "execute_result"
    }
   ],
   "source": [
    "target_upsampled.value_counts(normalize=True)"
   ]
  },
  {
   "cell_type": "markdown",
   "metadata": {},
   "source": [
    "Проверяем результат на различных моделях."
   ]
  },
  {
   "cell_type": "markdown",
   "metadata": {},
   "source": [
    " - Логистическая регрессия:"
   ]
  },
  {
   "cell_type": "code",
   "execution_count": 51,
   "metadata": {},
   "outputs": [
    {
     "name": "stdout",
     "output_type": "stream",
     "text": [
      "F1-score: 0.48889\n",
      "AUC-ROC: 0.76348\n"
     ]
    }
   ],
   "source": [
    "model = LogisticRegression(random_state=123, solver='liblinear')\n",
    "model.fit(features_upsampled, target_upsampled)\n",
    "predictions_valid = model.predict(features_valid)\n",
    "\n",
    "f1 = f1_score(target_valid, predictions_valid)\n",
    "probabilities_valid = model.predict_proba(features_valid)\n",
    "probabilities_one_valid = probabilities_valid[:, 1]\n",
    "auc_roc = roc_auc_score(target_valid, probabilities_one_valid)\n",
    "\n",
    "model_results.loc[i, 'model_name'] = 'Logistic Regression Upsampled'\n",
    "model_results.loc[i, 'F1-score'] = f1_score(target_valid, predictions_valid)\n",
    "model_results.loc[i, 'AUC-ROC'] = auc_roc\n",
    "i+=1\n",
    "\n",
    "print('F1-score: {:.5f}'.format(f1))\n",
    "print('AUC-ROC: {:.5f}'.format(auc_roc))"
   ]
  },
  {
   "cell_type": "markdown",
   "metadata": {},
   "source": [
    "- Дерево решений:"
   ]
  },
  {
   "cell_type": "code",
   "execution_count": 50,
   "metadata": {},
   "outputs": [
    {
     "name": "stdout",
     "output_type": "stream",
     "text": [
      "F1-score: 0.45952\n",
      "AUC-ROC: 0.65848\n"
     ]
    }
   ],
   "source": [
    "model = DecisionTreeClassifier(random_state=123)\n",
    "model.fit(features_upsampled, target_upsampled)\n",
    "predictions_valid = model.predict(features_valid)\n",
    "\n",
    "f1 = f1_score(target_valid, predictions_valid)\n",
    "probabilities_valid = model.predict_proba(features_valid)\n",
    "probabilities_one_valid = probabilities_valid[:, 1]\n",
    "auc_roc = roc_auc_score(target_valid, probabilities_one_valid)\n",
    "\n",
    "print('F1-score: {:.5f}'.format(f1))\n",
    "print('AUC-ROC: {:.5f}'.format(auc_roc))"
   ]
  },
  {
   "cell_type": "markdown",
   "metadata": {},
   "source": [
    "Находим наилучшую глубину дерева:"
   ]
  },
  {
   "cell_type": "code",
   "execution_count": 52,
   "metadata": {},
   "outputs": [
    {
     "name": "stdout",
     "output_type": "stream",
     "text": [
      "Лучшее значение F1-score: 0.59638\n",
      "AUC-ROC: 0.83102\n",
      "Лучшая макс. глубина: 5\n"
     ]
    }
   ],
   "source": [
    "best_model = None\n",
    "best_score = 0\n",
    "for depth in range(1,51,1):\n",
    "    model = DecisionTreeClassifier(random_state=123, max_depth=depth)\n",
    "    model.fit(features_upsampled, target_upsampled)\n",
    "    predictions_valid = model.predict(features_valid)\n",
    "    score = f1_score(target_valid, predictions_valid)\n",
    "    if score > best_score:\n",
    "        best_model = model\n",
    "        best_score = score\n",
    "        best_depth = depth\n",
    "\n",
    "model = DecisionTreeClassifier(random_state=123, max_depth=best_depth)\n",
    "model.fit(features_upsampled, target_upsampled)\n",
    "probabilities_valid = model.predict_proba(features_valid)\n",
    "probabilities_one_valid = probabilities_valid[:, 1]\n",
    "auc_roc = roc_auc_score(target_valid, probabilities_one_valid)          \n",
    "\n",
    "model_results.loc[i, 'model_name'] = 'Decision Tree Upsampled Optimized'\n",
    "model_results.loc[i, 'F1-score'] = best_score\n",
    "model_results.loc[i, 'AUC-ROC'] = auc_roc\n",
    "i+=1\n",
    "\n",
    "print('Лучшее значение F1-score: {:.5f}'.format(best_score))\n",
    "print('AUC-ROC: {:.5f}'.format(auc_roc))\n",
    "print('Лучшая макс. глубина:', best_depth)"
   ]
  },
  {
   "cell_type": "markdown",
   "metadata": {},
   "source": [
    "- Случайный лес:"
   ]
  },
  {
   "cell_type": "code",
   "execution_count": 53,
   "metadata": {},
   "outputs": [
    {
     "name": "stdout",
     "output_type": "stream",
     "text": [
      "F1-score: 0.48889\n",
      "AUC-ROC: 0.82735\n"
     ]
    }
   ],
   "source": [
    "model = RandomForestClassifier(random_state=123, n_estimators=10)\n",
    "model.fit(features_upsampled, target_upsampled)\n",
    "predictions_valid = model.predict(features_valid)\n",
    "\n",
    "probabilities_valid = model.predict_proba(features_valid)\n",
    "probabilities_one_valid = probabilities_valid[:, 1]\n",
    "auc_roc = roc_auc_score(target_valid, probabilities_one_valid)\n",
    "\n",
    "print('F1-score: {:.5f}'.format(f1))\n",
    "print('AUC-ROC: {:.5f}'.format(auc_roc))\n"
   ]
  },
  {
   "cell_type": "markdown",
   "metadata": {},
   "source": [
    "Находим наилучшее кол.-во оценщиков 'n_estimators' и глубину 'max_depth':"
   ]
  },
  {
   "cell_type": "code",
   "execution_count": 54,
   "metadata": {},
   "outputs": [
    {
     "name": "stdout",
     "output_type": "stream",
     "text": [
      "Лучшее значение F1-score: 0.62433\n",
      "AUC-ROC: 0.85162\n",
      "Лучшее кол.-во оценщиков: 81\n",
      "Лучшая макс. глубина: 9\n",
      "CPU times: user 21.9 s, sys: 0 ns, total: 21.9 s\n",
      "Wall time: 22 s\n"
     ]
    }
   ],
   "source": [
    "%%time\n",
    "best_model = None\n",
    "best_score = 0\n",
    "best_est = 0\n",
    "for est in range (1,101,20):\n",
    "    for depth in range (1,20,2):\n",
    "        model = RandomForestClassifier(random_state=123, n_estimators=est, max_depth=depth)\n",
    "        model.fit(features_upsampled, target_upsampled)\n",
    "        predictions_valid = model.predict(features_valid)\n",
    "        score = f1_score(target_valid, predictions_valid)\n",
    "        if score > best_score:\n",
    "            best_model = model\n",
    "            best_score = score\n",
    "            best_est = est\n",
    "            best_depth = depth\n",
    "\n",
    "model = RandomForestClassifier(random_state=123, n_estimators=best_est, max_depth=best_depth)\n",
    "model.fit(features_upsampled, target_upsampled)\n",
    "probabilities_valid = model.predict_proba(features_valid)\n",
    "probabilities_one_valid = probabilities_valid[:, 1]\n",
    "auc_roc = roc_auc_score(target_valid, probabilities_one_valid)    \n",
    "\n",
    "model_results.loc[i, 'model_name'] = 'Random Forest Upsampled Optimized'\n",
    "model_results.loc[i, 'F1-score'] = best_score\n",
    "model_results.loc[i, 'AUC-ROC'] = auc_roc\n",
    "i+=1\n",
    "\n",
    "print('Лучшее значение F1-score: {:.5f}'.format(best_score))\n",
    "print('AUC-ROC: {:.5f}'.format(auc_roc))\n",
    "print('Лучшее кол.-во оценщиков:', best_est)\n",
    "print('Лучшая макс. глубина:', best_depth)"
   ]
  },
  {
   "cell_type": "markdown",
   "metadata": {},
   "source": [
    "Уберем часть записей из обучающей выборки с помощью downsampling."
   ]
  },
  {
   "cell_type": "code",
   "execution_count": 55,
   "metadata": {},
   "outputs": [],
   "source": [
    "def downsample(features, target, fraction):\n",
    "    features_zeros = features[target == 0]\n",
    "    features_ones = features[target == 1]\n",
    "    target_zeros = target[target == 0]\n",
    "    target_ones = target[target == 1]\n",
    "\n",
    "    features_downsampled = pd.concat(\n",
    "        [features_zeros.sample(frac=fraction, random_state=123)] + [features_ones])\n",
    "    target_downsampled = pd.concat(\n",
    "        [target_zeros.sample(frac=fraction, random_state=123)] + [target_ones])\n",
    "    \n",
    "    features_downsampled, target_downsampled = shuffle(\n",
    "        features_downsampled, target_downsampled, random_state=12345)\n",
    "    \n",
    "    return features_downsampled, target_downsampled"
   ]
  },
  {
   "cell_type": "markdown",
   "metadata": {},
   "source": [
    "Вызываем функцию с коэффициентом 1/4:"
   ]
  },
  {
   "cell_type": "code",
   "execution_count": 56,
   "metadata": {},
   "outputs": [],
   "source": [
    "features_downsampled, target_downsampled = downsample(features_train, target_train, 0.25)"
   ]
  },
  {
   "cell_type": "markdown",
   "metadata": {},
   "source": [
    "Проверяем полученный баланс классов:"
   ]
  },
  {
   "cell_type": "code",
   "execution_count": 57,
   "metadata": {},
   "outputs": [
    {
     "data": {
      "text/plain": [
       "False    0.501043\n",
       "True     0.498957\n",
       "Name: Exited, dtype: float64"
      ]
     },
     "execution_count": 57,
     "metadata": {},
     "output_type": "execute_result"
    }
   ],
   "source": [
    "target_downsampled.value_counts(normalize=True)"
   ]
  },
  {
   "cell_type": "markdown",
   "metadata": {},
   "source": [
    "Проверяем результат на различных моделях."
   ]
  },
  {
   "cell_type": "markdown",
   "metadata": {},
   "source": [
    " - Логистическая регрессия:"
   ]
  },
  {
   "cell_type": "code",
   "execution_count": 58,
   "metadata": {},
   "outputs": [
    {
     "name": "stdout",
     "output_type": "stream",
     "text": [
      "F1-score: 0.48966\n",
      "AUC-ROC: 0.76321\n"
     ]
    }
   ],
   "source": [
    "model = LogisticRegression(random_state=123, solver='liblinear')\n",
    "model.fit(features_downsampled, target_downsampled)\n",
    "predictions_valid = model.predict(features_valid)\n",
    "\n",
    "f1 = f1_score(target_valid, predictions_valid)\n",
    "probabilities_valid = model.predict_proba(features_valid)\n",
    "probabilities_one_valid = probabilities_valid[:, 1]\n",
    "auc_roc = roc_auc_score(target_valid, probabilities_one_valid)\n",
    "\n",
    "model_results.loc[i, 'model_name'] = 'Logistic Regression Downsampled'\n",
    "model_results.loc[i, 'F1-score'] = f1_score(target_valid, predictions_valid)\n",
    "model_results.loc[i, 'AUC-ROC'] = auc_roc\n",
    "i+=1\n",
    "\n",
    "print('F1-score: {:.5f}'.format(f1))\n",
    "print('AUC-ROC: {:.5f}'.format(auc_roc))"
   ]
  },
  {
   "cell_type": "markdown",
   "metadata": {},
   "source": [
    "- Дерево решений:"
   ]
  },
  {
   "cell_type": "code",
   "execution_count": 59,
   "metadata": {},
   "outputs": [
    {
     "name": "stdout",
     "output_type": "stream",
     "text": [
      "F1-score: 0.47542\n",
      "AUC-ROC: 0.68599\n"
     ]
    }
   ],
   "source": [
    "model = DecisionTreeClassifier(random_state=123)\n",
    "model.fit(features_downsampled, target_downsampled)\n",
    "predictions_valid = model.predict(features_valid)\n",
    "\n",
    "f1 = f1_score(target_valid, predictions_valid)\n",
    "probabilities_valid = model.predict_proba(features_valid)\n",
    "probabilities_one_valid = probabilities_valid[:, 1]\n",
    "auc_roc = roc_auc_score(target_valid, probabilities_one_valid)\n",
    "\n",
    "print('F1-score: {:.5f}'.format(f1))\n",
    "print('AUC-ROC: {:.5f}'.format(auc_roc))"
   ]
  },
  {
   "cell_type": "markdown",
   "metadata": {},
   "source": [
    "Находим наилучшую глубину дерева:"
   ]
  },
  {
   "cell_type": "code",
   "execution_count": 60,
   "metadata": {},
   "outputs": [
    {
     "name": "stdout",
     "output_type": "stream",
     "text": [
      "Лучшее значение F1-score: 0.57567\n",
      "AUC-ROC: 0.82842\n",
      "Лучшая макс. глубина: 5\n"
     ]
    }
   ],
   "source": [
    "best_model = None\n",
    "best_score = 0\n",
    "for depth in range(1,51,1):\n",
    "    model = DecisionTreeClassifier(random_state=123, max_depth=depth)\n",
    "    model.fit(features_downsampled, target_downsampled)\n",
    "    predictions_valid = model.predict(features_valid)\n",
    "    score = f1_score(target_valid, predictions_valid)\n",
    "    if score > best_score:\n",
    "        best_model = model\n",
    "        best_score = score\n",
    "        best_depth = depth\n",
    "        \n",
    "model = DecisionTreeClassifier(random_state=123, max_depth=best_depth)\n",
    "model.fit(features_downsampled, target_downsampled)\n",
    "probabilities_valid = model.predict_proba(features_valid)\n",
    "probabilities_one_valid = probabilities_valid[:, 1]\n",
    "auc_roc = roc_auc_score(target_valid, probabilities_one_valid)   \n",
    "\n",
    "model_results.loc[i, 'model_name'] = 'Decision Tree Downsampled Optimized'\n",
    "model_results.loc[i, 'F1-score'] = best_score\n",
    "model_results.loc[i, 'AUC-ROC'] = auc_roc\n",
    "i+=1\n",
    "\n",
    "print('Лучшее значение F1-score: {:.5f}'.format(best_score))\n",
    "print('AUC-ROC: {:.5f}'.format(auc_roc))\n",
    "print('Лучшая макс. глубина:', best_depth) "
   ]
  },
  {
   "cell_type": "markdown",
   "metadata": {},
   "source": [
    "- Случайный лес:"
   ]
  },
  {
   "cell_type": "code",
   "execution_count": 61,
   "metadata": {},
   "outputs": [
    {
     "name": "stdout",
     "output_type": "stream",
     "text": [
      "F1-score: 0.55067\n",
      "AUC-ROC: 0.80810\n"
     ]
    }
   ],
   "source": [
    "model = RandomForestClassifier(random_state=123, n_estimators=10)\n",
    "model.fit(features_downsampled, target_downsampled)\n",
    "predictions_valid = model.predict(features_valid)\n",
    "\n",
    "f1 = f1_score(target_valid, predictions_valid)\n",
    "probabilities_valid = model.predict_proba(features_valid)\n",
    "probabilities_one_valid = probabilities_valid[:, 1]\n",
    "auc_roc = roc_auc_score(target_valid, probabilities_one_valid)\n",
    "\n",
    "print('F1-score: {:.5f}'.format(f1))\n",
    "print('AUC-ROC: {:.5f}'.format(auc_roc))"
   ]
  },
  {
   "cell_type": "markdown",
   "metadata": {},
   "source": [
    "Находим наилучшее кол.-во оценщиков 'n_estimators' и глубину 'max_depth':"
   ]
  },
  {
   "cell_type": "code",
   "execution_count": 62,
   "metadata": {},
   "outputs": [
    {
     "name": "stdout",
     "output_type": "stream",
     "text": [
      "Лучшее значение F1-score: 0.59738\n",
      "AUC-ROC: 0.84561\n",
      "Лучшее кол.-во оценщиков: 81\n",
      "Лучшая макс. глубина: 13\n",
      "CPU times: user 8.67 s, sys: 0 ns, total: 8.67 s\n",
      "Wall time: 8.67 s\n"
     ]
    }
   ],
   "source": [
    "%%time\n",
    "best_model = None\n",
    "best_score = 0\n",
    "best_est = 0\n",
    "for est in range (1,101,20):\n",
    "    for depth in range (1,20,2):\n",
    "        model = RandomForestClassifier(random_state=123, n_estimators=est, max_depth=depth)\n",
    "        model.fit(features_downsampled, target_downsampled)\n",
    "        predictions_valid = model.predict(features_valid)\n",
    "        score = f1_score(target_valid, predictions_valid)\n",
    "        if score > best_score:\n",
    "            best_model = model\n",
    "            best_score = score\n",
    "            best_est = est\n",
    "            best_depth = depth\n",
    "\n",
    "model = RandomForestClassifier(random_state=123, n_estimators=best_est, max_depth=best_depth)\n",
    "model.fit(features_downsampled, target_downsampled)\n",
    "probabilities_valid = model.predict_proba(features_valid)\n",
    "probabilities_one_valid = probabilities_valid[:, 1]\n",
    "auc_roc = roc_auc_score(target_valid, probabilities_one_valid)  \n",
    "\n",
    "model_results.loc[i, 'model_name'] = 'Random Forest Downsampled Optimized'\n",
    "model_results.loc[i, 'F1-score'] = best_score\n",
    "model_results.loc[i, 'AUC-ROC'] = auc_roc\n",
    "i+=1\n",
    "\n",
    "print('Лучшее значение F1-score: {:.5f}'.format(best_score))\n",
    "print('AUC-ROC: {:.5f}'.format(auc_roc))\n",
    "print('Лучшее кол.-во оценщиков:', best_est)\n",
    "print('Лучшая макс. глубина:', best_depth)"
   ]
  },
  {
   "cell_type": "markdown",
   "metadata": {},
   "source": [
    "Далее изучим влияние порогового значения отнесения значения к классу \"0\" или \"1\"."
   ]
  },
  {
   "cell_type": "markdown",
   "metadata": {},
   "source": [
    "- Логистическая регрессия"
   ]
  },
  {
   "cell_type": "code",
   "execution_count": 63,
   "metadata": {},
   "outputs": [
    {
     "name": "stdout",
     "output_type": "stream",
     "text": [
      "Порог = 0.20 | Точность = 0.371, Полнота = 0.675, F1-score = 0.479\n",
      "Порог = 0.21 | Точность = 0.380, Полнота = 0.656, F1-score = 0.481\n",
      "Порог = 0.22 | Точность = 0.389, Полнота = 0.639, F1-score = 0.484\n",
      "Порог = 0.23 | Точность = 0.405, Полнота = 0.629, F1-score = 0.493\n",
      "Порог = 0.24 | Точность = 0.412, Полнота = 0.615, F1-score = 0.493\n",
      "Порог = 0.25 | Точность = 0.422, Полнота = 0.603, F1-score = 0.497\n",
      "Порог = 0.26 | Точность = 0.434, Полнота = 0.589, F1-score = 0.499\n",
      "Порог = 0.27 | Точность = 0.443, Полнота = 0.574, F1-score = 0.500\n",
      "Порог = 0.28 | Точность = 0.436, Полнота = 0.550, F1-score = 0.487\n",
      "Порог = 0.29 | Точность = 0.446, Полнота = 0.538, F1-score = 0.488\n",
      "Порог = 0.30 | Точность = 0.458, Полнота = 0.522, F1-score = 0.488\n",
      "Порог = 0.31 | Точность = 0.465, Полнота = 0.498, F1-score = 0.481\n",
      "Порог = 0.32 | Точность = 0.464, Полнота = 0.469, F1-score = 0.467\n",
      "Порог = 0.33 | Точность = 0.474, Полнота = 0.455, F1-score = 0.464\n",
      "Порог = 0.34 | Точность = 0.483, Полнота = 0.440, F1-score = 0.461\n",
      "Порог = 0.35 | Точность = 0.490, Полнота = 0.426, F1-score = 0.456\n",
      "Порог = 0.36 | Точность = 0.491, Полнота = 0.407, F1-score = 0.445\n",
      "Порог = 0.37 | Точность = 0.494, Полнота = 0.380, F1-score = 0.430\n",
      "Порог = 0.38 | Точность = 0.493, Полнота = 0.361, F1-score = 0.417\n",
      "Порог = 0.39 | Точность = 0.497, Полнота = 0.344, F1-score = 0.407\n",
      "AUC-ROC: 0.75863\n"
     ]
    }
   ],
   "source": [
    "model = LogisticRegression(random_state=123, solver='liblinear')\n",
    "model.fit(features_train, target_train)\n",
    "probabilities_valid = model.predict_proba(features_valid)\n",
    "probabilities_one_valid = probabilities_valid[:, 1]\n",
    "\n",
    "for threshold in np.arange(0.2, 0.4, 0.01):\n",
    "    predicted_valid = probabilities_one_valid > threshold\n",
    "    precision = precision_score(target_valid, predicted_valid)\n",
    "    recall = recall_score(target_valid, predicted_valid)\n",
    "    f1 = f1_score(target_valid, predicted_valid)\n",
    "\n",
    "    print(\"Порог = {:.2f} | Точность = {:.3f}, Полнота = {:.3f}, F1-score = {:.3f}\".format(\n",
    "        threshold, precision, recall, f1, auc_roc))\n",
    "\n",
    "auc_roc = roc_auc_score(target_valid, probabilities_one_valid)\n",
    "print('AUC-ROC: {:.5f}'.format(auc_roc))"
   ]
  },
  {
   "cell_type": "markdown",
   "metadata": {},
   "source": [
    "Наилучшее значением F1-score получено при пороге 0.27."
   ]
  },
  {
   "cell_type": "code",
   "execution_count": 64,
   "metadata": {},
   "outputs": [],
   "source": [
    "model_results.loc[i, 'model_name'] = 'Logistic Regression Threshold=0.27'\n",
    "model_results.loc[i, 'F1-score'] = 0.5\n",
    "model_results.loc[i, 'AUC-ROC'] = auc_roc\n",
    "i+=1"
   ]
  },
  {
   "cell_type": "markdown",
   "metadata": {},
   "source": [
    "- Дерево решений"
   ]
  },
  {
   "cell_type": "code",
   "execution_count": 65,
   "metadata": {},
   "outputs": [
    {
     "name": "stdout",
     "output_type": "stream",
     "text": [
      "Порог = 0.20 | Точность = 0.465, Полнота = 0.708, F1-score = 0.561\n",
      "Порог = 0.21 | Точность = 0.465, Полнота = 0.708, F1-score = 0.561\n",
      "Порог = 0.22 | Точность = 0.465, Полнота = 0.708, F1-score = 0.561\n",
      "Порог = 0.23 | Точность = 0.541, Полнота = 0.653, F1-score = 0.592\n",
      "Порог = 0.24 | Точность = 0.630, Полнота = 0.555, F1-score = 0.590\n",
      "Порог = 0.25 | Точность = 0.632, Полнота = 0.555, F1-score = 0.591\n",
      "Порог = 0.26 | Точность = 0.632, Полнота = 0.555, F1-score = 0.591\n",
      "Порог = 0.27 | Точность = 0.632, Полнота = 0.555, F1-score = 0.591\n",
      "Порог = 0.28 | Точность = 0.632, Полнота = 0.555, F1-score = 0.591\n",
      "Порог = 0.29 | Точность = 0.632, Полнота = 0.555, F1-score = 0.591\n",
      "Порог = 0.30 | Точность = 0.632, Полнота = 0.555, F1-score = 0.591\n",
      "Порог = 0.31 | Точность = 0.632, Полнота = 0.555, F1-score = 0.591\n",
      "Порог = 0.32 | Точность = 0.632, Полнота = 0.555, F1-score = 0.591\n",
      "Порог = 0.33 | Точность = 0.632, Полнота = 0.555, F1-score = 0.591\n",
      "Порог = 0.34 | Точность = 0.720, Полнота = 0.493, F1-score = 0.585\n",
      "Порог = 0.35 | Точность = 0.720, Полнота = 0.493, F1-score = 0.585\n",
      "Порог = 0.36 | Точность = 0.720, Полнота = 0.493, F1-score = 0.585\n",
      "Порог = 0.37 | Точность = 0.720, Полнота = 0.493, F1-score = 0.585\n",
      "Порог = 0.38 | Точность = 0.720, Полнота = 0.493, F1-score = 0.585\n",
      "Порог = 0.39 | Точность = 0.720, Полнота = 0.493, F1-score = 0.585\n",
      "AUC-ROC: 0.82270\n"
     ]
    }
   ],
   "source": [
    "model = DecisionTreeClassifier(random_state=123, max_depth=5)\n",
    "model.fit(features_train, target_train)\n",
    "probabilities_valid = model.predict_proba(features_valid)\n",
    "probabilities_one_valid = probabilities_valid[:, 1]\n",
    "\n",
    "for threshold in np.arange(0.2, 0.4, 0.01):\n",
    "    predicted_valid = probabilities_one_valid > threshold\n",
    "    precision = precision_score(target_valid, predicted_valid)\n",
    "    recall = recall_score(target_valid, predicted_valid)\n",
    "    f1 = f1_score(target_valid, predicted_valid)\n",
    "\n",
    "    print(\"Порог = {:.2f} | Точность = {:.3f}, Полнота = {:.3f}, F1-score = {:.3f}\".format(\n",
    "        threshold, precision, recall, f1))\n",
    "    \n",
    "auc_roc = roc_auc_score(target_valid, probabilities_one_valid)\n",
    "print('AUC-ROC: {:.5f}'.format(auc_roc))  "
   ]
  },
  {
   "cell_type": "markdown",
   "metadata": {},
   "source": [
    "Наилучшее значением F1-score получено при пороге 0.3."
   ]
  },
  {
   "cell_type": "code",
   "execution_count": 66,
   "metadata": {},
   "outputs": [],
   "source": [
    "model_results.loc[i, 'model_name'] = 'Decision Tree Threshold=0.3'\n",
    "model_results.loc[i, 'F1-score'] = 0.5\n",
    "model_results.loc[i, 'AUC-ROC'] = auc_roc\n",
    "i+=1"
   ]
  },
  {
   "cell_type": "markdown",
   "metadata": {},
   "source": [
    "- Случайный лес"
   ]
  },
  {
   "cell_type": "code",
   "execution_count": 67,
   "metadata": {},
   "outputs": [
    {
     "name": "stdout",
     "output_type": "stream",
     "text": [
      "Порог = 0.20 | Точность = 0.471, Полнота = 0.749, F1-score = 0.579\n",
      "Порог = 0.21 | Точность = 0.486, Полнота = 0.737, F1-score = 0.586\n",
      "Порог = 0.22 | Точность = 0.509, Полнота = 0.727, F1-score = 0.599\n",
      "Порог = 0.23 | Точность = 0.519, Полнота = 0.713, F1-score = 0.601\n",
      "Порог = 0.24 | Точность = 0.530, Полнота = 0.708, F1-score = 0.606\n",
      "Порог = 0.25 | Точность = 0.549, Полнота = 0.701, F1-score = 0.616\n",
      "Порог = 0.26 | Точность = 0.571, Полнота = 0.694, F1-score = 0.626\n",
      "Порог = 0.27 | Точность = 0.579, Полнота = 0.682, F1-score = 0.626\n",
      "Порог = 0.28 | Точность = 0.600, Полнота = 0.672, F1-score = 0.634\n",
      "Порог = 0.29 | Точность = 0.616, Полнота = 0.660, F1-score = 0.637\n",
      "Порог = 0.30 | Точность = 0.624, Полнота = 0.648, F1-score = 0.636\n",
      "Порог = 0.31 | Точность = 0.634, Полнота = 0.641, F1-score = 0.637\n",
      "Порог = 0.32 | Точность = 0.644, Полнота = 0.624, F1-score = 0.634\n",
      "Порог = 0.33 | Точность = 0.651, Полнота = 0.608, F1-score = 0.629\n",
      "Порог = 0.34 | Точность = 0.655, Полнота = 0.591, F1-score = 0.621\n",
      "Порог = 0.35 | Точность = 0.666, Полнота = 0.581, F1-score = 0.621\n",
      "Порог = 0.36 | Точность = 0.685, Полнота = 0.562, F1-score = 0.618\n",
      "Порог = 0.37 | Точность = 0.697, Полнота = 0.550, F1-score = 0.615\n",
      "Порог = 0.38 | Точность = 0.708, Полнота = 0.538, F1-score = 0.611\n",
      "Порог = 0.39 | Точность = 0.716, Полнота = 0.531, F1-score = 0.610\n",
      "AUC-ROC: 0.84743\n"
     ]
    }
   ],
   "source": [
    "model = RandomForestClassifier(random_state=123, n_estimators=22, max_depth=10)\n",
    "model.fit(features_train, target_train)\n",
    "probabilities_valid = model.predict_proba(features_valid)\n",
    "probabilities_one_valid = probabilities_valid[:, 1]\n",
    "\n",
    "for threshold in np.arange(0.2, 0.4, 0.01):\n",
    "    predicted_valid = probabilities_one_valid > threshold\n",
    "    precision = precision_score(target_valid, predicted_valid)\n",
    "    recall = recall_score(target_valid, predicted_valid)\n",
    "    f1 = f1_score(target_valid, predicted_valid)\n",
    "\n",
    "    print(\"Порог = {:.2f} | Точность = {:.3f}, Полнота = {:.3f}, F1-score = {:.3f}\".format(\n",
    "        threshold, precision, recall, f1))\n",
    "    \n",
    "auc_roc = roc_auc_score(target_valid, probabilities_one_valid)\n",
    "print('AUC-ROC: {:.5f}'.format(auc_roc))"
   ]
  },
  {
   "cell_type": "markdown",
   "metadata": {},
   "source": [
    "Наилучшее значением F1-score получено при пороге 0.29."
   ]
  },
  {
   "cell_type": "code",
   "execution_count": 68,
   "metadata": {},
   "outputs": [],
   "source": [
    "model_results.loc[i, 'model_name'] = 'Random Forest Threshold=0.29'\n",
    "model_results.loc[i, 'F1-score'] = 0.637\n",
    "model_results.loc[i, 'AUC-ROC'] = auc_roc\n",
    "i+=1"
   ]
  },
  {
   "cell_type": "markdown",
   "metadata": {},
   "source": [
    "Выведем полученную таблицу с результатами метрик и отсортируем по убыванию F1-score:"
   ]
  },
  {
   "cell_type": "code",
   "execution_count": 69,
   "metadata": {},
   "outputs": [
    {
     "data": {
      "text/html": [
       "<div>\n",
       "<style scoped>\n",
       "    .dataframe tbody tr th:only-of-type {\n",
       "        vertical-align: middle;\n",
       "    }\n",
       "\n",
       "    .dataframe tbody tr th {\n",
       "        vertical-align: top;\n",
       "    }\n",
       "\n",
       "    .dataframe thead th {\n",
       "        text-align: right;\n",
       "    }\n",
       "</style>\n",
       "<table border=\"1\" class=\"dataframe\">\n",
       "  <thead>\n",
       "    <tr style=\"text-align: right;\">\n",
       "      <th></th>\n",
       "      <th>model_name</th>\n",
       "      <th>F1-score</th>\n",
       "      <th>AUC-ROC</th>\n",
       "    </tr>\n",
       "  </thead>\n",
       "  <tbody>\n",
       "    <tr>\n",
       "      <td>0</td>\n",
       "      <td>Random Forest Threshold=0.29</td>\n",
       "      <td>0.637</td>\n",
       "      <td>0.847426</td>\n",
       "    </tr>\n",
       "    <tr>\n",
       "      <td>1</td>\n",
       "      <td>Random Forest Balanced Optimized</td>\n",
       "      <td>0.629586</td>\n",
       "      <td>0.844691</td>\n",
       "    </tr>\n",
       "    <tr>\n",
       "      <td>2</td>\n",
       "      <td>Random Forest Upsampled Optimized</td>\n",
       "      <td>0.624327</td>\n",
       "      <td>0.85162</td>\n",
       "    </tr>\n",
       "    <tr>\n",
       "      <td>3</td>\n",
       "      <td>Random Forest Optimized</td>\n",
       "      <td>0.604444</td>\n",
       "      <td>0.843963</td>\n",
       "    </tr>\n",
       "    <tr>\n",
       "      <td>4</td>\n",
       "      <td>Random Forest Downsampled Optimized</td>\n",
       "      <td>0.597378</td>\n",
       "      <td>0.845611</td>\n",
       "    </tr>\n",
       "    <tr>\n",
       "      <td>5</td>\n",
       "      <td>Decision Tree Balanced Optimized</td>\n",
       "      <td>0.596379</td>\n",
       "      <td>0.831024</td>\n",
       "    </tr>\n",
       "    <tr>\n",
       "      <td>6</td>\n",
       "      <td>Decision Tree Upsampled Optimized</td>\n",
       "      <td>0.596379</td>\n",
       "      <td>0.831024</td>\n",
       "    </tr>\n",
       "    <tr>\n",
       "      <td>7</td>\n",
       "      <td>Decision Tree Optimized</td>\n",
       "      <td>0.581363</td>\n",
       "      <td>0.7968</td>\n",
       "    </tr>\n",
       "    <tr>\n",
       "      <td>8</td>\n",
       "      <td>Random Forest Default</td>\n",
       "      <td>0.581363</td>\n",
       "      <td>0.802157</td>\n",
       "    </tr>\n",
       "    <tr>\n",
       "      <td>9</td>\n",
       "      <td>Decision Tree Downsampled Optimized</td>\n",
       "      <td>0.575673</td>\n",
       "      <td>0.828423</td>\n",
       "    </tr>\n",
       "    <tr>\n",
       "      <td>10</td>\n",
       "      <td>Decision Tree Threshold=0.3</td>\n",
       "      <td>0.5</td>\n",
       "      <td>0.8227</td>\n",
       "    </tr>\n",
       "    <tr>\n",
       "      <td>11</td>\n",
       "      <td>Logistic Regression Threshold=0.27</td>\n",
       "      <td>0.5</td>\n",
       "      <td>0.758632</td>\n",
       "    </tr>\n",
       "    <tr>\n",
       "      <td>12</td>\n",
       "      <td>Logistic Regression Downsampled</td>\n",
       "      <td>0.489655</td>\n",
       "      <td>0.763209</td>\n",
       "    </tr>\n",
       "    <tr>\n",
       "      <td>13</td>\n",
       "      <td>Logistic Regression Upsampled</td>\n",
       "      <td>0.488889</td>\n",
       "      <td>0.763477</td>\n",
       "    </tr>\n",
       "    <tr>\n",
       "      <td>14</td>\n",
       "      <td>Logistic Regression Balanced</td>\n",
       "      <td>0.488889</td>\n",
       "      <td>0.76358</td>\n",
       "    </tr>\n",
       "    <tr>\n",
       "      <td>15</td>\n",
       "      <td>Decision Tree Default</td>\n",
       "      <td>0.473748</td>\n",
       "      <td>0.666634</td>\n",
       "    </tr>\n",
       "    <tr>\n",
       "      <td>16</td>\n",
       "      <td>Logistic Regression Default</td>\n",
       "      <td>0.333895</td>\n",
       "      <td>0.758632</td>\n",
       "    </tr>\n",
       "  </tbody>\n",
       "</table>\n",
       "</div>"
      ],
      "text/plain": [
       "                             model_name  F1-score   AUC-ROC\n",
       "0          Random Forest Threshold=0.29     0.637  0.847426\n",
       "1      Random Forest Balanced Optimized  0.629586  0.844691\n",
       "2     Random Forest Upsampled Optimized  0.624327   0.85162\n",
       "3               Random Forest Optimized  0.604444  0.843963\n",
       "4   Random Forest Downsampled Optimized  0.597378  0.845611\n",
       "5      Decision Tree Balanced Optimized  0.596379  0.831024\n",
       "6     Decision Tree Upsampled Optimized  0.596379  0.831024\n",
       "7               Decision Tree Optimized  0.581363    0.7968\n",
       "8                 Random Forest Default  0.581363  0.802157\n",
       "9   Decision Tree Downsampled Optimized  0.575673  0.828423\n",
       "10          Decision Tree Threshold=0.3       0.5    0.8227\n",
       "11   Logistic Regression Threshold=0.27       0.5  0.758632\n",
       "12      Logistic Regression Downsampled  0.489655  0.763209\n",
       "13        Logistic Regression Upsampled  0.488889  0.763477\n",
       "14         Logistic Regression Balanced  0.488889   0.76358\n",
       "15                Decision Tree Default  0.473748  0.666634\n",
       "16          Logistic Regression Default  0.333895  0.758632"
      ]
     },
     "execution_count": 69,
     "metadata": {},
     "output_type": "execute_result"
    }
   ],
   "source": [
    "model_results.sort_values(by='F1-score', ascending=False).reset_index(drop=True)"
   ]
  },
  {
   "cell_type": "markdown",
   "metadata": {},
   "source": [
    "### Вывод"
   ]
  },
  {
   "cell_type": "markdown",
   "metadata": {},
   "source": [
    "На данном этапе были обучены модели с учетом дисбаланса классов. Были обучены модели с аргументом class_weight='balanced'. Также модели обучены на выборках, увеличенных при помощи upsampling, downsampling. Было рассмотрено влияние порогового значения вероятности отнесения целевого признака к положительному/отрицательному классам. Результаты метрик полученных моделей занесены в таблицу и выведены в порядке убывания F1-score. В результате выяснено, что наилучший результат имеет модель случайного леса с пороговым значением 0.29: F1-score 0.637, AUC-ROC 0.847426. Высокое значение также AUC говорит о том, что модель с высокой долей вероятности сможет успешно разделить классы целевого признака. На втором месте находится модель случайного леса со сбалансированной выборкой, 22 оценщиками и глубиной 10: F1-score 0.629586, AUC-ROC 0.844691. На третьем месте находится модель случайного леса со сбалансированной при помощи апсемплинга выборкой, 81 оценщиком и глубиной 9: F1-score 0.624327, AUC-ROC 0.85162 (макс. полученный результат). Самый худший результат показала логистическая регрессия с несбалансированной выборкой и параметрами по-умолчанию: F1-score 0.333895, AUC-ROC 0.758632."
   ]
  },
  {
   "cell_type": "markdown",
   "metadata": {},
   "source": [
    "## 4. Тестирование модели <a id=\"step_4\"></a>"
   ]
  },
  {
   "cell_type": "markdown",
   "metadata": {},
   "source": [
    "Для обучения используем модель с наилучшим показателем F1-score - случайный лес с кол.-вом оценщиков 80, макс. глубиной 15 и пороговым значением 0.29:"
   ]
  },
  {
   "cell_type": "code",
   "execution_count": 69,
   "metadata": {},
   "outputs": [
    {
     "name": "stdout",
     "output_type": "stream",
     "text": [
      "F1-score: 0.62115\n",
      "AUC-ROC: 0.85551\n"
     ]
    }
   ],
   "source": [
    "model = RandomForestClassifier(random_state=123, n_estimators=80, max_depth=15)\n",
    "model.fit(features_train, target_train)\n",
    "\n",
    "threshold = 0.29\n",
    "probabilities_test = model.predict_proba(features_test)\n",
    "probabilities_one_test = probabilities_test[:, 1]\n",
    "predicted_test = probabilities_one_test > threshold\n",
    "f1 = f1_score(target_test, predicted_test)\n",
    "auc_roc = roc_auc_score(target_test, probabilities_one_test)\n",
    "\n",
    "print('F1-score: {:.5f}'.format(f1))\n",
    "print('AUC-ROC: {:.5f}'.format(auc_roc))"
   ]
  },
  {
   "cell_type": "markdown",
   "metadata": {},
   "source": [
    "### Вывод"
   ]
  },
  {
   "cell_type": "markdown",
   "metadata": {},
   "source": [
    "На данном этапе была использована модель с наилучшим показателем F1-score, полученным на предыдущем этапе. В результате получен массив целевых признаков (predicted_test) с показателем F1-score 0.62115, AUC-ROC 0.85551. "
   ]
  },
  {
   "cell_type": "markdown",
   "metadata": {},
   "source": [
    "## Чек-лист готовности проекта <a id=\"checklist\"></a>"
   ]
  },
  {
   "cell_type": "markdown",
   "metadata": {},
   "source": [
    "- [x]  Jupyter Notebook открыт\n",
    "- [x]  Весь код выполняется без ошибок\n",
    "- [x]  Ячейки с кодом расположены в порядке исполнения\n",
    "- [x]  Выполнен шаг 1: данные подготовлены\n",
    "- [x]  Выполнен шаг 2: задача исследована\n",
    "    - [x]  Исследован баланс классов\n",
    "    - [x]  Изучены модели без учёта дисбаланса\n",
    "    - [x]  Написаны выводы по результатам исследования\n",
    "- [x]  Выполнен шаг 3: учтён дисбаланс\n",
    "    - [x]  Применено несколько способов борьбы с дисбалансом\n",
    "    - [x]  Написаны выводы по результатам исследования\n",
    "- [x]  Выполнен шаг 4: проведено тестирование\n",
    "- [x]  Исследована метрика *AUC-ROC*"
   ]
  }
 ],
 "metadata": {
  "kernelspec": {
   "display_name": "Python 3",
   "language": "python",
   "name": "python3"
  },
  "language_info": {
   "codemirror_mode": {
    "name": "ipython",
    "version": 3
   },
   "file_extension": ".py",
   "mimetype": "text/x-python",
   "name": "python",
   "nbconvert_exporter": "python",
   "pygments_lexer": "ipython3",
   "version": "3.8.3"
  },
  "toc": {
   "base_numbering": 1,
   "nav_menu": {},
   "number_sections": true,
   "sideBar": true,
   "skip_h1_title": true,
   "title_cell": "Table of Contents",
   "title_sidebar": "Contents",
   "toc_cell": false,
   "toc_position": {},
   "toc_section_display": true,
   "toc_window_display": false
  }
 },
 "nbformat": 4,
 "nbformat_minor": 2
}
